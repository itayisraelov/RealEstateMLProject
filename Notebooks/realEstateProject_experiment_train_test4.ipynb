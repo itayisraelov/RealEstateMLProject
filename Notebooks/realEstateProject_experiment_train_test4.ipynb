{
  "nbformat": 4,
  "nbformat_minor": 0,
  "metadata": {
    "colab": {
      "name": "realEstateProject_experiment_train_test.ipynb",
      "provenance": []
    },
    "kernelspec": {
      "name": "python3",
      "display_name": "Python 3"
    }
  },
  "cells": [
    {
      "cell_type": "code",
      "metadata": {
        "id": "QInmZyP96LlS",
        "colab_type": "code",
        "colab": {}
      },
      "source": [
        "import numpy as np  # linear algebra\n",
        "import pandas as pd  # data processing, CSV file I/O (e.g. pd.read_csv)\n",
        "import matplotlib.pyplot as plt\n",
        "import seaborn as sns\n",
        "import os\n",
        "from sklearn.model_selection import train_test_split\n",
        "from geopy.geocoders import Nominatim\n",
        "from sklearn.preprocessing import LabelEncoder\n",
        "from sklearn.preprocessing import MinMaxScaler\n",
        "import lightgbm as lgb\n",
        "import xgboost as xgb\n",
        "from sklearn.ensemble import RandomForestRegressor\n",
        "from sklearn.metrics import mean_squared_error\n",
        "color = sns.color_palette()\n",
        "pd.options.mode.chained_assignment = None  # default='warn'"
      ],
      "execution_count": 11,
      "outputs": []
    },
    {
      "cell_type": "code",
      "metadata": {
        "id": "rsZAZbaW6XBj",
        "colab_type": "code",
        "colab": {}
      },
      "source": [
        "df = pd.read_csv(\"data_after_pre_processing.csv\") "
      ],
      "execution_count": 12,
      "outputs": []
    },
    {
      "cell_type": "code",
      "metadata": {
        "id": "btijknbg7DPL",
        "colab_type": "code",
        "colab": {
          "base_uri": "https://localhost:8080/",
          "height": 869
        },
        "outputId": "f4e0d9c6-d4da-47e4-8acd-f96f61474c66"
      },
      "source": [
        "df"
      ],
      "execution_count": 13,
      "outputs": [
        {
          "output_type": "execute_result",
          "data": {
            "text/html": [
              "<div>\n",
              "<style scoped>\n",
              "    .dataframe tbody tr th:only-of-type {\n",
              "        vertical-align: middle;\n",
              "    }\n",
              "\n",
              "    .dataframe tbody tr th {\n",
              "        vertical-align: top;\n",
              "    }\n",
              "\n",
              "    .dataframe thead th {\n",
              "        text-align: right;\n",
              "    }\n",
              "</style>\n",
              "<table border=\"1\" class=\"dataframe\">\n",
              "  <thead>\n",
              "    <tr style=\"text-align: right;\">\n",
              "      <th></th>\n",
              "      <th>BOROUGH</th>\n",
              "      <th>NEIGHBORHOOD</th>\n",
              "      <th>BUILDING CLASS CATEGORY</th>\n",
              "      <th>TAX CLASS AS OF FINAL ROLL 18/19</th>\n",
              "      <th>BLOCK</th>\n",
              "      <th>LOT</th>\n",
              "      <th>BUILDING CLASS AS OF FINAL ROLL 18/19</th>\n",
              "      <th>ADDRESS</th>\n",
              "      <th>ZIP CODE</th>\n",
              "      <th>RESIDENTIAL UNITS</th>\n",
              "      <th>COMMERCIAL UNITS</th>\n",
              "      <th>TOTAL UNITS</th>\n",
              "      <th>LAND SQUARE FEET</th>\n",
              "      <th>GROSS SQUARE FEET</th>\n",
              "      <th>YEAR BUILT</th>\n",
              "      <th>TAX CLASS AT TIME OF SALE</th>\n",
              "      <th>BUILDING CLASS AT TIME OF SALE</th>\n",
              "      <th>SALE PRICE</th>\n",
              "      <th>SALE DATE</th>\n",
              "      <th>AREA</th>\n",
              "      <th>FINAL_ADDRESS</th>\n",
              "    </tr>\n",
              "  </thead>\n",
              "  <tbody>\n",
              "    <tr>\n",
              "      <th>0</th>\n",
              "      <td>2</td>\n",
              "      <td>HIGHBRIDGE/MORRIS HEIGHTS</td>\n",
              "      <td>03 THREE FAMILY DWELLINGS</td>\n",
              "      <td>1</td>\n",
              "      <td>2872</td>\n",
              "      <td>105</td>\n",
              "      <td>C0</td>\n",
              "      <td>1432 SHAKESPEARE AVENUE</td>\n",
              "      <td>10452.0</td>\n",
              "      <td>3.0</td>\n",
              "      <td>0.0</td>\n",
              "      <td>3.0</td>\n",
              "      <td>3645.0</td>\n",
              "      <td>4422.0</td>\n",
              "      <td>1925.0</td>\n",
              "      <td>1</td>\n",
              "      <td>C0</td>\n",
              "      <td>786500</td>\n",
              "      <td>2019-06-19</td>\n",
              "      <td>bronx</td>\n",
              "      <td>1432 SHAKESPEARE AVENUE NYC</td>\n",
              "    </tr>\n",
              "    <tr>\n",
              "      <th>1</th>\n",
              "      <td>4</td>\n",
              "      <td>ASTORIA</td>\n",
              "      <td>02 TWO FAMILY DWELLINGS</td>\n",
              "      <td>1</td>\n",
              "      <td>874</td>\n",
              "      <td>63</td>\n",
              "      <td>B2</td>\n",
              "      <td>21-13 24TH ROAD</td>\n",
              "      <td>11102.0</td>\n",
              "      <td>2.0</td>\n",
              "      <td>0.0</td>\n",
              "      <td>2.0</td>\n",
              "      <td>1360.0</td>\n",
              "      <td>800.0</td>\n",
              "      <td>1940.0</td>\n",
              "      <td>1</td>\n",
              "      <td>B2</td>\n",
              "      <td>1225000</td>\n",
              "      <td>2019-09-26</td>\n",
              "      <td>queens</td>\n",
              "      <td>21-13 24TH ROAD NYC</td>\n",
              "    </tr>\n",
              "    <tr>\n",
              "      <th>2</th>\n",
              "      <td>4</td>\n",
              "      <td>NEPONSIT</td>\n",
              "      <td>01 ONE FAMILY DWELLINGS</td>\n",
              "      <td>1</td>\n",
              "      <td>16314</td>\n",
              "      <td>15</td>\n",
              "      <td>A1</td>\n",
              "      <td>215 BEACH 149TH STREET</td>\n",
              "      <td>11694.0</td>\n",
              "      <td>1.0</td>\n",
              "      <td>0.0</td>\n",
              "      <td>1.0</td>\n",
              "      <td>4500.0</td>\n",
              "      <td>2200.0</td>\n",
              "      <td>1960.0</td>\n",
              "      <td>1</td>\n",
              "      <td>A1</td>\n",
              "      <td>999000</td>\n",
              "      <td>2019-11-07</td>\n",
              "      <td>queens</td>\n",
              "      <td>215 BEACH 149TH STREET NYC</td>\n",
              "    </tr>\n",
              "    <tr>\n",
              "      <th>3</th>\n",
              "      <td>4</td>\n",
              "      <td>LAURELTON</td>\n",
              "      <td>01 ONE FAMILY DWELLINGS</td>\n",
              "      <td>1</td>\n",
              "      <td>12938</td>\n",
              "      <td>60</td>\n",
              "      <td>A1</td>\n",
              "      <td>131-40 229TH STREET</td>\n",
              "      <td>11413.0</td>\n",
              "      <td>1.0</td>\n",
              "      <td>0.0</td>\n",
              "      <td>1.0</td>\n",
              "      <td>3200.0</td>\n",
              "      <td>1748.0</td>\n",
              "      <td>1940.0</td>\n",
              "      <td>1</td>\n",
              "      <td>A1</td>\n",
              "      <td>640000</td>\n",
              "      <td>2019-01-29</td>\n",
              "      <td>queens</td>\n",
              "      <td>131-40 229TH STREET NYC</td>\n",
              "    </tr>\n",
              "    <tr>\n",
              "      <th>4</th>\n",
              "      <td>3</td>\n",
              "      <td>OCEAN PARKWAY-SOUTH</td>\n",
              "      <td>01 ONE FAMILY DWELLINGS</td>\n",
              "      <td>1</td>\n",
              "      <td>7089</td>\n",
              "      <td>54</td>\n",
              "      <td>A1</td>\n",
              "      <td>705 AVENUE T</td>\n",
              "      <td>11223.0</td>\n",
              "      <td>1.0</td>\n",
              "      <td>0.0</td>\n",
              "      <td>1.0</td>\n",
              "      <td>2100.0</td>\n",
              "      <td>1630.0</td>\n",
              "      <td>1930.0</td>\n",
              "      <td>1</td>\n",
              "      <td>A1</td>\n",
              "      <td>1325000</td>\n",
              "      <td>2019-05-14</td>\n",
              "      <td>brooklyn</td>\n",
              "      <td>705 AVENUE T NYC</td>\n",
              "    </tr>\n",
              "    <tr>\n",
              "      <th>...</th>\n",
              "      <td>...</td>\n",
              "      <td>...</td>\n",
              "      <td>...</td>\n",
              "      <td>...</td>\n",
              "      <td>...</td>\n",
              "      <td>...</td>\n",
              "      <td>...</td>\n",
              "      <td>...</td>\n",
              "      <td>...</td>\n",
              "      <td>...</td>\n",
              "      <td>...</td>\n",
              "      <td>...</td>\n",
              "      <td>...</td>\n",
              "      <td>...</td>\n",
              "      <td>...</td>\n",
              "      <td>...</td>\n",
              "      <td>...</td>\n",
              "      <td>...</td>\n",
              "      <td>...</td>\n",
              "      <td>...</td>\n",
              "      <td>...</td>\n",
              "    </tr>\n",
              "    <tr>\n",
              "      <th>8841</th>\n",
              "      <td>4</td>\n",
              "      <td>MIDDLE VILLAGE</td>\n",
              "      <td>01 ONE FAMILY DWELLINGS</td>\n",
              "      <td>1</td>\n",
              "      <td>3039</td>\n",
              "      <td>33</td>\n",
              "      <td>A5</td>\n",
              "      <td>65-55 77TH PLACE</td>\n",
              "      <td>11379.0</td>\n",
              "      <td>1.0</td>\n",
              "      <td>0.0</td>\n",
              "      <td>1.0</td>\n",
              "      <td>1800.0</td>\n",
              "      <td>1224.0</td>\n",
              "      <td>1935.0</td>\n",
              "      <td>1</td>\n",
              "      <td>A5</td>\n",
              "      <td>780000</td>\n",
              "      <td>2019-11-20</td>\n",
              "      <td>queens</td>\n",
              "      <td>65-55 77TH PLACE NYC</td>\n",
              "    </tr>\n",
              "    <tr>\n",
              "      <th>8842</th>\n",
              "      <td>4</td>\n",
              "      <td>QUEENS VILLAGE</td>\n",
              "      <td>01 ONE FAMILY DWELLINGS</td>\n",
              "      <td>1</td>\n",
              "      <td>11158</td>\n",
              "      <td>27</td>\n",
              "      <td>A1</td>\n",
              "      <td>103-06 223RD STREET</td>\n",
              "      <td>11429.0</td>\n",
              "      <td>1.0</td>\n",
              "      <td>0.0</td>\n",
              "      <td>1.0</td>\n",
              "      <td>2850.0</td>\n",
              "      <td>1782.0</td>\n",
              "      <td>1925.0</td>\n",
              "      <td>1</td>\n",
              "      <td>A1</td>\n",
              "      <td>510000</td>\n",
              "      <td>2019-09-27</td>\n",
              "      <td>queens</td>\n",
              "      <td>103-06 223RD STREET NYC</td>\n",
              "    </tr>\n",
              "    <tr>\n",
              "      <th>8843</th>\n",
              "      <td>3</td>\n",
              "      <td>FLATBUSH-NORTH</td>\n",
              "      <td>02 TWO FAMILY DWELLINGS</td>\n",
              "      <td>1</td>\n",
              "      <td>4843</td>\n",
              "      <td>11</td>\n",
              "      <td>B1</td>\n",
              "      <td>84 EAST 39TH STREET</td>\n",
              "      <td>11203.0</td>\n",
              "      <td>2.0</td>\n",
              "      <td>0.0</td>\n",
              "      <td>2.0</td>\n",
              "      <td>1842.0</td>\n",
              "      <td>1980.0</td>\n",
              "      <td>1950.0</td>\n",
              "      <td>1</td>\n",
              "      <td>B1</td>\n",
              "      <td>690000</td>\n",
              "      <td>2019-01-15</td>\n",
              "      <td>brooklyn</td>\n",
              "      <td>84 EAST 39TH STREET NYC</td>\n",
              "    </tr>\n",
              "    <tr>\n",
              "      <th>8844</th>\n",
              "      <td>2</td>\n",
              "      <td>MELROSE/CONCOURSE</td>\n",
              "      <td>03 THREE FAMILY DWELLINGS</td>\n",
              "      <td>1</td>\n",
              "      <td>2405</td>\n",
              "      <td>108</td>\n",
              "      <td>C0</td>\n",
              "      <td>816 COURTLANDT AVENUE</td>\n",
              "      <td>10451.0</td>\n",
              "      <td>3.0</td>\n",
              "      <td>0.0</td>\n",
              "      <td>3.0</td>\n",
              "      <td>2116.0</td>\n",
              "      <td>3174.0</td>\n",
              "      <td>2002.0</td>\n",
              "      <td>1</td>\n",
              "      <td>C0</td>\n",
              "      <td>950000</td>\n",
              "      <td>2019-12-30</td>\n",
              "      <td>bronx</td>\n",
              "      <td>816 COURTLANDT AVENUE NYC</td>\n",
              "    </tr>\n",
              "    <tr>\n",
              "      <th>8845</th>\n",
              "      <td>5</td>\n",
              "      <td>GREAT KILLS</td>\n",
              "      <td>01 ONE FAMILY DWELLINGS</td>\n",
              "      <td>1</td>\n",
              "      <td>4572</td>\n",
              "      <td>37</td>\n",
              "      <td>A1</td>\n",
              "      <td>173 GREAVES AVENUE</td>\n",
              "      <td>10308.0</td>\n",
              "      <td>1.0</td>\n",
              "      <td>0.0</td>\n",
              "      <td>1.0</td>\n",
              "      <td>4000.0</td>\n",
              "      <td>1248.0</td>\n",
              "      <td>1965.0</td>\n",
              "      <td>1</td>\n",
              "      <td>A1</td>\n",
              "      <td>560000</td>\n",
              "      <td>2019-07-29</td>\n",
              "      <td>statenisland</td>\n",
              "      <td>173 GREAVES AVENUE NYC</td>\n",
              "    </tr>\n",
              "  </tbody>\n",
              "</table>\n",
              "<p>8846 rows × 21 columns</p>\n",
              "</div>"
            ],
            "text/plain": [
              "      BOROUGH  ...                FINAL_ADDRESS\n",
              "0           2  ...  1432 SHAKESPEARE AVENUE NYC\n",
              "1           4  ...          21-13 24TH ROAD NYC\n",
              "2           4  ...   215 BEACH 149TH STREET NYC\n",
              "3           4  ...      131-40 229TH STREET NYC\n",
              "4           3  ...             705 AVENUE T NYC\n",
              "...       ...  ...                          ...\n",
              "8841        4  ...         65-55 77TH PLACE NYC\n",
              "8842        4  ...      103-06 223RD STREET NYC\n",
              "8843        3  ...      84 EAST 39TH STREET NYC\n",
              "8844        2  ...    816 COURTLANDT AVENUE NYC\n",
              "8845        5  ...       173 GREAVES AVENUE NYC\n",
              "\n",
              "[8846 rows x 21 columns]"
            ]
          },
          "metadata": {
            "tags": []
          },
          "execution_count": 13
        }
      ]
    },
    {
      "cell_type": "code",
      "metadata": {
        "id": "WScyecseCjyk",
        "colab_type": "code",
        "colab": {}
      },
      "source": [
        "# split the data into train and test set\n",
        "df_data, df_experiment = train_test_split(df, test_size=0.011, random_state=42, shuffle=True)"
      ],
      "execution_count": 25,
      "outputs": []
    },
    {
      "cell_type": "code",
      "metadata": {
        "id": "X_Oo1ZqqLGmx",
        "colab_type": "code",
        "colab": {
          "base_uri": "https://localhost:8080/",
          "height": 52
        },
        "outputId": "505e27c8-7c18-4c3d-c4b6-3758decae236"
      },
      "source": [
        "print(df_experiment.shape[0])\n",
        "print(df_experiment.shape[1])"
      ],
      "execution_count": 26,
      "outputs": [
        {
          "output_type": "stream",
          "text": [
            "98\n",
            "21\n"
          ],
          "name": "stdout"
        }
      ]
    },
    {
      "cell_type": "code",
      "metadata": {
        "id": "OWC40k4WLVmp",
        "colab_type": "code",
        "colab": {
          "base_uri": "https://localhost:8080/",
          "height": 52
        },
        "outputId": "ed516bbd-a4d6-4965-a03a-61d9abae94cc"
      },
      "source": [
        "print(df_data.shape[0])\n",
        "print(df_data.shape[1])"
      ],
      "execution_count": 27,
      "outputs": [
        {
          "output_type": "stream",
          "text": [
            "8748\n",
            "21\n"
          ],
          "name": "stdout"
        }
      ]
    },
    {
      "cell_type": "code",
      "metadata": {
        "id": "M6nixsOALDNl",
        "colab_type": "code",
        "colab": {}
      },
      "source": [
        "# split the data into train and test set\n",
        "df_train, df_test = train_test_split(df_data, test_size=0.3, random_state=42, shuffle=True)"
      ],
      "execution_count": 31,
      "outputs": []
    },
    {
      "cell_type": "code",
      "metadata": {
        "id": "Dbkz3RNELdnp",
        "colab_type": "code",
        "colab": {
          "base_uri": "https://localhost:8080/",
          "height": 52
        },
        "outputId": "03239530-0935-44fc-f46c-fcde069c2d63"
      },
      "source": [
        "print(df_train.shape[0])\n",
        "print(df_train.shape[1])"
      ],
      "execution_count": 32,
      "outputs": [
        {
          "output_type": "stream",
          "text": [
            "6123\n",
            "21\n"
          ],
          "name": "stdout"
        }
      ]
    },
    {
      "cell_type": "code",
      "metadata": {
        "id": "DCrDJHpHLf5p",
        "colab_type": "code",
        "colab": {
          "base_uri": "https://localhost:8080/",
          "height": 52
        },
        "outputId": "89229e29-f9b0-4b4f-dce6-8690f9b39745"
      },
      "source": [
        "print(df_test.shape[0])\n",
        "print(df_test.shape[1])"
      ],
      "execution_count": 33,
      "outputs": [
        {
          "output_type": "stream",
          "text": [
            "2625\n",
            "21\n"
          ],
          "name": "stdout"
        }
      ]
    },
    {
      "cell_type": "code",
      "metadata": {
        "id": "kJ75SusPLnH5",
        "colab_type": "code",
        "colab": {}
      },
      "source": [
        "df_experiment.to_csv('experiment.csv', index=False)"
      ],
      "execution_count": 34,
      "outputs": []
    },
    {
      "cell_type": "code",
      "metadata": {
        "id": "BKML9llQLnRx",
        "colab_type": "code",
        "colab": {}
      },
      "source": [
        "df_train.to_csv('train.csv', index=False)"
      ],
      "execution_count": 35,
      "outputs": []
    },
    {
      "cell_type": "code",
      "metadata": {
        "id": "NSsF-bsfLnaZ",
        "colab_type": "code",
        "colab": {}
      },
      "source": [
        "df_test.to_csv('test.csv', index=False)"
      ],
      "execution_count": 36,
      "outputs": []
    }
  ]
}