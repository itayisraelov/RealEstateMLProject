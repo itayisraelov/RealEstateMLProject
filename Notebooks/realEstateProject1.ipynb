{
  "nbformat": 4,
  "nbformat_minor": 0,
  "metadata": {
    "colab": {
      "name": "realEstateProject1.ipynb",
      "provenance": []
    },
    "kernelspec": {
      "name": "python3",
      "display_name": "Python 3"
    }
  },
  "cells": [
    {
      "cell_type": "code",
      "metadata": {
        "id": "_wtMHWwPmNUS",
        "colab_type": "code",
        "colab": {}
      },
      "source": [
        "import numpy as np # linear algebra\n",
        "import pandas as pd # data processing, CSV file I/O (e.g. pd.read_csv)\n",
        "import matplotlib.pyplot as plt\n",
        "import seaborn as sns\n",
        "import os\n",
        "from sklearn.model_selection import train_test_split,KFold\n",
        "from sklearn.preprocessing import MinMaxScaler\n",
        "from sklearn.metrics import mean_squared_error\n",
        "from sklearn.model_selection import StratifiedKFold\n",
        "from sklearn.ensemble import RandomForestRegressor\n",
        "\n",
        "color = sns.color_palette()\n",
        "pd.options.mode.chained_assignment = None  # default='warn'"
      ],
      "execution_count": 136,
      "outputs": []
    },
    {
      "cell_type": "code",
      "metadata": {
        "id": "VZjRcQiFmOEK",
        "colab_type": "code",
        "colab": {}
      },
      "source": [
        "df1 = pd.read_excel(\"2019_bronx.xlsx\")\n",
        "df2 = pd.read_excel(\"2019_brooklyn.xlsx\")\n",
        "df3 = pd.read_excel(\"2019_manhattan.xlsx\")\n",
        "df4 = pd.read_excel(\"2019_queens.xlsx\")\n",
        "df5 = pd.read_excel(\"2019_statenisland.xlsx\")"
      ],
      "execution_count": 137,
      "outputs": []
    },
    {
      "cell_type": "code",
      "metadata": {
        "id": "QqGW1kFtm2-S",
        "colab_type": "code",
        "colab": {}
      },
      "source": [
        "df1['AREA'] = 'bronx'\n",
        "df2['AREA'] = 'brooklyn'\n",
        "df3['AREA'] = 'manhattan'\n",
        "df4['AREA'] = 'queens'\n",
        "df5['AREA'] = 'statenisland'"
      ],
      "execution_count": 138,
      "outputs": []
    },
    {
      "cell_type": "code",
      "metadata": {
        "id": "yvMt1X-Vm8-x",
        "colab_type": "code",
        "colab": {}
      },
      "source": [
        "frames = [df1, df2, df3, df4, df5]\n",
        "df = pd.concat(frames)"
      ],
      "execution_count": 139,
      "outputs": []
    },
    {
      "cell_type": "code",
      "metadata": {
        "id": "JDczsqcanBn5",
        "colab_type": "code",
        "colab": {}
      },
      "source": [
        "df.columns = ['BOROUGH',\n",
        "                  'NEIGHBORHOOD',\n",
        "                  'BUILDING CLASS CATEGORY',\n",
        "                  'TAX CLASS AS OF FINAL ROLL 18/19',\n",
        "                  'BLOCK',\n",
        "                  'LOT',\n",
        "                  'EASE-MENT',\n",
        "                  'BUILDING CLASS AS OF FINAL ROLL 18/19',\n",
        "                  'ADDRESS',\n",
        "                  'APARTMENT NUMBER',\n",
        "                  'ZIP CODE',\n",
        "                  'RESIDENTIAL UNITS',\n",
        "                  'COMMERCIAL UNITS',\n",
        "                  'TOTAL UNITS',\n",
        "                  'LAND SQUARE FEET',\n",
        "                  'GROSS SQUARE FEET',\n",
        "                  'YEAR BUILT',\n",
        "                  'TAX CLASS AT TIME OF SALE',\n",
        "                  'BUILDING CLASS AT TIME OF SALE',\n",
        "                  'SALE PRICE',\n",
        "                  'SALE DATE',\n",
        "                  'AREA']"
      ],
      "execution_count": 140,
      "outputs": []
    },
    {
      "cell_type": "code",
      "metadata": {
        "id": "OHZK9uGpnF05",
        "colab_type": "code",
        "colab": {
          "base_uri": "https://localhost:8080/",
          "height": 35
        },
        "outputId": "1c270550-dfae-4000-d4ed-bd766373f46c"
      },
      "source": [
        "print(f'Train data has {df.shape[0]} rows and {df.shape[1]} colummns')"
      ],
      "execution_count": 141,
      "outputs": [
        {
          "output_type": "stream",
          "text": [
            "Train data has 83920 rows and 22 colummns\n"
          ],
          "name": "stdout"
        }
      ]
    },
    {
      "cell_type": "code",
      "metadata": {
        "id": "dw4kN87wntB7",
        "colab_type": "code",
        "colab": {
          "base_uri": "https://localhost:8080/",
          "height": 416
        },
        "outputId": "3aff434e-a897-4ceb-aaff-ca1780172220"
      },
      "source": [
        "df.isna().sum()"
      ],
      "execution_count": 142,
      "outputs": [
        {
          "output_type": "execute_result",
          "data": {
            "text/plain": [
              "BOROUGH                                      0\n",
              "NEIGHBORHOOD                                 0\n",
              "BUILDING CLASS CATEGORY                      0\n",
              "TAX CLASS AS OF FINAL ROLL 18/19           191\n",
              "BLOCK                                        0\n",
              "LOT                                          0\n",
              "EASE-MENT                                83920\n",
              "BUILDING CLASS AS OF FINAL ROLL 18/19      191\n",
              "ADDRESS                                      0\n",
              "APARTMENT NUMBER                         65581\n",
              "ZIP CODE                                    14\n",
              "RESIDENTIAL UNITS                        17173\n",
              "COMMERCIAL UNITS                         17173\n",
              "TOTAL UNITS                              17173\n",
              "LAND SQUARE FEET                         17173\n",
              "GROSS SQUARE FEET                        17173\n",
              "YEAR BUILT                                6024\n",
              "TAX CLASS AT TIME OF SALE                    0\n",
              "BUILDING CLASS AT TIME OF SALE               0\n",
              "SALE PRICE                                   0\n",
              "SALE DATE                                    0\n",
              "AREA                                         0\n",
              "dtype: int64"
            ]
          },
          "metadata": {
            "tags": []
          },
          "execution_count": 142
        }
      ]
    },
    {
      "cell_type": "code",
      "metadata": {
        "id": "LrnLtr3wWJ7v",
        "colab_type": "code",
        "colab": {}
      },
      "source": [
        "df['FINAL_ADDRESS'] = df['ADDRESS'].apply(lambda x: x+\" NYC\")"
      ],
      "execution_count": 143,
      "outputs": []
    },
    {
      "cell_type": "code",
      "metadata": {
        "id": "3VJQfmIWq0_M",
        "colab_type": "code",
        "colab": {}
      },
      "source": [
        "df = df.drop(['EASE-MENT', 'APARTMENT NUMBER'], axis = 1) "
      ],
      "execution_count": 144,
      "outputs": []
    },
    {
      "cell_type": "code",
      "metadata": {
        "id": "r2Eg_yO2q9xL",
        "colab_type": "code",
        "colab": {
          "base_uri": "https://localhost:8080/",
          "height": 399
        },
        "outputId": "50059f5e-222f-4c49-ac10-2a5ca9112d8e"
      },
      "source": [
        "df.isna().sum()"
      ],
      "execution_count": 145,
      "outputs": [
        {
          "output_type": "execute_result",
          "data": {
            "text/plain": [
              "BOROUGH                                      0\n",
              "NEIGHBORHOOD                                 0\n",
              "BUILDING CLASS CATEGORY                      0\n",
              "TAX CLASS AS OF FINAL ROLL 18/19           191\n",
              "BLOCK                                        0\n",
              "LOT                                          0\n",
              "BUILDING CLASS AS OF FINAL ROLL 18/19      191\n",
              "ADDRESS                                      0\n",
              "ZIP CODE                                    14\n",
              "RESIDENTIAL UNITS                        17173\n",
              "COMMERCIAL UNITS                         17173\n",
              "TOTAL UNITS                              17173\n",
              "LAND SQUARE FEET                         17173\n",
              "GROSS SQUARE FEET                        17173\n",
              "YEAR BUILT                                6024\n",
              "TAX CLASS AT TIME OF SALE                    0\n",
              "BUILDING CLASS AT TIME OF SALE               0\n",
              "SALE PRICE                                   0\n",
              "SALE DATE                                    0\n",
              "AREA                                         0\n",
              "FINAL_ADDRESS                                0\n",
              "dtype: int64"
            ]
          },
          "metadata": {
            "tags": []
          },
          "execution_count": 145
        }
      ]
    },
    {
      "cell_type": "code",
      "metadata": {
        "id": "eaX7f6ozkcXK",
        "colab_type": "code",
        "colab": {}
      },
      "source": [
        "df = df.dropna(how='any',axis=0)"
      ],
      "execution_count": 146,
      "outputs": []
    },
    {
      "cell_type": "code",
      "metadata": {
        "id": "KsT49vRZmZFC",
        "colab_type": "code",
        "colab": {
          "base_uri": "https://localhost:8080/",
          "height": 35
        },
        "outputId": "85300f40-c700-4fb8-f574-ab67249e9657"
      },
      "source": [
        "print(f'Train data has {df.shape[0]} rows and {df.shape[1]} colummns')"
      ],
      "execution_count": 147,
      "outputs": [
        {
          "output_type": "stream",
          "text": [
            "Train data has 61098 rows and 21 colummns\n"
          ],
          "name": "stdout"
        }
      ]
    },
    {
      "cell_type": "code",
      "metadata": {
        "id": "f2TMA9hwnf8p",
        "colab_type": "code",
        "colab": {
          "base_uri": "https://localhost:8080/",
          "height": 282
        },
        "outputId": "55a8f70b-398a-40c4-dca2-2739507b861c"
      },
      "source": [
        "int_level = df['AREA'].value_counts()\n",
        "\n",
        "plt.figure(figsize=(8,4))\n",
        "sns.barplot(int_level.index, int_level.values, alpha=0.8, color=color[1])\n",
        "plt.ylabel('Number of Occurrences', fontsize=12)\n",
        "plt.xlabel('BOROUGH', fontsize=12)\n",
        "plt.show()"
      ],
      "execution_count": 148,
      "outputs": [
        {
          "output_type": "display_data",
          "data": {
            "image/png": "[encoded data removed]",
            "text/plain": [
              "<Figure size 576x288 with 1 Axes>"
            ]
          },
          "metadata": {
            "tags": [],
            "needs_background": "light"
          }
        }
      ]
    },
    {
      "cell_type": "code",
      "metadata": {
        "id": "NlwM-hkwn6Fj",
        "colab_type": "code",
        "colab": {
          "base_uri": "https://localhost:8080/",
          "height": 402
        },
        "outputId": "2210130a-183f-4bae-9b3e-fffdcea72d84"
      },
      "source": [
        "plt.figure(figsize=(8,6))\n",
        "plt.scatter(range(df.shape[0]), df['SALE PRICE'].values)\n",
        "plt.xlabel('index', fontsize=12)\n",
        "plt.ylabel('price', fontsize=12)\n",
        "plt.show()"
      ],
      "execution_count": 14,
      "outputs": [
        {
          "output_type": "display_data",
          "data": {
            "image/png": "[encoded data removed]",
            "text/plain": [
              "<Figure size 576x432 with 1 Axes>"
            ]
          },
          "metadata": {
            "tags": [],
            "needs_background": "light"
          }
        }
      ]
    },
    {
      "cell_type": "code",
      "metadata": {
        "id": "bSuluZUbo1_j",
        "colab_type": "code",
        "colab": {}
      },
      "source": [
        "df = df[df['SALE PRICE'] < 3e6]"
      ],
      "execution_count": 149,
      "outputs": []
    },
    {
      "cell_type": "code",
      "metadata": {
        "id": "NwCsNu4_pYpS",
        "colab_type": "code",
        "colab": {
          "base_uri": "https://localhost:8080/",
          "height": 402
        },
        "outputId": "d16df919-2ec6-4c9b-efd6-d993112ce444"
      },
      "source": [
        "plt.figure(figsize=(8,6))\n",
        "plt.scatter(range(df.shape[0]), df['SALE PRICE'].values)\n",
        "plt.xlabel('index', fontsize=12)\n",
        "plt.ylabel('price', fontsize=12)\n",
        "plt.show()"
      ],
      "execution_count": 16,
      "outputs": [
        {
          "output_type": "display_data",
          "data": {
            "image/png": "[encoded data removed]",
            "text/plain": [
              "<Figure size 576x432 with 1 Axes>"
            ]
          },
          "metadata": {
            "tags": [],
            "needs_background": "light"
          }
        }
      ]
    },
    {
      "cell_type": "code",
      "metadata": {
        "id": "F1iM5q59sONN",
        "colab_type": "code",
        "colab": {
          "base_uri": "https://localhost:8080/",
          "height": 35
        },
        "outputId": "1db28b4d-d73e-40e8-8b76-3e4c303474b5"
      },
      "source": [
        "print(f'Train data has {df.shape[0]} rows and {df.shape[1]} colummns')"
      ],
      "execution_count": 17,
      "outputs": [
        {
          "output_type": "stream",
          "text": [
            "Train data has 57677 rows and 21 colummns\n"
          ],
          "name": "stdout"
        }
      ]
    },
    {
      "cell_type": "code",
      "metadata": {
        "id": "mdURszomsfjx",
        "colab_type": "code",
        "colab": {
          "base_uri": "https://localhost:8080/",
          "height": 402
        },
        "outputId": "d42df4fc-c89a-4513-94ee-3d076834094c"
      },
      "source": [
        "plt.figure(figsize=(8,6))\n",
        "sns.distplot(df['SALE PRICE'].values, bins=50, kde=True)\n",
        "plt.xlabel('price', fontsize=12)\n",
        "plt.show()"
      ],
      "execution_count": 18,
      "outputs": [
        {
          "output_type": "display_data",
          "data": {
            "image/png": "[encoded data removed]",
            "text/plain": [
              "<Figure size 576x432 with 1 Axes>"
            ]
          },
          "metadata": {
            "tags": [],
            "needs_background": "light"
          }
        }
      ]
    },
    {
      "cell_type": "code",
      "metadata": {
        "id": "2y4BhKldt3fE",
        "colab_type": "code",
        "colab": {
          "base_uri": "https://localhost:8080/",
          "height": 282
        },
        "outputId": "a6d48686-0481-4535-acca-9e5d15f9ac4c"
      },
      "source": [
        "int_level = df['TAX CLASS AS OF FINAL ROLL 18/19'].value_counts()\n",
        "\n",
        "plt.figure(figsize=(8,4))\n",
        "sns.barplot(int_level.index, int_level.values, alpha=0.8, color=color[4])\n",
        "plt.ylabel('Number of Occurrences', fontsize=12)\n",
        "plt.xlabel('TAX CLASS AS OF FINAL ROLL 18/19', fontsize=12)\n",
        "plt.show()\n",
        "\n",
        "\n"
      ],
      "execution_count": 19,
      "outputs": [
        {
          "output_type": "display_data",
          "data": {
            "image/png": "[encoded data removed]",
            "text/plain": [
              "<Figure size 576x288 with 1 Axes>"
            ]
          },
          "metadata": {
            "tags": [],
            "needs_background": "light"
          }
        }
      ]
    },
    {
      "cell_type": "code",
      "metadata": {
        "id": "PEaGqPtluaz7",
        "colab_type": "code",
        "colab": {
          "base_uri": "https://localhost:8080/",
          "height": 286
        },
        "outputId": "6d309e0a-157e-402c-c520-6f0d8cac9eb1"
      },
      "source": [
        "df.head(2)"
      ],
      "execution_count": 20,
      "outputs": [
        {
          "output_type": "execute_result",
          "data": {
            "text/html": [
              "<div>\n",
              "<style scoped>\n",
              "    .dataframe tbody tr th:only-of-type {\n",
              "        vertical-align: middle;\n",
              "    }\n",
              "\n",
              "    .dataframe tbody tr th {\n",
              "        vertical-align: top;\n",
              "    }\n",
              "\n",
              "    .dataframe thead th {\n",
              "        text-align: right;\n",
              "    }\n",
              "</style>\n",
              "<table border=\"1\" class=\"dataframe\">\n",
              "  <thead>\n",
              "    <tr style=\"text-align: right;\">\n",
              "      <th></th>\n",
              "      <th>BOROUGH</th>\n",
              "      <th>NEIGHBORHOOD</th>\n",
              "      <th>BUILDING CLASS CATEGORY</th>\n",
              "      <th>TAX CLASS AS OF FINAL ROLL 18/19</th>\n",
              "      <th>BLOCK</th>\n",
              "      <th>LOT</th>\n",
              "      <th>BUILDING CLASS AS OF FINAL ROLL 18/19</th>\n",
              "      <th>ADDRESS</th>\n",
              "      <th>ZIP CODE</th>\n",
              "      <th>RESIDENTIAL UNITS</th>\n",
              "      <th>COMMERCIAL UNITS</th>\n",
              "      <th>TOTAL UNITS</th>\n",
              "      <th>LAND SQUARE FEET</th>\n",
              "      <th>GROSS SQUARE FEET</th>\n",
              "      <th>YEAR BUILT</th>\n",
              "      <th>TAX CLASS AT TIME OF SALE</th>\n",
              "      <th>BUILDING CLASS AT TIME OF SALE</th>\n",
              "      <th>SALE PRICE</th>\n",
              "      <th>SALE DATE</th>\n",
              "      <th>AREA</th>\n",
              "      <th>FINAL_ADDRESS</th>\n",
              "    </tr>\n",
              "  </thead>\n",
              "  <tbody>\n",
              "    <tr>\n",
              "      <th>0</th>\n",
              "      <td>2</td>\n",
              "      <td>BATHGATE</td>\n",
              "      <td>01 ONE FAMILY DWELLINGS</td>\n",
              "      <td>1</td>\n",
              "      <td>3030</td>\n",
              "      <td>70</td>\n",
              "      <td>A1</td>\n",
              "      <td>4445 PARK AVENUE</td>\n",
              "      <td>10457.0</td>\n",
              "      <td>1.0</td>\n",
              "      <td>0.0</td>\n",
              "      <td>1.0</td>\n",
              "      <td>1694.0</td>\n",
              "      <td>1497.0</td>\n",
              "      <td>1899.0</td>\n",
              "      <td>1</td>\n",
              "      <td>A1</td>\n",
              "      <td>388500</td>\n",
              "      <td>2019-07-23</td>\n",
              "      <td>bronx</td>\n",
              "      <td>4445 PARK AVENUE NYC</td>\n",
              "    </tr>\n",
              "    <tr>\n",
              "      <th>1</th>\n",
              "      <td>2</td>\n",
              "      <td>BATHGATE</td>\n",
              "      <td>01 ONE FAMILY DWELLINGS</td>\n",
              "      <td>1</td>\n",
              "      <td>3039</td>\n",
              "      <td>29</td>\n",
              "      <td>A9</td>\n",
              "      <td>2327 WASHINGTON AVENUE</td>\n",
              "      <td>10458.0</td>\n",
              "      <td>1.0</td>\n",
              "      <td>0.0</td>\n",
              "      <td>1.0</td>\n",
              "      <td>1095.0</td>\n",
              "      <td>1260.0</td>\n",
              "      <td>1910.0</td>\n",
              "      <td>1</td>\n",
              "      <td>A9</td>\n",
              "      <td>110000</td>\n",
              "      <td>2019-12-06</td>\n",
              "      <td>bronx</td>\n",
              "      <td>2327 WASHINGTON AVENUE NYC</td>\n",
              "    </tr>\n",
              "  </tbody>\n",
              "</table>\n",
              "</div>"
            ],
            "text/plain": [
              "   BOROUGH NEIGHBORHOOD  ...   AREA               FINAL_ADDRESS\n",
              "0        2     BATHGATE  ...  bronx        4445 PARK AVENUE NYC\n",
              "1        2     BATHGATE  ...  bronx  2327 WASHINGTON AVENUE NYC\n",
              "\n",
              "[2 rows x 21 columns]"
            ]
          },
          "metadata": {
            "tags": []
          },
          "execution_count": 20
        }
      ]
    },
    {
      "cell_type": "code",
      "metadata": {
        "id": "mL1DuQsCvI7U",
        "colab_type": "code",
        "colab": {
          "base_uri": "https://localhost:8080/",
          "height": 191
        },
        "outputId": "3a81f5c4-d1c6-4b83-c868-62f470fa02bf"
      },
      "source": [
        "\n",
        "uniqueValues = df['RESIDENTIAL UNITS'].unique()\n",
        "print('Unique elements in column \"RESIDENTIAL UNITS\" ')\n",
        "print(np.sort(uniqueValues))"
      ],
      "execution_count": 21,
      "outputs": [
        {
          "output_type": "stream",
          "text": [
            "Unique elements in column \"RESIDENTIAL UNITS\" \n",
            "[  0.   1.   2.   3.   4.   5.   6.   7.   8.   9.  10.  11.  12.  13.\n",
            "  14.  15.  16.  17.  18.  19.  20.  21.  22.  23.  24.  25.  26.  27.\n",
            "  28.  29.  30.  31.  32.  33.  34.  35.  36.  37.  38.  39.  40.  41.\n",
            "  42.  43.  44.  45.  46.  47.  48.  49.  50.  51.  52.  53.  54.  55.\n",
            "  56.  57.  58.  59.  60.  61.  62.  63.  64.  65.  66.  67.  68.  69.\n",
            "  70.  73.  74.  77.  78.  80.  83.  87.  88.  90.  92.  94.  95. 102.\n",
            " 105. 108. 114. 116. 122. 124. 130. 131. 142. 143. 144. 145. 155. 164.\n",
            " 169. 177. 178. 184. 197. 200. 209. 233. 261. 278. 285. 297. 312. 326.\n",
            " 353. 428. 597. 750. 826.]\n"
          ],
          "name": "stdout"
        }
      ]
    },
    {
      "cell_type": "code",
      "metadata": {
        "id": "P3YzDPR5wKkk",
        "colab_type": "code",
        "colab": {}
      },
      "source": [
        "df = df[df['RESIDENTIAL UNITS'] < 10.0]"
      ],
      "execution_count": 150,
      "outputs": []
    },
    {
      "cell_type": "code",
      "metadata": {
        "id": "kGGpWpTAuFBs",
        "colab_type": "code",
        "colab": {
          "base_uri": "https://localhost:8080/",
          "height": 282
        },
        "outputId": "f0fff0d6-5419-46ce-fcea-74352ef7cf4f"
      },
      "source": [
        "cnt_srs = df['RESIDENTIAL UNITS'].value_counts()\n",
        "\n",
        "plt.figure(figsize=(8,4))\n",
        "sns.barplot(cnt_srs.index, cnt_srs.values, alpha=0.8, color=color[0])\n",
        "plt.ylabel('Number of Occurrences', fontsize=12)\n",
        "plt.xlabel('RESIDENTIAL UNITS', fontsize=12)\n",
        "plt.show()\n",
        "\n"
      ],
      "execution_count": 23,
      "outputs": [
        {
          "output_type": "display_data",
          "data": {
            "image/png": "[encoded data removed]",
            "text/plain": [
              "<Figure size 576x288 with 1 Axes>"
            ]
          },
          "metadata": {
            "tags": [],
            "needs_background": "light"
          }
        }
      ]
    },
    {
      "cell_type": "code",
      "metadata": {
        "id": "ffU9FfacwVMF",
        "colab_type": "code",
        "colab": {
          "base_uri": "https://localhost:8080/",
          "height": 35
        },
        "outputId": "1d548791-670b-4283-b0cd-d9d0b27a22f4"
      },
      "source": [
        "print(f'Train data has {df.shape[0]} rows and {df.shape[1]} colummns')"
      ],
      "execution_count": 24,
      "outputs": [
        {
          "output_type": "stream",
          "text": [
            "Train data has 56939 rows and 21 colummns\n"
          ],
          "name": "stdout"
        }
      ]
    },
    {
      "cell_type": "code",
      "metadata": {
        "id": "tYIfA0lawozy",
        "colab_type": "code",
        "colab": {
          "base_uri": "https://localhost:8080/",
          "height": 104
        },
        "outputId": "0f672500-6fa6-4559-9841-dfd2058b9085"
      },
      "source": [
        "uniqueValues = df['COMMERCIAL UNITS'].unique()\n",
        "print('Unique elements in column \"COMMERCIAL UNITS\" ')\n",
        "print(np.sort(uniqueValues))"
      ],
      "execution_count": 25,
      "outputs": [
        {
          "output_type": "stream",
          "text": [
            "Unique elements in column \"COMMERCIAL UNITS\" \n",
            "[  0.   1.   2.   3.   4.   5.   6.   7.   8.   9.  10.  11.  12.  13.\n",
            "  14.  15.  16.  17.  18.  19.  20.  22.  23.  24.  26.  28.  29.  33.\n",
            "  35.  37.  39.  40.  50.  58.  60.  61.  63.  64.  65.  67.  73.  74.\n",
            "  83.  88. 107. 114. 133. 155. 210. 252. 259. 842.]\n"
          ],
          "name": "stdout"
        }
      ]
    },
    {
      "cell_type": "code",
      "metadata": {
        "id": "3BXOzHuPwcsL",
        "colab_type": "code",
        "colab": {
          "base_uri": "https://localhost:8080/",
          "height": 282
        },
        "outputId": "eaa3db2b-ae02-4177-be01-1148a476550d"
      },
      "source": [
        "cnt_srs = df['COMMERCIAL UNITS'].value_counts()\n",
        "\n",
        "plt.figure(figsize=(8,4))\n",
        "sns.barplot(cnt_srs.index, cnt_srs.values, alpha=0.8, color=color[2])\n",
        "plt.ylabel('Number of Occurrences', fontsize=12)\n",
        "plt.xlabel('COMMERCIAL UNITS', fontsize=12)\n",
        "plt.show()"
      ],
      "execution_count": 26,
      "outputs": [
        {
          "output_type": "display_data",
          "data": {
            "image/png": "[encoded data removed]",
            "text/plain": [
              "<Figure size 576x288 with 1 Axes>"
            ]
          },
          "metadata": {
            "tags": [],
            "needs_background": "light"
          }
        }
      ]
    },
    {
      "cell_type": "code",
      "metadata": {
        "id": "QvY-aQolww72",
        "colab_type": "code",
        "colab": {}
      },
      "source": [
        "df = df[df['COMMERCIAL UNITS'] < 5.0]"
      ],
      "execution_count": 151,
      "outputs": []
    },
    {
      "cell_type": "code",
      "metadata": {
        "id": "Qm_WU4SDw2_s",
        "colab_type": "code",
        "colab": {
          "base_uri": "https://localhost:8080/",
          "height": 282
        },
        "outputId": "616839ac-5b91-4449-e109-58df4ea8f2ec"
      },
      "source": [
        "cnt_srs = df['COMMERCIAL UNITS'].value_counts()\n",
        "\n",
        "plt.figure(figsize=(8,4))\n",
        "sns.barplot(cnt_srs.index, cnt_srs.values, alpha=0.8, color=color[2])\n",
        "plt.ylabel('Number of Occurrences', fontsize=12)\n",
        "plt.xlabel('COMMERCIAL UNITS', fontsize=12)\n",
        "plt.show()"
      ],
      "execution_count": 28,
      "outputs": [
        {
          "output_type": "display_data",
          "data": {
            "image/png": "[encoded data removed]",
            "text/plain": [
              "<Figure size 576x288 with 1 Axes>"
            ]
          },
          "metadata": {
            "tags": [],
            "needs_background": "light"
          }
        }
      ]
    },
    {
      "cell_type": "code",
      "metadata": {
        "id": "QUtRGNuhw7ib",
        "colab_type": "code",
        "colab": {
          "base_uri": "https://localhost:8080/",
          "height": 35
        },
        "outputId": "12722c93-366e-48b9-f4cd-124b11a47285"
      },
      "source": [
        "print(f'Train data has {df.shape[0]} rows and {df.shape[1]} colummns')"
      ],
      "execution_count": 29,
      "outputs": [
        {
          "output_type": "stream",
          "text": [
            "Train data has 56742 rows and 21 colummns\n"
          ],
          "name": "stdout"
        }
      ]
    },
    {
      "cell_type": "code",
      "metadata": {
        "id": "lc_LnrQKw8mz",
        "colab_type": "code",
        "colab": {
          "base_uri": "https://localhost:8080/",
          "height": 391
        },
        "outputId": "5d5f4fe1-5d25-442d-f362-3dd42b6c4755"
      },
      "source": [
        "plt.figure(figsize=(8,6))\n",
        "sns.distplot(df['YEAR BUILT'].values, bins=50, kde=True)\n",
        "plt.xlabel('YEAR BUILT', fontsize=12)\n",
        "plt.show()"
      ],
      "execution_count": 30,
      "outputs": [
        {
          "output_type": "display_data",
          "data": {
            "image/png": "[encoded data removed]",
            "text/plain": [
              "<Figure size 576x432 with 1 Axes>"
            ]
          },
          "metadata": {
            "tags": [],
            "needs_background": "light"
          }
        }
      ]
    },
    {
      "cell_type": "code",
      "metadata": {
        "id": "fO2j0a-lTPne",
        "colab_type": "code",
        "colab": {}
      },
      "source": [
        "uniqueValues = df['YEAR BUILT'].unique()\n",
        "print('Unique elements in column \"YEAR BUILT\" ')\n",
        "print(np.sort(uniqueValues))"
      ],
      "execution_count": null,
      "outputs": []
    },
    {
      "cell_type": "code",
      "metadata": {
        "id": "WFZPl4oycaSs",
        "colab_type": "code",
        "colab": {}
      },
      "source": [
        "df = df[df['YEAR BUILT'] > 1860]\n",
        "df = df[df['YEAR BUILT'] <= 2020]"
      ],
      "execution_count": 152,
      "outputs": []
    },
    {
      "cell_type": "code",
      "metadata": {
        "id": "SBYA6E52ci75",
        "colab_type": "code",
        "colab": {
          "base_uri": "https://localhost:8080/",
          "height": 35
        },
        "outputId": "f3488972-24a3-43b0-dc09-6d81ca22beeb"
      },
      "source": [
        "print(f'Train data has {df.shape[0]} rows and {df.shape[1]} colummns')"
      ],
      "execution_count": 32,
      "outputs": [
        {
          "output_type": "stream",
          "text": [
            "Train data has 56705 rows and 21 colummns\n"
          ],
          "name": "stdout"
        }
      ]
    },
    {
      "cell_type": "code",
      "metadata": {
        "id": "e0TGisD-cl3a",
        "colab_type": "code",
        "colab": {
          "base_uri": "https://localhost:8080/",
          "height": 391
        },
        "outputId": "c9d82002-45a7-4525-fe4c-93550e24d848"
      },
      "source": [
        "plt.figure(figsize=(8,6))\n",
        "sns.distplot(df['YEAR BUILT'].values, bins=50, kde=True)\n",
        "plt.xlabel('YEAR BUILT', fontsize=12)\n",
        "plt.show()"
      ],
      "execution_count": 33,
      "outputs": [
        {
          "output_type": "display_data",
          "data": {
            "image/png": "[encoded data removed]",
            "text/plain": [
              "<Figure size 576x432 with 1 Axes>"
            ]
          },
          "metadata": {
            "tags": [],
            "needs_background": "light"
          }
        }
      ]
    },
    {
      "cell_type": "code",
      "metadata": {
        "id": "fD-b3UUsc5Kh",
        "colab_type": "code",
        "colab": {
          "base_uri": "https://localhost:8080/",
          "height": 260
        },
        "outputId": "ae029df6-fa39-4f69-be60-712851d407f5"
      },
      "source": [
        "uniqueValues = df['YEAR BUILT'].unique()\n",
        "print('Unique elements in column \"YEAR BUILT\" ')\n",
        "print(np.sort(uniqueValues))"
      ],
      "execution_count": 34,
      "outputs": [
        {
          "output_type": "stream",
          "text": [
            "Unique elements in column \"YEAR BUILT\" \n",
            "[1865. 1870. 1871. 1873. 1875. 1880. 1881. 1882. 1883. 1885. 1886. 1887.\n",
            " 1888. 1889. 1890. 1891. 1892. 1893. 1894. 1895. 1896. 1897. 1898. 1899.\n",
            " 1900. 1901. 1902. 1903. 1904. 1905. 1906. 1907. 1908. 1909. 1910. 1911.\n",
            " 1912. 1913. 1914. 1915. 1916. 1917. 1918. 1919. 1920. 1921. 1922. 1923.\n",
            " 1924. 1925. 1926. 1927. 1928. 1929. 1930. 1931. 1932. 1933. 1934. 1935.\n",
            " 1936. 1937. 1938. 1939. 1940. 1941. 1942. 1943. 1944. 1945. 1946. 1947.\n",
            " 1948. 1949. 1950. 1951. 1952. 1953. 1954. 1955. 1956. 1957. 1958. 1959.\n",
            " 1960. 1961. 1962. 1963. 1964. 1965. 1966. 1967. 1968. 1969. 1970. 1971.\n",
            " 1972. 1973. 1974. 1975. 1976. 1977. 1978. 1979. 1980. 1981. 1982. 1983.\n",
            " 1984. 1985. 1986. 1987. 1988. 1989. 1990. 1991. 1992. 1993. 1994. 1995.\n",
            " 1996. 1997. 1998. 1999. 2000. 2001. 2002. 2003. 2004. 2005. 2006. 2007.\n",
            " 2008. 2009. 2010. 2011. 2012. 2013. 2014. 2015. 2016. 2017. 2018. 2019.\n",
            " 2020.]\n"
          ],
          "name": "stdout"
        }
      ]
    },
    {
      "cell_type": "code",
      "metadata": {
        "id": "3bPJpMTXd5m8",
        "colab_type": "code",
        "colab": {
          "base_uri": "https://localhost:8080/",
          "height": 402
        },
        "outputId": "ada42eff-03ee-42cc-ade9-e6eb8ed1b9cf"
      },
      "source": [
        "plt.figure(figsize=(8,6))\n",
        "sns.distplot(df['GROSS SQUARE FEET'].values, bins=50, kde=True)\n",
        "plt.xlabel('GROSS SQUARE FEET', fontsize=12)\n",
        "plt.show()"
      ],
      "execution_count": 35,
      "outputs": [
        {
          "output_type": "display_data",
          "data": {
            "image/png": "[encoded data removed]",
            "text/plain": [
              "<Figure size 576x432 with 1 Axes>"
            ]
          },
          "metadata": {
            "tags": [],
            "needs_background": "light"
          }
        }
      ]
    },
    {
      "cell_type": "code",
      "metadata": {
        "id": "hple6S1-eHQ0",
        "colab_type": "code",
        "colab": {}
      },
      "source": [
        "df = df[df['GROSS SQUARE FEET'] < 5000]"
      ],
      "execution_count": 153,
      "outputs": []
    },
    {
      "cell_type": "code",
      "metadata": {
        "id": "cAxS7KrVeOYK",
        "colab_type": "code",
        "colab": {
          "base_uri": "https://localhost:8080/",
          "height": 394
        },
        "outputId": "5971962b-5d65-4848-d1eb-b74de4336b34"
      },
      "source": [
        "plt.figure(figsize=(8,6))\n",
        "sns.distplot(df['GROSS SQUARE FEET'].values, bins=50, kde=True)\n",
        "plt.xlabel('GROSS SQUARE FEET', fontsize=12)\n",
        "plt.show()"
      ],
      "execution_count": 37,
      "outputs": [
        {
          "output_type": "display_data",
          "data": {
            "image/png": "[encoded data removed]",
            "text/plain": [
              "<Figure size 576x432 with 1 Axes>"
            ]
          },
          "metadata": {
            "tags": [],
            "needs_background": "light"
          }
        }
      ]
    },
    {
      "cell_type": "code",
      "metadata": {
        "id": "jeGSOXjMesQ1",
        "colab_type": "code",
        "colab": {}
      },
      "source": [
        "ulimit = np.percentile(df['GROSS SQUARE FEET'], 99)\n"
      ],
      "execution_count": 154,
      "outputs": []
    },
    {
      "cell_type": "code",
      "metadata": {
        "id": "0x7gjUttez5J",
        "colab_type": "code",
        "colab": {}
      },
      "source": [
        "df = df[df['GROSS SQUARE FEET'] < ulimit]"
      ],
      "execution_count": 155,
      "outputs": []
    },
    {
      "cell_type": "code",
      "metadata": {
        "id": "UmpfJitFe29z",
        "colab_type": "code",
        "colab": {
          "base_uri": "https://localhost:8080/",
          "height": 35
        },
        "outputId": "012b4738-33f3-4f2f-8037-c51e7cebe195"
      },
      "source": [
        "print(f'Train data has {df.shape[0]} rows and {df.shape[1]} colummns')"
      ],
      "execution_count": 40,
      "outputs": [
        {
          "output_type": "stream",
          "text": [
            "Train data has 54721 rows and 21 colummns\n"
          ],
          "name": "stdout"
        }
      ]
    },
    {
      "cell_type": "code",
      "metadata": {
        "id": "ifbKlb5Me7ZL",
        "colab_type": "code",
        "colab": {
          "base_uri": "https://localhost:8080/",
          "height": 391
        },
        "outputId": "c2a06af8-ac3a-4cde-c9d3-6681b3c32acf"
      },
      "source": [
        "plt.figure(figsize=(8,6))\n",
        "sns.distplot(df['GROSS SQUARE FEET'].values, bins=50, kde=True)\n",
        "plt.xlabel('GROSS SQUARE FEET', fontsize=12)\n",
        "plt.show()"
      ],
      "execution_count": 41,
      "outputs": [
        {
          "output_type": "display_data",
          "data": {
            "image/png": "[encoded data removed]",
            "text/plain": [
              "<Figure size 576x432 with 1 Axes>"
            ]
          },
          "metadata": {
            "tags": [],
            "needs_background": "light"
          }
        }
      ]
    },
    {
      "cell_type": "code",
      "metadata": {
        "id": "zxL-gC2RfHyq",
        "colab_type": "code",
        "colab": {}
      },
      "source": [
        "llimit  = np.percentile(df['GROSS SQUARE FEET'], 1)"
      ],
      "execution_count": 156,
      "outputs": []
    },
    {
      "cell_type": "code",
      "metadata": {
        "id": "qiP5dVtnfKjS",
        "colab_type": "code",
        "colab": {}
      },
      "source": [
        "df = df[df['GROSS SQUARE FEET'] > llimit]"
      ],
      "execution_count": 157,
      "outputs": []
    },
    {
      "cell_type": "code",
      "metadata": {
        "id": "LQUW6w8NfU3b",
        "colab_type": "code",
        "colab": {
          "base_uri": "https://localhost:8080/",
          "height": 391
        },
        "outputId": "215b2909-e564-4149-84c9-831256b46ee9"
      },
      "source": [
        "plt.figure(figsize=(8,6))\n",
        "sns.distplot(df['GROSS SQUARE FEET'].values, bins=50, kde=True)\n",
        "plt.xlabel('GROSS SQUARE FEET', fontsize=12)\n",
        "plt.show()"
      ],
      "execution_count": 44,
      "outputs": [
        {
          "output_type": "display_data",
          "data": {
            "image/png": "[encoded data removed]",
            "text/plain": [
              "<Figure size 576x432 with 1 Axes>"
            ]
          },
          "metadata": {
            "tags": [],
            "needs_background": "light"
          }
        }
      ]
    },
    {
      "cell_type": "code",
      "metadata": {
        "id": "X1vhNzqNfhOK",
        "colab_type": "code",
        "colab": {
          "base_uri": "https://localhost:8080/",
          "height": 391
        },
        "outputId": "7b90236c-6766-4c46-8998-b0bd333c46bf"
      },
      "source": [
        "plt.figure(figsize=(8,6))\n",
        "sns.distplot(df['LAND SQUARE FEET'].values, bins=50, kde=True)\n",
        "plt.xlabel('LAND SQUARE FEET', fontsize=12)\n",
        "plt.show()"
      ],
      "execution_count": 45,
      "outputs": [
        {
          "output_type": "display_data",
          "data": {
            "image/png": "[encoded data removed]",
            "text/plain": [
              "<Figure size 576x432 with 1 Axes>"
            ]
          },
          "metadata": {
            "tags": [],
            "needs_background": "light"
          }
        }
      ]
    },
    {
      "cell_type": "code",
      "metadata": {
        "id": "hh8Z_xI2fr-G",
        "colab_type": "code",
        "colab": {}
      },
      "source": [
        "ulimit = np.percentile(df['LAND SQUARE FEET'], 99)\n",
        "llimit  = np.percentile(df['LAND SQUARE FEET'], 1)"
      ],
      "execution_count": 158,
      "outputs": []
    },
    {
      "cell_type": "code",
      "metadata": {
        "id": "N5FhkgDofzKi",
        "colab_type": "code",
        "colab": {}
      },
      "source": [
        "df = df[df['LAND SQUARE FEET'] > llimit]"
      ],
      "execution_count": 159,
      "outputs": []
    },
    {
      "cell_type": "code",
      "metadata": {
        "id": "DiDrNtR3f19C",
        "colab_type": "code",
        "colab": {}
      },
      "source": [
        "df = df[df['LAND SQUARE FEET'] < ulimit]"
      ],
      "execution_count": 160,
      "outputs": []
    },
    {
      "cell_type": "code",
      "metadata": {
        "id": "w4sohWnbgCc0",
        "colab_type": "code",
        "colab": {
          "base_uri": "https://localhost:8080/",
          "height": 391
        },
        "outputId": "aeadc4da-8d0e-473d-cfdd-c9bb06be98e7"
      },
      "source": [
        "plt.figure(figsize=(8,6))\n",
        "sns.distplot(df['LAND SQUARE FEET'].values, bins=50, kde=True)\n",
        "plt.xlabel('LAND SQUARE FEET', fontsize=12)\n",
        "plt.show()"
      ],
      "execution_count": 49,
      "outputs": [
        {
          "output_type": "display_data",
          "data": {
            "image/png": "[encoded data removed]",
            "text/plain": [
              "<Figure size 576x432 with 1 Axes>"
            ]
          },
          "metadata": {
            "tags": [],
            "needs_background": "light"
          }
        }
      ]
    },
    {
      "cell_type": "code",
      "metadata": {
        "id": "qAGufcG7gJ9S",
        "colab_type": "code",
        "colab": {}
      },
      "source": [
        "ulimit = np.percentile(df['LAND SQUARE FEET'], 99)"
      ],
      "execution_count": 161,
      "outputs": []
    },
    {
      "cell_type": "code",
      "metadata": {
        "id": "Vxxxy4_GgSgF",
        "colab_type": "code",
        "colab": {}
      },
      "source": [
        "df = df[df['LAND SQUARE FEET'] < ulimit]"
      ],
      "execution_count": 162,
      "outputs": []
    },
    {
      "cell_type": "code",
      "metadata": {
        "id": "8E7OmGWngME7",
        "colab_type": "code",
        "colab": {
          "base_uri": "https://localhost:8080/",
          "height": 391
        },
        "outputId": "42bd3daa-6c03-412a-91b6-938fe0dca9a0"
      },
      "source": [
        "plt.figure(figsize=(8,6))\n",
        "sns.distplot(df['LAND SQUARE FEET'].values, bins=50, kde=True)\n",
        "plt.xlabel('LAND SQUARE FEET', fontsize=12)\n",
        "plt.show()"
      ],
      "execution_count": 52,
      "outputs": [
        {
          "output_type": "display_data",
          "data": {
            "image/png": "[encoded data removed]",
            "text/plain": [
              "<Figure size 576x432 with 1 Axes>"
            ]
          },
          "metadata": {
            "tags": [],
            "needs_background": "light"
          }
        }
      ]
    },
    {
      "cell_type": "code",
      "metadata": {
        "id": "_fVGnj-agyU8",
        "colab_type": "code",
        "colab": {
          "base_uri": "https://localhost:8080/",
          "height": 286
        },
        "outputId": "06116395-d553-466c-cf1e-4fa9c2a9da35"
      },
      "source": [
        "df.head(2)"
      ],
      "execution_count": 53,
      "outputs": [
        {
          "output_type": "execute_result",
          "data": {
            "text/html": [
              "<div>\n",
              "<style scoped>\n",
              "    .dataframe tbody tr th:only-of-type {\n",
              "        vertical-align: middle;\n",
              "    }\n",
              "\n",
              "    .dataframe tbody tr th {\n",
              "        vertical-align: top;\n",
              "    }\n",
              "\n",
              "    .dataframe thead th {\n",
              "        text-align: right;\n",
              "    }\n",
              "</style>\n",
              "<table border=\"1\" class=\"dataframe\">\n",
              "  <thead>\n",
              "    <tr style=\"text-align: right;\">\n",
              "      <th></th>\n",
              "      <th>BOROUGH</th>\n",
              "      <th>NEIGHBORHOOD</th>\n",
              "      <th>BUILDING CLASS CATEGORY</th>\n",
              "      <th>TAX CLASS AS OF FINAL ROLL 18/19</th>\n",
              "      <th>BLOCK</th>\n",
              "      <th>LOT</th>\n",
              "      <th>BUILDING CLASS AS OF FINAL ROLL 18/19</th>\n",
              "      <th>ADDRESS</th>\n",
              "      <th>ZIP CODE</th>\n",
              "      <th>RESIDENTIAL UNITS</th>\n",
              "      <th>COMMERCIAL UNITS</th>\n",
              "      <th>TOTAL UNITS</th>\n",
              "      <th>LAND SQUARE FEET</th>\n",
              "      <th>GROSS SQUARE FEET</th>\n",
              "      <th>YEAR BUILT</th>\n",
              "      <th>TAX CLASS AT TIME OF SALE</th>\n",
              "      <th>BUILDING CLASS AT TIME OF SALE</th>\n",
              "      <th>SALE PRICE</th>\n",
              "      <th>SALE DATE</th>\n",
              "      <th>AREA</th>\n",
              "      <th>FINAL_ADDRESS</th>\n",
              "    </tr>\n",
              "  </thead>\n",
              "  <tbody>\n",
              "    <tr>\n",
              "      <th>0</th>\n",
              "      <td>2</td>\n",
              "      <td>BATHGATE</td>\n",
              "      <td>01 ONE FAMILY DWELLINGS</td>\n",
              "      <td>1</td>\n",
              "      <td>3030</td>\n",
              "      <td>70</td>\n",
              "      <td>A1</td>\n",
              "      <td>4445 PARK AVENUE</td>\n",
              "      <td>10457.0</td>\n",
              "      <td>1.0</td>\n",
              "      <td>0.0</td>\n",
              "      <td>1.0</td>\n",
              "      <td>1694.0</td>\n",
              "      <td>1497.0</td>\n",
              "      <td>1899.0</td>\n",
              "      <td>1</td>\n",
              "      <td>A1</td>\n",
              "      <td>388500</td>\n",
              "      <td>2019-07-23</td>\n",
              "      <td>bronx</td>\n",
              "      <td>4445 PARK AVENUE NYC</td>\n",
              "    </tr>\n",
              "    <tr>\n",
              "      <th>1</th>\n",
              "      <td>2</td>\n",
              "      <td>BATHGATE</td>\n",
              "      <td>01 ONE FAMILY DWELLINGS</td>\n",
              "      <td>1</td>\n",
              "      <td>3039</td>\n",
              "      <td>29</td>\n",
              "      <td>A9</td>\n",
              "      <td>2327 WASHINGTON AVENUE</td>\n",
              "      <td>10458.0</td>\n",
              "      <td>1.0</td>\n",
              "      <td>0.0</td>\n",
              "      <td>1.0</td>\n",
              "      <td>1095.0</td>\n",
              "      <td>1260.0</td>\n",
              "      <td>1910.0</td>\n",
              "      <td>1</td>\n",
              "      <td>A9</td>\n",
              "      <td>110000</td>\n",
              "      <td>2019-12-06</td>\n",
              "      <td>bronx</td>\n",
              "      <td>2327 WASHINGTON AVENUE NYC</td>\n",
              "    </tr>\n",
              "  </tbody>\n",
              "</table>\n",
              "</div>"
            ],
            "text/plain": [
              "   BOROUGH NEIGHBORHOOD  ...   AREA               FINAL_ADDRESS\n",
              "0        2     BATHGATE  ...  bronx        4445 PARK AVENUE NYC\n",
              "1        2     BATHGATE  ...  bronx  2327 WASHINGTON AVENUE NYC\n",
              "\n",
              "[2 rows x 21 columns]"
            ]
          },
          "metadata": {
            "tags": []
          },
          "execution_count": 53
        }
      ]
    },
    {
      "cell_type": "code",
      "metadata": {
        "id": "3sGVIwhNgwib",
        "colab_type": "code",
        "colab": {
          "base_uri": "https://localhost:8080/",
          "height": 391
        },
        "outputId": "e9683e09-200a-4e91-adb3-72c48ce90fdd"
      },
      "source": [
        "plt.figure(figsize=(8,6))\n",
        "sns.distplot(df['BLOCK'].values, bins=50, kde=True)\n",
        "plt.xlabel('BLOCK', fontsize=12)\n",
        "plt.show()"
      ],
      "execution_count": 54,
      "outputs": [
        {
          "output_type": "display_data",
          "data": {
            "image/png": "[encoded data removed]",
            "text/plain": [
              "<Figure size 576x432 with 1 Axes>"
            ]
          },
          "metadata": {
            "tags": [],
            "needs_background": "light"
          }
        }
      ]
    },
    {
      "cell_type": "code",
      "metadata": {
        "id": "eNlg1hEghIgM",
        "colab_type": "code",
        "colab": {
          "base_uri": "https://localhost:8080/",
          "height": 52
        },
        "outputId": "e711b38b-4ec9-43cc-e858-2e4af6d1e071"
      },
      "source": [
        "uniqueValues = df['BLOCK'].unique()\n",
        "print('Unique elements in column \"BLOCK\" ')\n",
        "print(np.size(np.sort(uniqueValues)))"
      ],
      "execution_count": 55,
      "outputs": [
        {
          "output_type": "stream",
          "text": [
            "Unique elements in column \"BLOCK\" \n",
            "10888\n"
          ],
          "name": "stdout"
        }
      ]
    },
    {
      "cell_type": "code",
      "metadata": {
        "id": "P0eq2YgRhe6O",
        "colab_type": "code",
        "colab": {
          "base_uri": "https://localhost:8080/",
          "height": 394
        },
        "outputId": "e2d5a6d2-17d6-4b16-cc11-32e135c46942"
      },
      "source": [
        "plt.figure(figsize=(8,6))\n",
        "sns.distplot(df['ZIP CODE'].values, bins=50, kde=True)\n",
        "plt.xlabel('ZIP CODE', fontsize=12)\n",
        "plt.show()\n"
      ],
      "execution_count": 56,
      "outputs": [
        {
          "output_type": "display_data",
          "data": {
            "image/png": "[encoded data removed]",
            "text/plain": [
              "<Figure size 576x432 with 1 Axes>"
            ]
          },
          "metadata": {
            "tags": [],
            "needs_background": "light"
          }
        }
      ]
    },
    {
      "cell_type": "code",
      "metadata": {
        "id": "CedhpxTtvSjk",
        "colab_type": "code",
        "colab": {
          "base_uri": "https://localhost:8080/",
          "height": 35
        },
        "outputId": "e44ac5a6-3a21-4481-f5c2-a22028d7a45b"
      },
      "source": [
        "print(f'Train data has {df.shape[0]} rows and {df.shape[1]} colummns')"
      ],
      "execution_count": 57,
      "outputs": [
        {
          "output_type": "stream",
          "text": [
            "Train data has 40266 rows and 21 colummns\n"
          ],
          "name": "stdout"
        }
      ]
    },
    {
      "cell_type": "code",
      "metadata": {
        "id": "WK6Yoonpqa_P",
        "colab_type": "code",
        "colab": {}
      },
      "source": [
        "llimit  = np.percentile(df['ZIP CODE'], 1)"
      ],
      "execution_count": 163,
      "outputs": []
    },
    {
      "cell_type": "code",
      "metadata": {
        "id": "0CxBsPhvqZnb",
        "colab_type": "code",
        "colab": {}
      },
      "source": [
        "df = df[df['ZIP CODE'] > llimit]"
      ],
      "execution_count": 164,
      "outputs": []
    },
    {
      "cell_type": "code",
      "metadata": {
        "id": "XuVBTgznqhpw",
        "colab_type": "code",
        "colab": {
          "base_uri": "https://localhost:8080/",
          "height": 395
        },
        "outputId": "66302d57-6d76-4093-d608-1caafcf1a0e9"
      },
      "source": [
        "plt.figure(figsize=(8,6))\n",
        "sns.distplot(df['ZIP CODE'].values, bins=50, kde=True)\n",
        "plt.xlabel('ZIP CODE', fontsize=12)\n",
        "plt.show()"
      ],
      "execution_count": 60,
      "outputs": [
        {
          "output_type": "display_data",
          "data": {
            "image/png": "[encoded data removed]",
            "text/plain": [
              "<Figure size 576x432 with 1 Axes>"
            ]
          },
          "metadata": {
            "tags": [],
            "needs_background": "light"
          }
        }
      ]
    },
    {
      "cell_type": "code",
      "metadata": {
        "id": "rM0fNp5Tqoyg",
        "colab_type": "code",
        "colab": {
          "base_uri": "https://localhost:8080/",
          "height": 391
        },
        "outputId": "72f3e621-43d7-47b2-c2ff-f874b09c203b"
      },
      "source": [
        "plt.figure(figsize=(8,6))\n",
        "sns.distplot(df['TOTAL UNITS'].values, bins=50, kde=True)\n",
        "plt.xlabel('TOTAL UNITS', fontsize=12)\n",
        "plt.show()"
      ],
      "execution_count": 61,
      "outputs": [
        {
          "output_type": "display_data",
          "data": {
            "image/png": "[encoded data removed]",
            "text/plain": [
              "<Figure size 576x432 with 1 Axes>"
            ]
          },
          "metadata": {
            "tags": [],
            "needs_background": "light"
          }
        }
      ]
    },
    {
      "cell_type": "code",
      "metadata": {
        "id": "SEeociCsq9lh",
        "colab_type": "code",
        "colab": {}
      },
      "source": [
        "ulimit = np.percentile(df['TOTAL UNITS'], 99)"
      ],
      "execution_count": 165,
      "outputs": []
    },
    {
      "cell_type": "code",
      "metadata": {
        "id": "9E5rMdA-rLkK",
        "colab_type": "code",
        "colab": {}
      },
      "source": [
        "df = df[df['TOTAL UNITS'] < ulimit]"
      ],
      "execution_count": 166,
      "outputs": []
    },
    {
      "cell_type": "code",
      "metadata": {
        "id": "1mHf1HHsrPK6",
        "colab_type": "code",
        "colab": {
          "base_uri": "https://localhost:8080/",
          "height": 391
        },
        "outputId": "58e920b7-0ce2-4175-9e16-a8f9d37711ed"
      },
      "source": [
        "plt.figure(figsize=(8,6))\n",
        "sns.distplot(df['TOTAL UNITS'].values, bins=50, kde=True)\n",
        "plt.xlabel('TOTAL UNITS', fontsize=12)\n",
        "plt.show()"
      ],
      "execution_count": 64,
      "outputs": [
        {
          "output_type": "display_data",
          "data": {
            "image/png": "[encoded data removed]",
            "text/plain": [
              "<Figure size 576x432 with 1 Axes>"
            ]
          },
          "metadata": {
            "tags": [],
            "needs_background": "light"
          }
        }
      ]
    },
    {
      "cell_type": "code",
      "metadata": {
        "id": "QV69iw4PvPjU",
        "colab_type": "code",
        "colab": {
          "base_uri": "https://localhost:8080/",
          "height": 35
        },
        "outputId": "f3927a5d-1141-493e-a962-547c442d9a90"
      },
      "source": [
        "print(f'Train data has {df.shape[0]} rows and {df.shape[1]} colummns')"
      ],
      "execution_count": 65,
      "outputs": [
        {
          "output_type": "stream",
          "text": [
            "Train data has 39218 rows and 21 colummns\n"
          ],
          "name": "stdout"
        }
      ]
    },
    {
      "cell_type": "code",
      "metadata": {
        "id": "8-hXsTe9rVca",
        "colab_type": "code",
        "colab": {}
      },
      "source": [
        "df = df[df['TOTAL UNITS'] > 0]"
      ],
      "execution_count": 167,
      "outputs": []
    },
    {
      "cell_type": "code",
      "metadata": {
        "id": "ayS_QPcvrcCD",
        "colab_type": "code",
        "colab": {
          "base_uri": "https://localhost:8080/",
          "height": 391
        },
        "outputId": "223fe301-88f5-4795-9e83-f75981b66a37"
      },
      "source": [
        "plt.figure(figsize=(8,6))\n",
        "sns.distplot(df['TOTAL UNITS'].values, bins=50, kde=True)\n",
        "plt.xlabel('TOTAL UNITS', fontsize=12)\n",
        "plt.show()"
      ],
      "execution_count": 67,
      "outputs": [
        {
          "output_type": "display_data",
          "data": {
            "image/png": "[encoded data removed]",
            "text/plain": [
              "<Figure size 576x432 with 1 Axes>"
            ]
          },
          "metadata": {
            "tags": [],
            "needs_background": "light"
          }
        }
      ]
    },
    {
      "cell_type": "code",
      "metadata": {
        "id": "5u_-qDkGrf_T",
        "colab_type": "code",
        "colab": {
          "base_uri": "https://localhost:8080/",
          "height": 221
        },
        "outputId": "1a38b41e-fd7e-4951-e69e-646d3b716bd2"
      },
      "source": [
        "df.head(1)"
      ],
      "execution_count": 68,
      "outputs": [
        {
          "output_type": "execute_result",
          "data": {
            "text/html": [
              "<div>\n",
              "<style scoped>\n",
              "    .dataframe tbody tr th:only-of-type {\n",
              "        vertical-align: middle;\n",
              "    }\n",
              "\n",
              "    .dataframe tbody tr th {\n",
              "        vertical-align: top;\n",
              "    }\n",
              "\n",
              "    .dataframe thead th {\n",
              "        text-align: right;\n",
              "    }\n",
              "</style>\n",
              "<table border=\"1\" class=\"dataframe\">\n",
              "  <thead>\n",
              "    <tr style=\"text-align: right;\">\n",
              "      <th></th>\n",
              "      <th>BOROUGH</th>\n",
              "      <th>NEIGHBORHOOD</th>\n",
              "      <th>BUILDING CLASS CATEGORY</th>\n",
              "      <th>TAX CLASS AS OF FINAL ROLL 18/19</th>\n",
              "      <th>BLOCK</th>\n",
              "      <th>LOT</th>\n",
              "      <th>BUILDING CLASS AS OF FINAL ROLL 18/19</th>\n",
              "      <th>ADDRESS</th>\n",
              "      <th>ZIP CODE</th>\n",
              "      <th>RESIDENTIAL UNITS</th>\n",
              "      <th>COMMERCIAL UNITS</th>\n",
              "      <th>TOTAL UNITS</th>\n",
              "      <th>LAND SQUARE FEET</th>\n",
              "      <th>GROSS SQUARE FEET</th>\n",
              "      <th>YEAR BUILT</th>\n",
              "      <th>TAX CLASS AT TIME OF SALE</th>\n",
              "      <th>BUILDING CLASS AT TIME OF SALE</th>\n",
              "      <th>SALE PRICE</th>\n",
              "      <th>SALE DATE</th>\n",
              "      <th>AREA</th>\n",
              "      <th>FINAL_ADDRESS</th>\n",
              "    </tr>\n",
              "  </thead>\n",
              "  <tbody>\n",
              "    <tr>\n",
              "      <th>0</th>\n",
              "      <td>2</td>\n",
              "      <td>BATHGATE</td>\n",
              "      <td>01 ONE FAMILY DWELLINGS</td>\n",
              "      <td>1</td>\n",
              "      <td>3030</td>\n",
              "      <td>70</td>\n",
              "      <td>A1</td>\n",
              "      <td>4445 PARK AVENUE</td>\n",
              "      <td>10457.0</td>\n",
              "      <td>1.0</td>\n",
              "      <td>0.0</td>\n",
              "      <td>1.0</td>\n",
              "      <td>1694.0</td>\n",
              "      <td>1497.0</td>\n",
              "      <td>1899.0</td>\n",
              "      <td>1</td>\n",
              "      <td>A1</td>\n",
              "      <td>388500</td>\n",
              "      <td>2019-07-23</td>\n",
              "      <td>bronx</td>\n",
              "      <td>4445 PARK AVENUE NYC</td>\n",
              "    </tr>\n",
              "  </tbody>\n",
              "</table>\n",
              "</div>"
            ],
            "text/plain": [
              "   BOROUGH NEIGHBORHOOD  ...   AREA         FINAL_ADDRESS\n",
              "0        2     BATHGATE  ...  bronx  4445 PARK AVENUE NYC\n",
              "\n",
              "[1 rows x 21 columns]"
            ]
          },
          "metadata": {
            "tags": []
          },
          "execution_count": 68
        }
      ]
    },
    {
      "cell_type": "code",
      "metadata": {
        "id": "TOkq4pUgsr-6",
        "colab_type": "code",
        "colab": {
          "base_uri": "https://localhost:8080/",
          "height": 648
        },
        "outputId": "b14056e3-7b12-4b69-d698-99b7f53229f0"
      },
      "source": [
        "# Create figure and plot space\n",
        "fig, ax = plt.subplots(figsize=(10, 10))\n",
        "\n",
        "# Add x-axis and y-axis\n",
        "ax.bar(df['SALE DATE'].values,\n",
        "        df['SALE PRICE'].values,\n",
        "        color='purple')\n",
        "\n",
        "# Set title and labels for axes\n",
        "ax.set(xlabel=\"Date\",\n",
        "       ylabel=\"Counts\",\n",
        "       title=\"Counts per date\")\n",
        "\n",
        "# Rotate tick marks on x-axis\n",
        "plt.setp(ax.get_xticklabels(), rotation=45)\n",
        "\n",
        "plt.show()\n"
      ],
      "execution_count": 69,
      "outputs": [
        {
          "output_type": "display_data",
          "data": {
            "image/png": "[encoded data removed]",
            "text/plain": [
              "<Figure size 720x720 with 1 Axes>"
            ]
          },
          "metadata": {
            "tags": [],
            "needs_background": "light"
          }
        }
      ]
    },
    {
      "cell_type": "code",
      "metadata": {
        "id": "d7OqVBQ3vK5p",
        "colab_type": "code",
        "colab": {
          "base_uri": "https://localhost:8080/",
          "height": 35
        },
        "outputId": "9572a6cc-cab3-4eaa-956c-0c6dd6902171"
      },
      "source": [
        "print(f'Train data has {df.shape[0]} rows and {df.shape[1]} colummns')"
      ],
      "execution_count": 70,
      "outputs": [
        {
          "output_type": "stream",
          "text": [
            "Train data has 39198 rows and 21 colummns\n"
          ],
          "name": "stdout"
        }
      ]
    },
    {
      "cell_type": "code",
      "metadata": {
        "id": "_7my4rdFwMNK",
        "colab_type": "code",
        "colab": {
          "base_uri": "https://localhost:8080/",
          "height": 286
        },
        "outputId": "f66d2e0c-51e2-4183-ad71-4d5a4bc744d0"
      },
      "source": [
        "df.head(2)"
      ],
      "execution_count": 71,
      "outputs": [
        {
          "output_type": "execute_result",
          "data": {
            "text/html": [
              "<div>\n",
              "<style scoped>\n",
              "    .dataframe tbody tr th:only-of-type {\n",
              "        vertical-align: middle;\n",
              "    }\n",
              "\n",
              "    .dataframe tbody tr th {\n",
              "        vertical-align: top;\n",
              "    }\n",
              "\n",
              "    .dataframe thead th {\n",
              "        text-align: right;\n",
              "    }\n",
              "</style>\n",
              "<table border=\"1\" class=\"dataframe\">\n",
              "  <thead>\n",
              "    <tr style=\"text-align: right;\">\n",
              "      <th></th>\n",
              "      <th>BOROUGH</th>\n",
              "      <th>NEIGHBORHOOD</th>\n",
              "      <th>BUILDING CLASS CATEGORY</th>\n",
              "      <th>TAX CLASS AS OF FINAL ROLL 18/19</th>\n",
              "      <th>BLOCK</th>\n",
              "      <th>LOT</th>\n",
              "      <th>BUILDING CLASS AS OF FINAL ROLL 18/19</th>\n",
              "      <th>ADDRESS</th>\n",
              "      <th>ZIP CODE</th>\n",
              "      <th>RESIDENTIAL UNITS</th>\n",
              "      <th>COMMERCIAL UNITS</th>\n",
              "      <th>TOTAL UNITS</th>\n",
              "      <th>LAND SQUARE FEET</th>\n",
              "      <th>GROSS SQUARE FEET</th>\n",
              "      <th>YEAR BUILT</th>\n",
              "      <th>TAX CLASS AT TIME OF SALE</th>\n",
              "      <th>BUILDING CLASS AT TIME OF SALE</th>\n",
              "      <th>SALE PRICE</th>\n",
              "      <th>SALE DATE</th>\n",
              "      <th>AREA</th>\n",
              "      <th>FINAL_ADDRESS</th>\n",
              "    </tr>\n",
              "  </thead>\n",
              "  <tbody>\n",
              "    <tr>\n",
              "      <th>0</th>\n",
              "      <td>2</td>\n",
              "      <td>BATHGATE</td>\n",
              "      <td>01 ONE FAMILY DWELLINGS</td>\n",
              "      <td>1</td>\n",
              "      <td>3030</td>\n",
              "      <td>70</td>\n",
              "      <td>A1</td>\n",
              "      <td>4445 PARK AVENUE</td>\n",
              "      <td>10457.0</td>\n",
              "      <td>1.0</td>\n",
              "      <td>0.0</td>\n",
              "      <td>1.0</td>\n",
              "      <td>1694.0</td>\n",
              "      <td>1497.0</td>\n",
              "      <td>1899.0</td>\n",
              "      <td>1</td>\n",
              "      <td>A1</td>\n",
              "      <td>388500</td>\n",
              "      <td>2019-07-23</td>\n",
              "      <td>bronx</td>\n",
              "      <td>4445 PARK AVENUE NYC</td>\n",
              "    </tr>\n",
              "    <tr>\n",
              "      <th>1</th>\n",
              "      <td>2</td>\n",
              "      <td>BATHGATE</td>\n",
              "      <td>01 ONE FAMILY DWELLINGS</td>\n",
              "      <td>1</td>\n",
              "      <td>3039</td>\n",
              "      <td>29</td>\n",
              "      <td>A9</td>\n",
              "      <td>2327 WASHINGTON AVENUE</td>\n",
              "      <td>10458.0</td>\n",
              "      <td>1.0</td>\n",
              "      <td>0.0</td>\n",
              "      <td>1.0</td>\n",
              "      <td>1095.0</td>\n",
              "      <td>1260.0</td>\n",
              "      <td>1910.0</td>\n",
              "      <td>1</td>\n",
              "      <td>A9</td>\n",
              "      <td>110000</td>\n",
              "      <td>2019-12-06</td>\n",
              "      <td>bronx</td>\n",
              "      <td>2327 WASHINGTON AVENUE NYC</td>\n",
              "    </tr>\n",
              "  </tbody>\n",
              "</table>\n",
              "</div>"
            ],
            "text/plain": [
              "   BOROUGH NEIGHBORHOOD  ...   AREA               FINAL_ADDRESS\n",
              "0        2     BATHGATE  ...  bronx        4445 PARK AVENUE NYC\n",
              "1        2     BATHGATE  ...  bronx  2327 WASHINGTON AVENUE NYC\n",
              "\n",
              "[2 rows x 21 columns]"
            ]
          },
          "metadata": {
            "tags": []
          },
          "execution_count": 71
        }
      ]
    },
    {
      "cell_type": "code",
      "metadata": {
        "id": "-VOM20EawMVM",
        "colab_type": "code",
        "colab": {
          "base_uri": "https://localhost:8080/",
          "height": 391
        },
        "outputId": "fe20369c-14ed-46fb-cbbd-9c31d0037b40"
      },
      "source": [
        "plt.figure(figsize=(8,6))\n",
        "sns.distplot(df['LOT'].values, bins=50, kde=True)\n",
        "plt.xlabel('LOT', fontsize=12)\n",
        "plt.show()"
      ],
      "execution_count": 72,
      "outputs": [
        {
          "output_type": "display_data",
          "data": {
            "image/png": "[encoded data removed]",
            "text/plain": [
              "<Figure size 576x432 with 1 Axes>"
            ]
          },
          "metadata": {
            "tags": [],
            "needs_background": "light"
          }
        }
      ]
    },
    {
      "cell_type": "code",
      "metadata": {
        "id": "SopBnADxwMc4",
        "colab_type": "code",
        "colab": {}
      },
      "source": [
        "df = df[df['LOT'] < 300]"
      ],
      "execution_count": 168,
      "outputs": []
    },
    {
      "cell_type": "code",
      "metadata": {
        "id": "xJZfSpeDwMj6",
        "colab_type": "code",
        "colab": {
          "base_uri": "https://localhost:8080/",
          "height": 391
        },
        "outputId": "9498718a-215d-48cc-df9c-5226ae1b7971"
      },
      "source": [
        "plt.figure(figsize=(8,6))\n",
        "sns.distplot(df['LOT'].values, bins=50, kde=True)\n",
        "plt.xlabel('LOT', fontsize=12)\n",
        "plt.show()"
      ],
      "execution_count": 75,
      "outputs": [
        {
          "output_type": "display_data",
          "data": {
            "image/png": "[encoded data removed]",
            "text/plain": [
              "<Figure size 576x432 with 1 Axes>"
            ]
          },
          "metadata": {
            "tags": [],
            "needs_background": "light"
          }
        }
      ]
    },
    {
      "cell_type": "code",
      "metadata": {
        "id": "V2cmGbNewNQz",
        "colab_type": "code",
        "colab": {
          "base_uri": "https://localhost:8080/",
          "height": 35
        },
        "outputId": "8e21d19c-c601-4422-9fb1-c4cedfaf06e8"
      },
      "source": [
        "print(f'Train data has {df.shape[0]} rows and {df.shape[1]} colummns')"
      ],
      "execution_count": 76,
      "outputs": [
        {
          "output_type": "stream",
          "text": [
            "Train data has 38396 rows and 21 colummns\n"
          ],
          "name": "stdout"
        }
      ]
    },
    {
      "cell_type": "code",
      "metadata": {
        "id": "7iPDDS3owNVy",
        "colab_type": "code",
        "colab": {
          "base_uri": "https://localhost:8080/",
          "height": 282
        },
        "outputId": "ee96e694-6690-4ebd-c9bb-c508cde3d309"
      },
      "source": [
        "int_level = df['BUILDING CLASS CATEGORY'].value_counts()\n",
        "\n",
        "plt.figure(figsize=(8,4))\n",
        "sns.barplot(int_level.index, int_level.values, alpha=0.8, color=color[9])\n",
        "plt.ylabel('Number of Occurrences', fontsize=12)\n",
        "plt.xlabel('BUILDING CLASS CATEGORY', fontsize=12)\n",
        "plt.show()"
      ],
      "execution_count": 77,
      "outputs": [
        {
          "output_type": "display_data",
          "data": {
            "image/png": "[encoded data removed]",
            "text/plain": [
              "<Figure size 576x288 with 1 Axes>"
            ]
          },
          "metadata": {
            "tags": [],
            "needs_background": "light"
          }
        }
      ]
    },
    {
      "cell_type": "code",
      "metadata": {
        "id": "XhpHvLqmUK-M",
        "colab_type": "code",
        "colab": {
          "base_uri": "https://localhost:8080/",
          "height": 347
        },
        "outputId": "7271f4ac-934b-4c52-88b3-7de8d5d4bf51"
      },
      "source": [
        "cnt_srs = df['BUILDING CLASS CATEGORY'].value_counts()\n",
        "print(cnt_srs)"
      ],
      "execution_count": 78,
      "outputs": [
        {
          "output_type": "stream",
          "text": [
            "01 ONE FAMILY DWELLINGS                     17030\n",
            "02 TWO FAMILY DWELLINGS                     15228\n",
            "03 THREE FAMILY DWELLINGS                    4332\n",
            "07 RENTALS - WALKUP APARTMENTS                897\n",
            "22 STORE BUILDINGS                            364\n",
            "14 RENTALS - 4-10 UNIT                        162\n",
            "21 OFFICE BUILDINGS                           115\n",
            "29 COMMERCIAL GARAGES                          88\n",
            "30 WAREHOUSES                                  66\n",
            "37 RELIGIOUS FACILITIES                        41\n",
            "27 FACTORIES                                   35\n",
            "33 EDUCATIONAL FACILITIES                      16\n",
            "41 TAX CLASS 4 - OTHER                         10\n",
            "32 HOSPITAL AND HEALTH FACILITIES               5\n",
            "38 ASYLUMS AND HOMES                            3\n",
            "34 THEATRES                                     2\n",
            "35 INDOOR PUBLIC AND CULTURAL FACILITIES        1\n",
            "06 TAX CLASS 1 - OTHER                          1\n",
            "Name: BUILDING CLASS CATEGORY, dtype: int64\n"
          ],
          "name": "stdout"
        }
      ]
    },
    {
      "cell_type": "code",
      "metadata": {
        "id": "j1FFAgM5VjQ4",
        "colab_type": "code",
        "colab": {
          "base_uri": "https://localhost:8080/",
          "height": 221
        },
        "outputId": "29987bd1-962b-44b9-c891-ff478d5c22b2"
      },
      "source": [
        "df.head(1)"
      ],
      "execution_count": 79,
      "outputs": [
        {
          "output_type": "execute_result",
          "data": {
            "text/html": [
              "<div>\n",
              "<style scoped>\n",
              "    .dataframe tbody tr th:only-of-type {\n",
              "        vertical-align: middle;\n",
              "    }\n",
              "\n",
              "    .dataframe tbody tr th {\n",
              "        vertical-align: top;\n",
              "    }\n",
              "\n",
              "    .dataframe thead th {\n",
              "        text-align: right;\n",
              "    }\n",
              "</style>\n",
              "<table border=\"1\" class=\"dataframe\">\n",
              "  <thead>\n",
              "    <tr style=\"text-align: right;\">\n",
              "      <th></th>\n",
              "      <th>BOROUGH</th>\n",
              "      <th>NEIGHBORHOOD</th>\n",
              "      <th>BUILDING CLASS CATEGORY</th>\n",
              "      <th>TAX CLASS AS OF FINAL ROLL 18/19</th>\n",
              "      <th>BLOCK</th>\n",
              "      <th>LOT</th>\n",
              "      <th>BUILDING CLASS AS OF FINAL ROLL 18/19</th>\n",
              "      <th>ADDRESS</th>\n",
              "      <th>ZIP CODE</th>\n",
              "      <th>RESIDENTIAL UNITS</th>\n",
              "      <th>COMMERCIAL UNITS</th>\n",
              "      <th>TOTAL UNITS</th>\n",
              "      <th>LAND SQUARE FEET</th>\n",
              "      <th>GROSS SQUARE FEET</th>\n",
              "      <th>YEAR BUILT</th>\n",
              "      <th>TAX CLASS AT TIME OF SALE</th>\n",
              "      <th>BUILDING CLASS AT TIME OF SALE</th>\n",
              "      <th>SALE PRICE</th>\n",
              "      <th>SALE DATE</th>\n",
              "      <th>AREA</th>\n",
              "      <th>FINAL_ADDRESS</th>\n",
              "    </tr>\n",
              "  </thead>\n",
              "  <tbody>\n",
              "    <tr>\n",
              "      <th>0</th>\n",
              "      <td>2</td>\n",
              "      <td>BATHGATE</td>\n",
              "      <td>01 ONE FAMILY DWELLINGS</td>\n",
              "      <td>1</td>\n",
              "      <td>3030</td>\n",
              "      <td>70</td>\n",
              "      <td>A1</td>\n",
              "      <td>4445 PARK AVENUE</td>\n",
              "      <td>10457.0</td>\n",
              "      <td>1.0</td>\n",
              "      <td>0.0</td>\n",
              "      <td>1.0</td>\n",
              "      <td>1694.0</td>\n",
              "      <td>1497.0</td>\n",
              "      <td>1899.0</td>\n",
              "      <td>1</td>\n",
              "      <td>A1</td>\n",
              "      <td>388500</td>\n",
              "      <td>2019-07-23</td>\n",
              "      <td>bronx</td>\n",
              "      <td>4445 PARK AVENUE NYC</td>\n",
              "    </tr>\n",
              "  </tbody>\n",
              "</table>\n",
              "</div>"
            ],
            "text/plain": [
              "   BOROUGH NEIGHBORHOOD  ...   AREA         FINAL_ADDRESS\n",
              "0        2     BATHGATE  ...  bronx  4445 PARK AVENUE NYC\n",
              "\n",
              "[1 rows x 21 columns]"
            ]
          },
          "metadata": {
            "tags": []
          },
          "execution_count": 79
        }
      ]
    },
    {
      "cell_type": "code",
      "metadata": {
        "id": "hEpUwM79Vwdw",
        "colab_type": "code",
        "colab": {
          "base_uri": "https://localhost:8080/",
          "height": 282
        },
        "outputId": "905f96c9-ddd0-4388-98e6-78d92ae05c7e"
      },
      "source": [
        "int_level = df['TAX CLASS AT TIME OF SALE'].value_counts()\n",
        "\n",
        "plt.figure(figsize=(8,4))\n",
        "sns.barplot(int_level.index, int_level.values, alpha=0.8, color=color[9])\n",
        "plt.ylabel('Number of Occurrences', fontsize=12)\n",
        "plt.xlabel('TAX CLASS AT TIME OF SALE', fontsize=12)\n",
        "plt.show()\n",
        "\n"
      ],
      "execution_count": 80,
      "outputs": [
        {
          "output_type": "display_data",
          "data": {
            "image/png": "[encoded data removed]",
            "text/plain": [
              "<Figure size 576x288 with 1 Axes>"
            ]
          },
          "metadata": {
            "tags": [],
            "needs_background": "light"
          }
        }
      ]
    },
    {
      "cell_type": "code",
      "metadata": {
        "id": "pYc90_fOVwn_",
        "colab_type": "code",
        "colab": {
          "base_uri": "https://localhost:8080/",
          "height": 87
        },
        "outputId": "e4043cc3-5b23-4a8e-b020-540b84b04016"
      },
      "source": [
        "cnt_srs = df['TAX CLASS AT TIME OF SALE'].value_counts()\n",
        "print(cnt_srs)"
      ],
      "execution_count": 81,
      "outputs": [
        {
          "output_type": "stream",
          "text": [
            "1    36591\n",
            "2     1059\n",
            "4      746\n",
            "Name: TAX CLASS AT TIME OF SALE, dtype: int64\n"
          ],
          "name": "stdout"
        }
      ]
    },
    {
      "cell_type": "code",
      "metadata": {
        "id": "Ym5x56qaVwxP",
        "colab_type": "code",
        "colab": {
          "base_uri": "https://localhost:8080/",
          "height": 334
        },
        "outputId": "86e70a08-083a-4175-c2a8-ee6f69d9a5a2"
      },
      "source": [
        "df.loc[df['TAX CLASS AT TIME OF SALE'] == 4].head(3)"
      ],
      "execution_count": 82,
      "outputs": [
        {
          "output_type": "execute_result",
          "data": {
            "text/html": [
              "<div>\n",
              "<style scoped>\n",
              "    .dataframe tbody tr th:only-of-type {\n",
              "        vertical-align: middle;\n",
              "    }\n",
              "\n",
              "    .dataframe tbody tr th {\n",
              "        vertical-align: top;\n",
              "    }\n",
              "\n",
              "    .dataframe thead th {\n",
              "        text-align: right;\n",
              "    }\n",
              "</style>\n",
              "<table border=\"1\" class=\"dataframe\">\n",
              "  <thead>\n",
              "    <tr style=\"text-align: right;\">\n",
              "      <th></th>\n",
              "      <th>BOROUGH</th>\n",
              "      <th>NEIGHBORHOOD</th>\n",
              "      <th>BUILDING CLASS CATEGORY</th>\n",
              "      <th>TAX CLASS AS OF FINAL ROLL 18/19</th>\n",
              "      <th>BLOCK</th>\n",
              "      <th>LOT</th>\n",
              "      <th>BUILDING CLASS AS OF FINAL ROLL 18/19</th>\n",
              "      <th>ADDRESS</th>\n",
              "      <th>ZIP CODE</th>\n",
              "      <th>RESIDENTIAL UNITS</th>\n",
              "      <th>COMMERCIAL UNITS</th>\n",
              "      <th>TOTAL UNITS</th>\n",
              "      <th>LAND SQUARE FEET</th>\n",
              "      <th>GROSS SQUARE FEET</th>\n",
              "      <th>YEAR BUILT</th>\n",
              "      <th>TAX CLASS AT TIME OF SALE</th>\n",
              "      <th>BUILDING CLASS AT TIME OF SALE</th>\n",
              "      <th>SALE PRICE</th>\n",
              "      <th>SALE DATE</th>\n",
              "      <th>AREA</th>\n",
              "      <th>FINAL_ADDRESS</th>\n",
              "    </tr>\n",
              "  </thead>\n",
              "  <tbody>\n",
              "    <tr>\n",
              "      <th>50</th>\n",
              "      <td>2</td>\n",
              "      <td>BATHGATE</td>\n",
              "      <td>22 STORE BUILDINGS</td>\n",
              "      <td>4</td>\n",
              "      <td>3039</td>\n",
              "      <td>21</td>\n",
              "      <td>K1</td>\n",
              "      <td>2345 WASHINGTON AVENUE</td>\n",
              "      <td>10458.0</td>\n",
              "      <td>0.0</td>\n",
              "      <td>1.0</td>\n",
              "      <td>1.0</td>\n",
              "      <td>4239.0</td>\n",
              "      <td>4239.0</td>\n",
              "      <td>1931.0</td>\n",
              "      <td>4</td>\n",
              "      <td>K1</td>\n",
              "      <td>1500000</td>\n",
              "      <td>2019-01-10</td>\n",
              "      <td>bronx</td>\n",
              "      <td>2345 WASHINGTON AVENUE NYC</td>\n",
              "    </tr>\n",
              "    <tr>\n",
              "      <th>57</th>\n",
              "      <td>2</td>\n",
              "      <td>BATHGATE</td>\n",
              "      <td>29 COMMERCIAL GARAGES</td>\n",
              "      <td>4</td>\n",
              "      <td>3029</td>\n",
              "      <td>26</td>\n",
              "      <td>G2</td>\n",
              "      <td>2090 WEBSTER AVENUE</td>\n",
              "      <td>10457.0</td>\n",
              "      <td>0.0</td>\n",
              "      <td>1.0</td>\n",
              "      <td>1.0</td>\n",
              "      <td>4360.0</td>\n",
              "      <td>1200.0</td>\n",
              "      <td>1996.0</td>\n",
              "      <td>4</td>\n",
              "      <td>G2</td>\n",
              "      <td>0</td>\n",
              "      <td>2019-09-04</td>\n",
              "      <td>bronx</td>\n",
              "      <td>2090 WEBSTER AVENUE NYC</td>\n",
              "    </tr>\n",
              "    <tr>\n",
              "      <th>62</th>\n",
              "      <td>2</td>\n",
              "      <td>BATHGATE</td>\n",
              "      <td>30 WAREHOUSES</td>\n",
              "      <td>4</td>\n",
              "      <td>2899</td>\n",
              "      <td>34</td>\n",
              "      <td>E1</td>\n",
              "      <td>407 EAST 174 STREET</td>\n",
              "      <td>10457.0</td>\n",
              "      <td>0.0</td>\n",
              "      <td>1.0</td>\n",
              "      <td>1.0</td>\n",
              "      <td>3439.0</td>\n",
              "      <td>3320.0</td>\n",
              "      <td>1955.0</td>\n",
              "      <td>4</td>\n",
              "      <td>E1</td>\n",
              "      <td>880000</td>\n",
              "      <td>2019-03-12</td>\n",
              "      <td>bronx</td>\n",
              "      <td>407 EAST 174 STREET NYC</td>\n",
              "    </tr>\n",
              "  </tbody>\n",
              "</table>\n",
              "</div>"
            ],
            "text/plain": [
              "    BOROUGH NEIGHBORHOOD  ...   AREA               FINAL_ADDRESS\n",
              "50        2     BATHGATE  ...  bronx  2345 WASHINGTON AVENUE NYC\n",
              "57        2     BATHGATE  ...  bronx     2090 WEBSTER AVENUE NYC\n",
              "62        2     BATHGATE  ...  bronx     407 EAST 174 STREET NYC\n",
              "\n",
              "[3 rows x 21 columns]"
            ]
          },
          "metadata": {
            "tags": []
          },
          "execution_count": 82
        }
      ]
    },
    {
      "cell_type": "code",
      "metadata": {
        "id": "OZt8_NTlXKi3",
        "colab_type": "code",
        "colab": {
          "base_uri": "https://localhost:8080/",
          "height": 851
        },
        "outputId": "af43fe0c-1f06-49f1-fe05-15311d0e3eeb"
      },
      "source": [
        "df.loc[df['TAX CLASS AT TIME OF SALE'] == 2]"
      ],
      "execution_count": 83,
      "outputs": [
        {
          "output_type": "execute_result",
          "data": {
            "text/html": [
              "<div>\n",
              "<style scoped>\n",
              "    .dataframe tbody tr th:only-of-type {\n",
              "        vertical-align: middle;\n",
              "    }\n",
              "\n",
              "    .dataframe tbody tr th {\n",
              "        vertical-align: top;\n",
              "    }\n",
              "\n",
              "    .dataframe thead th {\n",
              "        text-align: right;\n",
              "    }\n",
              "</style>\n",
              "<table border=\"1\" class=\"dataframe\">\n",
              "  <thead>\n",
              "    <tr style=\"text-align: right;\">\n",
              "      <th></th>\n",
              "      <th>BOROUGH</th>\n",
              "      <th>NEIGHBORHOOD</th>\n",
              "      <th>BUILDING CLASS CATEGORY</th>\n",
              "      <th>TAX CLASS AS OF FINAL ROLL 18/19</th>\n",
              "      <th>BLOCK</th>\n",
              "      <th>LOT</th>\n",
              "      <th>BUILDING CLASS AS OF FINAL ROLL 18/19</th>\n",
              "      <th>ADDRESS</th>\n",
              "      <th>ZIP CODE</th>\n",
              "      <th>RESIDENTIAL UNITS</th>\n",
              "      <th>COMMERCIAL UNITS</th>\n",
              "      <th>TOTAL UNITS</th>\n",
              "      <th>LAND SQUARE FEET</th>\n",
              "      <th>GROSS SQUARE FEET</th>\n",
              "      <th>YEAR BUILT</th>\n",
              "      <th>TAX CLASS AT TIME OF SALE</th>\n",
              "      <th>BUILDING CLASS AT TIME OF SALE</th>\n",
              "      <th>SALE PRICE</th>\n",
              "      <th>SALE DATE</th>\n",
              "      <th>AREA</th>\n",
              "      <th>FINAL_ADDRESS</th>\n",
              "    </tr>\n",
              "  </thead>\n",
              "  <tbody>\n",
              "    <tr>\n",
              "      <th>592</th>\n",
              "      <td>2</td>\n",
              "      <td>BAYCHESTER</td>\n",
              "      <td>07 RENTALS - WALKUP APARTMENTS</td>\n",
              "      <td>2A</td>\n",
              "      <td>4736</td>\n",
              "      <td>8</td>\n",
              "      <td>C3</td>\n",
              "      <td>3359 SEYMOUR AVENUE</td>\n",
              "      <td>10469.0</td>\n",
              "      <td>4.0</td>\n",
              "      <td>0.0</td>\n",
              "      <td>4.0</td>\n",
              "      <td>2567.0</td>\n",
              "      <td>3378.0</td>\n",
              "      <td>1934.0</td>\n",
              "      <td>2</td>\n",
              "      <td>C3</td>\n",
              "      <td>640000</td>\n",
              "      <td>2019-10-31</td>\n",
              "      <td>bronx</td>\n",
              "      <td>3359 SEYMOUR AVENUE NYC</td>\n",
              "    </tr>\n",
              "    <tr>\n",
              "      <th>593</th>\n",
              "      <td>2</td>\n",
              "      <td>BAYCHESTER</td>\n",
              "      <td>07 RENTALS - WALKUP APARTMENTS</td>\n",
              "      <td>2A</td>\n",
              "      <td>4762</td>\n",
              "      <td>89</td>\n",
              "      <td>C3</td>\n",
              "      <td>3017 EASTCHESTER ROAD</td>\n",
              "      <td>10469.0</td>\n",
              "      <td>4.0</td>\n",
              "      <td>0.0</td>\n",
              "      <td>4.0</td>\n",
              "      <td>1180.0</td>\n",
              "      <td>3300.0</td>\n",
              "      <td>1931.0</td>\n",
              "      <td>2</td>\n",
              "      <td>C3</td>\n",
              "      <td>750000</td>\n",
              "      <td>2019-02-15</td>\n",
              "      <td>bronx</td>\n",
              "      <td>3017 EASTCHESTER ROAD NYC</td>\n",
              "    </tr>\n",
              "    <tr>\n",
              "      <th>602</th>\n",
              "      <td>2</td>\n",
              "      <td>BAYCHESTER</td>\n",
              "      <td>14 RENTALS - 4-10 UNIT</td>\n",
              "      <td>2A</td>\n",
              "      <td>4762</td>\n",
              "      <td>40</td>\n",
              "      <td>S3</td>\n",
              "      <td>3061 EASTCHESTER ROAD</td>\n",
              "      <td>10469.0</td>\n",
              "      <td>3.0</td>\n",
              "      <td>1.0</td>\n",
              "      <td>4.0</td>\n",
              "      <td>3129.0</td>\n",
              "      <td>3296.0</td>\n",
              "      <td>1931.0</td>\n",
              "      <td>2</td>\n",
              "      <td>S3</td>\n",
              "      <td>750000</td>\n",
              "      <td>2019-01-15</td>\n",
              "      <td>bronx</td>\n",
              "      <td>3061 EASTCHESTER ROAD NYC</td>\n",
              "    </tr>\n",
              "    <tr>\n",
              "      <th>758</th>\n",
              "      <td>2</td>\n",
              "      <td>BEDFORD PARK/NORWOOD</td>\n",
              "      <td>07 RENTALS - WALKUP APARTMENTS</td>\n",
              "      <td>2A</td>\n",
              "      <td>3318</td>\n",
              "      <td>86</td>\n",
              "      <td>C3</td>\n",
              "      <td>2792 MORRIS AVENUE</td>\n",
              "      <td>10468.0</td>\n",
              "      <td>4.0</td>\n",
              "      <td>0.0</td>\n",
              "      <td>4.0</td>\n",
              "      <td>2381.0</td>\n",
              "      <td>3040.0</td>\n",
              "      <td>1925.0</td>\n",
              "      <td>2</td>\n",
              "      <td>C3</td>\n",
              "      <td>875000</td>\n",
              "      <td>2019-03-28</td>\n",
              "      <td>bronx</td>\n",
              "      <td>2792 MORRIS AVENUE NYC</td>\n",
              "    </tr>\n",
              "    <tr>\n",
              "      <th>765</th>\n",
              "      <td>2</td>\n",
              "      <td>BEDFORD PARK/NORWOOD</td>\n",
              "      <td>07 RENTALS - WALKUP APARTMENTS</td>\n",
              "      <td>2A</td>\n",
              "      <td>3336</td>\n",
              "      <td>67</td>\n",
              "      <td>C3</td>\n",
              "      <td>108 EAST 208 STREET</td>\n",
              "      <td>10467.0</td>\n",
              "      <td>4.0</td>\n",
              "      <td>0.0</td>\n",
              "      <td>4.0</td>\n",
              "      <td>3822.0</td>\n",
              "      <td>3496.0</td>\n",
              "      <td>1925.0</td>\n",
              "      <td>2</td>\n",
              "      <td>C3</td>\n",
              "      <td>800000</td>\n",
              "      <td>2019-10-18</td>\n",
              "      <td>bronx</td>\n",
              "      <td>108 EAST 208 STREET NYC</td>\n",
              "    </tr>\n",
              "    <tr>\n",
              "      <th>...</th>\n",
              "      <td>...</td>\n",
              "      <td>...</td>\n",
              "      <td>...</td>\n",
              "      <td>...</td>\n",
              "      <td>...</td>\n",
              "      <td>...</td>\n",
              "      <td>...</td>\n",
              "      <td>...</td>\n",
              "      <td>...</td>\n",
              "      <td>...</td>\n",
              "      <td>...</td>\n",
              "      <td>...</td>\n",
              "      <td>...</td>\n",
              "      <td>...</td>\n",
              "      <td>...</td>\n",
              "      <td>...</td>\n",
              "      <td>...</td>\n",
              "      <td>...</td>\n",
              "      <td>...</td>\n",
              "      <td>...</td>\n",
              "      <td>...</td>\n",
              "    </tr>\n",
              "    <tr>\n",
              "      <th>6847</th>\n",
              "      <td>5</td>\n",
              "      <td>STAPLETON</td>\n",
              "      <td>07 RENTALS - WALKUP APARTMENTS</td>\n",
              "      <td>2A</td>\n",
              "      <td>563</td>\n",
              "      <td>108</td>\n",
              "      <td>C3</td>\n",
              "      <td>244 GORDON STREET</td>\n",
              "      <td>10304.0</td>\n",
              "      <td>4.0</td>\n",
              "      <td>0.0</td>\n",
              "      <td>4.0</td>\n",
              "      <td>5600.0</td>\n",
              "      <td>2626.0</td>\n",
              "      <td>1931.0</td>\n",
              "      <td>2</td>\n",
              "      <td>C3</td>\n",
              "      <td>623301</td>\n",
              "      <td>2019-08-27</td>\n",
              "      <td>statenisland</td>\n",
              "      <td>244 GORDON STREET NYC</td>\n",
              "    </tr>\n",
              "    <tr>\n",
              "      <th>6848</th>\n",
              "      <td>5</td>\n",
              "      <td>STAPLETON</td>\n",
              "      <td>07 RENTALS - WALKUP APARTMENTS</td>\n",
              "      <td>2A</td>\n",
              "      <td>611</td>\n",
              "      <td>40</td>\n",
              "      <td>C3</td>\n",
              "      <td>25 PEARL STREET</td>\n",
              "      <td>10304.0</td>\n",
              "      <td>4.0</td>\n",
              "      <td>0.0</td>\n",
              "      <td>4.0</td>\n",
              "      <td>4312.0</td>\n",
              "      <td>3800.0</td>\n",
              "      <td>1930.0</td>\n",
              "      <td>2</td>\n",
              "      <td>C3</td>\n",
              "      <td>0</td>\n",
              "      <td>2019-05-10</td>\n",
              "      <td>statenisland</td>\n",
              "      <td>25 PEARL STREET NYC</td>\n",
              "    </tr>\n",
              "    <tr>\n",
              "      <th>7331</th>\n",
              "      <td>5</td>\n",
              "      <td>TOTTENVILLE</td>\n",
              "      <td>14 RENTALS - 4-10 UNIT</td>\n",
              "      <td>2A</td>\n",
              "      <td>8026</td>\n",
              "      <td>11</td>\n",
              "      <td>S9</td>\n",
              "      <td>161 MAIN STREET</td>\n",
              "      <td>10307.0</td>\n",
              "      <td>2.0</td>\n",
              "      <td>2.0</td>\n",
              "      <td>4.0</td>\n",
              "      <td>6572.0</td>\n",
              "      <td>2000.0</td>\n",
              "      <td>1931.0</td>\n",
              "      <td>2</td>\n",
              "      <td>S9</td>\n",
              "      <td>0</td>\n",
              "      <td>2019-04-26</td>\n",
              "      <td>statenisland</td>\n",
              "      <td>161 MAIN STREET NYC</td>\n",
              "    </tr>\n",
              "    <tr>\n",
              "      <th>7417</th>\n",
              "      <td>5</td>\n",
              "      <td>TRAVIS</td>\n",
              "      <td>07 RENTALS - WALKUP APARTMENTS</td>\n",
              "      <td>2A</td>\n",
              "      <td>2627</td>\n",
              "      <td>59</td>\n",
              "      <td>C3</td>\n",
              "      <td>29 SHELLEY AVENUE</td>\n",
              "      <td>10314.0</td>\n",
              "      <td>4.0</td>\n",
              "      <td>0.0</td>\n",
              "      <td>4.0</td>\n",
              "      <td>2500.0</td>\n",
              "      <td>1512.0</td>\n",
              "      <td>1931.0</td>\n",
              "      <td>2</td>\n",
              "      <td>C3</td>\n",
              "      <td>395000</td>\n",
              "      <td>2019-05-02</td>\n",
              "      <td>statenisland</td>\n",
              "      <td>29 SHELLEY AVENUE NYC</td>\n",
              "    </tr>\n",
              "    <tr>\n",
              "      <th>7708</th>\n",
              "      <td>5</td>\n",
              "      <td>WEST NEW BRIGHTON</td>\n",
              "      <td>07 RENTALS - WALKUP APARTMENTS</td>\n",
              "      <td>2A</td>\n",
              "      <td>178</td>\n",
              "      <td>17</td>\n",
              "      <td>C3</td>\n",
              "      <td>52 BRITTON STREET, 5</td>\n",
              "      <td>10310.0</td>\n",
              "      <td>4.0</td>\n",
              "      <td>0.0</td>\n",
              "      <td>4.0</td>\n",
              "      <td>3500.0</td>\n",
              "      <td>2990.0</td>\n",
              "      <td>1931.0</td>\n",
              "      <td>2</td>\n",
              "      <td>C3</td>\n",
              "      <td>0</td>\n",
              "      <td>2019-09-16</td>\n",
              "      <td>statenisland</td>\n",
              "      <td>52 BRITTON STREET, 5 NYC</td>\n",
              "    </tr>\n",
              "  </tbody>\n",
              "</table>\n",
              "<p>1059 rows × 21 columns</p>\n",
              "</div>"
            ],
            "text/plain": [
              "      BOROUGH          NEIGHBORHOOD  ...          AREA              FINAL_ADDRESS\n",
              "592         2            BAYCHESTER  ...         bronx    3359 SEYMOUR AVENUE NYC\n",
              "593         2            BAYCHESTER  ...         bronx  3017 EASTCHESTER ROAD NYC\n",
              "602         2            BAYCHESTER  ...         bronx  3061 EASTCHESTER ROAD NYC\n",
              "758         2  BEDFORD PARK/NORWOOD  ...         bronx     2792 MORRIS AVENUE NYC\n",
              "765         2  BEDFORD PARK/NORWOOD  ...         bronx    108 EAST 208 STREET NYC\n",
              "...       ...                   ...  ...           ...                        ...\n",
              "6847        5             STAPLETON  ...  statenisland      244 GORDON STREET NYC\n",
              "6848        5             STAPLETON  ...  statenisland        25 PEARL STREET NYC\n",
              "7331        5           TOTTENVILLE  ...  statenisland        161 MAIN STREET NYC\n",
              "7417        5                TRAVIS  ...  statenisland      29 SHELLEY AVENUE NYC\n",
              "7708        5     WEST NEW BRIGHTON  ...  statenisland   52 BRITTON STREET, 5 NYC\n",
              "\n",
              "[1059 rows x 21 columns]"
            ]
          },
          "metadata": {
            "tags": []
          },
          "execution_count": 83
        }
      ]
    },
    {
      "cell_type": "code",
      "metadata": {
        "id": "khichrkOVw5O",
        "colab_type": "code",
        "colab": {
          "base_uri": "https://localhost:8080/",
          "height": 402
        },
        "outputId": "5bb8406b-113b-4878-9367-0c994e1d5a84"
      },
      "source": [
        "plt.figure(figsize=(8,6))\n",
        "sns.distplot(df['SALE PRICE'].values, bins=50, kde=True)\n",
        "plt.xlabel('price', fontsize=12)\n",
        "plt.show()"
      ],
      "execution_count": 84,
      "outputs": [
        {
          "output_type": "display_data",
          "data": {
            "image/png": "[encoded data removed]",
            "text/plain": [
              "<Figure size 576x432 with 1 Axes>"
            ]
          },
          "metadata": {
            "tags": [],
            "needs_background": "light"
          }
        }
      ]
    },
    {
      "cell_type": "code",
      "metadata": {
        "id": "nCPh48SuZT5w",
        "colab_type": "code",
        "colab": {
          "base_uri": "https://localhost:8080/",
          "height": 225
        },
        "outputId": "41e923f3-3066-435d-caf3-ed138f5088b6"
      },
      "source": [
        "cnt_srs = df['SALE PRICE'].value_counts()\n",
        "print(cnt_srs)"
      ],
      "execution_count": 85,
      "outputs": [
        {
          "output_type": "stream",
          "text": [
            "0          15257\n",
            "10           592\n",
            "650000       288\n",
            "600000       253\n",
            "800000       247\n",
            "           ...  \n",
            "1071000        1\n",
            "331667         1\n",
            "1320822        1\n",
            "1046348        1\n",
            "716466         1\n",
            "Name: SALE PRICE, Length: 3637, dtype: int64\n"
          ],
          "name": "stdout"
        }
      ]
    },
    {
      "cell_type": "code",
      "metadata": {
        "id": "qf9nGIhsZUBk",
        "colab_type": "code",
        "colab": {}
      },
      "source": [
        "df = df[df['SALE PRICE'] > 5000]"
      ],
      "execution_count": 169,
      "outputs": []
    },
    {
      "cell_type": "code",
      "metadata": {
        "id": "02P-EOy6ZUI4",
        "colab_type": "code",
        "colab": {
          "base_uri": "https://localhost:8080/",
          "height": 35
        },
        "outputId": "7f22644b-5911-4d7c-9890-90878a5d392c"
      },
      "source": [
        "cnt_srs = df['SALE PRICE']\n",
        "print(np.sort(cnt_srs))"
      ],
      "execution_count": 87,
      "outputs": [
        {
          "output_type": "stream",
          "text": [
            "[   5314    5357    6200 ... 2999990 2999990 2999999]\n"
          ],
          "name": "stdout"
        }
      ]
    },
    {
      "cell_type": "code",
      "metadata": {
        "id": "m0VwQf02Z_rR",
        "colab_type": "code",
        "colab": {
          "base_uri": "https://localhost:8080/",
          "height": 402
        },
        "outputId": "08923033-8000-4f6d-8e02-71a00819d1e5"
      },
      "source": [
        "plt.figure(figsize=(8,6))\n",
        "sns.distplot(df['SALE PRICE'].values, bins=50, kde=True)\n",
        "plt.xlabel('price', fontsize=12)\n",
        "plt.show()"
      ],
      "execution_count": 88,
      "outputs": [
        {
          "output_type": "display_data",
          "data": {
            "image/png": "[encoded data removed]",
            "text/plain": [
              "<Figure size 576x432 with 1 Axes>"
            ]
          },
          "metadata": {
            "tags": [],
            "needs_background": "light"
          }
        }
      ]
    },
    {
      "cell_type": "code",
      "metadata": {
        "id": "ZEBn-DmBaPYI",
        "colab_type": "code",
        "colab": {
          "base_uri": "https://localhost:8080/",
          "height": 35
        },
        "outputId": "a30f687b-b982-4792-caca-4355a0548746"
      },
      "source": [
        "print(f'Train data has {df.shape[0]} rows and {df.shape[1]} colummns')"
      ],
      "execution_count": 89,
      "outputs": [
        {
          "output_type": "stream",
          "text": [
            "Train data has 22253 rows and 21 colummns\n"
          ],
          "name": "stdout"
        }
      ]
    },
    {
      "cell_type": "code",
      "metadata": {
        "id": "MrkPpReNaR9F",
        "colab_type": "code",
        "colab": {
          "base_uri": "https://localhost:8080/",
          "height": 221
        },
        "outputId": "b91e0917-588a-44dd-8249-b0a3105f2565"
      },
      "source": [
        "df.head(1)"
      ],
      "execution_count": 90,
      "outputs": [
        {
          "output_type": "execute_result",
          "data": {
            "text/html": [
              "<div>\n",
              "<style scoped>\n",
              "    .dataframe tbody tr th:only-of-type {\n",
              "        vertical-align: middle;\n",
              "    }\n",
              "\n",
              "    .dataframe tbody tr th {\n",
              "        vertical-align: top;\n",
              "    }\n",
              "\n",
              "    .dataframe thead th {\n",
              "        text-align: right;\n",
              "    }\n",
              "</style>\n",
              "<table border=\"1\" class=\"dataframe\">\n",
              "  <thead>\n",
              "    <tr style=\"text-align: right;\">\n",
              "      <th></th>\n",
              "      <th>BOROUGH</th>\n",
              "      <th>NEIGHBORHOOD</th>\n",
              "      <th>BUILDING CLASS CATEGORY</th>\n",
              "      <th>TAX CLASS AS OF FINAL ROLL 18/19</th>\n",
              "      <th>BLOCK</th>\n",
              "      <th>LOT</th>\n",
              "      <th>BUILDING CLASS AS OF FINAL ROLL 18/19</th>\n",
              "      <th>ADDRESS</th>\n",
              "      <th>ZIP CODE</th>\n",
              "      <th>RESIDENTIAL UNITS</th>\n",
              "      <th>COMMERCIAL UNITS</th>\n",
              "      <th>TOTAL UNITS</th>\n",
              "      <th>LAND SQUARE FEET</th>\n",
              "      <th>GROSS SQUARE FEET</th>\n",
              "      <th>YEAR BUILT</th>\n",
              "      <th>TAX CLASS AT TIME OF SALE</th>\n",
              "      <th>BUILDING CLASS AT TIME OF SALE</th>\n",
              "      <th>SALE PRICE</th>\n",
              "      <th>SALE DATE</th>\n",
              "      <th>AREA</th>\n",
              "      <th>FINAL_ADDRESS</th>\n",
              "    </tr>\n",
              "  </thead>\n",
              "  <tbody>\n",
              "    <tr>\n",
              "      <th>0</th>\n",
              "      <td>2</td>\n",
              "      <td>BATHGATE</td>\n",
              "      <td>01 ONE FAMILY DWELLINGS</td>\n",
              "      <td>1</td>\n",
              "      <td>3030</td>\n",
              "      <td>70</td>\n",
              "      <td>A1</td>\n",
              "      <td>4445 PARK AVENUE</td>\n",
              "      <td>10457.0</td>\n",
              "      <td>1.0</td>\n",
              "      <td>0.0</td>\n",
              "      <td>1.0</td>\n",
              "      <td>1694.0</td>\n",
              "      <td>1497.0</td>\n",
              "      <td>1899.0</td>\n",
              "      <td>1</td>\n",
              "      <td>A1</td>\n",
              "      <td>388500</td>\n",
              "      <td>2019-07-23</td>\n",
              "      <td>bronx</td>\n",
              "      <td>4445 PARK AVENUE NYC</td>\n",
              "    </tr>\n",
              "  </tbody>\n",
              "</table>\n",
              "</div>"
            ],
            "text/plain": [
              "   BOROUGH NEIGHBORHOOD  ...   AREA         FINAL_ADDRESS\n",
              "0        2     BATHGATE  ...  bronx  4445 PARK AVENUE NYC\n",
              "\n",
              "[1 rows x 21 columns]"
            ]
          },
          "metadata": {
            "tags": []
          },
          "execution_count": 90
        }
      ]
    },
    {
      "cell_type": "code",
      "metadata": {
        "id": "kPzdyuSBafOk",
        "colab_type": "code",
        "colab": {
          "base_uri": "https://localhost:8080/",
          "height": 282
        },
        "outputId": "5a973429-2a60-40d6-b6ac-30a305aad3c4"
      },
      "source": [
        "int_level = df['BUILDING CLASS AT TIME OF SALE'].value_counts()\n",
        "\n",
        "plt.figure(figsize=(8,4))\n",
        "sns.barplot(int_level.index, int_level.values, alpha=0.8, color=color[9])\n",
        "plt.ylabel('Number of Occurrences', fontsize=12)\n",
        "plt.xlabel('BUILDING CLASS AT TIME OF SALE', fontsize=12)\n",
        "plt.show()\n"
      ],
      "execution_count": 91,
      "outputs": [
        {
          "output_type": "display_data",
          "data": {
            "image/png": "[encoded data removed]",
            "text/plain": [
              "<Figure size 576x288 with 1 Axes>"
            ]
          },
          "metadata": {
            "tags": [],
            "needs_background": "light"
          }
        }
      ]
    },
    {
      "cell_type": "code",
      "metadata": {
        "id": "NlaQPQR3a35H",
        "colab_type": "code",
        "colab": {
          "base_uri": "https://localhost:8080/",
          "height": 1000
        },
        "outputId": "fb28aaf5-3ff8-4b88-8d85-7e847376bea2"
      },
      "source": [
        "cnt_srs = df['BUILDING CLASS AT TIME OF SALE'].value_counts()\n",
        "print(cnt_srs)"
      ],
      "execution_count": 92,
      "outputs": [
        {
          "output_type": "stream",
          "text": [
            "A1    4300\n",
            "A5    3482\n",
            "B2    2723\n",
            "B1    2483\n",
            "B3    2161\n",
            "C0    2010\n",
            "A2    1676\n",
            "A9     828\n",
            "B9     814\n",
            "C3     366\n",
            "A0     293\n",
            "S2     268\n",
            "S1     135\n",
            "A3     110\n",
            "K1      76\n",
            "A4      71\n",
            "K4      66\n",
            "S3      55\n",
            "A6      50\n",
            "K2      42\n",
            "S9      22\n",
            "G2      21\n",
            "O7      21\n",
            "M1      18\n",
            "E1      17\n",
            "O2      13\n",
            "O8      12\n",
            "G9      11\n",
            "G1      11\n",
            "F5       9\n",
            "M9       9\n",
            "F4       7\n",
            "E2       7\n",
            "O1       7\n",
            "O5       6\n",
            "W9       5\n",
            "O9       5\n",
            "E9       5\n",
            "Z9       5\n",
            "C5       4\n",
            "K5       3\n",
            "W8       2\n",
            "W2       2\n",
            "C4       2\n",
            "GU       2\n",
            "A7       2\n",
            "N9       2\n",
            "S0       2\n",
            "F1       2\n",
            "M4       1\n",
            "W3       1\n",
            "I9       1\n",
            "J1       1\n",
            "G0       1\n",
            "F9       1\n",
            "G3       1\n",
            "K7       1\n",
            "K9       1\n",
            "I5       1\n",
            "Name: BUILDING CLASS AT TIME OF SALE, dtype: int64\n"
          ],
          "name": "stdout"
        }
      ]
    },
    {
      "cell_type": "code",
      "metadata": {
        "id": "oIEqzL-bo4v8",
        "colab_type": "code",
        "colab": {}
      },
      "source": [
        "# split the data into train and test set\n",
        "df_train, df_test = train_test_split(df, test_size=0.2, random_state=42, shuffle=True)"
      ],
      "execution_count": 170,
      "outputs": []
    },
    {
      "cell_type": "code",
      "metadata": {
        "id": "6Cvd-JoQvoRf",
        "colab_type": "code",
        "colab": {}
      },
      "source": [
        "train_target = df_train['SALE PRICE']\n",
        "df_train = df_train.drop(['SALE PRICE'], axis=1)\n",
        "\n",
        "test_target = df_test['SALE PRICE']\n",
        "df_test = df_test.drop(['SALE PRICE'], axis=1)\n"
      ],
      "execution_count": 171,
      "outputs": []
    },
    {
      "cell_type": "code",
      "metadata": {
        "id": "-8imdlKCqwwS",
        "colab_type": "code",
        "colab": {
          "base_uri": "https://localhost:8080/",
          "height": 52
        },
        "outputId": "2f3a995c-adf4-4788-e648-5a3f600a34ae"
      },
      "source": [
        "print(f'Train data has {df_train.shape[0]} rows and {df_train.shape[1]} colummns')\n",
        "print(f'Test data has {df_test.shape[0]} rows and {df_test.shape[1]} colummns')"
      ],
      "execution_count": 172,
      "outputs": [
        {
          "output_type": "stream",
          "text": [
            "Train data has 17802 rows and 20 colummns\n",
            "Test data has 4451 rows and 20 colummns\n"
          ],
          "name": "stdout"
        }
      ]
    },
    {
      "cell_type": "code",
      "metadata": {
        "id": "yYKEnjM4mvph",
        "colab_type": "code",
        "colab": {
          "base_uri": "https://localhost:8080/",
          "height": 499
        },
        "outputId": "f9f35723-2cdb-426c-c269-818c4e239eff"
      },
      "source": [
        "df_train.head(5)"
      ],
      "execution_count": 204,
      "outputs": [
        {
          "output_type": "execute_result",
          "data": {
            "text/html": [
              "<div>\n",
              "<style scoped>\n",
              "    .dataframe tbody tr th:only-of-type {\n",
              "        vertical-align: middle;\n",
              "    }\n",
              "\n",
              "    .dataframe tbody tr th {\n",
              "        vertical-align: top;\n",
              "    }\n",
              "\n",
              "    .dataframe thead th {\n",
              "        text-align: right;\n",
              "    }\n",
              "</style>\n",
              "<table border=\"1\" class=\"dataframe\">\n",
              "  <thead>\n",
              "    <tr style=\"text-align: right;\">\n",
              "      <th></th>\n",
              "      <th>BOROUGH</th>\n",
              "      <th>NEIGHBORHOOD</th>\n",
              "      <th>BUILDING CLASS CATEGORY</th>\n",
              "      <th>TAX CLASS AS OF FINAL ROLL 18/19</th>\n",
              "      <th>BLOCK</th>\n",
              "      <th>LOT</th>\n",
              "      <th>BUILDING CLASS AS OF FINAL ROLL 18/19</th>\n",
              "      <th>ADDRESS</th>\n",
              "      <th>ZIP CODE</th>\n",
              "      <th>RESIDENTIAL UNITS</th>\n",
              "      <th>COMMERCIAL UNITS</th>\n",
              "      <th>TOTAL UNITS</th>\n",
              "      <th>LAND SQUARE FEET</th>\n",
              "      <th>GROSS SQUARE FEET</th>\n",
              "      <th>YEAR BUILT</th>\n",
              "      <th>TAX CLASS AT TIME OF SALE</th>\n",
              "      <th>BUILDING CLASS AT TIME OF SALE</th>\n",
              "      <th>SALE DATE</th>\n",
              "      <th>AREA</th>\n",
              "      <th>FINAL_ADDRESS</th>\n",
              "    </tr>\n",
              "  </thead>\n",
              "  <tbody>\n",
              "    <tr>\n",
              "      <th>7857</th>\n",
              "      <td>2</td>\n",
              "      <td>WILLIAMSBRIDGE</td>\n",
              "      <td>02 TWO FAMILY DWELLINGS</td>\n",
              "      <td>1</td>\n",
              "      <td>4696</td>\n",
              "      <td>10</td>\n",
              "      <td>B1</td>\n",
              "      <td>1043 EAST 213 STREET</td>\n",
              "      <td>10469.0</td>\n",
              "      <td>2.0</td>\n",
              "      <td>0.0</td>\n",
              "      <td>2.0</td>\n",
              "      <td>1942.0</td>\n",
              "      <td>1440.0</td>\n",
              "      <td>1945.0</td>\n",
              "      <td>1</td>\n",
              "      <td>B1</td>\n",
              "      <td>2019-02-15</td>\n",
              "      <td>bronx</td>\n",
              "      <td>1043 EAST 213 STREET NYC</td>\n",
              "    </tr>\n",
              "    <tr>\n",
              "      <th>11463</th>\n",
              "      <td>3</td>\n",
              "      <td>FLATBUSH-CENTRAL</td>\n",
              "      <td>01 ONE FAMILY DWELLINGS</td>\n",
              "      <td>1</td>\n",
              "      <td>5143</td>\n",
              "      <td>66</td>\n",
              "      <td>A1</td>\n",
              "      <td>322 ARGYLE ROAD</td>\n",
              "      <td>11218.0</td>\n",
              "      <td>1.0</td>\n",
              "      <td>0.0</td>\n",
              "      <td>1.0</td>\n",
              "      <td>5000.0</td>\n",
              "      <td>1877.0</td>\n",
              "      <td>1899.0</td>\n",
              "      <td>1</td>\n",
              "      <td>A1</td>\n",
              "      <td>2019-02-04</td>\n",
              "      <td>brooklyn</td>\n",
              "      <td>322 ARGYLE ROAD NYC</td>\n",
              "    </tr>\n",
              "    <tr>\n",
              "      <th>20465</th>\n",
              "      <td>4</td>\n",
              "      <td>RICHMOND HILL</td>\n",
              "      <td>03 THREE FAMILY DWELLINGS</td>\n",
              "      <td>1</td>\n",
              "      <td>9274</td>\n",
              "      <td>99</td>\n",
              "      <td>C0</td>\n",
              "      <td>86-03 120TH STREET</td>\n",
              "      <td>11418.0</td>\n",
              "      <td>3.0</td>\n",
              "      <td>0.0</td>\n",
              "      <td>3.0</td>\n",
              "      <td>4000.0</td>\n",
              "      <td>2096.0</td>\n",
              "      <td>1925.0</td>\n",
              "      <td>1</td>\n",
              "      <td>C0</td>\n",
              "      <td>2019-10-28</td>\n",
              "      <td>queens</td>\n",
              "      <td>86-03 120TH STREET NYC</td>\n",
              "    </tr>\n",
              "    <tr>\n",
              "      <th>23158</th>\n",
              "      <td>4</td>\n",
              "      <td>SOUTH OZONE PARK</td>\n",
              "      <td>01 ONE FAMILY DWELLINGS</td>\n",
              "      <td>1</td>\n",
              "      <td>11726</td>\n",
              "      <td>31</td>\n",
              "      <td>A1</td>\n",
              "      <td>130-11 LEFFERTS BOULEVARD</td>\n",
              "      <td>11420.0</td>\n",
              "      <td>1.0</td>\n",
              "      <td>0.0</td>\n",
              "      <td>1.0</td>\n",
              "      <td>2320.0</td>\n",
              "      <td>1234.0</td>\n",
              "      <td>1925.0</td>\n",
              "      <td>1</td>\n",
              "      <td>A1</td>\n",
              "      <td>2019-03-08</td>\n",
              "      <td>queens</td>\n",
              "      <td>130-11 LEFFERTS BOULEVARD NYC</td>\n",
              "    </tr>\n",
              "    <tr>\n",
              "      <th>16970</th>\n",
              "      <td>3</td>\n",
              "      <td>MIDWOOD</td>\n",
              "      <td>02 TWO FAMILY DWELLINGS</td>\n",
              "      <td>1</td>\n",
              "      <td>7610</td>\n",
              "      <td>45</td>\n",
              "      <td>B1</td>\n",
              "      <td>2820 AVE J</td>\n",
              "      <td>11210.0</td>\n",
              "      <td>2.0</td>\n",
              "      <td>0.0</td>\n",
              "      <td>2.0</td>\n",
              "      <td>5000.0</td>\n",
              "      <td>3446.0</td>\n",
              "      <td>1925.0</td>\n",
              "      <td>1</td>\n",
              "      <td>B1</td>\n",
              "      <td>2019-11-05</td>\n",
              "      <td>brooklyn</td>\n",
              "      <td>2820 AVE J NYC</td>\n",
              "    </tr>\n",
              "  </tbody>\n",
              "</table>\n",
              "</div>"
            ],
            "text/plain": [
              "       BOROUGH      NEIGHBORHOOD  ...      AREA                  FINAL_ADDRESS\n",
              "7857         2    WILLIAMSBRIDGE  ...     bronx       1043 EAST 213 STREET NYC\n",
              "11463        3  FLATBUSH-CENTRAL  ...  brooklyn            322 ARGYLE ROAD NYC\n",
              "20465        4     RICHMOND HILL  ...    queens         86-03 120TH STREET NYC\n",
              "23158        4  SOUTH OZONE PARK  ...    queens  130-11 LEFFERTS BOULEVARD NYC\n",
              "16970        3           MIDWOOD  ...  brooklyn                 2820 AVE J NYC\n",
              "\n",
              "[5 rows x 20 columns]"
            ]
          },
          "metadata": {
            "tags": []
          },
          "execution_count": 204
        }
      ]
    },
    {
      "cell_type": "code",
      "metadata": {
        "id": "7V-qa6Vsmg5m",
        "colab_type": "code",
        "colab": {
          "base_uri": "https://localhost:8080/",
          "height": 139
        },
        "outputId": "8e623dad-2867-4295-8155-7827d2da29f9"
      },
      "source": [
        "df_train.columns.values"
      ],
      "execution_count": 114,
      "outputs": [
        {
          "output_type": "execute_result",
          "data": {
            "text/plain": [
              "array(['BOROUGH', 'NEIGHBORHOOD', 'BUILDING CLASS CATEGORY',\n",
              "       'TAX CLASS AS OF FINAL ROLL 18/19', 'BLOCK', 'LOT',\n",
              "       'BUILDING CLASS AS OF FINAL ROLL 18/19', 'ADDRESS', 'ZIP CODE',\n",
              "       'RESIDENTIAL UNITS', 'COMMERCIAL UNITS', 'TOTAL UNITS',\n",
              "       'LAND SQUARE FEET', 'GROSS SQUARE FEET', 'YEAR BUILT',\n",
              "       'TAX CLASS AT TIME OF SALE', 'BUILDING CLASS AT TIME OF SALE',\n",
              "       'SALE DATE', 'AREA', 'FINAL_ADDRESS'], dtype=object)"
            ]
          },
          "metadata": {
            "tags": []
          },
          "execution_count": 114
        }
      ]
    },
    {
      "cell_type": "code",
      "metadata": {
        "id": "WByxWYzgVMSi",
        "colab_type": "code",
        "colab": {}
      },
      "source": [
        "cat = ['NEIGHBORHOOD', 'BUILDING CLASS CATEGORY', 'BUILDING CLASS AS OF FINAL ROLL 18/19', 'ADDRESS'\n",
        "        , 'BUILDING CLASS AT TIME OF SALE', 'SALE DATE', 'AREA',  'FINAL_ADDRESS']\n",
        "        "
      ],
      "execution_count": 223,
      "outputs": []
    },
    {
      "cell_type": "code",
      "metadata": {
        "id": "zU2HDTcUnVR6",
        "colab_type": "code",
        "colab": {}
      },
      "source": [
        "final=pd.concat([df_train,df_test])"
      ],
      "execution_count": 256,
      "outputs": []
    },
    {
      "cell_type": "code",
      "metadata": {
        "id": "RXPwOkBbneep",
        "colab_type": "code",
        "colab": {}
      },
      "source": [
        "from sklearn.preprocessing import LabelEncoder\n",
        "\n",
        "for col in cat:\n",
        "    lb=LabelEncoder()\n",
        "    final[col]=lb.fit_transform(final[col].values)\n",
        "    \n",
        "    \n",
        "train=final[:len(df_train)]\n",
        "test=final[len(df_train):]"
      ],
      "execution_count": 257,
      "outputs": []
    },
    {
      "cell_type": "code",
      "metadata": {
        "id": "_YPiWgxqn6nt",
        "colab_type": "code",
        "colab": {
          "base_uri": "https://localhost:8080/",
          "height": 52
        },
        "outputId": "ef6e974f-e62f-4848-b330-1bf75d302dff"
      },
      "source": [
        "print(f'Train data has {train.shape[0]} rows and {train.shape[1]} colummns')\n",
        "print(f'Test data has {test.shape[0]} rows and {test.shape[1]} colummns')"
      ],
      "execution_count": 258,
      "outputs": [
        {
          "output_type": "stream",
          "text": [
            "Train data has 17802 rows and 20 colummns\n",
            "Test data has 4451 rows and 20 colummns\n"
          ],
          "name": "stdout"
        }
      ]
    },
    {
      "cell_type": "code",
      "metadata": {
        "id": "9DLC81q1wOHu",
        "colab_type": "code",
        "colab": {
          "base_uri": "https://localhost:8080/",
          "height": 381
        },
        "outputId": "6f8f1355-66ab-4fbc-9298-860b8c667cfc"
      },
      "source": [
        "final.dtypes"
      ],
      "execution_count": 259,
      "outputs": [
        {
          "output_type": "execute_result",
          "data": {
            "text/plain": [
              "BOROUGH                                    int64\n",
              "NEIGHBORHOOD                               int64\n",
              "BUILDING CLASS CATEGORY                    int64\n",
              "TAX CLASS AS OF FINAL ROLL 18/19          object\n",
              "BLOCK                                      int64\n",
              "LOT                                        int64\n",
              "BUILDING CLASS AS OF FINAL ROLL 18/19      int64\n",
              "ADDRESS                                    int64\n",
              "ZIP CODE                                 float64\n",
              "RESIDENTIAL UNITS                        float64\n",
              "COMMERCIAL UNITS                         float64\n",
              "TOTAL UNITS                              float64\n",
              "LAND SQUARE FEET                         float64\n",
              "GROSS SQUARE FEET                        float64\n",
              "YEAR BUILT                               float64\n",
              "TAX CLASS AT TIME OF SALE                  int64\n",
              "BUILDING CLASS AT TIME OF SALE             int64\n",
              "SALE DATE                                  int64\n",
              "AREA                                       int64\n",
              "FINAL_ADDRESS                              int64\n",
              "dtype: object"
            ]
          },
          "metadata": {
            "tags": []
          },
          "execution_count": 259
        }
      ]
    },
    {
      "cell_type": "code",
      "metadata": {
        "id": "GjDoD8LG6kPS",
        "colab_type": "code",
        "colab": {
          "base_uri": "https://localhost:8080/",
          "height": 35
        },
        "outputId": "51c6afcb-e5e7-458c-e227-d70685dd9414"
      },
      "source": [
        "final['TAX CLASS AS OF FINAL ROLL 18/19'].values"
      ],
      "execution_count": 260,
      "outputs": [
        {
          "output_type": "execute_result",
          "data": {
            "text/plain": [
              "array(['1', '1', '1', ..., '1', '1', '1'], dtype=object)"
            ]
          },
          "metadata": {
            "tags": []
          },
          "execution_count": 260
        }
      ]
    },
    {
      "cell_type": "code",
      "metadata": {
        "id": "qTxDs5eQstE8",
        "colab_type": "code",
        "colab": {
          "base_uri": "https://localhost:8080/",
          "height": 87
        },
        "outputId": "2444669e-9b23-45a2-b846-b3a0ee98992b"
      },
      "source": [
        "cnt_srs = final['TAX CLASS AS OF FINAL ROLL 18/19'].value_counts()\n",
        "print(cnt_srs)"
      ],
      "execution_count": 262,
      "outputs": [
        {
          "output_type": "stream",
          "text": [
            "1     21414\n",
            "2A      446\n",
            "4       393\n",
            "Name: TAX CLASS AS OF FINAL ROLL 18/19, dtype: int64\n"
          ],
          "name": "stdout"
        }
      ]
    },
    {
      "cell_type": "code",
      "metadata": {
        "id": "9nu7238a7QxN",
        "colab_type": "code",
        "colab": {}
      },
      "source": [
        "final['TAX CLASS AS OF FINAL ROLL 18/19'] = final['TAX CLASS AS OF FINAL ROLL 18/19'].map({'2A': 2, '1': 1, '4' : 4})"
      ],
      "execution_count": 263,
      "outputs": []
    },
    {
      "cell_type": "code",
      "metadata": {
        "id": "TifY5CI77j1E",
        "colab_type": "code",
        "colab": {
          "base_uri": "https://localhost:8080/",
          "height": 87
        },
        "outputId": "07da45c1-e614-4afe-e2c5-c9d0f5fbd470"
      },
      "source": [
        "cnt_srs = final['TAX CLASS AS OF FINAL ROLL 18/19'].value_counts()\n",
        "print(cnt_srs)"
      ],
      "execution_count": 264,
      "outputs": [
        {
          "output_type": "stream",
          "text": [
            "1    21414\n",
            "2      446\n",
            "4      393\n",
            "Name: TAX CLASS AS OF FINAL ROLL 18/19, dtype: int64\n"
          ],
          "name": "stdout"
        }
      ]
    },
    {
      "cell_type": "code",
      "metadata": {
        "id": "F3kKhYXE8F4d",
        "colab_type": "code",
        "colab": {
          "base_uri": "https://localhost:8080/",
          "height": 381
        },
        "outputId": "8175a503-9440-4b48-cdd3-d571875dee76"
      },
      "source": [
        "final.dtypes"
      ],
      "execution_count": 265,
      "outputs": [
        {
          "output_type": "execute_result",
          "data": {
            "text/plain": [
              "BOROUGH                                    int64\n",
              "NEIGHBORHOOD                               int64\n",
              "BUILDING CLASS CATEGORY                    int64\n",
              "TAX CLASS AS OF FINAL ROLL 18/19           int64\n",
              "BLOCK                                      int64\n",
              "LOT                                        int64\n",
              "BUILDING CLASS AS OF FINAL ROLL 18/19      int64\n",
              "ADDRESS                                    int64\n",
              "ZIP CODE                                 float64\n",
              "RESIDENTIAL UNITS                        float64\n",
              "COMMERCIAL UNITS                         float64\n",
              "TOTAL UNITS                              float64\n",
              "LAND SQUARE FEET                         float64\n",
              "GROSS SQUARE FEET                        float64\n",
              "YEAR BUILT                               float64\n",
              "TAX CLASS AT TIME OF SALE                  int64\n",
              "BUILDING CLASS AT TIME OF SALE             int64\n",
              "SALE DATE                                  int64\n",
              "AREA                                       int64\n",
              "FINAL_ADDRESS                              int64\n",
              "dtype: object"
            ]
          },
          "metadata": {
            "tags": []
          },
          "execution_count": 265
        }
      ]
    },
    {
      "cell_type": "code",
      "metadata": {
        "id": "n8Luy5PJ8Mdl",
        "colab_type": "code",
        "colab": {}
      },
      "source": [
        "train=final[:len(df_train)]\n",
        "test=final[len(df_train):]"
      ],
      "execution_count": 266,
      "outputs": []
    },
    {
      "cell_type": "code",
      "metadata": {
        "id": "MxFvZmsL8P0g",
        "colab_type": "code",
        "colab": {
          "base_uri": "https://localhost:8080/",
          "height": 52
        },
        "outputId": "b61fd3d8-798e-40c4-eee7-e1fccb0013ec"
      },
      "source": [
        "print(f'Train data has {train.shape[0]} rows and {train.shape[1]} colummns')\n",
        "print(f'Test data has {test.shape[0]} rows and {test.shape[1]} colummns')"
      ],
      "execution_count": 267,
      "outputs": [
        {
          "output_type": "stream",
          "text": [
            "Train data has 17802 rows and 20 colummns\n",
            "Test data has 4451 rows and 20 colummns\n"
          ],
          "name": "stdout"
        }
      ]
    },
    {
      "cell_type": "code",
      "metadata": {
        "id": "nrM2Yz5Rnsh-",
        "colab_type": "code",
        "colab": {}
      },
      "source": [
        "for col in train.columns:     \n",
        "  minmax=MinMaxScaler()\n",
        "  train[col] = minmax.fit_transform(train[col].values.reshape(-1,1))\n",
        "  test[col]=minmax.transform(test[col].values.reshape(-1,1))"
      ],
      "execution_count": 268,
      "outputs": []
    },
    {
      "cell_type": "code",
      "metadata": {
        "id": "EcctP2dO97cv",
        "colab_type": "code",
        "colab": {
          "base_uri": "https://localhost:8080/",
          "height": 309
        },
        "outputId": "c41f5222-27f6-47fd-be1c-f7ae8f91c8a6"
      },
      "source": [
        "train.head(5)"
      ],
      "execution_count": 271,
      "outputs": [
        {
          "output_type": "execute_result",
          "data": {
            "text/html": [
              "<div>\n",
              "<style scoped>\n",
              "    .dataframe tbody tr th:only-of-type {\n",
              "        vertical-align: middle;\n",
              "    }\n",
              "\n",
              "    .dataframe tbody tr th {\n",
              "        vertical-align: top;\n",
              "    }\n",
              "\n",
              "    .dataframe thead th {\n",
              "        text-align: right;\n",
              "    }\n",
              "</style>\n",
              "<table border=\"1\" class=\"dataframe\">\n",
              "  <thead>\n",
              "    <tr style=\"text-align: right;\">\n",
              "      <th></th>\n",
              "      <th>BOROUGH</th>\n",
              "      <th>NEIGHBORHOOD</th>\n",
              "      <th>BUILDING CLASS CATEGORY</th>\n",
              "      <th>TAX CLASS AS OF FINAL ROLL 18/19</th>\n",
              "      <th>BLOCK</th>\n",
              "      <th>LOT</th>\n",
              "      <th>BUILDING CLASS AS OF FINAL ROLL 18/19</th>\n",
              "      <th>ADDRESS</th>\n",
              "      <th>ZIP CODE</th>\n",
              "      <th>RESIDENTIAL UNITS</th>\n",
              "      <th>COMMERCIAL UNITS</th>\n",
              "      <th>TOTAL UNITS</th>\n",
              "      <th>LAND SQUARE FEET</th>\n",
              "      <th>GROSS SQUARE FEET</th>\n",
              "      <th>YEAR BUILT</th>\n",
              "      <th>TAX CLASS AT TIME OF SALE</th>\n",
              "      <th>BUILDING CLASS AT TIME OF SALE</th>\n",
              "      <th>SALE DATE</th>\n",
              "      <th>AREA</th>\n",
              "      <th>FINAL_ADDRESS</th>\n",
              "    </tr>\n",
              "  </thead>\n",
              "  <tbody>\n",
              "    <tr>\n",
              "      <th>7857</th>\n",
              "      <td>0.000000</td>\n",
              "      <td>0.945</td>\n",
              "      <td>0.0625</td>\n",
              "      <td>0.0</td>\n",
              "      <td>0.286320</td>\n",
              "      <td>0.030201</td>\n",
              "      <td>0.157895</td>\n",
              "      <td>0.029469</td>\n",
              "      <td>0.119971</td>\n",
              "      <td>0.50</td>\n",
              "      <td>0.0</td>\n",
              "      <td>0.333333</td>\n",
              "      <td>0.141404</td>\n",
              "      <td>0.291422</td>\n",
              "      <td>0.503356</td>\n",
              "      <td>0.0</td>\n",
              "      <td>0.155172</td>\n",
              "      <td>0.125000</td>\n",
              "      <td>0.000000</td>\n",
              "      <td>0.029469</td>\n",
              "    </tr>\n",
              "    <tr>\n",
              "      <th>11463</th>\n",
              "      <td>0.333333</td>\n",
              "      <td>0.315</td>\n",
              "      <td>0.0000</td>\n",
              "      <td>0.0</td>\n",
              "      <td>0.313766</td>\n",
              "      <td>0.218121</td>\n",
              "      <td>0.017544</td>\n",
              "      <td>0.590162</td>\n",
              "      <td>0.658046</td>\n",
              "      <td>0.25</td>\n",
              "      <td>0.0</td>\n",
              "      <td>0.000000</td>\n",
              "      <td>0.598982</td>\n",
              "      <td>0.394125</td>\n",
              "      <td>0.194631</td>\n",
              "      <td>0.0</td>\n",
              "      <td>0.017241</td>\n",
              "      <td>0.090625</td>\n",
              "      <td>0.333333</td>\n",
              "      <td>0.590162</td>\n",
              "    </tr>\n",
              "    <tr>\n",
              "      <th>20465</th>\n",
              "      <td>0.666667</td>\n",
              "      <td>0.760</td>\n",
              "      <td>0.1250</td>\n",
              "      <td>0.0</td>\n",
              "      <td>0.567420</td>\n",
              "      <td>0.328859</td>\n",
              "      <td>0.228070</td>\n",
              "      <td>0.921155</td>\n",
              "      <td>0.801724</td>\n",
              "      <td>0.75</td>\n",
              "      <td>0.0</td>\n",
              "      <td>0.666667</td>\n",
              "      <td>0.449349</td>\n",
              "      <td>0.445593</td>\n",
              "      <td>0.369128</td>\n",
              "      <td>0.0</td>\n",
              "      <td>0.224138</td>\n",
              "      <td>0.818750</td>\n",
              "      <td>0.666667</td>\n",
              "      <td>0.921155</td>\n",
              "    </tr>\n",
              "    <tr>\n",
              "      <th>23158</th>\n",
              "      <td>0.666667</td>\n",
              "      <td>0.855</td>\n",
              "      <td>0.0000</td>\n",
              "      <td>0.0</td>\n",
              "      <td>0.717979</td>\n",
              "      <td>0.100671</td>\n",
              "      <td>0.017544</td>\n",
              "      <td>0.158799</td>\n",
              "      <td>0.803161</td>\n",
              "      <td>0.25</td>\n",
              "      <td>0.0</td>\n",
              "      <td>0.000000</td>\n",
              "      <td>0.197965</td>\n",
              "      <td>0.243008</td>\n",
              "      <td>0.369128</td>\n",
              "      <td>0.0</td>\n",
              "      <td>0.017241</td>\n",
              "      <td>0.181250</td>\n",
              "      <td>0.666667</td>\n",
              "      <td>0.158799</td>\n",
              "    </tr>\n",
              "    <tr>\n",
              "      <th>16970</th>\n",
              "      <td>0.333333</td>\n",
              "      <td>0.590</td>\n",
              "      <td>0.0625</td>\n",
              "      <td>0.0</td>\n",
              "      <td>0.465246</td>\n",
              "      <td>0.147651</td>\n",
              "      <td>0.157895</td>\n",
              "      <td>0.539307</td>\n",
              "      <td>0.652299</td>\n",
              "      <td>0.50</td>\n",
              "      <td>0.0</td>\n",
              "      <td>0.333333</td>\n",
              "      <td>0.598982</td>\n",
              "      <td>0.762867</td>\n",
              "      <td>0.369128</td>\n",
              "      <td>0.0</td>\n",
              "      <td>0.155172</td>\n",
              "      <td>0.843750</td>\n",
              "      <td>0.333333</td>\n",
              "      <td>0.539307</td>\n",
              "    </tr>\n",
              "  </tbody>\n",
              "</table>\n",
              "</div>"
            ],
            "text/plain": [
              "        BOROUGH  NEIGHBORHOOD  ...      AREA  FINAL_ADDRESS\n",
              "7857   0.000000         0.945  ...  0.000000       0.029469\n",
              "11463  0.333333         0.315  ...  0.333333       0.590162\n",
              "20465  0.666667         0.760  ...  0.666667       0.921155\n",
              "23158  0.666667         0.855  ...  0.666667       0.158799\n",
              "16970  0.333333         0.590  ...  0.333333       0.539307\n",
              "\n",
              "[5 rows x 20 columns]"
            ]
          },
          "metadata": {
            "tags": []
          },
          "execution_count": 271
        }
      ]
    },
    {
      "cell_type": "code",
      "metadata": {
        "id": "1_dVRP88sAG9",
        "colab_type": "code",
        "colab": {
          "base_uri": "https://localhost:8080/",
          "height": 208
        },
        "outputId": "fa525a39-b4a6-4ac5-cc2c-504c6a0d807b"
      },
      "source": [
        "rf=RandomForestRegressor(n_estimators=300,verbose=True,max_depth=10, n_jobs=-1)\n",
        "rf.fit(train, train_target)\n"
      ],
      "execution_count": 272,
      "outputs": [
        {
          "output_type": "stream",
          "text": [
            "[Parallel(n_jobs=-1)]: Using backend ThreadingBackend with 2 concurrent workers.\n",
            "[Parallel(n_jobs=-1)]: Done  46 tasks      | elapsed:    3.5s\n",
            "[Parallel(n_jobs=-1)]: Done 196 tasks      | elapsed:   14.4s\n",
            "[Parallel(n_jobs=-1)]: Done 300 out of 300 | elapsed:   21.9s finished\n"
          ],
          "name": "stderr"
        },
        {
          "output_type": "execute_result",
          "data": {
            "text/plain": [
              "RandomForestRegressor(bootstrap=True, ccp_alpha=0.0, criterion='mse',\n",
              "                      max_depth=10, max_features='auto', max_leaf_nodes=None,\n",
              "                      max_samples=None, min_impurity_decrease=0.0,\n",
              "                      min_impurity_split=None, min_samples_leaf=1,\n",
              "                      min_samples_split=2, min_weight_fraction_leaf=0.0,\n",
              "                      n_estimators=300, n_jobs=-1, oob_score=False,\n",
              "                      random_state=None, verbose=True, warm_start=False)"
            ]
          },
          "metadata": {
            "tags": []
          },
          "execution_count": 272
        }
      ]
    },
    {
      "cell_type": "code",
      "metadata": {
        "id": "4YA4a-Ff_TFx",
        "colab_type": "code",
        "colab": {
          "base_uri": "https://localhost:8080/",
          "height": 87
        },
        "outputId": "095ace13-460c-46cc-a600-033fd5db3e20"
      },
      "source": [
        "res_pred = rf.predict(test)"
      ],
      "execution_count": 275,
      "outputs": [
        {
          "output_type": "stream",
          "text": [
            "[Parallel(n_jobs=2)]: Using backend ThreadingBackend with 2 concurrent workers.\n",
            "[Parallel(n_jobs=2)]: Done  46 tasks      | elapsed:    0.0s\n",
            "[Parallel(n_jobs=2)]: Done 196 tasks      | elapsed:    0.1s\n",
            "[Parallel(n_jobs=2)]: Done 300 out of 300 | elapsed:    0.2s finished\n"
          ],
          "name": "stderr"
        }
      ]
    },
    {
      "cell_type": "code",
      "metadata": {
        "id": "hKYKhrgA_m1H",
        "colab_type": "code",
        "colab": {
          "base_uri": "https://localhost:8080/",
          "height": 243
        },
        "outputId": "7ddfa5b4-364f-4dcb-be73-af863b0e472e"
      },
      "source": [
        "print(type(res_pred))\n",
        "new_series = pd.Series(res_pred)\n",
        "print(new_series)"
      ],
      "execution_count": 283,
      "outputs": [
        {
          "output_type": "stream",
          "text": [
            "<class 'numpy.ndarray'>\n",
            "0       5.833247e+05\n",
            "1       5.245479e+05\n",
            "2       6.223516e+05\n",
            "3       3.428847e+05\n",
            "4       6.360311e+05\n",
            "            ...     \n",
            "4446    1.404440e+06\n",
            "4447    7.846005e+05\n",
            "4448    5.806876e+05\n",
            "4449    5.999565e+05\n",
            "4450    4.943895e+05\n",
            "Length: 4451, dtype: float64\n"
          ],
          "name": "stdout"
        }
      ]
    },
    {
      "cell_type": "code",
      "metadata": {
        "id": "iK6TMu06_u13",
        "colab_type": "code",
        "colab": {
          "base_uri": "https://localhost:8080/",
          "height": 243
        },
        "outputId": "2973c81d-f8d4-4cea-e149-0a55bf569245"
      },
      "source": [
        "print(type(test_target))\n",
        "print(test_target)\n"
      ],
      "execution_count": 284,
      "outputs": [
        {
          "output_type": "stream",
          "text": [
            "<class 'pandas.core.series.Series'>\n",
            "19994     655000\n",
            "12134     755796\n",
            "10843     690000\n",
            "5400      400000\n",
            "23459     630000\n",
            "          ...   \n",
            "19595    1595000\n",
            "12523     930000\n",
            "5552      634940\n",
            "4716      669500\n",
            "1520      449000\n",
            "Name: SALE PRICE, Length: 4451, dtype: int64\n"
          ],
          "name": "stdout"
        }
      ]
    },
    {
      "cell_type": "code",
      "metadata": {
        "id": "VcnruZXa_5P0",
        "colab_type": "code",
        "colab": {
          "base_uri": "https://localhost:8080/",
          "height": 35
        },
        "outputId": "a728bf02-3b8f-4e57-95f8-c81765e628da"
      },
      "source": [
        "rms = np.sqrt(mean_squared_error(test_target, res_pred))\n",
        "print(rms)"
      ],
      "execution_count": 280,
      "outputs": [
        {
          "output_type": "stream",
          "text": [
            "275096.0458499235\n"
          ],
          "name": "stdout"
        }
      ]
    },
    {
      "cell_type": "code",
      "metadata": {
        "id": "gfjArVF3BhjX",
        "colab_type": "code",
        "colab": {
          "base_uri": "https://localhost:8080/",
          "height": 139
        },
        "outputId": "4c89abef-3069-4d6b-f86c-cb3c9f85e32a"
      },
      "source": [
        "import lightgbm as lgb\n",
        "\n",
        "lgbm=lgb.LGBMRegressor(max_depth=15, n_leaves=40)\n",
        "lgbm.fit(train, train_target)\n"
      ],
      "execution_count": 288,
      "outputs": [
        {
          "output_type": "execute_result",
          "data": {
            "text/plain": [
              "LGBMRegressor(boosting_type='gbdt', class_weight=None, colsample_bytree=1.0,\n",
              "              importance_type='split', learning_rate=0.1, max_depth=15,\n",
              "              min_child_samples=20, min_child_weight=0.001, min_split_gain=0.0,\n",
              "              n_estimators=100, n_jobs=-1, n_leaves=40, num_leaves=31,\n",
              "              objective=None, random_state=None, reg_alpha=0.0, reg_lambda=0.0,\n",
              "              silent=True, subsample=1.0, subsample_for_bin=200000,\n",
              "              subsample_freq=0)"
            ]
          },
          "metadata": {
            "tags": []
          },
          "execution_count": 288
        }
      ]
    },
    {
      "cell_type": "code",
      "metadata": {
        "id": "US1HKyijCbFP",
        "colab_type": "code",
        "colab": {}
      },
      "source": [
        "res_pred = lgbm.predict(test)"
      ],
      "execution_count": 290,
      "outputs": []
    },
    {
      "cell_type": "code",
      "metadata": {
        "id": "NtJH1YGBCjsN",
        "colab_type": "code",
        "colab": {
          "base_uri": "https://localhost:8080/",
          "height": 35
        },
        "outputId": "108d112b-f3d7-4cf8-cf7a-e92253a203a4"
      },
      "source": [
        "rms = np.sqrt(mean_squared_error(test_target, res_pred))\n",
        "print(rms)"
      ],
      "execution_count": 291,
      "outputs": [
        {
          "output_type": "stream",
          "text": [
            "264752.027546892\n"
          ],
          "name": "stdout"
        }
      ]
    },
    {
      "cell_type": "code",
      "metadata": {
        "id": "dPNAA1E9MH23",
        "colab_type": "code",
        "colab": {}
      },
      "source": [
        "import xgboost as xgb"
      ],
      "execution_count": 293,
      "outputs": []
    },
    {
      "cell_type": "code",
      "metadata": {
        "id": "kI-ep3-_OfBC",
        "colab_type": "code",
        "colab": {
          "base_uri": "https://localhost:8080/",
          "height": 186
        },
        "outputId": "56f55d4e-5b64-4746-b1ba-9361371c057b"
      },
      "source": [
        "final.head(1)"
      ],
      "execution_count": 298,
      "outputs": [
        {
          "output_type": "execute_result",
          "data": {
            "text/html": [
              "<div>\n",
              "<style scoped>\n",
              "    .dataframe tbody tr th:only-of-type {\n",
              "        vertical-align: middle;\n",
              "    }\n",
              "\n",
              "    .dataframe tbody tr th {\n",
              "        vertical-align: top;\n",
              "    }\n",
              "\n",
              "    .dataframe thead th {\n",
              "        text-align: right;\n",
              "    }\n",
              "</style>\n",
              "<table border=\"1\" class=\"dataframe\">\n",
              "  <thead>\n",
              "    <tr style=\"text-align: right;\">\n",
              "      <th></th>\n",
              "      <th>BOROUGH</th>\n",
              "      <th>NEIGHBORHOOD</th>\n",
              "      <th>BUILDING CLASS CATEGORY</th>\n",
              "      <th>TAX CLASS AS OF FINAL ROLL 18/19</th>\n",
              "      <th>BLOCK</th>\n",
              "      <th>LOT</th>\n",
              "      <th>BUILDING CLASS AS OF FINAL ROLL 18/19</th>\n",
              "      <th>ADDRESS</th>\n",
              "      <th>ZIP CODE</th>\n",
              "      <th>RESIDENTIAL UNITS</th>\n",
              "      <th>COMMERCIAL UNITS</th>\n",
              "      <th>TOTAL UNITS</th>\n",
              "      <th>LAND SQUARE FEET</th>\n",
              "      <th>GROSS SQUARE FEET</th>\n",
              "      <th>YEAR BUILT</th>\n",
              "      <th>TAX CLASS AT TIME OF SALE</th>\n",
              "      <th>BUILDING CLASS AT TIME OF SALE</th>\n",
              "      <th>SALE DATE</th>\n",
              "      <th>AREA</th>\n",
              "      <th>FINAL_ADDRESS</th>\n",
              "    </tr>\n",
              "  </thead>\n",
              "  <tbody>\n",
              "    <tr>\n",
              "      <th>7857</th>\n",
              "      <td>2</td>\n",
              "      <td>189</td>\n",
              "      <td>1</td>\n",
              "      <td>1</td>\n",
              "      <td>4696</td>\n",
              "      <td>10</td>\n",
              "      <td>9</td>\n",
              "      <td>638</td>\n",
              "      <td>0.119971</td>\n",
              "      <td>0.5</td>\n",
              "      <td>0.0</td>\n",
              "      <td>0.333333</td>\n",
              "      <td>0.141404</td>\n",
              "      <td>0.291422</td>\n",
              "      <td>0.503356</td>\n",
              "      <td>1</td>\n",
              "      <td>9</td>\n",
              "      <td>40</td>\n",
              "      <td>0</td>\n",
              "      <td>638</td>\n",
              "    </tr>\n",
              "  </tbody>\n",
              "</table>\n",
              "</div>"
            ],
            "text/plain": [
              "      BOROUGH  NEIGHBORHOOD  ...  AREA  FINAL_ADDRESS\n",
              "7857        2           189  ...     0            638\n",
              "\n",
              "[1 rows x 20 columns]"
            ]
          },
          "metadata": {
            "tags": []
          },
          "execution_count": 298
        }
      ]
    },
    {
      "cell_type": "code",
      "metadata": {
        "id": "a65jGGqvNhgK",
        "colab_type": "code",
        "colab": {}
      },
      "source": [
        "xg_reg = xgb.XGBRegressor(objective ='reg:squarederror', colsample_bytree = 0.3, learning_rate = 0.1,\n",
        "                max_depth = 5, alpha = 10, n_estimators = 10)"
      ],
      "execution_count": 308,
      "outputs": []
    },
    {
      "cell_type": "code",
      "metadata": {
        "id": "8_fvG3uHNs1N",
        "colab_type": "code",
        "colab": {}
      },
      "source": [
        "xg_reg.fit(train,train_target)\n",
        "\n",
        "preds = xg_reg.predict(test)"
      ],
      "execution_count": 309,
      "outputs": []
    },
    {
      "cell_type": "code",
      "metadata": {
        "id": "5jU4JX9fQPvQ",
        "colab_type": "code",
        "colab": {
          "base_uri": "https://localhost:8080/",
          "height": 35
        },
        "outputId": "a59160d3-6c07-4c50-d07b-ead926a8b844"
      },
      "source": [
        "rmse = np.sqrt(mean_squared_error(test_target, preds))\n",
        "print(\"RMSE: %f\" % (rmse))"
      ],
      "execution_count": 310,
      "outputs": [
        {
          "output_type": "stream",
          "text": [
            "RMSE: 447438.435150\n"
          ],
          "name": "stdout"
        }
      ]
    }
  ]
}