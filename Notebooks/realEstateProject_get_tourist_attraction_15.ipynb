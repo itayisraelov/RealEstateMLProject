{
  "nbformat": 4,
  "nbformat_minor": 0,
  "metadata": {
    "colab": {
      "name": "realEstateProject_get_tourist_attraction_15.ipynb",
      "provenance": []
    },
    "kernelspec": {
      "name": "python3",
      "display_name": "Python 3"
    }
  },
  "cells": [
    {
      "cell_type": "code",
      "metadata": {
        "id": "mlhgtFVP78kL",
        "colab_type": "code",
        "colab": {}
      },
      "source": [
        "import numpy as np  # linear algebra\n",
        "import pandas as pd  # data processing, CSV file I/O (e.g. pd.read_csv)\n",
        "import matplotlib.pyplot as plt\n",
        "import seaborn as sns\n",
        "import os\n",
        "from sklearn.model_selection import train_test_split\n",
        "from geopy.geocoders import Nominatim\n",
        "from sklearn.preprocessing import LabelEncoder\n",
        "from sklearn.preprocessing import MinMaxScaler\n",
        "import lightgbm as lgb\n",
        "import xgboost as xgb\n",
        "from sklearn.ensemble import RandomForestRegressor\n",
        "from sklearn.metrics import mean_squared_error\n",
        "color = sns.color_palette()\n",
        "pd.options.mode.chained_assignment = None  # default='warn'"
      ],
      "execution_count": 2,
      "outputs": []
    },
    {
      "cell_type": "code",
      "metadata": {
        "id": "Tv6yXiU-79Xa",
        "colab_type": "code",
        "colab": {}
      },
      "source": [
        "df = pd.read_csv(\"experiment_with_lat_and_lng_and_num_cofe.csv\") "
      ],
      "execution_count": 3,
      "outputs": []
    },
    {
      "cell_type": "code",
      "metadata": {
        "id": "Tk3ijn2J7-jp",
        "colab_type": "code",
        "colab": {}
      },
      "source": [
        "df.head(2)"
      ],
      "execution_count": null,
      "outputs": []
    },
    {
      "cell_type": "code",
      "metadata": {
        "id": "AgMR3KWk7-l6",
        "colab_type": "code",
        "colab": {}
      },
      "source": [
        "example1 = \"api-key_geocoding.txt\"\n",
        "file1 = open(example1, \"r\")"
      ],
      "execution_count": 5,
      "outputs": []
    },
    {
      "cell_type": "code",
      "metadata": {
        "id": "6Fvg_Ik37-oE",
        "colab_type": "code",
        "colab": {}
      },
      "source": [
        "API_KEY = file1.read()"
      ],
      "execution_count": 6,
      "outputs": []
    },
    {
      "cell_type": "code",
      "metadata": {
        "id": "GTzz-np67-qO",
        "colab_type": "code",
        "colab": {}
      },
      "source": [
        "import json\n",
        "import urllib.request"
      ],
      "execution_count": 7,
      "outputs": []
    },
    {
      "cell_type": "code",
      "metadata": {
        "id": "D6vpiIfg7-sV",
        "colab_type": "code",
        "colab": {}
      },
      "source": [
        "URL_near_by_search = \"https://maps.googleapis.com/maps/api/place/nearbysearch/json\""
      ],
      "execution_count": 8,
      "outputs": []
    },
    {
      "cell_type": "code",
      "metadata": {
        "id": "QsPNPAgK7-ur",
        "colab_type": "code",
        "colab": {}
      },
      "source": [
        "def get_near_by_search(lat, lng, radius):\n",
        "    location = f\"{lat},{lng}\"\n",
        "    radius = radius\n",
        "    # Join the parts of the URL together into one string.\n",
        "    params = urllib.parse.urlencode(\n",
        "         {\n",
        "          \"query\": \"tourist attraction\",\n",
        "          \"opennow\": \"true\",\n",
        "          \"location\": location,\n",
        "          \"radius\": radius,\n",
        "          \"type\": \"tourist_attraction\",\n",
        "          \"key\": API_KEY,\n",
        "        }\n",
        "    )\n",
        "    url = f\"{URL_near_by_search}?{params}\"\n",
        "    result = json.load(urllib.request.urlopen(url))\n",
        "\n",
        "    if result[\"status\"] in [\"OK\", \"ZERO_RESULTS\"]:\n",
        "        return result[\"results\"]\n",
        "\n",
        "    raise Exception(result[\"error_message\"])"
      ],
      "execution_count": 59,
      "outputs": []
    },
    {
      "cell_type": "code",
      "metadata": {
        "id": "DPA9ASsg7-w-",
        "colab_type": "code",
        "colab": {}
      },
      "source": [
        "results = get_near_by_search(40.650046\t, -73.94875689999999, 1000)"
      ],
      "execution_count": 60,
      "outputs": []
    },
    {
      "cell_type": "code",
      "metadata": {
        "id": "QZGalAu77-zY",
        "colab_type": "code",
        "colab": {
          "base_uri": "https://localhost:8080/",
          "height": 55
        },
        "outputId": "ce11995f-d512-4ce7-de2e-cdf2ea7511c0"
      },
      "source": [
        "print(results)"
      ],
      "execution_count": 61,
      "outputs": [
        {
          "output_type": "stream",
          "text": [
            "[{'business_status': 'OPERATIONAL', 'geometry': {'location': {'lat': 40.65576970000001, 'lng': -73.94743869999999}, 'viewport': {'northeast': {'lat': 40.6571266302915, 'lng': -73.94596931970848}, 'southwest': {'lat': 40.6544286697085, 'lng': -73.9486672802915}}}, 'icon': 'https://maps.gstatic.com/mapfiles/place_api/icons/generic_recreational-71.png', 'name': 'Rolph Henry Playground', 'opening_hours': {'open_now': True}, 'photos': [{'height': 2160, 'html_attributions': ['<a href=\"https://maps.google.com/maps/contrib/100294760491882210246\">MsLisaLive NYC Local Guide</a>'], 'photo_reference': 'CkQ0AAAAn3HedBhQr7IMBs5yoUCQh5sYByQ0wI-gStxFMgLWUnYuAETaMdnlLoaF2osDuCxp0fuUgub3hmTjFdFhb1g-4xIQlwy9IkjeY8hkFfGYZT_R7xoUx-SzkWpsiHnJB04owz1IoA47Eok', 'width': 2160}], 'place_id': 'ChIJ49nlA2ZbwokRQpiHy7Fw3WI', 'plus_code': {'compound_code': 'M343+82 Brooklyn, NY, USA', 'global_code': '87G8M343+82'}, 'rating': 3.8, 'reference': 'ChIJ49nlA2ZbwokRQpiHy7Fw3WI', 'scope': 'GOOGLE', 'types': ['park', 'tourist_attraction', 'point_of_interest', 'establishment'], 'user_ratings_total': 40, 'vicinity': '748 New York Avenue, Brooklyn'}]\n"
          ],
          "name": "stdout"
        }
      ]
    },
    {
      "cell_type": "code",
      "metadata": {
        "id": "Ujt8S8-P7-1m",
        "colab_type": "code",
        "colab": {
          "base_uri": "https://localhost:8080/",
          "height": 35
        },
        "outputId": "815852bf-3777-4df9-e528-e3aa54b21374"
      },
      "source": [
        "len(results)"
      ],
      "execution_count": 62,
      "outputs": [
        {
          "output_type": "execute_result",
          "data": {
            "text/plain": [
              "1"
            ]
          },
          "metadata": {
            "tags": []
          },
          "execution_count": 62
        }
      ]
    },
    {
      "cell_type": "code",
      "metadata": {
        "id": "YMgQSWHF7-3z",
        "colab_type": "code",
        "colab": {}
      },
      "source": [
        "df_5 = df.head(20)"
      ],
      "execution_count": 63,
      "outputs": []
    },
    {
      "cell_type": "code",
      "metadata": {
        "id": "rMbH7Q9R7-6K",
        "colab_type": "code",
        "colab": {}
      },
      "source": [
        "df_5"
      ],
      "execution_count": null,
      "outputs": []
    },
    {
      "cell_type": "code",
      "metadata": {
        "id": "-kv_wBDu7-8f",
        "colab_type": "code",
        "colab": {}
      },
      "source": [
        "ans = []\n",
        "for index,row in df_5.iterrows():\n",
        "    lat, lng = row['lat'], row['lng']\n",
        "    results = get_near_by_search(lat, lng, 1000)\n",
        "    ans.append(len(results))"
      ],
      "execution_count": 65,
      "outputs": []
    },
    {
      "cell_type": "code",
      "metadata": {
        "id": "Uop6ADz28K50",
        "colab_type": "code",
        "colab": {
          "base_uri": "https://localhost:8080/",
          "height": 35
        },
        "outputId": "6fa58734-ab2d-44a6-cbda-74901ca016a7"
      },
      "source": [
        "print(ans)"
      ],
      "execution_count": 66,
      "outputs": [
        {
          "output_type": "stream",
          "text": [
            "[2, 1, 1, 0, 2, 1, 2, 4, 2, 2, 0, 0, 1, 0, 1, 3, 1, 1, 8, 2]\n"
          ],
          "name": "stdout"
        }
      ]
    },
    {
      "cell_type": "code",
      "metadata": {
        "id": "c7zEpV8-8K8L",
        "colab_type": "code",
        "colab": {}
      },
      "source": [
        "df_5['num_tourist_attraction_1000_meters'] = ans"
      ],
      "execution_count": 67,
      "outputs": []
    },
    {
      "cell_type": "code",
      "metadata": {
        "id": "NKXDbyFq8K-N",
        "colab_type": "code",
        "colab": {}
      },
      "source": [
        "df_5"
      ],
      "execution_count": null,
      "outputs": []
    },
    {
      "cell_type": "code",
      "metadata": {
        "id": "Azu6eDLx8LAa",
        "colab_type": "code",
        "colab": {}
      },
      "source": [
        "ans = []\n",
        "for index,row in df.iterrows():\n",
        "    lat, lng = row['lat'], row['lng']\n",
        "    results = get_near_by_search(lat, lng, 1000)\n",
        "    ans.append(len(results))"
      ],
      "execution_count": 69,
      "outputs": []
    },
    {
      "cell_type": "code",
      "metadata": {
        "id": "pUz3XvBZ8LCu",
        "colab_type": "code",
        "colab": {}
      },
      "source": [
        "df['num_tourist_attraction_1000_meters'] = ans"
      ],
      "execution_count": 70,
      "outputs": []
    },
    {
      "cell_type": "code",
      "metadata": {
        "id": "HLQZQ-Bj8LFE",
        "colab_type": "code",
        "colab": {}
      },
      "source": [
        "df.head(30)"
      ],
      "execution_count": null,
      "outputs": []
    },
    {
      "cell_type": "code",
      "metadata": {
        "id": "k6HqHflo8LH6",
        "colab_type": "code",
        "colab": {}
      },
      "source": [
        "df.to_csv('experiment_lat_lng_cofe_tourist_attraction.csv', index=False)"
      ],
      "execution_count": 72,
      "outputs": []
    }
  ]
}