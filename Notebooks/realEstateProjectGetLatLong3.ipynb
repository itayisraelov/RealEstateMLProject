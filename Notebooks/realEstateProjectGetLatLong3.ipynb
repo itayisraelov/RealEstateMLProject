{
  "nbformat": 4,
  "nbformat_minor": 0,
  "metadata": {
    "colab": {
      "name": "realEstateProjectGetLatLong3.ipynb",
      "provenance": []
    },
    "kernelspec": {
      "name": "python3",
      "display_name": "Python 3"
    }
  },
  "cells": [
    {
      "cell_type": "code",
      "metadata": {
        "id": "rIHuZVqou3sC",
        "colab_type": "code",
        "colab": {}
      },
      "source": [
        "import numpy as np  # linear algebra\n",
        "import pandas as pd  # data processing, CSV file I/O (e.g. pd.read_csv)\n",
        "import matplotlib.pyplot as plt\n",
        "import seaborn as sns\n",
        "import os\n",
        "from sklearn.model_selection import train_test_split\n",
        "from geopy.geocoders import Nominatim\n",
        "from sklearn.preprocessing import LabelEncoder\n",
        "from sklearn.preprocessing import MinMaxScaler\n",
        "import lightgbm as lgb\n",
        "import xgboost as xgb\n",
        "from sklearn.ensemble import RandomForestRegressor\n",
        "from sklearn.metrics import mean_squared_error\n",
        "color = sns.color_palette()\n",
        "pd.options.mode.chained_assignment = None  # default='warn'"
      ],
      "execution_count": 2,
      "outputs": []
    },
    {
      "cell_type": "code",
      "metadata": {
        "id": "igO4EI1Eu6EG",
        "colab_type": "code",
        "colab": {}
      },
      "source": [
        "df1 = pd.read_excel(\"2019_bronx.xlsx\")\n",
        "df2 = pd.read_excel(\"2019_brooklyn.xlsx\")\n",
        "df3 = pd.read_excel(\"2019_manhattan.xlsx\")\n",
        "df4 = pd.read_excel(\"2019_queens.xlsx\")\n",
        "df5 = pd.read_excel(\"2019_statenisland.xlsx\")"
      ],
      "execution_count": 3,
      "outputs": []
    },
    {
      "cell_type": "code",
      "metadata": {
        "id": "Q2dGX159u9xF",
        "colab_type": "code",
        "colab": {}
      },
      "source": [
        "df1['AREA'] = 'bronx'\n",
        "df2['AREA'] = 'brooklyn'\n",
        "df3['AREA'] = 'manhattan'\n",
        "df4['AREA'] = 'queens'\n",
        "df5['AREA'] = 'statenisland'"
      ],
      "execution_count": 4,
      "outputs": []
    },
    {
      "cell_type": "code",
      "metadata": {
        "id": "z9vfOGsYu92M",
        "colab_type": "code",
        "colab": {}
      },
      "source": [
        "frames = [df1, df2, df3, df4, df5]\n",
        "df = pd.concat(frames)"
      ],
      "execution_count": 5,
      "outputs": []
    },
    {
      "cell_type": "code",
      "metadata": {
        "id": "m9kukNZuu96u",
        "colab_type": "code",
        "colab": {}
      },
      "source": [
        "df.columns = ['BOROUGH',\n",
        "                  'NEIGHBORHOOD',\n",
        "                  'BUILDING CLASS CATEGORY',\n",
        "                  'TAX CLASS AS OF FINAL ROLL 18/19',\n",
        "                  'BLOCK',\n",
        "                  'LOT',\n",
        "                  'EASE-MENT',\n",
        "                  'BUILDING CLASS AS OF FINAL ROLL 18/19',\n",
        "                  'ADDRESS',\n",
        "                  'APARTMENT NUMBER',\n",
        "                  'ZIP CODE',\n",
        "                  'RESIDENTIAL UNITS',\n",
        "                  'COMMERCIAL UNITS',\n",
        "                  'TOTAL UNITS',\n",
        "                  'LAND SQUARE FEET',\n",
        "                  'GROSS SQUARE FEET',\n",
        "                  'YEAR BUILT',\n",
        "                  'TAX CLASS AT TIME OF SALE',\n",
        "                  'BUILDING CLASS AT TIME OF SALE',\n",
        "                  'SALE PRICE',\n",
        "                  'SALE DATE',\n",
        "                  'AREA']"
      ],
      "execution_count": 6,
      "outputs": []
    },
    {
      "cell_type": "code",
      "metadata": {
        "id": "r8ZXoFZ_vDvh",
        "colab_type": "code",
        "colab": {}
      },
      "source": [
        "df['FINAL_ADDRESS'] = df['ADDRESS'].apply(lambda x: x + \" NYC\")"
      ],
      "execution_count": 7,
      "outputs": []
    },
    {
      "cell_type": "code",
      "metadata": {
        "id": "XepeHpsbvFXN",
        "colab_type": "code",
        "colab": {}
      },
      "source": [
        "df = df.drop(['EASE-MENT', 'APARTMENT NUMBER'], axis=1)\n",
        "\n",
        "df = df[df['SALE PRICE'] < 3e6]\n",
        "df = df[df['SALE PRICE'] > 5000]\n",
        "\n",
        "df = df[df['RESIDENTIAL UNITS'] < 10.0]\n",
        "\n",
        "df = df[df['COMMERCIAL UNITS'] < 5.0]\n",
        "\n",
        "df = df[df['YEAR BUILT'] > 1860]\n",
        "df = df[df['YEAR BUILT'] <= 2020]\n",
        "\n",
        "df = df[df['GROSS SQUARE FEET'] < 4600]\n",
        "df = df[df['GROSS SQUARE FEET'] > 50]\n",
        "\n",
        "df = df[df['LAND SQUARE FEET'] > 200]\n",
        "df = df[df['LAND SQUARE FEET'] < 7000]\n",
        "\n",
        "llimit = np.percentile(df['ZIP CODE'], 1)\n",
        "df = df[df['ZIP CODE'] > llimit]\n",
        "\n",
        "df = df[df['TOTAL UNITS'] < 5]\n",
        "df = df[df['TOTAL UNITS'] > 0]\n",
        "\n",
        "df = df[df['LOT'] < 250]"
      ],
      "execution_count": 8,
      "outputs": []
    },
    {
      "cell_type": "code",
      "metadata": {
        "id": "TeIKe7x2vIZt",
        "colab_type": "code",
        "colab": {}
      },
      "source": [
        "df = df.dropna(how='any', axis=0)"
      ],
      "execution_count": 9,
      "outputs": []
    },
    {
      "cell_type": "code",
      "metadata": {
        "id": "qS8UqZPMvJ8V",
        "colab_type": "code",
        "colab": {
          "base_uri": "https://localhost:8080/",
          "height": 35
        },
        "outputId": "6537e055-5f09-40a8-fc67-50886e216012"
      },
      "source": [
        "df.shape[0]"
      ],
      "execution_count": 10,
      "outputs": [
        {
          "output_type": "execute_result",
          "data": {
            "text/plain": [
              "22244"
            ]
          },
          "metadata": {
            "tags": []
          },
          "execution_count": 10
        }
      ]
    },
    {
      "cell_type": "code",
      "metadata": {
        "id": "PIb5PUWCu99Y",
        "colab_type": "code",
        "colab": {
          "base_uri": "https://localhost:8080/",
          "height": 351
        },
        "outputId": "8a46846e-d90f-49e8-cfd5-3ad148ec6e41"
      },
      "source": [
        "lat_long_exp = df.head(50)\n",
        "lat_long_exp.shape[0]\n",
        "lat_long_exp.head(3)"
      ],
      "execution_count": 13,
      "outputs": [
        {
          "output_type": "execute_result",
          "data": {
            "text/html": [
              "<div>\n",
              "<style scoped>\n",
              "    .dataframe tbody tr th:only-of-type {\n",
              "        vertical-align: middle;\n",
              "    }\n",
              "\n",
              "    .dataframe tbody tr th {\n",
              "        vertical-align: top;\n",
              "    }\n",
              "\n",
              "    .dataframe thead th {\n",
              "        text-align: right;\n",
              "    }\n",
              "</style>\n",
              "<table border=\"1\" class=\"dataframe\">\n",
              "  <thead>\n",
              "    <tr style=\"text-align: right;\">\n",
              "      <th></th>\n",
              "      <th>BOROUGH</th>\n",
              "      <th>NEIGHBORHOOD</th>\n",
              "      <th>BUILDING CLASS CATEGORY</th>\n",
              "      <th>TAX CLASS AS OF FINAL ROLL 18/19</th>\n",
              "      <th>BLOCK</th>\n",
              "      <th>LOT</th>\n",
              "      <th>BUILDING CLASS AS OF FINAL ROLL 18/19</th>\n",
              "      <th>ADDRESS</th>\n",
              "      <th>ZIP CODE</th>\n",
              "      <th>RESIDENTIAL UNITS</th>\n",
              "      <th>COMMERCIAL UNITS</th>\n",
              "      <th>TOTAL UNITS</th>\n",
              "      <th>LAND SQUARE FEET</th>\n",
              "      <th>GROSS SQUARE FEET</th>\n",
              "      <th>YEAR BUILT</th>\n",
              "      <th>TAX CLASS AT TIME OF SALE</th>\n",
              "      <th>BUILDING CLASS AT TIME OF SALE</th>\n",
              "      <th>SALE PRICE</th>\n",
              "      <th>SALE DATE</th>\n",
              "      <th>AREA</th>\n",
              "      <th>FINAL_ADDRESS</th>\n",
              "    </tr>\n",
              "  </thead>\n",
              "  <tbody>\n",
              "    <tr>\n",
              "      <th>0</th>\n",
              "      <td>2</td>\n",
              "      <td>BATHGATE</td>\n",
              "      <td>01 ONE FAMILY DWELLINGS</td>\n",
              "      <td>1</td>\n",
              "      <td>3030</td>\n",
              "      <td>70</td>\n",
              "      <td>A1</td>\n",
              "      <td>4445 PARK AVENUE</td>\n",
              "      <td>10457.0</td>\n",
              "      <td>1.0</td>\n",
              "      <td>0.0</td>\n",
              "      <td>1.0</td>\n",
              "      <td>1694.0</td>\n",
              "      <td>1497.0</td>\n",
              "      <td>1899.0</td>\n",
              "      <td>1</td>\n",
              "      <td>A1</td>\n",
              "      <td>388500</td>\n",
              "      <td>2019-07-23</td>\n",
              "      <td>bronx</td>\n",
              "      <td>4445 PARK AVENUE NYC</td>\n",
              "    </tr>\n",
              "    <tr>\n",
              "      <th>1</th>\n",
              "      <td>2</td>\n",
              "      <td>BATHGATE</td>\n",
              "      <td>01 ONE FAMILY DWELLINGS</td>\n",
              "      <td>1</td>\n",
              "      <td>3039</td>\n",
              "      <td>29</td>\n",
              "      <td>A9</td>\n",
              "      <td>2327 WASHINGTON AVENUE</td>\n",
              "      <td>10458.0</td>\n",
              "      <td>1.0</td>\n",
              "      <td>0.0</td>\n",
              "      <td>1.0</td>\n",
              "      <td>1095.0</td>\n",
              "      <td>1260.0</td>\n",
              "      <td>1910.0</td>\n",
              "      <td>1</td>\n",
              "      <td>A9</td>\n",
              "      <td>110000</td>\n",
              "      <td>2019-12-06</td>\n",
              "      <td>bronx</td>\n",
              "      <td>2327 WASHINGTON AVENUE NYC</td>\n",
              "    </tr>\n",
              "    <tr>\n",
              "      <th>2</th>\n",
              "      <td>2</td>\n",
              "      <td>BATHGATE</td>\n",
              "      <td>01 ONE FAMILY DWELLINGS</td>\n",
              "      <td>1</td>\n",
              "      <td>3043</td>\n",
              "      <td>55</td>\n",
              "      <td>A1</td>\n",
              "      <td>1948 BATHGATE AVENUE</td>\n",
              "      <td>10457.0</td>\n",
              "      <td>1.0</td>\n",
              "      <td>0.0</td>\n",
              "      <td>1.0</td>\n",
              "      <td>2356.0</td>\n",
              "      <td>2047.0</td>\n",
              "      <td>1901.0</td>\n",
              "      <td>1</td>\n",
              "      <td>A1</td>\n",
              "      <td>470000</td>\n",
              "      <td>2019-03-08</td>\n",
              "      <td>bronx</td>\n",
              "      <td>1948 BATHGATE AVENUE NYC</td>\n",
              "    </tr>\n",
              "  </tbody>\n",
              "</table>\n",
              "</div>"
            ],
            "text/plain": [
              "   BOROUGH NEIGHBORHOOD  ...   AREA               FINAL_ADDRESS\n",
              "0        2     BATHGATE  ...  bronx        4445 PARK AVENUE NYC\n",
              "1        2     BATHGATE  ...  bronx  2327 WASHINGTON AVENUE NYC\n",
              "2        2     BATHGATE  ...  bronx    1948 BATHGATE AVENUE NYC\n",
              "\n",
              "[3 rows x 21 columns]"
            ]
          },
          "metadata": {
            "tags": []
          },
          "execution_count": 13
        }
      ]
    },
    {
      "cell_type": "code",
      "metadata": {
        "id": "mcUfUEDku9_0",
        "colab_type": "code",
        "colab": {}
      },
      "source": [
        "single_line_address = \"4445 PARK AVENUE NYC\""
      ],
      "execution_count": 14,
      "outputs": []
    }
  ]
}