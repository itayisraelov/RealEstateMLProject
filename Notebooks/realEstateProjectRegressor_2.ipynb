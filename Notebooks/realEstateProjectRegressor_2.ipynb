{
  "nbformat": 4,
  "nbformat_minor": 0,
  "metadata": {
    "colab": {
      "name": "realEstateProjectRegressor.ipynb",
      "provenance": []
    },
    "kernelspec": {
      "name": "python3",
      "display_name": "Python 3"
    }
  },
  "cells": [
    {
      "cell_type": "code",
      "metadata": {
        "id": "fYaI2P0hms64",
        "colab_type": "code",
        "colab": {}
      },
      "source": [
        "import numpy as np  # linear algebra\n",
        "import pandas as pd  # data processing, CSV file I/O (e.g. pd.read_csv)\n",
        "import matplotlib.pyplot as plt\n",
        "import seaborn as sns\n",
        "import os\n",
        "from sklearn.model_selection import train_test_split\n",
        "from geopy.geocoders import Nominatim\n",
        "from sklearn.preprocessing import LabelEncoder\n",
        "from sklearn.preprocessing import MinMaxScaler\n",
        "import lightgbm as lgb\n",
        "import xgboost as xgb\n",
        "from sklearn.ensemble import RandomForestRegressor\n",
        "from sklearn.metrics import mean_squared_error\n",
        "color = sns.color_palette()\n",
        "pd.options.mode.chained_assignment = None  # default='warn'"
      ],
      "execution_count": 2,
      "outputs": []
    },
    {
      "cell_type": "code",
      "metadata": {
        "id": "662Twcptmwhu",
        "colab_type": "code",
        "colab": {}
      },
      "source": [
        "df1 = pd.read_excel(\"2019_bronx.xlsx\")\n",
        "df2 = pd.read_excel(\"2019_brooklyn.xlsx\")\n",
        "df3 = pd.read_excel(\"2019_manhattan.xlsx\")\n",
        "df4 = pd.read_excel(\"2019_queens.xlsx\")\n",
        "df5 = pd.read_excel(\"2019_statenisland.xlsx\")"
      ],
      "execution_count": 4,
      "outputs": []
    },
    {
      "cell_type": "code",
      "metadata": {
        "id": "nsO2tiWynC6o",
        "colab_type": "code",
        "colab": {}
      },
      "source": [
        "df1['AREA'] = 'bronx'\n",
        "df2['AREA'] = 'brooklyn'\n",
        "df3['AREA'] = 'manhattan'\n",
        "df4['AREA'] = 'queens'\n",
        "df5['AREA'] = 'statenisland'\n"
      ],
      "execution_count": 6,
      "outputs": []
    },
    {
      "cell_type": "code",
      "metadata": {
        "id": "RxI5KMXanV79",
        "colab_type": "code",
        "colab": {}
      },
      "source": [
        "frames = [df1, df2, df3, df4, df5]\n",
        "df = pd.concat(frames)"
      ],
      "execution_count": 8,
      "outputs": []
    },
    {
      "cell_type": "code",
      "metadata": {
        "id": "drXO6VonndjM",
        "colab_type": "code",
        "colab": {}
      },
      "source": [
        "df.columns = ['BOROUGH',\n",
        "                  'NEIGHBORHOOD',\n",
        "                  'BUILDING CLASS CATEGORY',\n",
        "                  'TAX CLASS AS OF FINAL ROLL 18/19',\n",
        "                  'BLOCK',\n",
        "                  'LOT',\n",
        "                  'EASE-MENT',\n",
        "                  'BUILDING CLASS AS OF FINAL ROLL 18/19',\n",
        "                  'ADDRESS',\n",
        "                  'APARTMENT NUMBER',\n",
        "                  'ZIP CODE',\n",
        "                  'RESIDENTIAL UNITS',\n",
        "                  'COMMERCIAL UNITS',\n",
        "                  'TOTAL UNITS',\n",
        "                  'LAND SQUARE FEET',\n",
        "                  'GROSS SQUARE FEET',\n",
        "                  'YEAR BUILT',\n",
        "                  'TAX CLASS AT TIME OF SALE',\n",
        "                  'BUILDING CLASS AT TIME OF SALE',\n",
        "                  'SALE PRICE',\n",
        "                  'SALE DATE',\n",
        "                  'AREA']"
      ],
      "execution_count": 9,
      "outputs": []
    },
    {
      "cell_type": "code",
      "metadata": {
        "id": "XgZReP-0nkFO",
        "colab_type": "code",
        "colab": {}
      },
      "source": [
        "df['FINAL_ADDRESS'] = df['ADDRESS'].apply(lambda x: x + \" NYC\")"
      ],
      "execution_count": 10,
      "outputs": []
    },
    {
      "cell_type": "code",
      "metadata": {
        "id": "8_QNIUOSnP8G",
        "colab_type": "code",
        "colab": {}
      },
      "source": [
        "df = df.drop(['EASE-MENT', 'APARTMENT NUMBER'], axis=1)\n",
        "\n",
        "df = df[df['SALE PRICE'] < 3e6]\n",
        "df = df[df['SALE PRICE'] > 5000]\n",
        "\n",
        "df = df[df['RESIDENTIAL UNITS'] < 10.0]\n",
        "\n",
        "df = df[df['COMMERCIAL UNITS'] < 5.0]\n",
        "\n",
        "df = df[df['YEAR BUILT'] > 1860]\n",
        "df = df[df['YEAR BUILT'] <= 2020]\n",
        "\n",
        "df = df[df['GROSS SQUARE FEET'] < 4600]\n",
        "df = df[df['GROSS SQUARE FEET'] > 50]\n",
        "\n",
        "df = df[df['LAND SQUARE FEET'] > 200]\n",
        "df = df[df['LAND SQUARE FEET'] < 7000]\n",
        "\n",
        "llimit = np.percentile(df['ZIP CODE'], 1)\n",
        "df = df[df['ZIP CODE'] > llimit]\n",
        "\n",
        "df = df[df['TOTAL UNITS'] < 5]\n",
        "df = df[df['TOTAL UNITS'] > 0]\n",
        "\n",
        "df = df[df['LOT'] < 250]"
      ],
      "execution_count": 11,
      "outputs": []
    },
    {
      "cell_type": "code",
      "metadata": {
        "id": "qCxBNDHAnvcu",
        "colab_type": "code",
        "colab": {}
      },
      "source": [
        "df = df.dropna(how='any', axis=0)"
      ],
      "execution_count": 12,
      "outputs": []
    },
    {
      "cell_type": "code",
      "metadata": {
        "id": "lbBrefILnzVl",
        "colab_type": "code",
        "colab": {}
      },
      "source": [
        "df_train, df_test = train_test_split(df, test_size=0.2, random_state=42, shuffle=True)\n",
        "train_target = df_train['SALE PRICE']\n",
        "train = df_train.drop(['SALE PRICE'], axis=1)\n",
        "test_target = df_test['SALE PRICE']\n",
        "test = df_test.drop(['SALE PRICE'], axis=1)"
      ],
      "execution_count": 14,
      "outputs": []
    },
    {
      "cell_type": "code",
      "metadata": {
        "id": "jYUlvmNkn5yt",
        "colab_type": "code",
        "colab": {}
      },
      "source": [
        "cat = ['NEIGHBORHOOD', 'BUILDING CLASS CATEGORY', 'BUILDING CLASS AS OF FINAL ROLL 18/19', 'ADDRESS',\n",
        "           'BUILDING CLASS AT TIME OF SALE', 'SALE DATE', 'AREA', 'FINAL_ADDRESS']\n",
        "final = pd.concat([train, test])\n",
        "for col in cat:\n",
        "    lb = LabelEncoder()\n",
        "    final[col] = lb.fit_transform(final[col].values)\n",
        "\n",
        "final['TAX CLASS AS OF FINAL ROLL 18/19'] = final['TAX CLASS AS OF FINAL ROLL 18/19']\\\n",
        "    .map({'2A': 2, '1': 1, '4': 4})"
      ],
      "execution_count": 15,
      "outputs": []
    },
    {
      "cell_type": "code",
      "metadata": {
        "id": "tTEjqnfUoSit",
        "colab_type": "code",
        "colab": {}
      },
      "source": [
        "for col in final.columns:\n",
        "    minmax = MinMaxScaler()\n",
        "    final[col] = minmax.fit_transform(final[col].values.reshape(-1, 1))"
      ],
      "execution_count": 16,
      "outputs": []
    },
    {
      "cell_type": "code",
      "metadata": {
        "id": "H_3UqCb2ocku",
        "colab_type": "code",
        "colab": {}
      },
      "source": [
        "train = final[:len(train)]\n",
        "test = final[len(train):]"
      ],
      "execution_count": 17,
      "outputs": []
    },
    {
      "cell_type": "code",
      "metadata": {
        "id": "Eb5sV-vNog4V",
        "colab_type": "code",
        "colab": {
          "base_uri": "https://localhost:8080/",
          "height": 173
        },
        "outputId": "27e9d5f8-9cea-4d22-f6d2-793c133d44b1"
      },
      "source": [
        "rf = RandomForestRegressor(n_estimators=300, verbose=True, max_depth=10, n_jobs=-1)\n",
        "rf.fit(train, train_target)\n",
        "res_pred = rf.predict(test)\n",
        "rms = np.sqrt(mean_squared_error(test_target, res_pred))\n",
        "print(\"RMS: %f\" % rms)"
      ],
      "execution_count": 32,
      "outputs": [
        {
          "output_type": "stream",
          "text": [
            "[Parallel(n_jobs=-1)]: Using backend ThreadingBackend with 2 concurrent workers.\n",
            "[Parallel(n_jobs=-1)]: Done  46 tasks      | elapsed:    3.1s\n",
            "[Parallel(n_jobs=-1)]: Done 196 tasks      | elapsed:   13.1s\n",
            "[Parallel(n_jobs=-1)]: Done 300 out of 300 | elapsed:   20.0s finished\n",
            "[Parallel(n_jobs=2)]: Using backend ThreadingBackend with 2 concurrent workers.\n",
            "[Parallel(n_jobs=2)]: Done  46 tasks      | elapsed:    0.0s\n",
            "[Parallel(n_jobs=2)]: Done 196 tasks      | elapsed:    0.1s\n",
            "[Parallel(n_jobs=2)]: Done 300 out of 300 | elapsed:    0.1s finished\n"
          ],
          "name": "stderr"
        },
        {
          "output_type": "stream",
          "text": [
            "RMS: 282412.346328\n"
          ],
          "name": "stdout"
        }
      ]
    },
    {
      "cell_type": "code",
      "metadata": {
        "id": "hxW-EbGjpV--",
        "colab_type": "code",
        "colab": {
          "base_uri": "https://localhost:8080/",
          "height": 186
        },
        "outputId": "31dac1f9-d14b-4d6e-9d5f-8388c0bbe71f"
      },
      "source": [
        "train.head(1)"
      ],
      "execution_count": 22,
      "outputs": [
        {
          "output_type": "execute_result",
          "data": {
            "text/html": [
              "<div>\n",
              "<style scoped>\n",
              "    .dataframe tbody tr th:only-of-type {\n",
              "        vertical-align: middle;\n",
              "    }\n",
              "\n",
              "    .dataframe tbody tr th {\n",
              "        vertical-align: top;\n",
              "    }\n",
              "\n",
              "    .dataframe thead th {\n",
              "        text-align: right;\n",
              "    }\n",
              "</style>\n",
              "<table border=\"1\" class=\"dataframe\">\n",
              "  <thead>\n",
              "    <tr style=\"text-align: right;\">\n",
              "      <th></th>\n",
              "      <th>BOROUGH</th>\n",
              "      <th>NEIGHBORHOOD</th>\n",
              "      <th>BUILDING CLASS CATEGORY</th>\n",
              "      <th>TAX CLASS AS OF FINAL ROLL 18/19</th>\n",
              "      <th>BLOCK</th>\n",
              "      <th>LOT</th>\n",
              "      <th>BUILDING CLASS AS OF FINAL ROLL 18/19</th>\n",
              "      <th>ADDRESS</th>\n",
              "      <th>ZIP CODE</th>\n",
              "      <th>RESIDENTIAL UNITS</th>\n",
              "      <th>COMMERCIAL UNITS</th>\n",
              "      <th>TOTAL UNITS</th>\n",
              "      <th>LAND SQUARE FEET</th>\n",
              "      <th>GROSS SQUARE FEET</th>\n",
              "      <th>YEAR BUILT</th>\n",
              "      <th>TAX CLASS AT TIME OF SALE</th>\n",
              "      <th>BUILDING CLASS AT TIME OF SALE</th>\n",
              "      <th>SALE DATE</th>\n",
              "      <th>AREA</th>\n",
              "      <th>FINAL_ADDRESS</th>\n",
              "    </tr>\n",
              "  </thead>\n",
              "  <tbody>\n",
              "    <tr>\n",
              "      <th>20590</th>\n",
              "      <td>0.666667</td>\n",
              "      <td>0.76</td>\n",
              "      <td>0.4375</td>\n",
              "      <td>1.0</td>\n",
              "      <td>0.570736</td>\n",
              "      <td>0.03629</td>\n",
              "      <td>0.561404</td>\n",
              "      <td>0.928248</td>\n",
              "      <td>0.801724</td>\n",
              "      <td>0.0</td>\n",
              "      <td>0.25</td>\n",
              "      <td>0.0</td>\n",
              "      <td>0.510235</td>\n",
              "      <td>0.752051</td>\n",
              "      <td>0.409396</td>\n",
              "      <td>1.0</td>\n",
              "      <td>0.568966</td>\n",
              "      <td>0.82866</td>\n",
              "      <td>0.666667</td>\n",
              "      <td>0.928248</td>\n",
              "    </tr>\n",
              "  </tbody>\n",
              "</table>\n",
              "</div>"
            ],
            "text/plain": [
              "        BOROUGH  NEIGHBORHOOD  ...      AREA  FINAL_ADDRESS\n",
              "20590  0.666667          0.76  ...  0.666667       0.928248\n",
              "\n",
              "[1 rows x 20 columns]"
            ]
          },
          "metadata": {
            "tags": []
          },
          "execution_count": 22
        }
      ]
    },
    {
      "cell_type": "markdown",
      "metadata": {
        "id": "z8WCPczCqJli",
        "colab_type": "text"
      },
      "source": [
        ""
      ]
    },
    {
      "cell_type": "code",
      "metadata": {
        "id": "fFyroWaIpILN",
        "colab_type": "code",
        "colab": {
          "base_uri": "https://localhost:8080/",
          "height": 87
        },
        "outputId": "4d237d82-b10f-4ee9-b094-4ecb8c4be6e0"
      },
      "source": [
        "print(rf.feature_importances_)"
      ],
      "execution_count": 21,
      "outputs": [
        {
          "output_type": "stream",
          "text": [
            "[0.00482569 0.05207141 0.00559672 0.0010736  0.28450213 0.01411966\n",
            " 0.0105638  0.0103002  0.19780994 0.00392554 0.00339836 0.00334931\n",
            " 0.05258587 0.29033312 0.02547732 0.00089173 0.00846692 0.01507589\n",
            " 0.00531113 0.01032166]\n"
          ],
          "name": "stdout"
        }
      ]
    },
    {
      "cell_type": "code",
      "metadata": {
        "id": "wE4utOkMokON",
        "colab_type": "code",
        "colab": {
          "base_uri": "https://localhost:8080/",
          "height": 35
        },
        "outputId": "ce9543bf-c7c8-45c9-f6ef-0f81c3a22317"
      },
      "source": [
        "lgbm = lgb.LGBMRegressor(max_depth=15, num_leaves=40)\n",
        "lgbm.fit(train, train_target)\n",
        "res_pred = lgbm.predict(test)\n",
        "rms = np.sqrt(mean_squared_error(test_target, res_pred))\n",
        "print(\"RMS: %f\" % rms)"
      ],
      "execution_count": 31,
      "outputs": [
        {
          "output_type": "stream",
          "text": [
            "RMS: 272372.432552\n"
          ],
          "name": "stdout"
        }
      ]
    },
    {
      "cell_type": "code",
      "metadata": {
        "id": "6VYSapwZqkAn",
        "colab_type": "code",
        "colab": {
          "base_uri": "https://localhost:8080/",
          "height": 52
        },
        "outputId": "cf3c01e7-0a15-4eea-e4a2-770ce67ddf66"
      },
      "source": [
        "print(lgbm.feature_importances_)"
      ],
      "execution_count": 23,
      "outputs": [
        {
          "output_type": "stream",
          "text": [
            "[ 66 425  64   8 647 220 157 321 491  42   6  20 427 457 267   0  29 253\n",
            "   0   0]\n"
          ],
          "name": "stdout"
        }
      ]
    },
    {
      "cell_type": "code",
      "metadata": {
        "id": "Cf0JNd5yozEF",
        "colab_type": "code",
        "colab": {
          "base_uri": "https://localhost:8080/",
          "height": 35
        },
        "outputId": "03cc18c1-d9ac-433f-a5fc-3272be5d1be2"
      },
      "source": [
        "xg_reg = xgb.XGBRegressor(objective='reg:squarederror', colsample_bytree=0.3, learning_rate=0.1,\n",
        "                              max_depth=5, alpha=10, n_estimators=10)\n",
        "xg_reg.fit(train, train_target)\n",
        "res_pred = xg_reg.predict(test)\n",
        "rms = np.sqrt(mean_squared_error(test_target, res_pred))\n",
        "print(\"RMS: %f\" % rms)"
      ],
      "execution_count": 20,
      "outputs": [
        {
          "output_type": "stream",
          "text": [
            "RMS: 441818.416454\n"
          ],
          "name": "stdout"
        }
      ]
    },
    {
      "cell_type": "code",
      "metadata": {
        "id": "QVao7jqbq2du",
        "colab_type": "code",
        "colab": {
          "base_uri": "https://localhost:8080/",
          "height": 87
        },
        "outputId": "25f2d523-22bb-40bc-aa2e-f4f8b72a8905"
      },
      "source": [
        "print(xg_reg.feature_importances_)"
      ],
      "execution_count": 24,
      "outputs": [
        {
          "output_type": "stream",
          "text": [
            "[0.13290177 0.03749656 0.02913029 0.0076951  0.06572558 0.00531941\n",
            " 0.15653601 0.00484527 0.16456841 0.0132339  0.00590178 0.\n",
            " 0.02618903 0.11737117 0.03847794 0.00490686 0.1053235  0.00450877\n",
            " 0.07310537 0.00676332]\n"
          ],
          "name": "stdout"
        }
      ]
    }
  ]
}