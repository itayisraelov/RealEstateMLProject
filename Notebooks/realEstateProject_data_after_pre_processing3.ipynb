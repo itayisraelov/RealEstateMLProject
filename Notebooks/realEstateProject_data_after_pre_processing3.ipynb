{
  "nbformat": 4,
  "nbformat_minor": 0,
  "metadata": {
    "colab": {
      "name": "realEstateProject_data_after_pre_processing3.ipynb",
      "provenance": []
    },
    "kernelspec": {
      "name": "python3",
      "display_name": "Python 3"
    }
  },
  "cells": [
    {
      "cell_type": "code",
      "metadata": {
        "id": "rIHuZVqou3sC",
        "colab_type": "code",
        "colab": {
          "base_uri": "https://localhost:8080/",
          "height": 72
        },
        "outputId": "6cc7c558-4d68-42eb-9f0f-081b74f8a367"
      },
      "source": [
        "import numpy as np  # linear algebra\n",
        "import pandas as pd  # data processing, CSV file I/O (e.g. pd.read_csv)\n",
        "import matplotlib.pyplot as plt\n",
        "import seaborn as sns\n",
        "import os\n",
        "from sklearn.model_selection import train_test_split\n",
        "from geopy.geocoders import Nominatim\n",
        "from sklearn.preprocessing import LabelEncoder\n",
        "from sklearn.preprocessing import MinMaxScaler\n",
        "import lightgbm as lgb\n",
        "import xgboost as xgb\n",
        "from sklearn.ensemble import RandomForestRegressor\n",
        "from sklearn.metrics import mean_squared_error\n",
        "color = sns.color_palette()\n",
        "pd.options.mode.chained_assignment = None  # default='warn'"
      ],
      "execution_count": 2,
      "outputs": [
        {
          "output_type": "stream",
          "text": [
            "/usr/local/lib/python3.6/dist-packages/statsmodels/tools/_testing.py:19: FutureWarning: pandas.util.testing is deprecated. Use the functions in the public API at pandas.testing instead.\n",
            "  import pandas.util.testing as tm\n"
          ],
          "name": "stderr"
        }
      ]
    },
    {
      "cell_type": "code",
      "metadata": {
        "id": "igO4EI1Eu6EG",
        "colab_type": "code",
        "colab": {}
      },
      "source": [
        "df1 = pd.read_excel(\"2019_bronx.xlsx\")\n",
        "df2 = pd.read_excel(\"2019_brooklyn.xlsx\")\n",
        "df3 = pd.read_excel(\"2019_manhattan.xlsx\")\n",
        "df4 = pd.read_excel(\"2019_queens.xlsx\")\n",
        "df5 = pd.read_excel(\"2019_statenisland.xlsx\")"
      ],
      "execution_count": 4,
      "outputs": []
    },
    {
      "cell_type": "code",
      "metadata": {
        "id": "Q2dGX159u9xF",
        "colab_type": "code",
        "colab": {}
      },
      "source": [
        "df1['AREA'] = 'bronx'\n",
        "df2['AREA'] = 'brooklyn'\n",
        "df3['AREA'] = 'manhattan'\n",
        "df4['AREA'] = 'queens'\n",
        "df5['AREA'] = 'statenisland'"
      ],
      "execution_count": 5,
      "outputs": []
    },
    {
      "cell_type": "code",
      "metadata": {
        "id": "z9vfOGsYu92M",
        "colab_type": "code",
        "colab": {}
      },
      "source": [
        "frames = [df1, df2, df3, df4, df5]\n",
        "df = pd.concat(frames)"
      ],
      "execution_count": 6,
      "outputs": []
    },
    {
      "cell_type": "code",
      "metadata": {
        "id": "m9kukNZuu96u",
        "colab_type": "code",
        "colab": {}
      },
      "source": [
        "df.columns = ['BOROUGH',\n",
        "                  'NEIGHBORHOOD',\n",
        "                  'BUILDING CLASS CATEGORY',\n",
        "                  'TAX CLASS AS OF FINAL ROLL 18/19',\n",
        "                  'BLOCK',\n",
        "                  'LOT',\n",
        "                  'EASE-MENT',\n",
        "                  'BUILDING CLASS AS OF FINAL ROLL 18/19',\n",
        "                  'ADDRESS',\n",
        "                  'APARTMENT NUMBER',\n",
        "                  'ZIP CODE',\n",
        "                  'RESIDENTIAL UNITS',\n",
        "                  'COMMERCIAL UNITS',\n",
        "                  'TOTAL UNITS',\n",
        "                  'LAND SQUARE FEET',\n",
        "                  'GROSS SQUARE FEET',\n",
        "                  'YEAR BUILT',\n",
        "                  'TAX CLASS AT TIME OF SALE',\n",
        "                  'BUILDING CLASS AT TIME OF SALE',\n",
        "                  'SALE PRICE',\n",
        "                  'SALE DATE',\n",
        "                  'AREA']"
      ],
      "execution_count": 7,
      "outputs": []
    },
    {
      "cell_type": "code",
      "metadata": {
        "id": "r8ZXoFZ_vDvh",
        "colab_type": "code",
        "colab": {}
      },
      "source": [
        "df['FINAL_ADDRESS'] = df['ADDRESS'].apply(lambda x: x + \" NYC\")"
      ],
      "execution_count": 8,
      "outputs": []
    },
    {
      "cell_type": "code",
      "metadata": {
        "id": "lNiFtuU42VK2",
        "colab_type": "code",
        "colab": {}
      },
      "source": [
        "df = df.drop(['EASE-MENT', 'APARTMENT NUMBER'], axis=1)"
      ],
      "execution_count": 9,
      "outputs": []
    },
    {
      "cell_type": "code",
      "metadata": {
        "id": "XepeHpsbvFXN",
        "colab_type": "code",
        "colab": {}
      },
      "source": [
        "df = df[df['SALE PRICE'] > 300000]\n",
        "df = df[df['SALE PRICE'] < 2e6]\n",
        "\n",
        "df = df[df['RESIDENTIAL UNITS'] < 10.0]\n",
        "\n",
        "df = df[df['COMMERCIAL UNITS'] < 5.0]\n",
        "\n",
        "df = df[df['YEAR BUILT'] > 1900]\n",
        "df = df[df['YEAR BUILT'] <= 2020]\n",
        "\n",
        "df = df[df['GROSS SQUARE FEET'] < 4600]\n",
        "df = df[df['GROSS SQUARE FEET'] > 50]\n",
        "\n",
        "df = df[df['LAND SQUARE FEET'] > 200]\n",
        "df = df[df['LAND SQUARE FEET'] < 5000]\n",
        "\n",
        "df = df[df['ZIP CODE'] > 10000]\n",
        "df = df[df['ZIP CODE'] < 12000]\n",
        "\n",
        "df = df[df['TOTAL UNITS'] < 5]\n",
        "df = df[df['TOTAL UNITS'] > 0]\n",
        "\n",
        "df = df[df['LOT'] < 150]"
      ],
      "execution_count": 10,
      "outputs": []
    },
    {
      "cell_type": "code",
      "metadata": {
        "id": "TeIKe7x2vIZt",
        "colab_type": "code",
        "colab": {}
      },
      "source": [
        "df = df.dropna(how='any', axis=0)"
      ],
      "execution_count": 11,
      "outputs": []
    },
    {
      "cell_type": "code",
      "metadata": {
        "id": "qS8UqZPMvJ8V",
        "colab_type": "code",
        "colab": {
          "base_uri": "https://localhost:8080/",
          "height": 52
        },
        "outputId": "be3c39f3-744a-4e81-ce67-70520196f1d5"
      },
      "source": [
        "print(df.shape[0])\n",
        "print(df.shape[1])"
      ],
      "execution_count": 12,
      "outputs": [
        {
          "output_type": "stream",
          "text": [
            "17693\n",
            "21\n"
          ],
          "name": "stdout"
        }
      ]
    },
    {
      "cell_type": "code",
      "metadata": {
        "id": "ot-8enBA-aw8",
        "colab_type": "code",
        "colab": {}
      },
      "source": [
        "# split the data into train and test set\n",
        "df_use, df_not_use = train_test_split(df, test_size=0.5, random_state=42, shuffle=True)"
      ],
      "execution_count": 13,
      "outputs": []
    },
    {
      "cell_type": "code",
      "metadata": {
        "id": "RJ8gT6lx-mX8",
        "colab_type": "code",
        "colab": {
          "base_uri": "https://localhost:8080/",
          "height": 52
        },
        "outputId": "48afb0f9-e343-4007-f250-9eb3a35134be"
      },
      "source": [
        "print(df_use.shape[0])\n",
        "print(df_use.shape[1])"
      ],
      "execution_count": 14,
      "outputs": [
        {
          "output_type": "stream",
          "text": [
            "8846\n",
            "21\n"
          ],
          "name": "stdout"
        }
      ]
    },
    {
      "cell_type": "code",
      "metadata": {
        "id": "cacaP9P--z-O",
        "colab_type": "code",
        "colab": {
          "base_uri": "https://localhost:8080/",
          "height": 869
        },
        "outputId": "cf071b43-85b0-4874-eee6-de711130f394"
      },
      "source": [
        "df_use"
      ],
      "execution_count": 15,
      "outputs": [
        {
          "output_type": "execute_result",
          "data": {
            "text/html": [
              "<div>\n",
              "<style scoped>\n",
              "    .dataframe tbody tr th:only-of-type {\n",
              "        vertical-align: middle;\n",
              "    }\n",
              "\n",
              "    .dataframe tbody tr th {\n",
              "        vertical-align: top;\n",
              "    }\n",
              "\n",
              "    .dataframe thead th {\n",
              "        text-align: right;\n",
              "    }\n",
              "</style>\n",
              "<table border=\"1\" class=\"dataframe\">\n",
              "  <thead>\n",
              "    <tr style=\"text-align: right;\">\n",
              "      <th></th>\n",
              "      <th>BOROUGH</th>\n",
              "      <th>NEIGHBORHOOD</th>\n",
              "      <th>BUILDING CLASS CATEGORY</th>\n",
              "      <th>TAX CLASS AS OF FINAL ROLL 18/19</th>\n",
              "      <th>BLOCK</th>\n",
              "      <th>LOT</th>\n",
              "      <th>BUILDING CLASS AS OF FINAL ROLL 18/19</th>\n",
              "      <th>ADDRESS</th>\n",
              "      <th>ZIP CODE</th>\n",
              "      <th>RESIDENTIAL UNITS</th>\n",
              "      <th>COMMERCIAL UNITS</th>\n",
              "      <th>TOTAL UNITS</th>\n",
              "      <th>LAND SQUARE FEET</th>\n",
              "      <th>GROSS SQUARE FEET</th>\n",
              "      <th>YEAR BUILT</th>\n",
              "      <th>TAX CLASS AT TIME OF SALE</th>\n",
              "      <th>BUILDING CLASS AT TIME OF SALE</th>\n",
              "      <th>SALE PRICE</th>\n",
              "      <th>SALE DATE</th>\n",
              "      <th>AREA</th>\n",
              "      <th>FINAL_ADDRESS</th>\n",
              "    </tr>\n",
              "  </thead>\n",
              "  <tbody>\n",
              "    <tr>\n",
              "      <th>2234</th>\n",
              "      <td>2</td>\n",
              "      <td>HIGHBRIDGE/MORRIS HEIGHTS</td>\n",
              "      <td>03 THREE FAMILY DWELLINGS</td>\n",
              "      <td>1</td>\n",
              "      <td>2872</td>\n",
              "      <td>105</td>\n",
              "      <td>C0</td>\n",
              "      <td>1432 SHAKESPEARE AVENUE</td>\n",
              "      <td>10452.0</td>\n",
              "      <td>3.0</td>\n",
              "      <td>0.0</td>\n",
              "      <td>3.0</td>\n",
              "      <td>3645.0</td>\n",
              "      <td>4422.0</td>\n",
              "      <td>1925.0</td>\n",
              "      <td>1</td>\n",
              "      <td>C0</td>\n",
              "      <td>786500</td>\n",
              "      <td>2019-06-19</td>\n",
              "      <td>bronx</td>\n",
              "      <td>1432 SHAKESPEARE AVENUE NYC</td>\n",
              "    </tr>\n",
              "    <tr>\n",
              "      <th>576</th>\n",
              "      <td>4</td>\n",
              "      <td>ASTORIA</td>\n",
              "      <td>02 TWO FAMILY DWELLINGS</td>\n",
              "      <td>1</td>\n",
              "      <td>874</td>\n",
              "      <td>63</td>\n",
              "      <td>B2</td>\n",
              "      <td>21-13 24TH ROAD</td>\n",
              "      <td>11102.0</td>\n",
              "      <td>2.0</td>\n",
              "      <td>0.0</td>\n",
              "      <td>2.0</td>\n",
              "      <td>1360.0</td>\n",
              "      <td>800.0</td>\n",
              "      <td>1940.0</td>\n",
              "      <td>1</td>\n",
              "      <td>B2</td>\n",
              "      <td>1225000</td>\n",
              "      <td>2019-09-26</td>\n",
              "      <td>queens</td>\n",
              "      <td>21-13 24TH ROAD NYC</td>\n",
              "    </tr>\n",
              "    <tr>\n",
              "      <th>17382</th>\n",
              "      <td>4</td>\n",
              "      <td>NEPONSIT</td>\n",
              "      <td>01 ONE FAMILY DWELLINGS</td>\n",
              "      <td>1</td>\n",
              "      <td>16314</td>\n",
              "      <td>15</td>\n",
              "      <td>A1</td>\n",
              "      <td>215 BEACH 149TH STREET</td>\n",
              "      <td>11694.0</td>\n",
              "      <td>1.0</td>\n",
              "      <td>0.0</td>\n",
              "      <td>1.0</td>\n",
              "      <td>4500.0</td>\n",
              "      <td>2200.0</td>\n",
              "      <td>1960.0</td>\n",
              "      <td>1</td>\n",
              "      <td>A1</td>\n",
              "      <td>999000</td>\n",
              "      <td>2019-11-07</td>\n",
              "      <td>queens</td>\n",
              "      <td>215 BEACH 149TH STREET NYC</td>\n",
              "    </tr>\n",
              "    <tr>\n",
              "      <th>15226</th>\n",
              "      <td>4</td>\n",
              "      <td>LAURELTON</td>\n",
              "      <td>01 ONE FAMILY DWELLINGS</td>\n",
              "      <td>1</td>\n",
              "      <td>12938</td>\n",
              "      <td>60</td>\n",
              "      <td>A1</td>\n",
              "      <td>131-40 229TH STREET</td>\n",
              "      <td>11413.0</td>\n",
              "      <td>1.0</td>\n",
              "      <td>0.0</td>\n",
              "      <td>1.0</td>\n",
              "      <td>3200.0</td>\n",
              "      <td>1748.0</td>\n",
              "      <td>1940.0</td>\n",
              "      <td>1</td>\n",
              "      <td>A1</td>\n",
              "      <td>640000</td>\n",
              "      <td>2019-01-29</td>\n",
              "      <td>queens</td>\n",
              "      <td>131-40 229TH STREET NYC</td>\n",
              "    </tr>\n",
              "    <tr>\n",
              "      <th>18351</th>\n",
              "      <td>3</td>\n",
              "      <td>OCEAN PARKWAY-SOUTH</td>\n",
              "      <td>01 ONE FAMILY DWELLINGS</td>\n",
              "      <td>1</td>\n",
              "      <td>7089</td>\n",
              "      <td>54</td>\n",
              "      <td>A1</td>\n",
              "      <td>705 AVENUE T</td>\n",
              "      <td>11223.0</td>\n",
              "      <td>1.0</td>\n",
              "      <td>0.0</td>\n",
              "      <td>1.0</td>\n",
              "      <td>2100.0</td>\n",
              "      <td>1630.0</td>\n",
              "      <td>1930.0</td>\n",
              "      <td>1</td>\n",
              "      <td>A1</td>\n",
              "      <td>1325000</td>\n",
              "      <td>2019-05-14</td>\n",
              "      <td>brooklyn</td>\n",
              "      <td>705 AVENUE T NYC</td>\n",
              "    </tr>\n",
              "    <tr>\n",
              "      <th>...</th>\n",
              "      <td>...</td>\n",
              "      <td>...</td>\n",
              "      <td>...</td>\n",
              "      <td>...</td>\n",
              "      <td>...</td>\n",
              "      <td>...</td>\n",
              "      <td>...</td>\n",
              "      <td>...</td>\n",
              "      <td>...</td>\n",
              "      <td>...</td>\n",
              "      <td>...</td>\n",
              "      <td>...</td>\n",
              "      <td>...</td>\n",
              "      <td>...</td>\n",
              "      <td>...</td>\n",
              "      <td>...</td>\n",
              "      <td>...</td>\n",
              "      <td>...</td>\n",
              "      <td>...</td>\n",
              "      <td>...</td>\n",
              "      <td>...</td>\n",
              "    </tr>\n",
              "    <tr>\n",
              "      <th>17043</th>\n",
              "      <td>4</td>\n",
              "      <td>MIDDLE VILLAGE</td>\n",
              "      <td>01 ONE FAMILY DWELLINGS</td>\n",
              "      <td>1</td>\n",
              "      <td>3039</td>\n",
              "      <td>33</td>\n",
              "      <td>A5</td>\n",
              "      <td>65-55 77TH PLACE</td>\n",
              "      <td>11379.0</td>\n",
              "      <td>1.0</td>\n",
              "      <td>0.0</td>\n",
              "      <td>1.0</td>\n",
              "      <td>1800.0</td>\n",
              "      <td>1224.0</td>\n",
              "      <td>1935.0</td>\n",
              "      <td>1</td>\n",
              "      <td>A5</td>\n",
              "      <td>780000</td>\n",
              "      <td>2019-11-20</td>\n",
              "      <td>queens</td>\n",
              "      <td>65-55 77TH PLACE NYC</td>\n",
              "    </tr>\n",
              "    <tr>\n",
              "      <th>18726</th>\n",
              "      <td>4</td>\n",
              "      <td>QUEENS VILLAGE</td>\n",
              "      <td>01 ONE FAMILY DWELLINGS</td>\n",
              "      <td>1</td>\n",
              "      <td>11158</td>\n",
              "      <td>27</td>\n",
              "      <td>A1</td>\n",
              "      <td>103-06 223RD STREET</td>\n",
              "      <td>11429.0</td>\n",
              "      <td>1.0</td>\n",
              "      <td>0.0</td>\n",
              "      <td>1.0</td>\n",
              "      <td>2850.0</td>\n",
              "      <td>1782.0</td>\n",
              "      <td>1925.0</td>\n",
              "      <td>1</td>\n",
              "      <td>A1</td>\n",
              "      <td>510000</td>\n",
              "      <td>2019-09-27</td>\n",
              "      <td>queens</td>\n",
              "      <td>103-06 223RD STREET NYC</td>\n",
              "    </tr>\n",
              "    <tr>\n",
              "      <th>13291</th>\n",
              "      <td>3</td>\n",
              "      <td>FLATBUSH-NORTH</td>\n",
              "      <td>02 TWO FAMILY DWELLINGS</td>\n",
              "      <td>1</td>\n",
              "      <td>4843</td>\n",
              "      <td>11</td>\n",
              "      <td>B1</td>\n",
              "      <td>84 EAST 39TH STREET</td>\n",
              "      <td>11203.0</td>\n",
              "      <td>2.0</td>\n",
              "      <td>0.0</td>\n",
              "      <td>2.0</td>\n",
              "      <td>1842.0</td>\n",
              "      <td>1980.0</td>\n",
              "      <td>1950.0</td>\n",
              "      <td>1</td>\n",
              "      <td>B1</td>\n",
              "      <td>690000</td>\n",
              "      <td>2019-01-15</td>\n",
              "      <td>brooklyn</td>\n",
              "      <td>84 EAST 39TH STREET NYC</td>\n",
              "    </tr>\n",
              "    <tr>\n",
              "      <th>2815</th>\n",
              "      <td>2</td>\n",
              "      <td>MELROSE/CONCOURSE</td>\n",
              "      <td>03 THREE FAMILY DWELLINGS</td>\n",
              "      <td>1</td>\n",
              "      <td>2405</td>\n",
              "      <td>108</td>\n",
              "      <td>C0</td>\n",
              "      <td>816 COURTLANDT AVENUE</td>\n",
              "      <td>10451.0</td>\n",
              "      <td>3.0</td>\n",
              "      <td>0.0</td>\n",
              "      <td>3.0</td>\n",
              "      <td>2116.0</td>\n",
              "      <td>3174.0</td>\n",
              "      <td>2002.0</td>\n",
              "      <td>1</td>\n",
              "      <td>C0</td>\n",
              "      <td>950000</td>\n",
              "      <td>2019-12-30</td>\n",
              "      <td>bronx</td>\n",
              "      <td>816 COURTLANDT AVENUE NYC</td>\n",
              "    </tr>\n",
              "    <tr>\n",
              "      <th>2177</th>\n",
              "      <td>5</td>\n",
              "      <td>GREAT KILLS</td>\n",
              "      <td>01 ONE FAMILY DWELLINGS</td>\n",
              "      <td>1</td>\n",
              "      <td>4572</td>\n",
              "      <td>37</td>\n",
              "      <td>A1</td>\n",
              "      <td>173 GREAVES AVENUE</td>\n",
              "      <td>10308.0</td>\n",
              "      <td>1.0</td>\n",
              "      <td>0.0</td>\n",
              "      <td>1.0</td>\n",
              "      <td>4000.0</td>\n",
              "      <td>1248.0</td>\n",
              "      <td>1965.0</td>\n",
              "      <td>1</td>\n",
              "      <td>A1</td>\n",
              "      <td>560000</td>\n",
              "      <td>2019-07-29</td>\n",
              "      <td>statenisland</td>\n",
              "      <td>173 GREAVES AVENUE NYC</td>\n",
              "    </tr>\n",
              "  </tbody>\n",
              "</table>\n",
              "<p>8846 rows × 21 columns</p>\n",
              "</div>"
            ],
            "text/plain": [
              "       BOROUGH  ...                FINAL_ADDRESS\n",
              "2234         2  ...  1432 SHAKESPEARE AVENUE NYC\n",
              "576          4  ...          21-13 24TH ROAD NYC\n",
              "17382        4  ...   215 BEACH 149TH STREET NYC\n",
              "15226        4  ...      131-40 229TH STREET NYC\n",
              "18351        3  ...             705 AVENUE T NYC\n",
              "...        ...  ...                          ...\n",
              "17043        4  ...         65-55 77TH PLACE NYC\n",
              "18726        4  ...      103-06 223RD STREET NYC\n",
              "13291        3  ...      84 EAST 39TH STREET NYC\n",
              "2815         2  ...    816 COURTLANDT AVENUE NYC\n",
              "2177         5  ...       173 GREAVES AVENUE NYC\n",
              "\n",
              "[8846 rows x 21 columns]"
            ]
          },
          "metadata": {
            "tags": []
          },
          "execution_count": 15
        }
      ]
    },
    {
      "cell_type": "code",
      "metadata": {
        "id": "XlcLBSVu3r7T",
        "colab_type": "code",
        "colab": {}
      },
      "source": [
        "df_use.to_csv('data_after_pre_processing.csv', index=False)"
      ],
      "execution_count": 16,
      "outputs": []
    }
  ]
}