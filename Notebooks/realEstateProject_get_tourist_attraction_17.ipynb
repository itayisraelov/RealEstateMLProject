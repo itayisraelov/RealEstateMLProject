{
  "nbformat": 4,
  "nbformat_minor": 0,
  "metadata": {
    "colab": {
      "name": "realEstateProject_get_tourist_attraction_17.ipynb",
      "provenance": []
    },
    "kernelspec": {
      "name": "python3",
      "display_name": "Python 3"
    }
  },
  "cells": [
    {
      "cell_type": "code",
      "metadata": {
        "id": "mlhgtFVP78kL",
        "colab_type": "code",
        "colab": {}
      },
      "source": [
        "import numpy as np  # linear algebra\n",
        "import pandas as pd  # data processing, CSV file I/O (e.g. pd.read_csv)\n",
        "import matplotlib.pyplot as plt\n",
        "import seaborn as sns\n",
        "import os\n",
        "from sklearn.model_selection import train_test_split\n",
        "from geopy.geocoders import Nominatim\n",
        "from sklearn.preprocessing import LabelEncoder\n",
        "from sklearn.preprocessing import MinMaxScaler\n",
        "import lightgbm as lgb\n",
        "import xgboost as xgb\n",
        "from sklearn.ensemble import RandomForestRegressor\n",
        "from sklearn.metrics import mean_squared_error\n",
        "color = sns.color_palette()\n",
        "pd.options.mode.chained_assignment = None  # default='warn'"
      ],
      "execution_count": 2,
      "outputs": []
    },
    {
      "cell_type": "code",
      "metadata": {
        "id": "Tv6yXiU-79Xa",
        "colab_type": "code",
        "colab": {}
      },
      "source": [
        "df = pd.read_csv(\"experiment_with_lat_and_lng_and_num_cofe.csv\") "
      ],
      "execution_count": 3,
      "outputs": []
    },
    {
      "cell_type": "code",
      "metadata": {
        "id": "Tk3ijn2J7-jp",
        "colab_type": "code",
        "colab": {
          "base_uri": "https://localhost:8080/",
          "height": 286
        },
        "outputId": "2c495eba-670a-43c1-e205-788ceededc46"
      },
      "source": [
        "df.head(2)"
      ],
      "execution_count": 4,
      "outputs": [
        {
          "output_type": "execute_result",
          "data": {
            "text/html": [
              "<div>\n",
              "<style scoped>\n",
              "    .dataframe tbody tr th:only-of-type {\n",
              "        vertical-align: middle;\n",
              "    }\n",
              "\n",
              "    .dataframe tbody tr th {\n",
              "        vertical-align: top;\n",
              "    }\n",
              "\n",
              "    .dataframe thead th {\n",
              "        text-align: right;\n",
              "    }\n",
              "</style>\n",
              "<table border=\"1\" class=\"dataframe\">\n",
              "  <thead>\n",
              "    <tr style=\"text-align: right;\">\n",
              "      <th></th>\n",
              "      <th>BOROUGH</th>\n",
              "      <th>NEIGHBORHOOD</th>\n",
              "      <th>BUILDING CLASS CATEGORY</th>\n",
              "      <th>TAX CLASS AS OF FINAL ROLL 18/19</th>\n",
              "      <th>BLOCK</th>\n",
              "      <th>LOT</th>\n",
              "      <th>BUILDING CLASS AS OF FINAL ROLL 18/19</th>\n",
              "      <th>ADDRESS</th>\n",
              "      <th>ZIP CODE</th>\n",
              "      <th>RESIDENTIAL UNITS</th>\n",
              "      <th>COMMERCIAL UNITS</th>\n",
              "      <th>TOTAL UNITS</th>\n",
              "      <th>LAND SQUARE FEET</th>\n",
              "      <th>GROSS SQUARE FEET</th>\n",
              "      <th>YEAR BUILT</th>\n",
              "      <th>TAX CLASS AT TIME OF SALE</th>\n",
              "      <th>BUILDING CLASS AT TIME OF SALE</th>\n",
              "      <th>SALE PRICE</th>\n",
              "      <th>SALE DATE</th>\n",
              "      <th>AREA</th>\n",
              "      <th>FINAL_ADDRESS</th>\n",
              "      <th>lat</th>\n",
              "      <th>lng</th>\n",
              "      <th>num_cafe_1000_meters</th>\n",
              "      <th>num_cafe_500_meters</th>\n",
              "    </tr>\n",
              "  </thead>\n",
              "  <tbody>\n",
              "    <tr>\n",
              "      <th>0</th>\n",
              "      <td>3</td>\n",
              "      <td>FLATBUSH-LEFFERTS GARDEN</td>\n",
              "      <td>01 ONE FAMILY DWELLINGS</td>\n",
              "      <td>1</td>\n",
              "      <td>5050</td>\n",
              "      <td>2</td>\n",
              "      <td>S0</td>\n",
              "      <td>625 ROGERS AVENUE</td>\n",
              "      <td>11225.0</td>\n",
              "      <td>1.0</td>\n",
              "      <td>2.0</td>\n",
              "      <td>3.0</td>\n",
              "      <td>3700.0</td>\n",
              "      <td>2128.0</td>\n",
              "      <td>1905.0</td>\n",
              "      <td>1</td>\n",
              "      <td>S0</td>\n",
              "      <td>1925000</td>\n",
              "      <td>2019-02-05</td>\n",
              "      <td>brooklyn</td>\n",
              "      <td>625 ROGERS AVENUE NYC</td>\n",
              "      <td>40.656321</td>\n",
              "      <td>-73.952859</td>\n",
              "      <td>20</td>\n",
              "      <td>8</td>\n",
              "    </tr>\n",
              "    <tr>\n",
              "      <th>1</th>\n",
              "      <td>4</td>\n",
              "      <td>HOWARD BEACH</td>\n",
              "      <td>01 ONE FAMILY DWELLINGS</td>\n",
              "      <td>1</td>\n",
              "      <td>14069</td>\n",
              "      <td>139</td>\n",
              "      <td>A1</td>\n",
              "      <td>85-11 164TH AVENUE</td>\n",
              "      <td>11414.0</td>\n",
              "      <td>1.0</td>\n",
              "      <td>0.0</td>\n",
              "      <td>1.0</td>\n",
              "      <td>4000.0</td>\n",
              "      <td>2192.0</td>\n",
              "      <td>1965.0</td>\n",
              "      <td>1</td>\n",
              "      <td>A1</td>\n",
              "      <td>730000</td>\n",
              "      <td>2019-07-02</td>\n",
              "      <td>queens</td>\n",
              "      <td>85-11 164TH AVENUE NYC</td>\n",
              "      <td>40.650046</td>\n",
              "      <td>-73.844749</td>\n",
              "      <td>2</td>\n",
              "      <td>0</td>\n",
              "    </tr>\n",
              "  </tbody>\n",
              "</table>\n",
              "</div>"
            ],
            "text/plain": [
              "   BOROUGH              NEIGHBORHOOD  ... num_cafe_1000_meters num_cafe_500_meters\n",
              "0        3  FLATBUSH-LEFFERTS GARDEN  ...                   20                   8\n",
              "1        4              HOWARD BEACH  ...                    2                   0\n",
              "\n",
              "[2 rows x 25 columns]"
            ]
          },
          "metadata": {
            "tags": []
          },
          "execution_count": 4
        }
      ]
    },
    {
      "cell_type": "code",
      "metadata": {
        "id": "AgMR3KWk7-l6",
        "colab_type": "code",
        "colab": {}
      },
      "source": [
        "example1 = \"api-key_geocoding.txt\"\n",
        "file1 = open(example1, \"r\")"
      ],
      "execution_count": 5,
      "outputs": []
    },
    {
      "cell_type": "code",
      "metadata": {
        "id": "6Fvg_Ik37-oE",
        "colab_type": "code",
        "colab": {}
      },
      "source": [
        "API_KEY = file1.read()"
      ],
      "execution_count": 6,
      "outputs": []
    },
    {
      "cell_type": "code",
      "metadata": {
        "id": "GTzz-np67-qO",
        "colab_type": "code",
        "colab": {}
      },
      "source": [
        "import json\n",
        "import urllib.request"
      ],
      "execution_count": 7,
      "outputs": []
    },
    {
      "cell_type": "code",
      "metadata": {
        "id": "D6vpiIfg7-sV",
        "colab_type": "code",
        "colab": {}
      },
      "source": [
        "URL_near_by_search = \"https://maps.googleapis.com/maps/api/place/nearbysearch/json\""
      ],
      "execution_count": 8,
      "outputs": []
    },
    {
      "cell_type": "code",
      "metadata": {
        "id": "QsPNPAgK7-ur",
        "colab_type": "code",
        "colab": {}
      },
      "source": [
        "def get_near_by_search(lat, lng, radius):\n",
        "    location = f\"{lat},{lng}\"\n",
        "    radius = radius\n",
        "    # Join the parts of the URL together into one string.\n",
        "    params = urllib.parse.urlencode(\n",
        "         {\n",
        "          \"query\": \"travel agency\",\n",
        "          \"opennow\": \"true\",\n",
        "          \"location\": location,\n",
        "          \"radius\": radius,\n",
        "          \"type\": \"travel_agency\",\n",
        "          \"key\": API_KEY,\n",
        "        }\n",
        "    )\n",
        "    url = f\"{URL_near_by_search}?{params}\"\n",
        "    result = json.load(urllib.request.urlopen(url))\n",
        "\n",
        "    if result[\"status\"] in [\"OK\", \"ZERO_RESULTS\"]:\n",
        "        return result[\"results\"]\n",
        "\n",
        "    raise Exception(result[\"error_message\"])"
      ],
      "execution_count": 36,
      "outputs": []
    },
    {
      "cell_type": "code",
      "metadata": {
        "id": "DPA9ASsg7-w-",
        "colab_type": "code",
        "colab": {}
      },
      "source": [
        "results = get_near_by_search(40.650046\t, -73.94875689999999, 2000)"
      ],
      "execution_count": 39,
      "outputs": []
    },
    {
      "cell_type": "code",
      "metadata": {
        "id": "QZGalAu77-zY",
        "colab_type": "code",
        "colab": {
          "base_uri": "https://localhost:8080/",
          "height": 55
        },
        "outputId": "b64da4c5-c824-4481-f68d-bfce28ad8f12"
      },
      "source": [
        "print(results)"
      ],
      "execution_count": 40,
      "outputs": [
        {
          "output_type": "stream",
          "text": [
            "[{'business_status': 'OPERATIONAL', 'geometry': {'location': {'lat': 40.6668313, 'lng': -73.9404284}, 'viewport': {'northeast': {'lat': 40.6680772802915, 'lng': -73.93908911970848}, 'southwest': {'lat': 40.66537931970851, 'lng': -73.9417870802915}}}, 'icon': 'https://maps.gstatic.com/mapfiles/place_api/icons/generic_business-71.png', 'name': 'Conci LLC', 'opening_hours': {'open_now': True}, 'place_id': 'ChIJizZS3X5bwokRiG0B1UzWLLc', 'plus_code': {'compound_code': 'M385+PR Brooklyn, NY, USA', 'global_code': '87G8M385+PR'}, 'reference': 'ChIJizZS3X5bwokRiG0B1UzWLLc', 'scope': 'GOOGLE', 'types': ['travel_agency', 'point_of_interest', 'establishment'], 'vicinity': '1425 Carroll Street, Brooklyn'}, {'business_status': 'OPERATIONAL', 'geometry': {'location': {'lat': 40.6618083, 'lng': -73.94442699999999}, 'viewport': {'northeast': {'lat': 40.6632336802915, 'lng': -73.94308681970848}, 'southwest': {'lat': 40.6605357197085, 'lng': -73.9457847802915}}}, 'icon': 'https://maps.gstatic.com/mapfiles/place_api/icons/generic_business-71.png', 'name': 'Executive Flights', 'opening_hours': {'open_now': True}, 'photos': [{'height': 603, 'html_attributions': ['<a href=\"https://maps.google.com/maps/contrib/105705925870640003191\">Executive Flights</a>'], 'photo_reference': 'CkQ0AAAAPO3HL7LpYIC9UlW3FV4IWBTHQTBsaGHZ4LgB6vNwjaf0r4IocsKLP945rLsJvy3nwJW_RDY3YmWmzsjc0Y45mxIQTOABkeMciONBkjHkB2j1FhoUAhwuU50hkpVt3HPTnnEOrF8hw50', 'width': 1073}], 'place_id': 'ChIJ_00rIntbwokR-adSOzne4I4', 'plus_code': {'compound_code': 'M364+P6 Brooklyn, NY, USA', 'global_code': '87G8M364+P6'}, 'rating': 5, 'reference': 'ChIJ_00rIntbwokR-adSOzne4I4', 'scope': 'GOOGLE', 'types': ['travel_agency', 'point_of_interest', 'establishment'], 'user_ratings_total': 5, 'vicinity': '552 East New York Avenue, Brooklyn'}, {'business_status': 'OPERATIONAL', 'geometry': {'location': {'lat': 40.66315400000001, 'lng': -73.9481685}, 'viewport': {'northeast': {'lat': 40.6641883302915, 'lng': -73.94678616970849}, 'southwest': {'lat': 40.6614903697085, 'lng': -73.9494841302915}}}, 'icon': 'https://maps.gstatic.com/mapfiles/place_api/icons/generic_business-71.png', 'name': 'Obscure New York Travel Guide', 'opening_hours': {'open_now': True}, 'photos': [{'height': 1024, 'html_attributions': ['<a href=\"https://maps.google.com/maps/contrib/105805448243866886745\">Obscure New York Travel Guide</a>'], 'photo_reference': 'CkQ0AAAAznBYL6f_ch4xkHrcvdcrMTBJbgiieEJsmfTNgdgerhG7dqqTEjoky-dyaV_d1kmrhlt6aq6WHPQRMBJsOikpBhIQ5ArENO62bbGySnrkKxtOxhoUAiCgJnDMUi1F_ZIBD56CJffgq-k', 'width': 768}], 'place_id': 'ChIJKfY183BbwokRdlSVgOomviw', 'plus_code': {'compound_code': 'M372+7P New York, NY, USA', 'global_code': '87G8M372+7P'}, 'reference': 'ChIJKfY183BbwokRdlSVgOomviw', 'scope': 'GOOGLE', 'types': ['travel_agency', 'point_of_interest', 'establishment'], 'vicinity': '372 Lefferts Avenue Suite 1, Brooklyn'}]\n"
          ],
          "name": "stdout"
        }
      ]
    },
    {
      "cell_type": "code",
      "metadata": {
        "id": "Ujt8S8-P7-1m",
        "colab_type": "code",
        "colab": {
          "base_uri": "https://localhost:8080/",
          "height": 35
        },
        "outputId": "0e62c136-3fc1-4e29-fc3c-3a85526885ce"
      },
      "source": [
        "len(results)"
      ],
      "execution_count": 41,
      "outputs": [
        {
          "output_type": "execute_result",
          "data": {
            "text/plain": [
              "3"
            ]
          },
          "metadata": {
            "tags": []
          },
          "execution_count": 41
        }
      ]
    },
    {
      "cell_type": "code",
      "metadata": {
        "id": "YMgQSWHF7-3z",
        "colab_type": "code",
        "colab": {}
      },
      "source": [
        "df_5 = df.head(20)"
      ],
      "execution_count": 49,
      "outputs": []
    },
    {
      "cell_type": "code",
      "metadata": {
        "id": "rMbH7Q9R7-6K",
        "colab_type": "code",
        "colab": {}
      },
      "source": [
        "df_5"
      ],
      "execution_count": null,
      "outputs": []
    },
    {
      "cell_type": "code",
      "metadata": {
        "id": "-kv_wBDu7-8f",
        "colab_type": "code",
        "colab": {}
      },
      "source": [
        "ans = []\n",
        "for index,row in df_5.iterrows():\n",
        "    lat, lng = row['lat'], row['lng']\n",
        "    results = get_near_by_search(lat, lng, 2000)\n",
        "    ans.append(len(results))"
      ],
      "execution_count": 50,
      "outputs": []
    },
    {
      "cell_type": "code",
      "metadata": {
        "id": "Uop6ADz28K50",
        "colab_type": "code",
        "colab": {
          "base_uri": "https://localhost:8080/",
          "height": 35
        },
        "outputId": "2d86dc5f-feca-4942-944c-d397db9de32c"
      },
      "source": [
        "print(ans)"
      ],
      "execution_count": 51,
      "outputs": [
        {
          "output_type": "stream",
          "text": [
            "[3, 0, 0, 2, 7, 4, 2, 2, 1, 1, 2, 0, 3, 0, 2, 9, 0, 0, 2, 0]\n"
          ],
          "name": "stdout"
        }
      ]
    },
    {
      "cell_type": "code",
      "metadata": {
        "id": "c7zEpV8-8K8L",
        "colab_type": "code",
        "colab": {}
      },
      "source": [
        "df_5['num_travel_agency_2000_meters'] = ans"
      ],
      "execution_count": 52,
      "outputs": []
    },
    {
      "cell_type": "code",
      "metadata": {
        "id": "NKXDbyFq8K-N",
        "colab_type": "code",
        "colab": {}
      },
      "source": [
        "df_5"
      ],
      "execution_count": null,
      "outputs": []
    },
    {
      "cell_type": "code",
      "metadata": {
        "id": "Azu6eDLx8LAa",
        "colab_type": "code",
        "colab": {}
      },
      "source": [
        "ans = []\n",
        "for index,row in df.iterrows():\n",
        "    lat, lng = row['lat'], row['lng']\n",
        "    results = get_near_by_search(lat, lng, 2000)\n",
        "    ans.append(len(results))"
      ],
      "execution_count": 54,
      "outputs": []
    },
    {
      "cell_type": "code",
      "metadata": {
        "id": "pUz3XvBZ8LCu",
        "colab_type": "code",
        "colab": {}
      },
      "source": [
        "df['num_travel_agency_2000_meters'] = ans"
      ],
      "execution_count": 55,
      "outputs": []
    },
    {
      "cell_type": "code",
      "metadata": {
        "id": "HLQZQ-Bj8LFE",
        "colab_type": "code",
        "colab": {}
      },
      "source": [
        "df.head(30)"
      ],
      "execution_count": null,
      "outputs": []
    },
    {
      "cell_type": "code",
      "metadata": {
        "id": "k6HqHflo8LH6",
        "colab_type": "code",
        "colab": {}
      },
      "source": [
        "df.to_csv('experiment_lat_lng_cofe_travel_agency.csv', index=False)"
      ],
      "execution_count": 57,
      "outputs": []
    }
  ]
}