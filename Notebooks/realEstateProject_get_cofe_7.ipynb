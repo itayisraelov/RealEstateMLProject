{
  "nbformat": 4,
  "nbformat_minor": 0,
  "metadata": {
    "colab": {
      "name": "realEstateProject_get_cofe_7.ipynb",
      "provenance": [],
      "collapsed_sections": []
    },
    "kernelspec": {
      "name": "python3",
      "display_name": "Python 3"
    }
  },
  "cells": [
    {
      "cell_type": "code",
      "metadata": {
        "id": "QTG4tUYMxosS",
        "colab_type": "code",
        "colab": {
          "base_uri": "https://localhost:8080/",
          "height": 72
        },
        "outputId": "8da22e80-6b5f-4d9c-fb16-c4a38de50468"
      },
      "source": [
        "import numpy as np  # linear algebra\n",
        "import pandas as pd  # data processing, CSV file I/O (e.g. pd.read_csv)\n",
        "import matplotlib.pyplot as plt\n",
        "import seaborn as sns\n",
        "import os\n",
        "from sklearn.model_selection import train_test_split\n",
        "from geopy.geocoders import Nominatim\n",
        "from sklearn.preprocessing import LabelEncoder\n",
        "from sklearn.preprocessing import MinMaxScaler\n",
        "import lightgbm as lgb\n",
        "import xgboost as xgb\n",
        "from sklearn.ensemble import RandomForestRegressor\n",
        "from sklearn.metrics import mean_squared_error\n",
        "color = sns.color_palette()\n",
        "pd.options.mode.chained_assignment = None  # default='warn'"
      ],
      "execution_count": 1,
      "outputs": [
        {
          "output_type": "stream",
          "text": [
            "/usr/local/lib/python3.6/dist-packages/statsmodels/tools/_testing.py:19: FutureWarning: pandas.util.testing is deprecated. Use the functions in the public API at pandas.testing instead.\n",
            "  import pandas.util.testing as tm\n"
          ],
          "name": "stderr"
        }
      ]
    },
    {
      "cell_type": "code",
      "metadata": {
        "id": "qQZQ13BWxpZP",
        "colab_type": "code",
        "colab": {}
      },
      "source": [
        "df = pd.read_csv(\"experiment_with_lat_and_lng.csv\") "
      ],
      "execution_count": 2,
      "outputs": []
    },
    {
      "cell_type": "code",
      "metadata": {
        "id": "wYzAtl2Fxvwb",
        "colab_type": "code",
        "colab": {
          "base_uri": "https://localhost:8080/",
          "height": 286
        },
        "outputId": "83e5be52-1af6-4f56-ec28-97ebc2b6a8d6"
      },
      "source": [
        "df.head(2)"
      ],
      "execution_count": 3,
      "outputs": [
        {
          "output_type": "execute_result",
          "data": {
            "text/html": [
              "<div>\n",
              "<style scoped>\n",
              "    .dataframe tbody tr th:only-of-type {\n",
              "        vertical-align: middle;\n",
              "    }\n",
              "\n",
              "    .dataframe tbody tr th {\n",
              "        vertical-align: top;\n",
              "    }\n",
              "\n",
              "    .dataframe thead th {\n",
              "        text-align: right;\n",
              "    }\n",
              "</style>\n",
              "<table border=\"1\" class=\"dataframe\">\n",
              "  <thead>\n",
              "    <tr style=\"text-align: right;\">\n",
              "      <th></th>\n",
              "      <th>BOROUGH</th>\n",
              "      <th>NEIGHBORHOOD</th>\n",
              "      <th>BUILDING CLASS CATEGORY</th>\n",
              "      <th>TAX CLASS AS OF FINAL ROLL 18/19</th>\n",
              "      <th>BLOCK</th>\n",
              "      <th>LOT</th>\n",
              "      <th>BUILDING CLASS AS OF FINAL ROLL 18/19</th>\n",
              "      <th>ADDRESS</th>\n",
              "      <th>ZIP CODE</th>\n",
              "      <th>RESIDENTIAL UNITS</th>\n",
              "      <th>COMMERCIAL UNITS</th>\n",
              "      <th>TOTAL UNITS</th>\n",
              "      <th>LAND SQUARE FEET</th>\n",
              "      <th>GROSS SQUARE FEET</th>\n",
              "      <th>YEAR BUILT</th>\n",
              "      <th>TAX CLASS AT TIME OF SALE</th>\n",
              "      <th>BUILDING CLASS AT TIME OF SALE</th>\n",
              "      <th>SALE PRICE</th>\n",
              "      <th>SALE DATE</th>\n",
              "      <th>AREA</th>\n",
              "      <th>FINAL_ADDRESS</th>\n",
              "      <th>lat</th>\n",
              "      <th>lng</th>\n",
              "    </tr>\n",
              "  </thead>\n",
              "  <tbody>\n",
              "    <tr>\n",
              "      <th>0</th>\n",
              "      <td>3</td>\n",
              "      <td>FLATBUSH-LEFFERTS GARDEN</td>\n",
              "      <td>01 ONE FAMILY DWELLINGS</td>\n",
              "      <td>1</td>\n",
              "      <td>5050</td>\n",
              "      <td>2</td>\n",
              "      <td>S0</td>\n",
              "      <td>625 ROGERS AVENUE</td>\n",
              "      <td>11225.0</td>\n",
              "      <td>1.0</td>\n",
              "      <td>2.0</td>\n",
              "      <td>3.0</td>\n",
              "      <td>3700.0</td>\n",
              "      <td>2128.0</td>\n",
              "      <td>1905.0</td>\n",
              "      <td>1</td>\n",
              "      <td>S0</td>\n",
              "      <td>1925000</td>\n",
              "      <td>2019-02-05</td>\n",
              "      <td>brooklyn</td>\n",
              "      <td>625 ROGERS AVENUE NYC</td>\n",
              "      <td>40.656321</td>\n",
              "      <td>-73.952859</td>\n",
              "    </tr>\n",
              "    <tr>\n",
              "      <th>1</th>\n",
              "      <td>4</td>\n",
              "      <td>HOWARD BEACH</td>\n",
              "      <td>01 ONE FAMILY DWELLINGS</td>\n",
              "      <td>1</td>\n",
              "      <td>14069</td>\n",
              "      <td>139</td>\n",
              "      <td>A1</td>\n",
              "      <td>85-11 164TH AVENUE</td>\n",
              "      <td>11414.0</td>\n",
              "      <td>1.0</td>\n",
              "      <td>0.0</td>\n",
              "      <td>1.0</td>\n",
              "      <td>4000.0</td>\n",
              "      <td>2192.0</td>\n",
              "      <td>1965.0</td>\n",
              "      <td>1</td>\n",
              "      <td>A1</td>\n",
              "      <td>730000</td>\n",
              "      <td>2019-07-02</td>\n",
              "      <td>queens</td>\n",
              "      <td>85-11 164TH AVENUE NYC</td>\n",
              "      <td>40.650046</td>\n",
              "      <td>-73.844749</td>\n",
              "    </tr>\n",
              "  </tbody>\n",
              "</table>\n",
              "</div>"
            ],
            "text/plain": [
              "   BOROUGH              NEIGHBORHOOD  ...        lat        lng\n",
              "0        3  FLATBUSH-LEFFERTS GARDEN  ...  40.656321 -73.952859\n",
              "1        4              HOWARD BEACH  ...  40.650046 -73.844749\n",
              "\n",
              "[2 rows x 23 columns]"
            ]
          },
          "metadata": {
            "tags": []
          },
          "execution_count": 3
        }
      ]
    },
    {
      "cell_type": "code",
      "metadata": {
        "id": "AtQ_OugJx1Hc",
        "colab_type": "code",
        "colab": {}
      },
      "source": [
        "example1 = \"api-key_geocoding.txt\"\n",
        "file1 = open(example1, \"r\")"
      ],
      "execution_count": 5,
      "outputs": []
    },
    {
      "cell_type": "code",
      "metadata": {
        "id": "VeVRQfW7yOdk",
        "colab_type": "code",
        "colab": {}
      },
      "source": [
        "API_KEY = file1.read()"
      ],
      "execution_count": 6,
      "outputs": []
    },
    {
      "cell_type": "code",
      "metadata": {
        "id": "OlnazmFSyQYc",
        "colab_type": "code",
        "colab": {}
      },
      "source": [
        "import json\n",
        "import urllib.request"
      ],
      "execution_count": 7,
      "outputs": []
    },
    {
      "cell_type": "code",
      "metadata": {
        "id": "nCXKDp6PC3hF",
        "colab_type": "code",
        "colab": {}
      },
      "source": [
        "URL_near_by_search = \"https://maps.googleapis.com/maps/api/place/nearbysearch/json\""
      ],
      "execution_count": 8,
      "outputs": []
    },
    {
      "cell_type": "code",
      "metadata": {
        "id": "geXeakX8jran",
        "colab_type": "code",
        "colab": {}
      },
      "source": [
        "URL_find_place_from_text = \"https://maps.googleapis.com/maps/api/place/findplacefromtext/json\""
      ],
      "execution_count": 9,
      "outputs": []
    },
    {
      "cell_type": "code",
      "metadata": {
        "id": "ltMSKN9PlM8N",
        "colab_type": "code",
        "colab": {}
      },
      "source": [
        "def getplace(lat, lng, radius):\n",
        "    locationbias = f\"circle:{radius}@{lat},{lng}\"\n",
        "    # Join the parts of the URL together into one string.\n",
        "    params = urllib.parse.urlencode(\n",
        "         {\n",
        "            \"input\": \"Best Western Plus Arena Hotel\",\n",
        "            \"inputtype\": \"textquery\",\n",
        "            \"fields\": \"rating,price_level,user_ratings_total,formatted_address,name\",\n",
        "            \"locationbias\": locationbias,\n",
        "            \"key\": API_KEY,\n",
        "        }\n",
        "    )\n",
        "    url = f\"{URL_find_place_from_text}?{params}\"\n",
        "    # result = json.load(urllib.request.urlopen(url))\n",
        "\n",
        "    # if result[\"status\"] in [\"OK\", \"ZERO_RESULTS\"]:\n",
        "    #     return result[\"results\"]\n",
        "\n",
        "    # raise Exception(result[\"error_message\"])"
      ],
      "execution_count": 10,
      "outputs": []
    },
    {
      "cell_type": "code",
      "metadata": {
        "id": "3iAcAz6dqjyU",
        "colab_type": "code",
        "colab": {}
      },
      "source": [
        "results = getplace(40.650046\t, -73.94875689999999, 5000)"
      ],
      "execution_count": 11,
      "outputs": []
    },
    {
      "cell_type": "code",
      "metadata": {
        "id": "TZ0vRIbYus6m",
        "colab_type": "code",
        "colab": {
          "base_uri": "https://localhost:8080/",
          "height": 35
        },
        "outputId": "e73c3c98-3f1f-482f-8170-084cd82689d2"
      },
      "source": [
        "df.shape[0]"
      ],
      "execution_count": 12,
      "outputs": [
        {
          "output_type": "execute_result",
          "data": {
            "text/plain": [
              "98"
            ]
          },
          "metadata": {
            "tags": []
          },
          "execution_count": 12
        }
      ]
    },
    {
      "cell_type": "code",
      "metadata": {
        "id": "eOf_BHZB61Pr",
        "colab_type": "code",
        "colab": {}
      },
      "source": [
        "URL_text_search = \"https://maps.googleapis.com/maps/api/place/textsearch/json\""
      ],
      "execution_count": 13,
      "outputs": []
    },
    {
      "cell_type": "code",
      "metadata": {
        "id": "0UaVveSN--Pc",
        "colab_type": "code",
        "colab": {}
      },
      "source": [
        "def get_near_by_search(lat, lng, radius):\n",
        "    location = f\"{lat},{lng}\"\n",
        "    radius = radius\n",
        "    # Join the parts of the URL together into one string.\n",
        "    params = urllib.parse.urlencode(\n",
        "         {\n",
        "          \"query\": \"cafe\",\n",
        "          \"opennow\": \"true\",\n",
        "          \"location\": location,\n",
        "          \"radius\": radius,\n",
        "          \"type\": \"cafe\",\n",
        "          \"key\": API_KEY,\n",
        "        }\n",
        "    )\n",
        "    url = f\"{URL_near_by_search}?{params}\"\n",
        "    result = json.load(urllib.request.urlopen(url))\n",
        "\n",
        "    # if result[\"status\"] in [\"OK\", \"ZERO_RESULTS\"]:\n",
        "    #     return result[\"results\"]\n",
        "\n",
        "    # raise Exception(result[\"error_message\"])"
      ],
      "execution_count": 14,
      "outputs": []
    },
    {
      "cell_type": "code",
      "metadata": {
        "id": "2jyVUyoWAD66",
        "colab_type": "code",
        "colab": {}
      },
      "source": [
        "results = get_near_by_search(40.650046, -73.8447489, 1000)"
      ],
      "execution_count": 16,
      "outputs": []
    },
    {
      "cell_type": "code",
      "metadata": {
        "id": "OCxO6O_-wWuY",
        "colab_type": "code",
        "colab": {}
      },
      "source": [
        "len(results)"
      ],
      "execution_count": null,
      "outputs": []
    },
    {
      "cell_type": "code",
      "metadata": {
        "id": "f3hL8kMQwFzX",
        "colab_type": "code",
        "colab": {}
      },
      "source": [
        "df_5 = df.head(5)"
      ],
      "execution_count": null,
      "outputs": []
    },
    {
      "cell_type": "code",
      "metadata": {
        "id": "qMwtR1M3vXiA",
        "colab_type": "code",
        "colab": {}
      },
      "source": [
        "ans = []\n",
        "for index,row in df_5.iterrows():\n",
        "    lat, lng = row['lat'], row['lng']\n",
        "    results = get_near_by_search(lat, lng)\n",
        "    ans.append(len(results))"
      ],
      "execution_count": null,
      "outputs": []
    },
    {
      "cell_type": "code",
      "metadata": {
        "id": "CVjFXcIjxMyX",
        "colab_type": "code",
        "colab": {
          "base_uri": "https://localhost:8080/",
          "height": 35
        },
        "outputId": "6ea20a46-3784-43c6-c5a3-21c54ed684cb"
      },
      "source": [
        "print(ans)"
      ],
      "execution_count": null,
      "outputs": [
        {
          "output_type": "stream",
          "text": [
            "[20, 2, 3, 5, 20]\n"
          ],
          "name": "stdout"
        }
      ]
    },
    {
      "cell_type": "code",
      "metadata": {
        "id": "rB-DqRKoxaGV",
        "colab_type": "code",
        "colab": {}
      },
      "source": [
        "df_5['cafe_1000_meters'] = ans"
      ],
      "execution_count": null,
      "outputs": []
    },
    {
      "cell_type": "code",
      "metadata": {
        "id": "hmO_aiQbxhG_",
        "colab_type": "code",
        "colab": {}
      },
      "source": [
        "df_5"
      ],
      "execution_count": null,
      "outputs": []
    },
    {
      "cell_type": "code",
      "metadata": {
        "id": "C1HuiH1kz0F-",
        "colab_type": "code",
        "colab": {}
      },
      "source": [
        "ans = []\n",
        "for index,row in df.iterrows():\n",
        "    lat, lng = row['lat'], row['lng']\n",
        "    results = get_near_by_search(lat, lng)\n",
        "    ans.append(len(results))"
      ],
      "execution_count": null,
      "outputs": []
    },
    {
      "cell_type": "code",
      "metadata": {
        "id": "jS4lAfis0A00",
        "colab_type": "code",
        "colab": {}
      },
      "source": [
        "df['num_cafe_1000_meters'] = ans"
      ],
      "execution_count": null,
      "outputs": []
    },
    {
      "cell_type": "code",
      "metadata": {
        "id": "vVoRUjua0Ntk",
        "colab_type": "code",
        "colab": {}
      },
      "source": [
        "df"
      ],
      "execution_count": null,
      "outputs": []
    },
    {
      "cell_type": "code",
      "metadata": {
        "id": "L68JjYKV0uZ4",
        "colab_type": "code",
        "colab": {}
      },
      "source": [
        "df.drop(columns=['cafe_1000_meters'])"
      ],
      "execution_count": null,
      "outputs": []
    },
    {
      "cell_type": "code",
      "metadata": {
        "id": "c7UFe_EO1M0I",
        "colab_type": "code",
        "colab": {}
      },
      "source": [
        "ans = []\n",
        "for index,row in df_5.iterrows():\n",
        "    lat, lng = row['lat'], row['lng']\n",
        "    results = get_near_by_search(lat, lng, 500)\n",
        "    ans.append(len(results))"
      ],
      "execution_count": null,
      "outputs": []
    },
    {
      "cell_type": "code",
      "metadata": {
        "id": "1ammbUfn1Sll",
        "colab_type": "code",
        "colab": {
          "base_uri": "https://localhost:8080/",
          "height": 35
        },
        "outputId": "b11b33d8-5fd0-4214-c9da-01635cf886b9"
      },
      "source": [
        "print(ans)"
      ],
      "execution_count": null,
      "outputs": [
        {
          "output_type": "stream",
          "text": [
            "[8, 0, 2, 1, 4]\n"
          ],
          "name": "stdout"
        }
      ]
    },
    {
      "cell_type": "code",
      "metadata": {
        "id": "GmRY7XZm1Wc9",
        "colab_type": "code",
        "colab": {}
      },
      "source": [
        "ans = []\n",
        "for index,row in df.iterrows():\n",
        "    lat, lng = row['lat'], row['lng']\n",
        "    results = get_near_by_search(lat, lng, 500)\n",
        "    ans.append(len(results))"
      ],
      "execution_count": null,
      "outputs": []
    },
    {
      "cell_type": "code",
      "metadata": {
        "id": "O1LLqnRD1r2g",
        "colab_type": "code",
        "colab": {}
      },
      "source": [
        "df['num_cafe_500_meters'] = ans"
      ],
      "execution_count": null,
      "outputs": []
    },
    {
      "cell_type": "code",
      "metadata": {
        "id": "UcbYHYoE117M",
        "colab_type": "code",
        "colab": {}
      },
      "source": [
        "df.head(20)"
      ],
      "execution_count": null,
      "outputs": []
    },
    {
      "cell_type": "code",
      "metadata": {
        "id": "FGndYY3A2R8H",
        "colab_type": "code",
        "colab": {}
      },
      "source": [
        "df = df.drop(columns=['cafe_1000_meters'])"
      ],
      "execution_count": null,
      "outputs": []
    },
    {
      "cell_type": "code",
      "metadata": {
        "id": "jG_gfukI2X5e",
        "colab_type": "code",
        "colab": {}
      },
      "source": [
        "df"
      ],
      "execution_count": null,
      "outputs": []
    },
    {
      "cell_type": "code",
      "metadata": {
        "id": "4Qsc3uUC2jht",
        "colab_type": "code",
        "colab": {}
      },
      "source": [
        "df.to_csv('experiment_with_lat_and_lng_and_num_cofe.csv', index=False)"
      ],
      "execution_count": null,
      "outputs": []
    }
  ]
}