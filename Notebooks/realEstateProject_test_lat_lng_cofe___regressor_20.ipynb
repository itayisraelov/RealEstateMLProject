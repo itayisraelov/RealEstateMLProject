{
  "nbformat": 4,
  "nbformat_minor": 0,
  "metadata": {
    "colab": {
      "name": "realEstateProject_test_lat_lng_cofe_?_regressor_20.ipynb",
      "provenance": []
    },
    "kernelspec": {
      "name": "python3",
      "display_name": "Python 3"
    }
  },
  "cells": [
    {
      "cell_type": "code",
      "metadata": {
        "id": "V4rYDYy7vTNR",
        "colab_type": "code",
        "colab": {}
      },
      "source": [
        "import numpy as np  # linear algebra\n",
        "import pandas as pd  # data processing, CSV file I/O (e.g. pd.read_csv)\n",
        "import matplotlib.pyplot as plt\n",
        "import seaborn as sns\n",
        "import os\n",
        "from sklearn.model_selection import train_test_split\n",
        "from geopy.geocoders import Nominatim\n",
        "from sklearn.preprocessing import LabelEncoder\n",
        "from sklearn.preprocessing import MinMaxScaler\n",
        "import lightgbm as lgb\n",
        "import xgboost as xgb\n",
        "from sklearn.ensemble import RandomForestRegressor\n",
        "from sklearn.metrics import mean_squared_error\n",
        "color = sns.color_palette()\n",
        "pd.options.mode.chained_assignment = None  # default='warn'"
      ],
      "execution_count": null,
      "outputs": []
    },
    {
      "cell_type": "code",
      "metadata": {
        "id": "V0DjOOHIvf16",
        "colab_type": "code",
        "colab": {}
      },
      "source": [
        "df_lat_lng_cofe_travel_agency = pd.read_csv(\"experiment_lat_lng_cofe_travel_agency.csv\") "
      ],
      "execution_count": null,
      "outputs": []
    },
    {
      "cell_type": "code",
      "metadata": {
        "id": "6n1u3p7o3Lrk",
        "colab_type": "code",
        "colab": {
          "base_uri": "https://localhost:8080/",
          "height": 286
        },
        "outputId": "caafd805-491a-4a08-b52d-611af50cfb83"
      },
      "source": [
        "df_lat_lng_cofe_travel_agency.head(2)"
      ],
      "execution_count": null,
      "outputs": [
        {
          "output_type": "execute_result",
          "data": {
            "text/html": [
              "<div>\n",
              "<style scoped>\n",
              "    .dataframe tbody tr th:only-of-type {\n",
              "        vertical-align: middle;\n",
              "    }\n",
              "\n",
              "    .dataframe tbody tr th {\n",
              "        vertical-align: top;\n",
              "    }\n",
              "\n",
              "    .dataframe thead th {\n",
              "        text-align: right;\n",
              "    }\n",
              "</style>\n",
              "<table border=\"1\" class=\"dataframe\">\n",
              "  <thead>\n",
              "    <tr style=\"text-align: right;\">\n",
              "      <th></th>\n",
              "      <th>BOROUGH</th>\n",
              "      <th>NEIGHBORHOOD</th>\n",
              "      <th>BUILDING CLASS CATEGORY</th>\n",
              "      <th>TAX CLASS AS OF FINAL ROLL 18/19</th>\n",
              "      <th>BLOCK</th>\n",
              "      <th>LOT</th>\n",
              "      <th>BUILDING CLASS AS OF FINAL ROLL 18/19</th>\n",
              "      <th>ADDRESS</th>\n",
              "      <th>ZIP CODE</th>\n",
              "      <th>RESIDENTIAL UNITS</th>\n",
              "      <th>COMMERCIAL UNITS</th>\n",
              "      <th>TOTAL UNITS</th>\n",
              "      <th>LAND SQUARE FEET</th>\n",
              "      <th>GROSS SQUARE FEET</th>\n",
              "      <th>YEAR BUILT</th>\n",
              "      <th>TAX CLASS AT TIME OF SALE</th>\n",
              "      <th>BUILDING CLASS AT TIME OF SALE</th>\n",
              "      <th>SALE PRICE</th>\n",
              "      <th>SALE DATE</th>\n",
              "      <th>AREA</th>\n",
              "      <th>FINAL_ADDRESS</th>\n",
              "      <th>lat</th>\n",
              "      <th>lng</th>\n",
              "      <th>num_cafe_1000_meters</th>\n",
              "      <th>num_cafe_500_meters</th>\n",
              "      <th>num_travel_agency_2000_meters</th>\n",
              "    </tr>\n",
              "  </thead>\n",
              "  <tbody>\n",
              "    <tr>\n",
              "      <th>0</th>\n",
              "      <td>3</td>\n",
              "      <td>FLATBUSH-LEFFERTS GARDEN</td>\n",
              "      <td>01 ONE FAMILY DWELLINGS</td>\n",
              "      <td>1</td>\n",
              "      <td>5050</td>\n",
              "      <td>2</td>\n",
              "      <td>S0</td>\n",
              "      <td>625 ROGERS AVENUE</td>\n",
              "      <td>11225.0</td>\n",
              "      <td>1.0</td>\n",
              "      <td>2.0</td>\n",
              "      <td>3.0</td>\n",
              "      <td>3700.0</td>\n",
              "      <td>2128.0</td>\n",
              "      <td>1905.0</td>\n",
              "      <td>1</td>\n",
              "      <td>S0</td>\n",
              "      <td>1925000</td>\n",
              "      <td>2019-02-05</td>\n",
              "      <td>brooklyn</td>\n",
              "      <td>625 ROGERS AVENUE NYC</td>\n",
              "      <td>40.656321</td>\n",
              "      <td>-73.952859</td>\n",
              "      <td>20</td>\n",
              "      <td>8</td>\n",
              "      <td>3</td>\n",
              "    </tr>\n",
              "    <tr>\n",
              "      <th>1</th>\n",
              "      <td>4</td>\n",
              "      <td>HOWARD BEACH</td>\n",
              "      <td>01 ONE FAMILY DWELLINGS</td>\n",
              "      <td>1</td>\n",
              "      <td>14069</td>\n",
              "      <td>139</td>\n",
              "      <td>A1</td>\n",
              "      <td>85-11 164TH AVENUE</td>\n",
              "      <td>11414.0</td>\n",
              "      <td>1.0</td>\n",
              "      <td>0.0</td>\n",
              "      <td>1.0</td>\n",
              "      <td>4000.0</td>\n",
              "      <td>2192.0</td>\n",
              "      <td>1965.0</td>\n",
              "      <td>1</td>\n",
              "      <td>A1</td>\n",
              "      <td>730000</td>\n",
              "      <td>2019-07-02</td>\n",
              "      <td>queens</td>\n",
              "      <td>85-11 164TH AVENUE NYC</td>\n",
              "      <td>40.650046</td>\n",
              "      <td>-73.844749</td>\n",
              "      <td>2</td>\n",
              "      <td>0</td>\n",
              "      <td>0</td>\n",
              "    </tr>\n",
              "  </tbody>\n",
              "</table>\n",
              "</div>"
            ],
            "text/plain": [
              "   BOROUGH  ... num_travel_agency_2000_meters\n",
              "0        3  ...                             3\n",
              "1        4  ...                             0\n",
              "\n",
              "[2 rows x 26 columns]"
            ]
          },
          "metadata": {
            "tags": []
          },
          "execution_count": 5
        }
      ]
    },
    {
      "cell_type": "code",
      "metadata": {
        "id": "CT0C9_qrvf5G",
        "colab_type": "code",
        "colab": {}
      },
      "source": [
        "df_lat_lng_cofe = pd.read_csv(\"experiment_with_lat_and_lng_and_num_cofe.csv\") "
      ],
      "execution_count": null,
      "outputs": []
    },
    {
      "cell_type": "code",
      "metadata": {
        "id": "hnudSE0Ivf7N",
        "colab_type": "code",
        "colab": {}
      },
      "source": [
        "df_lat_lng_cofe.head(2)"
      ],
      "execution_count": null,
      "outputs": []
    },
    {
      "cell_type": "code",
      "metadata": {
        "id": "AYviGK_cvf9b",
        "colab_type": "code",
        "colab": {}
      },
      "source": [
        "cat = ['NEIGHBORHOOD', 'BUILDING CLASS CATEGORY', 'BUILDING CLASS AS OF FINAL ROLL 18/19', 'ADDRESS',\n",
        "           'BUILDING CLASS AT TIME OF SALE', 'SALE DATE', 'AREA', 'FINAL_ADDRESS']\n",
        "\n",
        "for col in cat:\n",
        "    lb = LabelEncoder()\n",
        "    df_lat_lng_cofe_travel_agency[col] = lb.fit_transform(df_lat_lng_cofe_travel_agency[col].values)\n",
        "\n",
        "df_lat_lng_cofe_travel_agency['TAX CLASS AS OF FINAL ROLL 18/19'] = df_lat_lng_cofe_travel_agency['TAX CLASS AS OF FINAL ROLL 18/19']\\\n",
        "    .map({'2A': 2, '1': 1, '4': 4})"
      ],
      "execution_count": null,
      "outputs": []
    },
    {
      "cell_type": "code",
      "metadata": {
        "id": "WrlqKAb0vf_k",
        "colab_type": "code",
        "colab": {}
      },
      "source": [
        "cat = ['NEIGHBORHOOD', 'BUILDING CLASS CATEGORY', 'BUILDING CLASS AS OF FINAL ROLL 18/19', 'ADDRESS',\n",
        "           'BUILDING CLASS AT TIME OF SALE', 'SALE DATE', 'AREA', 'FINAL_ADDRESS']\n",
        "\n",
        "for col in cat:\n",
        "    lb = LabelEncoder()\n",
        "    df_lat_lng_cofe[col] = lb.fit_transform(df_lat_lng_cofe[col].values)\n",
        "\n",
        "df_lat_lng_cofe['TAX CLASS AS OF FINAL ROLL 18/19'] = df_lat_lng_cofe['TAX CLASS AS OF FINAL ROLL 18/19']\\\n",
        "    .map({'2A': 2, '1': 1, '4': 4})"
      ],
      "execution_count": null,
      "outputs": []
    },
    {
      "cell_type": "code",
      "metadata": {
        "id": "CLRgggq2vgB_",
        "colab_type": "code",
        "colab": {}
      },
      "source": [
        "for col in cat:\n",
        "    minmax = MinMaxScaler()\n",
        "    df_lat_lng_cofe_travel_agency[col] = minmax.fit_transform(df_lat_lng_cofe_travel_agency[col].values.reshape(-1, 1))"
      ],
      "execution_count": null,
      "outputs": []
    },
    {
      "cell_type": "code",
      "metadata": {
        "id": "gmA5dMbFvgEK",
        "colab_type": "code",
        "colab": {}
      },
      "source": [
        "for col in cat:\n",
        "    minmax = MinMaxScaler()\n",
        "    df_lat_lng_cofe[col] = minmax.fit_transform(df_lat_lng_cofe[col].values.reshape(-1, 1))"
      ],
      "execution_count": null,
      "outputs": []
    },
    {
      "cell_type": "code",
      "metadata": {
        "id": "zudKs1FBvwZq",
        "colab_type": "code",
        "colab": {}
      },
      "source": [
        "df_train, df_test = train_test_split(df_lat_lng_cofe_travel_agency, test_size=0.2, random_state=42, shuffle=True)\n",
        "train_target = df_train['SALE PRICE']\n",
        "train = df_train.drop(['SALE PRICE'], axis=1)\n",
        "test_target = df_test['SALE PRICE']\n",
        "test = df_test.drop(['SALE PRICE'], axis=1)"
      ],
      "execution_count": null,
      "outputs": []
    },
    {
      "cell_type": "code",
      "metadata": {
        "id": "PlWAj-v9vwb9",
        "colab_type": "code",
        "colab": {
          "base_uri": "https://localhost:8080/",
          "height": 173
        },
        "outputId": "758e4e82-977c-420d-8a69-8a3cbb51f8d7"
      },
      "source": [
        "rf = RandomForestRegressor(n_estimators=300, verbose=True, max_depth=20, n_jobs=-1)\n",
        "rf.fit(train, train_target)\n",
        "res_pred = rf.predict(test)\n",
        "rms = np.sqrt(mean_squared_error(test_target, res_pred))\n",
        "print(\"RMS: %f\" % rms)"
      ],
      "execution_count": null,
      "outputs": [
        {
          "output_type": "stream",
          "text": [
            "[Parallel(n_jobs=-1)]: Using backend ThreadingBackend with 2 concurrent workers.\n",
            "[Parallel(n_jobs=-1)]: Done  46 tasks      | elapsed:    0.1s\n",
            "[Parallel(n_jobs=-1)]: Done 196 tasks      | elapsed:    0.3s\n",
            "[Parallel(n_jobs=-1)]: Done 300 out of 300 | elapsed:    0.4s finished\n"
          ],
          "name": "stderr"
        },
        {
          "output_type": "stream",
          "text": [
            "RMS: 329506.267223\n"
          ],
          "name": "stdout"
        },
        {
          "output_type": "stream",
          "text": [
            "[Parallel(n_jobs=2)]: Using backend ThreadingBackend with 2 concurrent workers.\n",
            "[Parallel(n_jobs=2)]: Done  46 tasks      | elapsed:    0.0s\n",
            "[Parallel(n_jobs=2)]: Done 196 tasks      | elapsed:    0.0s\n",
            "[Parallel(n_jobs=2)]: Done 300 out of 300 | elapsed:    0.1s finished\n"
          ],
          "name": "stderr"
        }
      ]
    },
    {
      "cell_type": "code",
      "metadata": {
        "id": "N0UYhHb_vwd6",
        "colab_type": "code",
        "colab": {}
      },
      "source": [
        "df_train, df_test = train_test_split(df_lat_lng_cofe, test_size=0.2, random_state=42, shuffle=True)\n",
        "train_target = df_train['SALE PRICE']\n",
        "train = df_train.drop(['SALE PRICE'], axis=1)\n",
        "test_target = df_test['SALE PRICE']\n",
        "test = df_test.drop(['SALE PRICE'], axis=1)"
      ],
      "execution_count": null,
      "outputs": []
    },
    {
      "cell_type": "code",
      "metadata": {
        "id": "NZUf7PJ6vwgT",
        "colab_type": "code",
        "colab": {
          "base_uri": "https://localhost:8080/",
          "height": 173
        },
        "outputId": "e42c33a8-056d-47fb-c68a-29218e80ad3f"
      },
      "source": [
        "rf = RandomForestRegressor(n_estimators=300, verbose=True, max_depth=20, n_jobs=-1)\n",
        "rf.fit(train, train_target)\n",
        "res_pred = rf.predict(test)\n",
        "rms = np.sqrt(mean_squared_error(test_target, res_pred))\n",
        "print(\"RMS: %f\" % rms)"
      ],
      "execution_count": null,
      "outputs": [
        {
          "output_type": "stream",
          "text": [
            "[Parallel(n_jobs=-1)]: Using backend ThreadingBackend with 2 concurrent workers.\n",
            "[Parallel(n_jobs=-1)]: Done  46 tasks      | elapsed:    0.1s\n",
            "[Parallel(n_jobs=-1)]: Done 196 tasks      | elapsed:    0.3s\n",
            "[Parallel(n_jobs=-1)]: Done 300 out of 300 | elapsed:    0.4s finished\n"
          ],
          "name": "stderr"
        },
        {
          "output_type": "stream",
          "text": [
            "RMS: 320172.614918\n"
          ],
          "name": "stdout"
        },
        {
          "output_type": "stream",
          "text": [
            "[Parallel(n_jobs=2)]: Using backend ThreadingBackend with 2 concurrent workers.\n",
            "[Parallel(n_jobs=2)]: Done  46 tasks      | elapsed:    0.0s\n",
            "[Parallel(n_jobs=2)]: Done 196 tasks      | elapsed:    0.0s\n",
            "[Parallel(n_jobs=2)]: Done 300 out of 300 | elapsed:    0.1s finished\n"
          ],
          "name": "stderr"
        }
      ]
    }
  ]
}