{
  "nbformat": 4,
  "nbformat_minor": 0,
  "metadata": {
    "colab": {
      "name": "realEstateProject_get_Interesting_features_that_in_radius_km_6.ipynb",
      "provenance": []
    },
    "kernelspec": {
      "name": "python3",
      "display_name": "Python 3"
    }
  },
  "cells": [
    {
      "cell_type": "code",
      "metadata": {
        "id": "QTG4tUYMxosS",
        "colab_type": "code",
        "colab": {}
      },
      "source": [
        "import numpy as np  # linear algebra\n",
        "import pandas as pd  # data processing, CSV file I/O (e.g. pd.read_csv)\n",
        "import matplotlib.pyplot as plt\n",
        "import seaborn as sns\n",
        "import os\n",
        "from sklearn.model_selection import train_test_split\n",
        "from geopy.geocoders import Nominatim\n",
        "from sklearn.preprocessing import LabelEncoder\n",
        "from sklearn.preprocessing import MinMaxScaler\n",
        "import lightgbm as lgb\n",
        "import xgboost as xgb\n",
        "from sklearn.ensemble import RandomForestRegressor\n",
        "from sklearn.metrics import mean_squared_error\n",
        "color = sns.color_palette()\n",
        "pd.options.mode.chained_assignment = None  # default='warn'"
      ],
      "execution_count": 3,
      "outputs": []
    },
    {
      "cell_type": "code",
      "metadata": {
        "id": "qQZQ13BWxpZP",
        "colab_type": "code",
        "colab": {}
      },
      "source": [
        "df = pd.read_csv(\"experiment_with_lat_and_lng.csv\") "
      ],
      "execution_count": 2,
      "outputs": []
    },
    {
      "cell_type": "code",
      "metadata": {
        "id": "wYzAtl2Fxvwb",
        "colab_type": "code",
        "colab": {
          "base_uri": "https://localhost:8080/",
          "height": 286
        },
        "outputId": "3b867fa7-4d56-4fa5-8ac7-eac1b0f786d8"
      },
      "source": [
        "df.head(2)"
      ],
      "execution_count": 4,
      "outputs": [
        {
          "output_type": "execute_result",
          "data": {
            "text/html": [
              "<div>\n",
              "<style scoped>\n",
              "    .dataframe tbody tr th:only-of-type {\n",
              "        vertical-align: middle;\n",
              "    }\n",
              "\n",
              "    .dataframe tbody tr th {\n",
              "        vertical-align: top;\n",
              "    }\n",
              "\n",
              "    .dataframe thead th {\n",
              "        text-align: right;\n",
              "    }\n",
              "</style>\n",
              "<table border=\"1\" class=\"dataframe\">\n",
              "  <thead>\n",
              "    <tr style=\"text-align: right;\">\n",
              "      <th></th>\n",
              "      <th>BOROUGH</th>\n",
              "      <th>NEIGHBORHOOD</th>\n",
              "      <th>BUILDING CLASS CATEGORY</th>\n",
              "      <th>TAX CLASS AS OF FINAL ROLL 18/19</th>\n",
              "      <th>BLOCK</th>\n",
              "      <th>LOT</th>\n",
              "      <th>BUILDING CLASS AS OF FINAL ROLL 18/19</th>\n",
              "      <th>ADDRESS</th>\n",
              "      <th>ZIP CODE</th>\n",
              "      <th>RESIDENTIAL UNITS</th>\n",
              "      <th>COMMERCIAL UNITS</th>\n",
              "      <th>TOTAL UNITS</th>\n",
              "      <th>LAND SQUARE FEET</th>\n",
              "      <th>GROSS SQUARE FEET</th>\n",
              "      <th>YEAR BUILT</th>\n",
              "      <th>TAX CLASS AT TIME OF SALE</th>\n",
              "      <th>BUILDING CLASS AT TIME OF SALE</th>\n",
              "      <th>SALE PRICE</th>\n",
              "      <th>SALE DATE</th>\n",
              "      <th>AREA</th>\n",
              "      <th>FINAL_ADDRESS</th>\n",
              "      <th>lat</th>\n",
              "      <th>lng</th>\n",
              "    </tr>\n",
              "  </thead>\n",
              "  <tbody>\n",
              "    <tr>\n",
              "      <th>0</th>\n",
              "      <td>3</td>\n",
              "      <td>FLATBUSH-LEFFERTS GARDEN</td>\n",
              "      <td>01 ONE FAMILY DWELLINGS</td>\n",
              "      <td>1</td>\n",
              "      <td>5050</td>\n",
              "      <td>2</td>\n",
              "      <td>S0</td>\n",
              "      <td>625 ROGERS AVENUE</td>\n",
              "      <td>11225.0</td>\n",
              "      <td>1.0</td>\n",
              "      <td>2.0</td>\n",
              "      <td>3.0</td>\n",
              "      <td>3700.0</td>\n",
              "      <td>2128.0</td>\n",
              "      <td>1905.0</td>\n",
              "      <td>1</td>\n",
              "      <td>S0</td>\n",
              "      <td>1925000</td>\n",
              "      <td>2019-02-05</td>\n",
              "      <td>brooklyn</td>\n",
              "      <td>625 ROGERS AVENUE NYC</td>\n",
              "      <td>40.656321</td>\n",
              "      <td>-73.952859</td>\n",
              "    </tr>\n",
              "    <tr>\n",
              "      <th>1</th>\n",
              "      <td>4</td>\n",
              "      <td>HOWARD BEACH</td>\n",
              "      <td>01 ONE FAMILY DWELLINGS</td>\n",
              "      <td>1</td>\n",
              "      <td>14069</td>\n",
              "      <td>139</td>\n",
              "      <td>A1</td>\n",
              "      <td>85-11 164TH AVENUE</td>\n",
              "      <td>11414.0</td>\n",
              "      <td>1.0</td>\n",
              "      <td>0.0</td>\n",
              "      <td>1.0</td>\n",
              "      <td>4000.0</td>\n",
              "      <td>2192.0</td>\n",
              "      <td>1965.0</td>\n",
              "      <td>1</td>\n",
              "      <td>A1</td>\n",
              "      <td>730000</td>\n",
              "      <td>2019-07-02</td>\n",
              "      <td>queens</td>\n",
              "      <td>85-11 164TH AVENUE NYC</td>\n",
              "      <td>40.650046</td>\n",
              "      <td>-73.844749</td>\n",
              "    </tr>\n",
              "  </tbody>\n",
              "</table>\n",
              "</div>"
            ],
            "text/plain": [
              "   BOROUGH              NEIGHBORHOOD  ...        lat        lng\n",
              "0        3  FLATBUSH-LEFFERTS GARDEN  ...  40.656321 -73.952859\n",
              "1        4              HOWARD BEACH  ...  40.650046 -73.844749\n",
              "\n",
              "[2 rows x 23 columns]"
            ]
          },
          "metadata": {
            "tags": []
          },
          "execution_count": 4
        }
      ]
    },
    {
      "cell_type": "code",
      "metadata": {
        "id": "AtQ_OugJx1Hc",
        "colab_type": "code",
        "colab": {}
      },
      "source": [
        "example1 = \"api-key_geocoding.txt\"\n",
        "file1 = open(example1, \"r\")"
      ],
      "execution_count": 6,
      "outputs": []
    },
    {
      "cell_type": "code",
      "metadata": {
        "id": "VeVRQfW7yOdk",
        "colab_type": "code",
        "colab": {}
      },
      "source": [
        "API_KEY = file1.read()"
      ],
      "execution_count": 7,
      "outputs": []
    },
    {
      "cell_type": "code",
      "metadata": {
        "id": "OlnazmFSyQYc",
        "colab_type": "code",
        "colab": {}
      },
      "source": [
        "import json\n",
        "import urllib.request"
      ],
      "execution_count": 8,
      "outputs": []
    },
    {
      "cell_type": "code",
      "metadata": {
        "id": "nCXKDp6PC3hF",
        "colab_type": "code",
        "colab": {}
      },
      "source": [
        "GEOCODE_BASE_URL = \"https://maps.googleapis.com/maps/api/place/nearbysearch/json?\""
      ],
      "execution_count": 9,
      "outputs": []
    },
    {
      "cell_type": "code",
      "metadata": {
        "id": "Gykz67bKySCj",
        "colab_type": "code",
        "colab": {}
      },
      "source": [
        "lat = \n",
        "lng = \n",
        "location = lat,lng\n",
        "radius = 1500\n",
        "type = restaurant\n",
        "keyword = cruise\n",
        "key = API_KEY"
      ],
      "execution_count": null,
      "outputs": []
    },
    {
      "cell_type": "code",
      "metadata": {
        "id": "ddH6QPNADkAI",
        "colab_type": "code",
        "colab": {}
      },
      "source": [
        "query_result = google_places.nearby_search(\n",
        "        lat_lng={'lat': 52.0737017, 'lng': 5.0944107999999915}, \n",
        "        radius=100,\n",
        "        types=[types.TYPE_RESTAURANT] or [types.TYPE_CAFE])"
      ],
      "execution_count": null,
      "outputs": []
    },
    {
      "cell_type": "code",
      "metadata": {
        "id": "ghBRQbazDsYb",
        "colab_type": "code",
        "colab": {}
      },
      "source": [
        ""
      ],
      "execution_count": null,
      "outputs": []
    },
    {
      "cell_type": "code",
      "metadata": {
        "id": "tmRGL3y4Es87",
        "colab_type": "code",
        "colab": {}
      },
      "source": [
        "def geoplace(location):\n",
        "    # Join the parts of the URL together into one string.\n",
        "    params = urllib.parse.urlencode({\"location\": location, \"radius\": radius, \"type\": type, \"keyword\": keyword, \"key\": API_KEY,})\n",
        "    url = f\"{GEOCODE_BASE_URL}?{params}\"\n",
        "\n",
        "    result = json.load(urllib.request.urlopen(url))\n",
        "\n",
        "    if result[\"status\"] in [\"OK\", \"ZERO_RESULTS\"]:\n",
        "        return result[\"results\"]\n",
        "\n",
        "    raise Exception(result[\"error_message\"])\n"
      ],
      "execution_count": null,
      "outputs": []
    }
  ]
}