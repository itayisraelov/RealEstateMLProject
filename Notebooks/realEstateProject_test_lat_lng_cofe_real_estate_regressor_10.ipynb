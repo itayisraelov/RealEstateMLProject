{
  "nbformat": 4,
  "nbformat_minor": 0,
  "metadata": {
    "colab": {
      "name": "realEstateProject_test_lat_lng_cofe_real_estate_regressor_10.ipynb",
      "provenance": []
    },
    "kernelspec": {
      "name": "python3",
      "display_name": "Python 3"
    }
  },
  "cells": [
    {
      "cell_type": "code",
      "metadata": {
        "id": "V4rYDYy7vTNR",
        "colab_type": "code",
        "colab": {}
      },
      "source": [
        "import numpy as np  # linear algebra\n",
        "import pandas as pd  # data processing, CSV file I/O (e.g. pd.read_csv)\n",
        "import matplotlib.pyplot as plt\n",
        "import seaborn as sns\n",
        "import os\n",
        "from sklearn.model_selection import train_test_split\n",
        "from geopy.geocoders import Nominatim\n",
        "from sklearn.preprocessing import LabelEncoder\n",
        "from sklearn.preprocessing import MinMaxScaler\n",
        "import lightgbm as lgb\n",
        "import xgboost as xgb\n",
        "from sklearn.ensemble import RandomForestRegressor\n",
        "from sklearn.metrics import mean_squared_error\n",
        "color = sns.color_palette()\n",
        "pd.options.mode.chained_assignment = None  # default='warn'"
      ],
      "execution_count": 3,
      "outputs": []
    },
    {
      "cell_type": "code",
      "metadata": {
        "id": "V0DjOOHIvf16",
        "colab_type": "code",
        "colab": {}
      },
      "source": [
        "df_lat_lng_cofe_real_estate = pd.read_csv(\"experiment_lat_lng_cofe_real_estate.csv\") "
      ],
      "execution_count": 5,
      "outputs": []
    },
    {
      "cell_type": "code",
      "metadata": {
        "id": "6n1u3p7o3Lrk",
        "colab_type": "code",
        "colab": {}
      },
      "source": [
        "df_lat_lng_cofe_real_estate"
      ],
      "execution_count": null,
      "outputs": []
    },
    {
      "cell_type": "code",
      "metadata": {
        "id": "CT0C9_qrvf5G",
        "colab_type": "code",
        "colab": {}
      },
      "source": [
        "df_lat_lng_cofe = pd.read_csv(\"experiment_with_lat_and_lng_and_num_cofe.csv\") "
      ],
      "execution_count": 7,
      "outputs": []
    },
    {
      "cell_type": "code",
      "metadata": {
        "id": "hnudSE0Ivf7N",
        "colab_type": "code",
        "colab": {}
      },
      "source": [
        "df_lat_lng_cofe"
      ],
      "execution_count": null,
      "outputs": []
    },
    {
      "cell_type": "code",
      "metadata": {
        "id": "AYviGK_cvf9b",
        "colab_type": "code",
        "colab": {}
      },
      "source": [
        "cat = ['NEIGHBORHOOD', 'BUILDING CLASS CATEGORY', 'BUILDING CLASS AS OF FINAL ROLL 18/19', 'ADDRESS',\n",
        "           'BUILDING CLASS AT TIME OF SALE', 'SALE DATE', 'AREA', 'FINAL_ADDRESS']\n",
        "\n",
        "for col in cat:\n",
        "    lb = LabelEncoder()\n",
        "    df_lat_lng_cofe_real_estate[col] = lb.fit_transform(df_lat_lng_cofe_real_estate[col].values)\n",
        "\n",
        "df_lat_lng_cofe_real_estate['TAX CLASS AS OF FINAL ROLL 18/19'] = df_lat_lng_cofe_real_estate['TAX CLASS AS OF FINAL ROLL 18/19']\\\n",
        "    .map({'2A': 2, '1': 1, '4': 4})"
      ],
      "execution_count": 9,
      "outputs": []
    },
    {
      "cell_type": "code",
      "metadata": {
        "id": "WrlqKAb0vf_k",
        "colab_type": "code",
        "colab": {}
      },
      "source": [
        "cat = ['NEIGHBORHOOD', 'BUILDING CLASS CATEGORY', 'BUILDING CLASS AS OF FINAL ROLL 18/19', 'ADDRESS',\n",
        "           'BUILDING CLASS AT TIME OF SALE', 'SALE DATE', 'AREA', 'FINAL_ADDRESS']\n",
        "\n",
        "for col in cat:\n",
        "    lb = LabelEncoder()\n",
        "    df_lat_lng_cofe[col] = lb.fit_transform(df_lat_lng_cofe[col].values)\n",
        "\n",
        "df_lat_lng_cofe['TAX CLASS AS OF FINAL ROLL 18/19'] = df_lat_lng_cofe['TAX CLASS AS OF FINAL ROLL 18/19']\\\n",
        "    .map({'2A': 2, '1': 1, '4': 4})"
      ],
      "execution_count": 10,
      "outputs": []
    },
    {
      "cell_type": "code",
      "metadata": {
        "id": "CLRgggq2vgB_",
        "colab_type": "code",
        "colab": {}
      },
      "source": [
        "for col in cat:\n",
        "    minmax = MinMaxScaler()\n",
        "    df_lat_lng_cofe_real_estate[col] = minmax.fit_transform(df_lat_lng_cofe_real_estate[col].values.reshape(-1, 1))"
      ],
      "execution_count": 11,
      "outputs": []
    },
    {
      "cell_type": "code",
      "metadata": {
        "id": "gmA5dMbFvgEK",
        "colab_type": "code",
        "colab": {}
      },
      "source": [
        "for col in cat:\n",
        "    minmax = MinMaxScaler()\n",
        "    df_lat_lng_cofe[col] = minmax.fit_transform(df_lat_lng_cofe[col].values.reshape(-1, 1))"
      ],
      "execution_count": 12,
      "outputs": []
    },
    {
      "cell_type": "code",
      "metadata": {
        "id": "zudKs1FBvwZq",
        "colab_type": "code",
        "colab": {}
      },
      "source": [
        "df_train, df_test = train_test_split(df_lat_lng_cofe_real_estate, test_size=0.2, random_state=42, shuffle=True)\n",
        "train_target = df_train['SALE PRICE']\n",
        "train = df_train.drop(['SALE PRICE'], axis=1)\n",
        "test_target = df_test['SALE PRICE']\n",
        "test = df_test.drop(['SALE PRICE'], axis=1)"
      ],
      "execution_count": 13,
      "outputs": []
    },
    {
      "cell_type": "code",
      "metadata": {
        "id": "PlWAj-v9vwb9",
        "colab_type": "code",
        "colab": {
          "base_uri": "https://localhost:8080/",
          "height": 173
        },
        "outputId": "f7b0078e-e641-4dbe-bfdd-a8cc1cc6bc19"
      },
      "source": [
        "rf = RandomForestRegressor(n_estimators=300, verbose=True, max_depth=20, n_jobs=-1)\n",
        "rf.fit(train, train_target)\n",
        "res_pred = rf.predict(test)\n",
        "rms = np.sqrt(mean_squared_error(test_target, res_pred))\n",
        "print(\"RMS: %f\" % rms)"
      ],
      "execution_count": 14,
      "outputs": [
        {
          "output_type": "stream",
          "text": [
            "[Parallel(n_jobs=-1)]: Using backend ThreadingBackend with 2 concurrent workers.\n",
            "[Parallel(n_jobs=-1)]: Done  46 tasks      | elapsed:    0.1s\n",
            "[Parallel(n_jobs=-1)]: Done 196 tasks      | elapsed:    0.3s\n",
            "[Parallel(n_jobs=-1)]: Done 300 out of 300 | elapsed:    0.5s finished\n"
          ],
          "name": "stderr"
        },
        {
          "output_type": "stream",
          "text": [
            "RMS: 327430.156312\n"
          ],
          "name": "stdout"
        },
        {
          "output_type": "stream",
          "text": [
            "[Parallel(n_jobs=2)]: Using backend ThreadingBackend with 2 concurrent workers.\n",
            "[Parallel(n_jobs=2)]: Done  46 tasks      | elapsed:    0.0s\n",
            "[Parallel(n_jobs=2)]: Done 196 tasks      | elapsed:    0.0s\n",
            "[Parallel(n_jobs=2)]: Done 300 out of 300 | elapsed:    0.1s finished\n"
          ],
          "name": "stderr"
        }
      ]
    },
    {
      "cell_type": "code",
      "metadata": {
        "id": "N0UYhHb_vwd6",
        "colab_type": "code",
        "colab": {}
      },
      "source": [
        "df_train, df_test = train_test_split(df_lat_lng_cofe, test_size=0.2, random_state=42, shuffle=True)\n",
        "train_target = df_train['SALE PRICE']\n",
        "train = df_train.drop(['SALE PRICE'], axis=1)\n",
        "test_target = df_test['SALE PRICE']\n",
        "test = df_test.drop(['SALE PRICE'], axis=1)"
      ],
      "execution_count": 15,
      "outputs": []
    },
    {
      "cell_type": "code",
      "metadata": {
        "id": "NZUf7PJ6vwgT",
        "colab_type": "code",
        "colab": {
          "base_uri": "https://localhost:8080/",
          "height": 173
        },
        "outputId": "1c1ece87-79ad-4891-f5f4-6299ff0325a4"
      },
      "source": [
        "rf = RandomForestRegressor(n_estimators=300, verbose=True, max_depth=20, n_jobs=-1)\n",
        "rf.fit(train, train_target)\n",
        "res_pred = rf.predict(test)\n",
        "rms = np.sqrt(mean_squared_error(test_target, res_pred))\n",
        "print(\"RMS: %f\" % rms)"
      ],
      "execution_count": 16,
      "outputs": [
        {
          "output_type": "stream",
          "text": [
            "[Parallel(n_jobs=-1)]: Using backend ThreadingBackend with 2 concurrent workers.\n",
            "[Parallel(n_jobs=-1)]: Done  46 tasks      | elapsed:    0.1s\n",
            "[Parallel(n_jobs=-1)]: Done 196 tasks      | elapsed:    0.3s\n",
            "[Parallel(n_jobs=-1)]: Done 300 out of 300 | elapsed:    0.4s finished\n"
          ],
          "name": "stderr"
        },
        {
          "output_type": "stream",
          "text": [
            "RMS: 321641.166150\n"
          ],
          "name": "stdout"
        },
        {
          "output_type": "stream",
          "text": [
            "[Parallel(n_jobs=2)]: Using backend ThreadingBackend with 2 concurrent workers.\n",
            "[Parallel(n_jobs=2)]: Done  46 tasks      | elapsed:    0.0s\n",
            "[Parallel(n_jobs=2)]: Done 196 tasks      | elapsed:    0.0s\n",
            "[Parallel(n_jobs=2)]: Done 300 out of 300 | elapsed:    0.1s finished\n"
          ],
          "name": "stderr"
        }
      ]
    }
  ]
}