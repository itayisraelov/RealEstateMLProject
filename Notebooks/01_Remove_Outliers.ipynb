{
 "cells": [
  {
   "cell_type": "markdown",
   "metadata": {},
   "source": [
    "# Pre-Processing: Remove Outliers\n",
    "This notebook purpose is to understand the outliers in our data and to manage them \n",
    "The notbook includes:\n",
    "* [Getting started](#getting_started)\n",
    "* [Outlier remove by value](#outlier-remove-by-value)\n",
    "    * [Area](#Area)\n",
    "    * [Sale Price](#sale-price)\n",
    "    * [Tax Class](#tax-class)\n",
    "    * [Residential Units](#residential-units)\n",
    "    * [Commercial Units](#commercial-units)\n",
    "    * [Year Built](#year-built)\n",
    "    * [Gross Square Feet](#gross-square-feet)\n",
    "    * [Land-square-feet](#land-square-feet)\n",
    "    * [Block](#block)\n",
    "    * [Zip Code](#zip-code)\n",
    "    * [Total-units](#total-units)\n",
    "    * [Sale-date](#sale-date)\n",
    "    * [Lot](#lot)\n",
    "    * [Building-class-category](#building-class-category)\n",
    "    * [Tax-class-at-time-of-sale](#tax-class-at-time-of-sale)\n",
    "    * [Building-class-at-time-of-sale](#building-class-at-time-of-sale)\n",
    "    * [Sale price](#sale-price)\n",
    "    \n",
    "* [Splitting-the-data](#splitting-the-data)\n",
    "* [Categorial to Numerical](#cat-to-num)\n",
    "* [Scaling](#scaling)\n",
    "* [Models-run](#RFRegressor-model)"
   ]
  },
  {
   "cell_type": "code",
   "execution_count": 1,
   "metadata": {
    "colab": {},
    "colab_type": "code",
    "id": "_wtMHWwPmNUS"
   },
   "outputs": [],
   "source": [
    "import numpy as np # linear algebra\n",
    "import pandas as pd # data processing, CSV file I/O (e.g. pd.read_csv)\n",
    "import matplotlib.pyplot as plt\n",
    "import seaborn as sns\n",
    "import os\n",
    "from sklearn.model_selection import train_test_split,KFold\n",
    "from sklearn.preprocessing import MinMaxScaler\n",
    "from sklearn.metrics import mean_squared_error\n",
    "from sklearn.model_selection import StratifiedKFold\n",
    "from sklearn.ensemble import RandomForestRegressor\n",
    "\n",
    "\n",
    "color = sns.color_palette()\n",
    "pd.options.mode.chained_assignment = None  # default='warn'"
   ]
  },
  {
   "cell_type": "markdown",
   "metadata": {},
   "source": [
    "## <a name=\"getting_started\"></a>Getting started\n",
    "Let's load the data"
   ]
  },
  {
   "cell_type": "code",
   "execution_count": 2,
   "metadata": {
    "colab": {},
    "colab_type": "code",
    "id": "VZjRcQiFmOEK"
   },
   "outputs": [],
   "source": [
    "df1 = pd.read_excel(\"../Data/2019/2019_bronx.xlsx\")\n",
    "df2 = pd.read_excel(\"../Data/2019/2019_brooklyn.xlsx\")\n",
    "df3 = pd.read_excel(\"../Data/2019/2019_manhattan.xlsx\")\n",
    "df4 = pd.read_excel(\"../Data/2019/2019_queens.xlsx\")\n",
    "df5 = pd.read_excel(\"../Data/2019/2019_statenisland.xlsx\")"
   ]
  },
  {
   "cell_type": "markdown",
   "metadata": {},
   "source": [
    "Across all years, our data is categorized by area, let's add it to the features list"
   ]
  },
  {
   "cell_type": "code",
   "execution_count": 3,
   "metadata": {
    "colab": {},
    "colab_type": "code",
    "id": "QqGW1kFtm2-S"
   },
   "outputs": [],
   "source": [
    "df1['AREA'] = 'bronx'\n",
    "df2['AREA'] = 'brooklyn'\n",
    "df3['AREA'] = 'manhattan'\n",
    "df4['AREA'] = 'queens'\n",
    "df5['AREA'] = 'statenisland'"
   ]
  },
  {
   "cell_type": "markdown",
   "metadata": {},
   "source": [
    "Concating all Dataframes to 1"
   ]
  },
  {
   "cell_type": "code",
   "execution_count": 4,
   "metadata": {
    "colab": {},
    "colab_type": "code",
    "id": "yvMt1X-Vm8-x"
   },
   "outputs": [],
   "source": [
    "frames = [df1, df2, df3, df4, df5]\n",
    "df = pd.concat(frames)\n"
   ]
  },
  {
   "cell_type": "markdown",
   "metadata": {},
   "source": [
    "Let's have a look at our features for now"
   ]
  },
  {
   "cell_type": "code",
   "execution_count": 5,
   "metadata": {
    "colab": {},
    "colab_type": "code",
    "id": "JDczsqcanBn5"
   },
   "outputs": [
    {
     "data": {
      "text/plain": [
       "['BOROUGH\\n',\n",
       " 'NEIGHBORHOOD\\n',\n",
       " 'BUILDING CLASS CATEGORY\\n',\n",
       " 'TAX CLASS AS OF FINAL ROLL 18/19',\n",
       " 'BLOCK\\n',\n",
       " 'LOT\\n',\n",
       " 'EASE-MENT\\n',\n",
       " 'BUILDING CLASS AS OF FINAL ROLL 18/19',\n",
       " 'ADDRESS\\n',\n",
       " 'APARTMENT NUMBER\\n',\n",
       " 'ZIP CODE\\n',\n",
       " 'RESIDENTIAL UNITS\\n',\n",
       " 'COMMERCIAL UNITS\\n',\n",
       " 'TOTAL UNITS\\n',\n",
       " 'LAND SQUARE FEET\\n',\n",
       " 'GROSS SQUARE FEET\\n',\n",
       " 'YEAR BUILT\\n',\n",
       " 'TAX CLASS AT TIME OF SALE\\n',\n",
       " 'BUILDING CLASS AT TIME OF SALE\\n',\n",
       " 'SALE PRICE\\n',\n",
       " 'SALE DATE\\n',\n",
       " 'AREA']"
      ]
     },
     "execution_count": 5,
     "metadata": {},
     "output_type": "execute_result"
    }
   ],
   "source": [
    "list(df.columns)"
   ]
  },
  {
   "cell_type": "markdown",
   "metadata": {},
   "source": [
    "As you can see the raw data include the '\\n' char in it, lets remove it"
   ]
  },
  {
   "cell_type": "code",
   "execution_count": 6,
   "metadata": {},
   "outputs": [],
   "source": [
    "df.columns = ['BOROUGH',\n",
    "                  'NEIGHBORHOOD',\n",
    "                  'BUILDING CLASS CATEGORY',\n",
    "                  'TAX CLASS AS OF FINAL ROLL 18/19',\n",
    "                  'BLOCK',\n",
    "                  'LOT',\n",
    "                  'EASE-MENT',\n",
    "                  'BUILDING CLASS AS OF FINAL ROLL 18/19',\n",
    "                  'ADDRESS',\n",
    "                  'APARTMENT NUMBER',\n",
    "                  'ZIP CODE',\n",
    "                  'RESIDENTIAL UNITS',\n",
    "                  'COMMERCIAL UNITS',\n",
    "                  'TOTAL UNITS',\n",
    "                  'LAND SQUARE FEET',\n",
    "                  'GROSS SQUARE FEET',\n",
    "                  'YEAR BUILT',\n",
    "                  'TAX CLASS AT TIME OF SALE',\n",
    "                  'BUILDING CLASS AT TIME OF SALE',\n",
    "                  'SALE PRICE',\n",
    "                  'SALE DATE',\n",
    "                  'AREA']"
   ]
  },
  {
   "cell_type": "markdown",
   "metadata": {},
   "source": [
    "We are going to use Google API seach by place to find valuable information on our data, lets add the FINAL_ADDRESS feature for future refrence"
   ]
  },
  {
   "cell_type": "code",
   "execution_count": 7,
   "metadata": {},
   "outputs": [],
   "source": [
    "df['FINAL_ADDRESS'] = df['ADDRESS'].apply(lambda x: x+\" NYC\")"
   ]
  },
  {
   "cell_type": "markdown",
   "metadata": {},
   "source": [
    "The shape of our data is as follows:"
   ]
  },
  {
   "cell_type": "code",
   "execution_count": 8,
   "metadata": {
    "colab": {
     "base_uri": "https://localhost:8080/",
     "height": 35
    },
    "colab_type": "code",
    "id": "OHZK9uGpnF05",
    "outputId": "a0aeaa96-fa0b-4142-da52-57be2e72f2e4"
   },
   "outputs": [
    {
     "name": "stdout",
     "output_type": "stream",
     "text": [
      "Data has 83920 rows and 23 colummns\n"
     ]
    }
   ],
   "source": [
    "print(f'Data has {df.shape[0]} rows and {df.shape[1]} colummns')"
   ]
  },
  {
   "cell_type": "markdown",
   "metadata": {},
   "source": [
    "The number of NaN values in our data is:"
   ]
  },
  {
   "cell_type": "code",
   "execution_count": 9,
   "metadata": {
    "colab": {
     "base_uri": "https://localhost:8080/",
     "height": 416
    },
    "colab_type": "code",
    "id": "dw4kN87wntB7",
    "outputId": "1b02d889-945f-4511-c933-7e64f9dc75a4"
   },
   "outputs": [
    {
     "data": {
      "text/plain": [
       "BOROUGH                                      0\n",
       "NEIGHBORHOOD                                 0\n",
       "BUILDING CLASS CATEGORY                      0\n",
       "TAX CLASS AS OF FINAL ROLL 18/19           191\n",
       "BLOCK                                        0\n",
       "LOT                                          0\n",
       "EASE-MENT                                83920\n",
       "BUILDING CLASS AS OF FINAL ROLL 18/19      191\n",
       "ADDRESS                                      0\n",
       "APARTMENT NUMBER                         65581\n",
       "ZIP CODE                                    14\n",
       "RESIDENTIAL UNITS                        17173\n",
       "COMMERCIAL UNITS                         17173\n",
       "TOTAL UNITS                              17173\n",
       "LAND SQUARE FEET                         17173\n",
       "GROSS SQUARE FEET                        17173\n",
       "YEAR BUILT                                6024\n",
       "TAX CLASS AT TIME OF SALE                    0\n",
       "BUILDING CLASS AT TIME OF SALE               0\n",
       "SALE PRICE                                   0\n",
       "SALE DATE                                    0\n",
       "AREA                                         0\n",
       "FINAL_ADDRESS                                0\n",
       "dtype: int64"
      ]
     },
     "execution_count": 9,
     "metadata": {},
     "output_type": "execute_result"
    }
   ],
   "source": [
    "df.isna().sum()"
   ]
  },
  {
   "cell_type": "markdown",
   "metadata": {},
   "source": [
    "We can see that EASE-MENT and APARMNET NUMBER are NaN for the most part.\n",
    "Let's drop them\n"
   ]
  },
  {
   "cell_type": "code",
   "execution_count": 10,
   "metadata": {
    "colab": {},
    "colab_type": "code",
    "id": "3VJQfmIWq0_M"
   },
   "outputs": [],
   "source": [
    "df = df.drop(['EASE-MENT', 'APARTMENT NUMBER'], axis = 1) "
   ]
  },
  {
   "cell_type": "code",
   "execution_count": 11,
   "metadata": {
    "colab": {
     "base_uri": "https://localhost:8080/",
     "height": 399
    },
    "colab_type": "code",
    "id": "r2Eg_yO2q9xL",
    "outputId": "cdd785c4-adad-4e4f-f608-fb12d795e91c"
   },
   "outputs": [
    {
     "data": {
      "text/plain": [
       "BOROUGH                                      0\n",
       "NEIGHBORHOOD                                 0\n",
       "BUILDING CLASS CATEGORY                      0\n",
       "TAX CLASS AS OF FINAL ROLL 18/19           191\n",
       "BLOCK                                        0\n",
       "LOT                                          0\n",
       "BUILDING CLASS AS OF FINAL ROLL 18/19      191\n",
       "ADDRESS                                      0\n",
       "ZIP CODE                                    14\n",
       "RESIDENTIAL UNITS                        17173\n",
       "COMMERCIAL UNITS                         17173\n",
       "TOTAL UNITS                              17173\n",
       "LAND SQUARE FEET                         17173\n",
       "GROSS SQUARE FEET                        17173\n",
       "YEAR BUILT                                6024\n",
       "TAX CLASS AT TIME OF SALE                    0\n",
       "BUILDING CLASS AT TIME OF SALE               0\n",
       "SALE PRICE                                   0\n",
       "SALE DATE                                    0\n",
       "AREA                                         0\n",
       "FINAL_ADDRESS                                0\n",
       "dtype: int64"
      ]
     },
     "execution_count": 11,
     "metadata": {},
     "output_type": "execute_result"
    }
   ],
   "source": [
    "df.isna().sum()"
   ]
  },
  {
   "cell_type": "markdown",
   "metadata": {},
   "source": [
    "In fact, for this project purposes, Google API queries cost a decent amount of money.\n",
    "Thus, we decided to drop all NaN values"
   ]
  },
  {
   "cell_type": "code",
   "execution_count": 12,
   "metadata": {
    "colab": {},
    "colab_type": "code",
    "id": "eaX7f6ozkcXK"
   },
   "outputs": [],
   "source": [
    "df = df.dropna(how='any',axis=0)"
   ]
  },
  {
   "cell_type": "code",
   "execution_count": 13,
   "metadata": {},
   "outputs": [
    {
     "data": {
      "text/plain": [
       "BOROUGH                                  0\n",
       "NEIGHBORHOOD                             0\n",
       "BUILDING CLASS CATEGORY                  0\n",
       "TAX CLASS AS OF FINAL ROLL 18/19         0\n",
       "BLOCK                                    0\n",
       "LOT                                      0\n",
       "BUILDING CLASS AS OF FINAL ROLL 18/19    0\n",
       "ADDRESS                                  0\n",
       "ZIP CODE                                 0\n",
       "RESIDENTIAL UNITS                        0\n",
       "COMMERCIAL UNITS                         0\n",
       "TOTAL UNITS                              0\n",
       "LAND SQUARE FEET                         0\n",
       "GROSS SQUARE FEET                        0\n",
       "YEAR BUILT                               0\n",
       "TAX CLASS AT TIME OF SALE                0\n",
       "BUILDING CLASS AT TIME OF SALE           0\n",
       "SALE PRICE                               0\n",
       "SALE DATE                                0\n",
       "AREA                                     0\n",
       "FINAL_ADDRESS                            0\n",
       "dtype: int64"
      ]
     },
     "execution_count": 13,
     "metadata": {},
     "output_type": "execute_result"
    }
   ],
   "source": [
    "df.isna().sum()"
   ]
  },
  {
   "cell_type": "markdown",
   "metadata": {},
   "source": [
    "OK, good. lets see how many data points we have left."
   ]
  },
  {
   "cell_type": "code",
   "execution_count": 14,
   "metadata": {
    "colab": {
     "base_uri": "https://localhost:8080/",
     "height": 35
    },
    "colab_type": "code",
    "id": "KsT49vRZmZFC",
    "outputId": "6421151b-9316-4f0e-938a-db3d5279cdfc"
   },
   "outputs": [
    {
     "name": "stdout",
     "output_type": "stream",
     "text": [
      "Train data has 61098 rows and 21 colummns\n"
     ]
    }
   ],
   "source": [
    "print(f'Train data has {df.shape[0]} rows and {df.shape[1]} colummns')"
   ]
  },
  {
   "cell_type": "markdown",
   "metadata": {},
   "source": [
    "## <a name=\"outlier-remove-by-value\"></a>Outlier remove by value"
   ]
  },
  {
   "cell_type": "markdown",
   "metadata": {},
   "source": [
    "### <a name=\"Area\"></a>Area:\n",
    "There are no real outliers involving this feature, lets just show them"
   ]
  },
  {
   "cell_type": "code",
   "execution_count": 15,
   "metadata": {
    "colab": {
     "base_uri": "https://localhost:8080/",
     "height": 282
    },
    "colab_type": "code",
    "id": "f2TMA9hwnf8p",
    "outputId": "70a09104-2330-4f16-bb69-a1842f972b96"
   },
   "outputs": [
    {
     "data": {
      "image/png": "[encoded data removed]",
      "text/plain": [
       "<Figure size 576x288 with 1 Axes>"
      ]
     },
     "metadata": {
      "needs_background": "light"
     },
     "output_type": "display_data"
    }
   ],
   "source": [
    "int_level = df['AREA'].value_counts()\n",
    "\n",
    "plt.figure(figsize=(8,4))\n",
    "sns.barplot(int_level.index, int_level.values, alpha=0.8, color=color[1])\n",
    "plt.ylabel('Number of Occurrences', fontsize=12)\n",
    "plt.xlabel('BOROUGH', fontsize=12)\n",
    "plt.show()"
   ]
  },
  {
   "cell_type": "markdown",
   "metadata": {},
   "source": [
    "### <a name=\"sale-price\"></a>Sale Price:\n",
    "This is our target, lets see what we can find by showing the histogram of prices"
   ]
  },
  {
   "cell_type": "code",
   "execution_count": 16,
   "metadata": {
    "colab": {
     "base_uri": "https://localhost:8080/",
     "height": 402
    },
    "colab_type": "code",
    "id": "NlwM-hkwn6Fj",
    "outputId": "9363a695-ee6e-439a-fbd3-431b3ea089fc"
   },
   "outputs": [
    {
     "data": {
      "image/png": "[encoded data removed]",
      "text/plain": [
       "<Figure size 576x432 with 1 Axes>"
      ]
     },
     "metadata": {
      "needs_background": "light"
     },
     "output_type": "display_data"
    }
   ],
   "source": [
    "plt.figure(figsize=(8,6))\n",
    "plt.scatter(range(df.shape[0]), df['SALE PRICE'].values)\n",
    "plt.xlabel('index', fontsize=12)\n",
    "plt.ylabel('price', fontsize=12)\n",
    "plt.show()"
   ]
  },
  {
   "cell_type": "markdown",
   "metadata": {},
   "source": [
    "We can see disperencies in the sale price, lets remove them"
   ]
  },
  {
   "cell_type": "code",
   "execution_count": 17,
   "metadata": {
    "colab": {},
    "colab_type": "code",
    "id": "bSuluZUbo1_j"
   },
   "outputs": [],
   "source": [
    "df = df[df['SALE PRICE'] < 3e6]"
   ]
  },
  {
   "cell_type": "code",
   "execution_count": 18,
   "metadata": {
    "colab": {
     "base_uri": "https://localhost:8080/",
     "height": 402
    },
    "colab_type": "code",
    "id": "NwCsNu4_pYpS",
    "outputId": "d37b5f36-50a3-43de-d94c-29ad573a94e0"
   },
   "outputs": [
    {
     "data": {
      "image/png": "[encoded data removed]",
      "text/plain": [
       "<Figure size 576x432 with 1 Axes>"
      ]
     },
     "metadata": {
      "needs_background": "light"
     },
     "output_type": "display_data"
    }
   ],
   "source": [
    "plt.figure(figsize=(8,6))\n",
    "plt.scatter(range(df.shape[0]), df['SALE PRICE'].values)\n",
    "plt.xlabel('index', fontsize=12)\n",
    "plt.ylabel('price', fontsize=12)\n",
    "plt.show()"
   ]
  },
  {
   "cell_type": "code",
   "execution_count": 19,
   "metadata": {
    "colab": {
     "base_uri": "https://localhost:8080/",
     "height": 35
    },
    "colab_type": "code",
    "id": "F1iM5q59sONN",
    "outputId": "b387ad39-b119-476d-a081-525574156191"
   },
   "outputs": [
    {
     "name": "stdout",
     "output_type": "stream",
     "text": [
      "Train data has 57677 rows and 21 colummns\n"
     ]
    }
   ],
   "source": [
    "print(f'Train data has {df.shape[0]} rows and {df.shape[1]} colummns')"
   ]
  },
  {
   "cell_type": "code",
   "execution_count": 20,
   "metadata": {
    "colab": {
     "base_uri": "https://localhost:8080/",
     "height": 402
    },
    "colab_type": "code",
    "id": "mdURszomsfjx",
    "outputId": "34cc3c95-6333-4d0e-acc4-458d7bdb27cb"
   },
   "outputs": [
    {
     "data": {
      "image/png": "[encoded data removed]",
      "text/plain": [
       "<Figure size 576x432 with 1 Axes>"
      ]
     },
     "metadata": {
      "needs_background": "light"
     },
     "output_type": "display_data"
    }
   ],
   "source": [
    "plt.figure(figsize=(8,6))\n",
    "sns.distplot(df['SALE PRICE'].values, bins=50, kde=True)\n",
    "plt.xlabel('price', fontsize=12)\n",
    "plt.show()"
   ]
  },
  {
   "cell_type": "code",
   "execution_count": 21,
   "metadata": {
    "colab": {},
    "colab_type": "code",
    "id": "OAnDgCSv4oY6"
   },
   "outputs": [],
   "source": [
    "df = df[df['SALE PRICE'] > 100000]"
   ]
  },
  {
   "cell_type": "code",
   "execution_count": 22,
   "metadata": {
    "colab": {
     "base_uri": "https://localhost:8080/",
     "height": 402
    },
    "colab_type": "code",
    "id": "naJ6TWsD4rmL",
    "outputId": "46368696-673c-4608-988e-71bd973447d0"
   },
   "outputs": [
    {
     "data": {
      "image/png": "[encoded data removed]",
      "text/plain": [
       "<Figure size 576x432 with 1 Axes>"
      ]
     },
     "metadata": {
      "needs_background": "light"
     },
     "output_type": "display_data"
    }
   ],
   "source": [
    "plt.figure(figsize=(8,6))\n",
    "sns.distplot(df['SALE PRICE'].values, bins=50, kde=True)\n",
    "plt.xlabel('price', fontsize=12)\n",
    "plt.show()"
   ]
  },
  {
   "cell_type": "code",
   "execution_count": 23,
   "metadata": {
    "colab": {},
    "colab_type": "code",
    "id": "J1LqP8cm43To"
   },
   "outputs": [],
   "source": [
    "df = df[df['SALE PRICE'] < 2e6]"
   ]
  },
  {
   "cell_type": "code",
   "execution_count": 24,
   "metadata": {
    "colab": {
     "base_uri": "https://localhost:8080/",
     "height": 402
    },
    "colab_type": "code",
    "id": "rz9tqbIO45pI",
    "outputId": "d5211aea-47be-4431-bf42-801840c6504e"
   },
   "outputs": [
    {
     "data": {
      "image/png": "[encoded data removed]",
      "text/plain": [
       "<Figure size 576x432 with 1 Axes>"
      ]
     },
     "metadata": {
      "needs_background": "light"
     },
     "output_type": "display_data"
    }
   ],
   "source": [
    "plt.figure(figsize=(8,6))\n",
    "sns.distplot(df['SALE PRICE'].values, bins=50, kde=True)\n",
    "plt.xlabel('price', fontsize=12)\n",
    "plt.show()"
   ]
  },
  {
   "cell_type": "code",
   "execution_count": 25,
   "metadata": {
    "colab": {
     "base_uri": "https://localhost:8080/",
     "height": 35
    },
    "colab_type": "code",
    "id": "6x6Syd4D5Cfb",
    "outputId": "7a636c20-094b-42fa-93f7-e65fdde6bfac"
   },
   "outputs": [
    {
     "name": "stdout",
     "output_type": "stream",
     "text": [
      "Train data has 32153 rows and 21 colummns\n"
     ]
    }
   ],
   "source": [
    "print(f'Train data has {df.shape[0]} rows and {df.shape[1]} colummns')"
   ]
  },
  {
   "cell_type": "markdown",
   "metadata": {},
   "source": [
    "### <a name=\"tax-class\"></a>Tax Class:\n",
    "Nothing much to do here"
   ]
  },
  {
   "cell_type": "code",
   "execution_count": 26,
   "metadata": {
    "colab": {
     "base_uri": "https://localhost:8080/",
     "height": 282
    },
    "colab_type": "code",
    "id": "2y4BhKldt3fE",
    "outputId": "c95d7fd8-74f7-4869-8614-c67f80ea472c"
   },
   "outputs": [
    {
     "data": {
      "image/png": "[encoded data removed]",
      "text/plain": [
       "<Figure size 576x288 with 1 Axes>"
      ]
     },
     "metadata": {
      "needs_background": "light"
     },
     "output_type": "display_data"
    }
   ],
   "source": [
    "int_level = df['TAX CLASS AS OF FINAL ROLL 18/19'].value_counts()\n",
    "\n",
    "plt.figure(figsize=(8,4))\n",
    "sns.barplot(int_level.index, int_level.values, alpha=0.8, color=color[4])\n",
    "plt.ylabel('Number of Occurrences', fontsize=12)\n",
    "plt.xlabel('TAX CLASS AS OF FINAL ROLL 18/19', fontsize=12)\n",
    "plt.show()"
   ]
  },
  {
   "cell_type": "markdown",
   "metadata": {},
   "source": [
    "### <a name=\"residential-units\"></a>Residential Units:"
   ]
  },
  {
   "cell_type": "code",
   "execution_count": 27,
   "metadata": {
    "colab": {
     "base_uri": "https://localhost:8080/",
     "height": 104
    },
    "colab_type": "code",
    "id": "mL1DuQsCvI7U",
    "outputId": "04f7a71b-bd5f-4b40-9554-cfae5b300fcb"
   },
   "outputs": [
    {
     "name": "stdout",
     "output_type": "stream",
     "text": [
      "Unique elements in column \"RESIDENTIAL UNITS\" \n",
      "[  0.   1.   2.   3.   4.   5.   6.   7.   8.   9.  10.  11.  12.  13.\n",
      "  14.  15.  16.  17.  18.  19.  20.  21.  22.  24.  26.  28.  29.  30.\n",
      "  32.  35.  36.  40.  45.  48.  55.  63.  77.  80. 122. 130. 142. 145.\n",
      " 155. 200. 261. 285.]\n"
     ]
    }
   ],
   "source": [
    "uniqueValues = df['RESIDENTIAL UNITS'].unique()\n",
    "print('Unique elements in column \"RESIDENTIAL UNITS\" ')\n",
    "print(np.sort(uniqueValues))"
   ]
  },
  {
   "cell_type": "code",
   "execution_count": 28,
   "metadata": {},
   "outputs": [
    {
     "data": {
      "image/png": "[encoded data removed]",
      "text/plain": [
       "<Figure size 576x288 with 1 Axes>"
      ]
     },
     "metadata": {
      "needs_background": "light"
     },
     "output_type": "display_data"
    }
   ],
   "source": [
    "cnt_srs = df['RESIDENTIAL UNITS'].value_counts()\n",
    "\n",
    "plt.figure(figsize=(8,4))\n",
    "sns.barplot(cnt_srs.index, cnt_srs.values, alpha=0.8, color=color[0])\n",
    "plt.ylabel('Number of Occurrences', fontsize=12)\n",
    "plt.xlabel('RESIDENTIAL UNITS', fontsize=12)\n",
    "plt.show()"
   ]
  },
  {
   "cell_type": "code",
   "execution_count": 29,
   "metadata": {
    "colab": {},
    "colab_type": "code",
    "id": "P3YzDPR5wKkk"
   },
   "outputs": [],
   "source": [
    "df = df[df['RESIDENTIAL UNITS'] < 10.0]"
   ]
  },
  {
   "cell_type": "code",
   "execution_count": 30,
   "metadata": {
    "colab": {
     "base_uri": "https://localhost:8080/",
     "height": 285
    },
    "colab_type": "code",
    "id": "kGGpWpTAuFBs",
    "outputId": "0682812d-0658-45be-be78-90a363fa579c"
   },
   "outputs": [
    {
     "data": {
      "image/png": "[encoded data removed]",
      "text/plain": [
       "<Figure size 576x288 with 1 Axes>"
      ]
     },
     "metadata": {
      "needs_background": "light"
     },
     "output_type": "display_data"
    }
   ],
   "source": [
    "cnt_srs = df['RESIDENTIAL UNITS'].value_counts()\n",
    "\n",
    "plt.figure(figsize=(8,4))\n",
    "sns.barplot(cnt_srs.index, cnt_srs.values, alpha=0.8, color=color[0])\n",
    "plt.ylabel('Number of Occurrences', fontsize=12)\n",
    "plt.xlabel('RESIDENTIAL UNITS', fontsize=12)\n",
    "plt.show()"
   ]
  },
  {
   "cell_type": "code",
   "execution_count": 31,
   "metadata": {
    "colab": {
     "base_uri": "https://localhost:8080/",
     "height": 35
    },
    "colab_type": "code",
    "id": "ffU9FfacwVMF",
    "outputId": "55a74626-9ef0-4905-c23d-329c183f76a2"
   },
   "outputs": [
    {
     "name": "stdout",
     "output_type": "stream",
     "text": [
      "Train data has 32057 rows and 21 colummns\n"
     ]
    }
   ],
   "source": [
    "print(f'Train data has {df.shape[0]} rows and {df.shape[1]} colummns')"
   ]
  },
  {
   "cell_type": "markdown",
   "metadata": {},
   "source": [
    "### <a name=\"commercial-units\"></a>Commercial Units:"
   ]
  },
  {
   "cell_type": "code",
   "execution_count": 32,
   "metadata": {
    "colab": {
     "base_uri": "https://localhost:8080/",
     "height": 69
    },
    "colab_type": "code",
    "id": "tYIfA0lawozy",
    "outputId": "e9d221f1-cbf5-40e0-ed99-d15bf1c23a18"
   },
   "outputs": [
    {
     "name": "stdout",
     "output_type": "stream",
     "text": [
      "Unique elements in column \"COMMERCIAL UNITS\" \n",
      "[  0.   1.   2.   3.   4.   5.   6.   7.   8.   9.  13.  14.  15.  20.\n",
      "  35.  60.  64.  65. 133. 259.]\n"
     ]
    }
   ],
   "source": [
    "uniqueValues = df['COMMERCIAL UNITS'].unique()\n",
    "print('Unique elements in column \"COMMERCIAL UNITS\" ')\n",
    "print(np.sort(uniqueValues))"
   ]
  },
  {
   "cell_type": "code",
   "execution_count": 33,
   "metadata": {
    "colab": {
     "base_uri": "https://localhost:8080/",
     "height": 282
    },
    "colab_type": "code",
    "id": "3BXOzHuPwcsL",
    "outputId": "fc99f829-db94-4f0c-943c-48bc5dbf37de"
   },
   "outputs": [
    {
     "data": {
      "image/png": "[encoded data removed]",
      "text/plain": [
       "<Figure size 576x288 with 1 Axes>"
      ]
     },
     "metadata": {
      "needs_background": "light"
     },
     "output_type": "display_data"
    }
   ],
   "source": [
    "cnt_srs = df['COMMERCIAL UNITS'].value_counts()\n",
    "\n",
    "plt.figure(figsize=(8,4))\n",
    "sns.barplot(cnt_srs.index, cnt_srs.values, alpha=0.8, color=color[2])\n",
    "plt.ylabel('Number of Occurrences', fontsize=12)\n",
    "plt.xlabel('COMMERCIAL UNITS', fontsize=12)\n",
    "plt.show()"
   ]
  },
  {
   "cell_type": "code",
   "execution_count": 34,
   "metadata": {
    "colab": {},
    "colab_type": "code",
    "id": "QvY-aQolww72"
   },
   "outputs": [],
   "source": [
    "df = df[df['COMMERCIAL UNITS'] < 5.0]"
   ]
  },
  {
   "cell_type": "code",
   "execution_count": 35,
   "metadata": {
    "colab": {
     "base_uri": "https://localhost:8080/",
     "height": 282
    },
    "colab_type": "code",
    "id": "Qm_WU4SDw2_s",
    "outputId": "15695ff5-1218-4b91-afd3-c0ee8b0f380c"
   },
   "outputs": [
    {
     "data": {
      "image/png": "[encoded data removed]",
      "text/plain": [
       "<Figure size 576x288 with 1 Axes>"
      ]
     },
     "metadata": {
      "needs_background": "light"
     },
     "output_type": "display_data"
    }
   ],
   "source": [
    "cnt_srs = df['COMMERCIAL UNITS'].value_counts()\n",
    "\n",
    "plt.figure(figsize=(8,4))\n",
    "sns.barplot(cnt_srs.index, cnt_srs.values, alpha=0.8, color=color[2])\n",
    "plt.ylabel('Number of Occurrences', fontsize=12)\n",
    "plt.xlabel('COMMERCIAL UNITS', fontsize=12)\n",
    "plt.show()"
   ]
  },
  {
   "cell_type": "code",
   "execution_count": 36,
   "metadata": {
    "colab": {
     "base_uri": "https://localhost:8080/",
     "height": 35
    },
    "colab_type": "code",
    "id": "QUtRGNuhw7ib",
    "outputId": "44fb556e-151b-4ec6-cab6-0047b8881906"
   },
   "outputs": [
    {
     "name": "stdout",
     "output_type": "stream",
     "text": [
      "Train data has 32023 rows and 21 colummns\n"
     ]
    }
   ],
   "source": [
    "print(f'Train data has {df.shape[0]} rows and {df.shape[1]} colummns')"
   ]
  },
  {
   "cell_type": "code",
   "execution_count": 37,
   "metadata": {
    "colab": {
     "base_uri": "https://localhost:8080/",
     "height": 391
    },
    "colab_type": "code",
    "id": "lc_LnrQKw8mz",
    "outputId": "fb91baf7-c442-4d6d-c7ce-bc76f11ab4ca"
   },
   "outputs": [
    {
     "data": {
      "image/png": "[encoded data removed]",
      "text/plain": [
       "<Figure size 576x432 with 1 Axes>"
      ]
     },
     "metadata": {
      "needs_background": "light"
     },
     "output_type": "display_data"
    }
   ],
   "source": [
    "plt.figure(figsize=(8,6))\n",
    "sns.distplot(df['YEAR BUILT'].values, bins=50, kde=True)\n",
    "plt.xlabel('YEAR BUILT', fontsize=12)\n",
    "plt.show()"
   ]
  },
  {
   "cell_type": "markdown",
   "metadata": {},
   "source": [
    "### <a name=\"year-built\"></a>Year Built:"
   ]
  },
  {
   "cell_type": "code",
   "execution_count": 38,
   "metadata": {
    "colab": {
     "base_uri": "https://localhost:8080/",
     "height": 243
    },
    "colab_type": "code",
    "id": "fO2j0a-lTPne",
    "outputId": "0fbd728f-ae98-4ff2-9080-c2ab085250a3"
   },
   "outputs": [
    {
     "name": "stdout",
     "output_type": "stream",
     "text": [
      "Unique elements in column \"YEAR BUILT\" \n",
      "[1030. 1800. 1840. 1845. 1857. 1870. 1871. 1873. 1875. 1880. 1881. 1886.\n",
      " 1890. 1892. 1893. 1895. 1897. 1899. 1900. 1901. 1902. 1903. 1904. 1905.\n",
      " 1906. 1907. 1908. 1909. 1910. 1911. 1912. 1913. 1914. 1915. 1916. 1917.\n",
      " 1918. 1919. 1920. 1921. 1922. 1923. 1924. 1925. 1926. 1927. 1928. 1929.\n",
      " 1930. 1931. 1932. 1933. 1934. 1935. 1936. 1937. 1938. 1939. 1940. 1941.\n",
      " 1942. 1943. 1944. 1945. 1946. 1947. 1948. 1949. 1950. 1951. 1952. 1953.\n",
      " 1954. 1955. 1956. 1957. 1958. 1959. 1960. 1961. 1962. 1963. 1964. 1965.\n",
      " 1966. 1967. 1968. 1969. 1970. 1971. 1972. 1973. 1974. 1975. 1976. 1977.\n",
      " 1978. 1979. 1980. 1981. 1982. 1983. 1984. 1985. 1986. 1987. 1988. 1989.\n",
      " 1990. 1991. 1992. 1993. 1994. 1995. 1996. 1997. 1998. 1999. 2000. 2001.\n",
      " 2002. 2003. 2004. 2005. 2006. 2007. 2008. 2009. 2010. 2011. 2012. 2013.\n",
      " 2014. 2015. 2016. 2017. 2018. 2019. 2020.]\n"
     ]
    }
   ],
   "source": [
    "uniqueValues = df['YEAR BUILT'].unique()\n",
    "print('Unique elements in column \"YEAR BUILT\" ')\n",
    "print(np.sort(uniqueValues))"
   ]
  },
  {
   "cell_type": "code",
   "execution_count": 39,
   "metadata": {
    "colab": {},
    "colab_type": "code",
    "id": "WFZPl4oycaSs"
   },
   "outputs": [],
   "source": [
    "df = df[df['YEAR BUILT'] > 1860]\n",
    "df = df[df['YEAR BUILT'] <= 2020]"
   ]
  },
  {
   "cell_type": "code",
   "execution_count": 40,
   "metadata": {
    "colab": {
     "base_uri": "https://localhost:8080/",
     "height": 35
    },
    "colab_type": "code",
    "id": "SBYA6E52ci75",
    "outputId": "08ae0ac6-383c-4456-cdeb-86284383fae4"
   },
   "outputs": [
    {
     "name": "stdout",
     "output_type": "stream",
     "text": [
      "Train data has 32005 rows and 21 colummns\n"
     ]
    }
   ],
   "source": [
    "print(f'Train data has {df.shape[0]} rows and {df.shape[1]} colummns')"
   ]
  },
  {
   "cell_type": "code",
   "execution_count": 41,
   "metadata": {
    "colab": {
     "base_uri": "https://localhost:8080/",
     "height": 391
    },
    "colab_type": "code",
    "id": "e0TGisD-cl3a",
    "outputId": "27e7f24b-b2a5-4c1d-fa82-cb041cddd71d"
   },
   "outputs": [
    {
     "data": {
      "image/png": "[encoded data removed]",
      "text/plain": [
       "<Figure size 576x432 with 1 Axes>"
      ]
     },
     "metadata": {
      "needs_background": "light"
     },
     "output_type": "display_data"
    }
   ],
   "source": [
    "plt.figure(figsize=(8,6))\n",
    "sns.distplot(df['YEAR BUILT'].values, bins=50, kde=True)\n",
    "plt.xlabel('YEAR BUILT', fontsize=12)\n",
    "plt.show()"
   ]
  },
  {
   "cell_type": "code",
   "execution_count": 42,
   "metadata": {
    "colab": {},
    "colab_type": "code",
    "id": "YPy7R76-5mRP"
   },
   "outputs": [],
   "source": [
    "df = df[df['YEAR BUILT'] > 1890]"
   ]
  },
  {
   "cell_type": "code",
   "execution_count": 43,
   "metadata": {
    "colab": {
     "base_uri": "https://localhost:8080/",
     "height": 391
    },
    "colab_type": "code",
    "id": "g9v6-41l5plQ",
    "outputId": "39db6bc3-69b0-426b-d876-d9f1909d5e3e"
   },
   "outputs": [
    {
     "data": {
      "image/png": "[encoded data removed]",
      "text/plain": [
       "<Figure size 576x432 with 1 Axes>"
      ]
     },
     "metadata": {
      "needs_background": "light"
     },
     "output_type": "display_data"
    }
   ],
   "source": [
    "plt.figure(figsize=(8,6))\n",
    "sns.distplot(df['YEAR BUILT'].values, bins=50, kde=True)\n",
    "plt.xlabel('YEAR BUILT', fontsize=12)\n",
    "plt.show()"
   ]
  },
  {
   "cell_type": "code",
   "execution_count": 44,
   "metadata": {
    "colab": {
     "base_uri": "https://localhost:8080/",
     "height": 35
    },
    "colab_type": "code",
    "id": "3FdBUUeN5v-w",
    "outputId": "db167102-cc9f-4eb7-9cb0-3199ce1f04d0"
   },
   "outputs": [
    {
     "name": "stdout",
     "output_type": "stream",
     "text": [
      "Train data has 31969 rows and 21 colummns\n"
     ]
    }
   ],
   "source": [
    "print(f'Train data has {df.shape[0]} rows and {df.shape[1]} colummns')"
   ]
  },
  {
   "cell_type": "code",
   "execution_count": 45,
   "metadata": {
    "colab": {
     "base_uri": "https://localhost:8080/",
     "height": 225
    },
    "colab_type": "code",
    "id": "fD-b3UUsc5Kh",
    "outputId": "70c42748-81e9-4c5c-995d-91c34aff9682"
   },
   "outputs": [
    {
     "name": "stdout",
     "output_type": "stream",
     "text": [
      "Unique elements in column \"YEAR BUILT\" \n",
      "[1892. 1893. 1895. 1897. 1899. 1900. 1901. 1902. 1903. 1904. 1905. 1906.\n",
      " 1907. 1908. 1909. 1910. 1911. 1912. 1913. 1914. 1915. 1916. 1917. 1918.\n",
      " 1919. 1920. 1921. 1922. 1923. 1924. 1925. 1926. 1927. 1928. 1929. 1930.\n",
      " 1931. 1932. 1933. 1934. 1935. 1936. 1937. 1938. 1939. 1940. 1941. 1942.\n",
      " 1943. 1944. 1945. 1946. 1947. 1948. 1949. 1950. 1951. 1952. 1953. 1954.\n",
      " 1955. 1956. 1957. 1958. 1959. 1960. 1961. 1962. 1963. 1964. 1965. 1966.\n",
      " 1967. 1968. 1969. 1970. 1971. 1972. 1973. 1974. 1975. 1976. 1977. 1978.\n",
      " 1979. 1980. 1981. 1982. 1983. 1984. 1985. 1986. 1987. 1988. 1989. 1990.\n",
      " 1991. 1992. 1993. 1994. 1995. 1996. 1997. 1998. 1999. 2000. 2001. 2002.\n",
      " 2003. 2004. 2005. 2006. 2007. 2008. 2009. 2010. 2011. 2012. 2013. 2014.\n",
      " 2015. 2016. 2017. 2018. 2019. 2020.]\n"
     ]
    }
   ],
   "source": [
    "uniqueValues = df['YEAR BUILT'].unique()\n",
    "print('Unique elements in column \"YEAR BUILT\" ')\n",
    "print(np.sort(uniqueValues))"
   ]
  },
  {
   "cell_type": "markdown",
   "metadata": {},
   "source": [
    "### <a name=\"gross-square-feet\"></a>Gross Square Feet:"
   ]
  },
  {
   "cell_type": "code",
   "execution_count": 46,
   "metadata": {
    "colab": {
     "base_uri": "https://localhost:8080/",
     "height": 402
    },
    "colab_type": "code",
    "id": "3bPJpMTXd5m8",
    "outputId": "19436026-c72b-4a45-b09b-45067c17dec3"
   },
   "outputs": [
    {
     "data": {
      "image/png": "[encoded data removed]",
      "text/plain": [
       "<Figure size 576x432 with 1 Axes>"
      ]
     },
     "metadata": {
      "needs_background": "light"
     },
     "output_type": "display_data"
    }
   ],
   "source": [
    "plt.figure(figsize=(8,6))\n",
    "sns.distplot(df['GROSS SQUARE FEET'].values, bins=50, kde=True)\n",
    "plt.xlabel('GROSS SQUARE FEET', fontsize=12)\n",
    "plt.show()"
   ]
  },
  {
   "cell_type": "code",
   "execution_count": 47,
   "metadata": {
    "colab": {},
    "colab_type": "code",
    "id": "hple6S1-eHQ0"
   },
   "outputs": [],
   "source": [
    "df = df[df['GROSS SQUARE FEET'] < 5000]"
   ]
  },
  {
   "cell_type": "code",
   "execution_count": 48,
   "metadata": {
    "colab": {
     "base_uri": "https://localhost:8080/",
     "height": 391
    },
    "colab_type": "code",
    "id": "cAxS7KrVeOYK",
    "outputId": "5b7860cc-47a0-4a56-cd00-5467e4b83d17"
   },
   "outputs": [
    {
     "data": {
      "image/png": "[encoded data removed]",
      "text/plain": [
       "<Figure size 576x432 with 1 Axes>"
      ]
     },
     "metadata": {
      "needs_background": "light"
     },
     "output_type": "display_data"
    }
   ],
   "source": [
    "plt.figure(figsize=(8,6))\n",
    "sns.distplot(df['GROSS SQUARE FEET'].values, bins=50, kde=True)\n",
    "plt.xlabel('GROSS SQUARE FEET', fontsize=12)\n",
    "plt.show()"
   ]
  },
  {
   "cell_type": "code",
   "execution_count": 49,
   "metadata": {
    "colab": {},
    "colab_type": "code",
    "id": "0x7gjUttez5J"
   },
   "outputs": [],
   "source": [
    "df = df[df['GROSS SQUARE FEET'] < 4600]"
   ]
  },
  {
   "cell_type": "code",
   "execution_count": 50,
   "metadata": {
    "colab": {
     "base_uri": "https://localhost:8080/",
     "height": 35
    },
    "colab_type": "code",
    "id": "UmpfJitFe29z",
    "outputId": "7fcf6ec2-5b60-4e65-b807-9c27c95f2c59"
   },
   "outputs": [
    {
     "name": "stdout",
     "output_type": "stream",
     "text": [
      "Train data has 31547 rows and 21 colummns\n"
     ]
    }
   ],
   "source": [
    "print(f'Train data has {df.shape[0]} rows and {df.shape[1]} colummns')"
   ]
  },
  {
   "cell_type": "code",
   "execution_count": 51,
   "metadata": {
    "colab": {
     "base_uri": "https://localhost:8080/",
     "height": 391
    },
    "colab_type": "code",
    "id": "ifbKlb5Me7ZL",
    "outputId": "6b0394bd-58a1-46f4-c6ac-5b4435efcf23"
   },
   "outputs": [
    {
     "data": {
      "image/png": "[encoded data removed]",
      "text/plain": [
       "<Figure size 576x432 with 1 Axes>"
      ]
     },
     "metadata": {
      "needs_background": "light"
     },
     "output_type": "display_data"
    }
   ],
   "source": [
    "plt.figure(figsize=(8,6))\n",
    "sns.distplot(df['GROSS SQUARE FEET'].values, bins=50, kde=True)\n",
    "plt.xlabel('GROSS SQUARE FEET', fontsize=12)\n",
    "plt.show()"
   ]
  },
  {
   "cell_type": "code",
   "execution_count": 52,
   "metadata": {
    "colab": {},
    "colab_type": "code",
    "id": "qiP5dVtnfKjS"
   },
   "outputs": [],
   "source": [
    "df = df[df['GROSS SQUARE FEET'] > 50]"
   ]
  },
  {
   "cell_type": "code",
   "execution_count": 53,
   "metadata": {
    "colab": {
     "base_uri": "https://localhost:8080/",
     "height": 391
    },
    "colab_type": "code",
    "id": "LQUW6w8NfU3b",
    "outputId": "62ae9c1c-5338-4fe0-c15d-96f910a2c253"
   },
   "outputs": [
    {
     "data": {
      "image/png": "[encoded data removed]",
      "text/plain": [
       "<Figure size 576x432 with 1 Axes>"
      ]
     },
     "metadata": {
      "needs_background": "light"
     },
     "output_type": "display_data"
    }
   ],
   "source": [
    "plt.figure(figsize=(8,6))\n",
    "sns.distplot(df['GROSS SQUARE FEET'].values, bins=50, kde=True)\n",
    "plt.xlabel('GROSS SQUARE FEET', fontsize=12)\n",
    "plt.show()"
   ]
  },
  {
   "cell_type": "code",
   "execution_count": 54,
   "metadata": {
    "colab": {
     "base_uri": "https://localhost:8080/",
     "height": 35
    },
    "colab_type": "code",
    "id": "MoWow7Oj6MjK",
    "outputId": "35bc57d0-d284-43c6-c338-868e0517c7df"
   },
   "outputs": [
    {
     "name": "stdout",
     "output_type": "stream",
     "text": [
      "Train data has 23108 rows and 21 colummns\n"
     ]
    }
   ],
   "source": [
    "print(f'Train data has {df.shape[0]} rows and {df.shape[1]} colummns')"
   ]
  },
  {
   "cell_type": "markdown",
   "metadata": {},
   "source": [
    "### <a name=\"land-square-feet\"></a>Land Square Feet:"
   ]
  },
  {
   "cell_type": "code",
   "execution_count": 55,
   "metadata": {
    "colab": {
     "base_uri": "https://localhost:8080/",
     "height": 391
    },
    "colab_type": "code",
    "id": "X1vhNzqNfhOK",
    "outputId": "6f52dd8d-f47b-4b40-c8f2-50538645fefc"
   },
   "outputs": [
    {
     "data": {
      "image/png": "[encoded data removed]",
      "text/plain": [
       "<Figure size 576x432 with 1 Axes>"
      ]
     },
     "metadata": {
      "needs_background": "light"
     },
     "output_type": "display_data"
    }
   ],
   "source": [
    "plt.figure(figsize=(8,6))\n",
    "sns.distplot(df['LAND SQUARE FEET'].values, bins=50, kde=True)\n",
    "plt.xlabel('LAND SQUARE FEET', fontsize=12)\n",
    "plt.show()"
   ]
  },
  {
   "cell_type": "code",
   "execution_count": 56,
   "metadata": {
    "colab": {},
    "colab_type": "code",
    "id": "DiDrNtR3f19C"
   },
   "outputs": [],
   "source": [
    "df = df[df['LAND SQUARE FEET'] > 200]"
   ]
  },
  {
   "cell_type": "code",
   "execution_count": 57,
   "metadata": {
    "colab": {
     "base_uri": "https://localhost:8080/",
     "height": 391
    },
    "colab_type": "code",
    "id": "u__rTkES6bMk",
    "outputId": "e57c1ab1-89c0-49d9-a3ff-52977cd12584"
   },
   "outputs": [
    {
     "data": {
      "image/png": "[encoded data removed]",
      "text/plain": [
       "<Figure size 576x432 with 1 Axes>"
      ]
     },
     "metadata": {
      "needs_background": "light"
     },
     "output_type": "display_data"
    }
   ],
   "source": [
    "plt.figure(figsize=(8,6))\n",
    "sns.distplot(df['LAND SQUARE FEET'].values, bins=50, kde=True)\n",
    "plt.xlabel('LAND SQUARE FEET', fontsize=12)\n",
    "plt.show()"
   ]
  },
  {
   "cell_type": "code",
   "execution_count": 58,
   "metadata": {
    "colab": {},
    "colab_type": "code",
    "id": "gKk_NFIF6ZM7"
   },
   "outputs": [],
   "source": [
    "df = df[df['LAND SQUARE FEET'] < 7000]"
   ]
  },
  {
   "cell_type": "code",
   "execution_count": 59,
   "metadata": {
    "colab": {
     "base_uri": "https://localhost:8080/",
     "height": 391
    },
    "colab_type": "code",
    "id": "w4sohWnbgCc0",
    "outputId": "c15ae2b8-c062-4a85-f742-7047b35c0fa0"
   },
   "outputs": [
    {
     "data": {
      "image/png": "[encoded data removed]",
      "text/plain": [
       "<Figure size 576x432 with 1 Axes>"
      ]
     },
     "metadata": {
      "needs_background": "light"
     },
     "output_type": "display_data"
    }
   ],
   "source": [
    "plt.figure(figsize=(8,6))\n",
    "sns.distplot(df['LAND SQUARE FEET'].values, bins=50, kde=True)\n",
    "plt.xlabel('LAND SQUARE FEET', fontsize=12)\n",
    "plt.show()"
   ]
  },
  {
   "cell_type": "code",
   "execution_count": 60,
   "metadata": {
    "colab": {
     "base_uri": "https://localhost:8080/",
     "height": 35
    },
    "colab_type": "code",
    "id": "ofg1Azg36hSU",
    "outputId": "4626085c-9520-4abb-9acc-243650dd9ca2"
   },
   "outputs": [
    {
     "name": "stdout",
     "output_type": "stream",
     "text": [
      "Train data has 22501 rows and 21 colummns\n"
     ]
    }
   ],
   "source": [
    "print(f'Train data has {df.shape[0]} rows and {df.shape[1]} colummns')"
   ]
  },
  {
   "cell_type": "code",
   "execution_count": 61,
   "metadata": {
    "colab": {},
    "colab_type": "code",
    "id": "Vxxxy4_GgSgF"
   },
   "outputs": [],
   "source": [
    "df = df[df['LAND SQUARE FEET'] < 6000]"
   ]
  },
  {
   "cell_type": "code",
   "execution_count": 62,
   "metadata": {
    "colab": {
     "base_uri": "https://localhost:8080/",
     "height": 391
    },
    "colab_type": "code",
    "id": "zLMhhEaA6r60",
    "outputId": "c9dffad2-0165-4a42-a0f2-fd7f6b83cc17"
   },
   "outputs": [
    {
     "data": {
      "image/png": "[encoded data removed]",
      "text/plain": [
       "<Figure size 576x432 with 1 Axes>"
      ]
     },
     "metadata": {
      "needs_background": "light"
     },
     "output_type": "display_data"
    }
   ],
   "source": [
    "plt.figure(figsize=(8,6))\n",
    "sns.distplot(df['LAND SQUARE FEET'].values, bins=50, kde=True)\n",
    "plt.xlabel('LAND SQUARE FEET', fontsize=12)\n",
    "plt.show()"
   ]
  },
  {
   "cell_type": "code",
   "execution_count": 63,
   "metadata": {
    "colab": {
     "base_uri": "https://localhost:8080/",
     "height": 35
    },
    "colab_type": "code",
    "id": "E0SYff6k6wQL",
    "outputId": "be1d8f6d-2ac4-4f62-bd67-4c516e19f1ff"
   },
   "outputs": [
    {
     "name": "stdout",
     "output_type": "stream",
     "text": [
      "Train data has 21990 rows and 21 colummns\n"
     ]
    }
   ],
   "source": [
    "print(f'Train data has {df.shape[0]} rows and {df.shape[1]} colummns')"
   ]
  },
  {
   "cell_type": "code",
   "execution_count": 64,
   "metadata": {
    "colab": {},
    "colab_type": "code",
    "id": "JAqTMlkH6yla"
   },
   "outputs": [],
   "source": [
    "df = df[df['LAND SQUARE FEET'] < 5000]"
   ]
  },
  {
   "cell_type": "code",
   "execution_count": 65,
   "metadata": {
    "colab": {
     "base_uri": "https://localhost:8080/",
     "height": 391
    },
    "colab_type": "code",
    "id": "8E7OmGWngME7",
    "outputId": "716e38ac-61d2-4f91-f7ef-a0ffd105539a"
   },
   "outputs": [
    {
     "data": {
      "image/png": "[encoded data removed]",
      "text/plain": [
       "<Figure size 576x432 with 1 Axes>"
      ]
     },
     "metadata": {
      "needs_background": "light"
     },
     "output_type": "display_data"
    }
   ],
   "source": [
    "plt.figure(figsize=(8,6))\n",
    "sns.distplot(df['LAND SQUARE FEET'].values, bins=50, kde=True)\n",
    "plt.xlabel('LAND SQUARE FEET', fontsize=12)\n",
    "plt.show()"
   ]
  },
  {
   "cell_type": "code",
   "execution_count": 66,
   "metadata": {
    "colab": {
     "base_uri": "https://localhost:8080/",
     "height": 35
    },
    "colab_type": "code",
    "id": "9qU8MPZh7Gpr",
    "outputId": "3672ac7c-ef28-4b3d-d0af-aaa63799c5af"
   },
   "outputs": [
    {
     "name": "stdout",
     "output_type": "stream",
     "text": [
      "Train data has 20895 rows and 21 colummns\n"
     ]
    }
   ],
   "source": [
    "print(f'Train data has {df.shape[0]} rows and {df.shape[1]} colummns')"
   ]
  },
  {
   "cell_type": "markdown",
   "metadata": {},
   "source": [
    "### <a name=\"block\"></a>Block:"
   ]
  },
  {
   "cell_type": "code",
   "execution_count": 67,
   "metadata": {
    "colab": {
     "base_uri": "https://localhost:8080/",
     "height": 391
    },
    "colab_type": "code",
    "id": "3sGVIwhNgwib",
    "outputId": "22600775-45aa-4bca-8c91-b75c1d483bbf"
   },
   "outputs": [
    {
     "data": {
      "image/png": "[encoded data removed]",
      "text/plain": [
       "<Figure size 576x432 with 1 Axes>"
      ]
     },
     "metadata": {
      "needs_background": "light"
     },
     "output_type": "display_data"
    }
   ],
   "source": [
    "plt.figure(figsize=(8,6))\n",
    "sns.distplot(df['BLOCK'].values, bins=50, kde=True)\n",
    "plt.xlabel('BLOCK', fontsize=12)\n",
    "plt.show()"
   ]
  },
  {
   "cell_type": "code",
   "execution_count": 68,
   "metadata": {
    "colab": {
     "base_uri": "https://localhost:8080/",
     "height": 52
    },
    "colab_type": "code",
    "id": "eNlg1hEghIgM",
    "outputId": "e711b38b-4ec9-43cc-e858-2e4af6d1e071"
   },
   "outputs": [
    {
     "name": "stdout",
     "output_type": "stream",
     "text": [
      "Unique elements in column \"BLOCK\" \n",
      "8688\n"
     ]
    }
   ],
   "source": [
    "uniqueValues = df['BLOCK'].unique()\n",
    "print('Unique elements in column \"BLOCK\" ')\n",
    "print(np.size(np.sort(uniqueValues)))"
   ]
  },
  {
   "cell_type": "markdown",
   "metadata": {},
   "source": [
    "### <a name=\"zip-code\"></a>Zip Code:"
   ]
  },
  {
   "cell_type": "code",
   "execution_count": 69,
   "metadata": {
    "colab": {
     "base_uri": "https://localhost:8080/",
     "height": 391
    },
    "colab_type": "code",
    "id": "P0eq2YgRhe6O",
    "outputId": "25d64e0f-da27-43cb-b325-71bd3410226a"
   },
   "outputs": [
    {
     "data": {
      "image/png": "[encoded data removed]",
      "text/plain": [
       "<Figure size 576x432 with 1 Axes>"
      ]
     },
     "metadata": {
      "needs_background": "light"
     },
     "output_type": "display_data"
    }
   ],
   "source": [
    "plt.figure(figsize=(8,6))\n",
    "sns.distplot(df['ZIP CODE'].values, bins=50, kde=True)\n",
    "plt.xlabel('ZIP CODE', fontsize=12)\n",
    "plt.show()\n"
   ]
  },
  {
   "cell_type": "code",
   "execution_count": 70,
   "metadata": {
    "colab": {
     "base_uri": "https://localhost:8080/",
     "height": 35
    },
    "colab_type": "code",
    "id": "CedhpxTtvSjk",
    "outputId": "a70cb1ff-5383-428d-a885-6f66abd08bff"
   },
   "outputs": [
    {
     "name": "stdout",
     "output_type": "stream",
     "text": [
      "Train data has 20895 rows and 21 colummns\n"
     ]
    }
   ],
   "source": [
    "print(f'Train data has {df.shape[0]} rows and {df.shape[1]} colummns')"
   ]
  },
  {
   "cell_type": "code",
   "execution_count": 71,
   "metadata": {
    "colab": {},
    "colab_type": "code",
    "id": "vKKuGgOi7V8E"
   },
   "outputs": [],
   "source": [
    "df = df[df['ZIP CODE'] > 10000]"
   ]
  },
  {
   "cell_type": "code",
   "execution_count": 72,
   "metadata": {
    "colab": {
     "base_uri": "https://localhost:8080/",
     "height": 391
    },
    "colab_type": "code",
    "id": "XuVBTgznqhpw",
    "outputId": "fa15da39-e075-4fed-b332-bd841260b767"
   },
   "outputs": [
    {
     "data": {
      "image/png": "[encoded data removed]",
      "text/plain": [
       "<Figure size 576x432 with 1 Axes>"
      ]
     },
     "metadata": {
      "needs_background": "light"
     },
     "output_type": "display_data"
    }
   ],
   "source": [
    "plt.figure(figsize=(8,6))\n",
    "sns.distplot(df['ZIP CODE'].values, bins=50, kde=True)\n",
    "plt.xlabel('ZIP CODE', fontsize=12)\n",
    "plt.show()"
   ]
  },
  {
   "cell_type": "code",
   "execution_count": 73,
   "metadata": {
    "colab": {},
    "colab_type": "code",
    "id": "J08yzImH7f-Z"
   },
   "outputs": [],
   "source": [
    "df = df[df['ZIP CODE'] < 12000]"
   ]
  },
  {
   "cell_type": "code",
   "execution_count": 74,
   "metadata": {
    "colab": {
     "base_uri": "https://localhost:8080/",
     "height": 391
    },
    "colab_type": "code",
    "id": "Tm3kvhyH7jPz",
    "outputId": "a700af9b-c963-4574-82e9-5e7ec4360b8b"
   },
   "outputs": [
    {
     "data": {
      "image/png": "[encoded data removed]",
      "text/plain": [
       "<Figure size 576x432 with 1 Axes>"
      ]
     },
     "metadata": {
      "needs_background": "light"
     },
     "output_type": "display_data"
    }
   ],
   "source": [
    "plt.figure(figsize=(8,6))\n",
    "sns.distplot(df['ZIP CODE'].values, bins=50, kde=True)\n",
    "plt.xlabel('ZIP CODE', fontsize=12)\n",
    "plt.show()"
   ]
  },
  {
   "cell_type": "code",
   "execution_count": 75,
   "metadata": {
    "colab": {
     "base_uri": "https://localhost:8080/",
     "height": 35
    },
    "colab_type": "code",
    "id": "QwN-Pxkr7nk0",
    "outputId": "b422c946-8c7a-4c6f-c1a6-cf19f1c293f7"
   },
   "outputs": [
    {
     "name": "stdout",
     "output_type": "stream",
     "text": [
      "Train data has 20895 rows and 21 colummns\n"
     ]
    }
   ],
   "source": [
    "print(f'Train data has {df.shape[0]} rows and {df.shape[1]} colummns')"
   ]
  },
  {
   "cell_type": "markdown",
   "metadata": {},
   "source": [
    "### <a name=\"total-units\"></a>Total Units:"
   ]
  },
  {
   "cell_type": "code",
   "execution_count": 76,
   "metadata": {
    "colab": {
     "base_uri": "https://localhost:8080/",
     "height": 391
    },
    "colab_type": "code",
    "id": "rM0fNp5Tqoyg",
    "outputId": "f1c4199d-b215-4508-97a8-c438cb3f595e"
   },
   "outputs": [
    {
     "data": {
      "image/png": "[encoded data removed]",
      "text/plain": [
       "<Figure size 576x432 with 1 Axes>"
      ]
     },
     "metadata": {
      "needs_background": "light"
     },
     "output_type": "display_data"
    }
   ],
   "source": [
    "plt.figure(figsize=(8,6))\n",
    "sns.distplot(df['TOTAL UNITS'].values, bins=50, kde=True)\n",
    "plt.xlabel('TOTAL UNITS', fontsize=12)\n",
    "plt.show()"
   ]
  },
  {
   "cell_type": "code",
   "execution_count": 77,
   "metadata": {
    "colab": {},
    "colab_type": "code",
    "id": "SEeociCsq9lh"
   },
   "outputs": [],
   "source": [
    "df = df[df['TOTAL UNITS'] < 5]"
   ]
  },
  {
   "cell_type": "code",
   "execution_count": 78,
   "metadata": {
    "colab": {},
    "colab_type": "code",
    "id": "9E5rMdA-rLkK"
   },
   "outputs": [],
   "source": [
    "df = df[df['TOTAL UNITS'] > 0]"
   ]
  },
  {
   "cell_type": "code",
   "execution_count": 79,
   "metadata": {
    "colab": {
     "base_uri": "https://localhost:8080/",
     "height": 391
    },
    "colab_type": "code",
    "id": "1mHf1HHsrPK6",
    "outputId": "5f22bd51-1080-45b4-99b1-67b5e3be7411"
   },
   "outputs": [
    {
     "data": {
      "image/png": "[encoded data removed]",
      "text/plain": [
       "<Figure size 576x432 with 1 Axes>"
      ]
     },
     "metadata": {
      "needs_background": "light"
     },
     "output_type": "display_data"
    }
   ],
   "source": [
    "plt.figure(figsize=(8,6))\n",
    "sns.distplot(df['TOTAL UNITS'].values, bins=50, kde=True)\n",
    "plt.xlabel('TOTAL UNITS', fontsize=12)\n",
    "plt.show()"
   ]
  },
  {
   "cell_type": "code",
   "execution_count": 80,
   "metadata": {
    "colab": {
     "base_uri": "https://localhost:8080/",
     "height": 35
    },
    "colab_type": "code",
    "id": "QV69iw4PvPjU",
    "outputId": "44de74e1-1815-4d3c-f5f1-fc7d59b8b782"
   },
   "outputs": [
    {
     "name": "stdout",
     "output_type": "stream",
     "text": [
      "Train data has 20695 rows and 21 colummns\n"
     ]
    }
   ],
   "source": [
    "print(f'Train data has {df.shape[0]} rows and {df.shape[1]} colummns')"
   ]
  },
  {
   "cell_type": "markdown",
   "metadata": {},
   "source": [
    "### <a name=\"sale-date\"></a>Sale Date:"
   ]
  },
  {
   "cell_type": "code",
   "execution_count": 81,
   "metadata": {
    "colab": {
     "base_uri": "https://localhost:8080/",
     "height": 648
    },
    "colab_type": "code",
    "id": "TOkq4pUgsr-6",
    "outputId": "b14056e3-7b12-4b69-d698-99b7f53229f0"
   },
   "outputs": [
    {
     "name": "stderr",
     "output_type": "stream",
     "text": [
      "C:\\Users\\aavivi\\AppData\\Local\\Continuum\\anaconda3\\lib\\site-packages\\pandas\\plotting\\_converter.py:129: FutureWarning: Using an implicitly registered datetime converter for a matplotlib plotting method. The converter was registered by pandas on import. Future versions of pandas will require you to explicitly register matplotlib converters.\n",
      "\n",
      "To register the converters:\n",
      "\t>>> from pandas.plotting import register_matplotlib_converters\n",
      "\t>>> register_matplotlib_converters()\n",
      "  warnings.warn(msg, FutureWarning)\n"
     ]
    },
    {
     "data": {
      "image/png": "[encoded data removed]",
      "text/plain": [
       "<Figure size 720x720 with 1 Axes>"
      ]
     },
     "metadata": {
      "needs_background": "light"
     },
     "output_type": "display_data"
    }
   ],
   "source": [
    "# Create figure and plot space\n",
    "fig, ax = plt.subplots(figsize=(10, 10))\n",
    "\n",
    "# Add x-axis and y-axis\n",
    "ax.bar(df['SALE DATE'].values,\n",
    "        df['SALE PRICE'].values,\n",
    "        color='purple')\n",
    "\n",
    "# Set title and labels for axes\n",
    "ax.set(xlabel=\"Date\",\n",
    "       ylabel=\"Counts\",\n",
    "       title=\"Counts per date\")\n",
    "\n",
    "# Rotate tick marks on x-axis\n",
    "plt.setp(ax.get_xticklabels(), rotation=45)\n",
    "\n",
    "plt.show()\n"
   ]
  },
  {
   "cell_type": "code",
   "execution_count": 82,
   "metadata": {
    "colab": {
     "base_uri": "https://localhost:8080/",
     "height": 35
    },
    "colab_type": "code",
    "id": "d7OqVBQ3vK5p",
    "outputId": "cc0f4d65-326c-494c-94f7-0b130560676a"
   },
   "outputs": [
    {
     "name": "stdout",
     "output_type": "stream",
     "text": [
      "Train data has 20695 rows and 21 colummns\n"
     ]
    }
   ],
   "source": [
    "print(f'Train data has {df.shape[0]} rows and {df.shape[1]} colummns')"
   ]
  },
  {
   "cell_type": "markdown",
   "metadata": {},
   "source": [
    "### <a name=\"lot\"></a>Lot:"
   ]
  },
  {
   "cell_type": "code",
   "execution_count": 83,
   "metadata": {
    "colab": {
     "base_uri": "https://localhost:8080/",
     "height": 391
    },
    "colab_type": "code",
    "id": "-VOM20EawMVM",
    "outputId": "0f5e3d58-7924-47c7-e773-89db77bb48c3"
   },
   "outputs": [
    {
     "data": {
      "image/png": "[encoded data removed]",
      "text/plain": [
       "<Figure size 576x432 with 1 Axes>"
      ]
     },
     "metadata": {
      "needs_background": "light"
     },
     "output_type": "display_data"
    }
   ],
   "source": [
    "plt.figure(figsize=(8,6))\n",
    "sns.distplot(df['LOT'].values, bins=50, kde=True)\n",
    "plt.xlabel('LOT', fontsize=12)\n",
    "plt.show()"
   ]
  },
  {
   "cell_type": "code",
   "execution_count": 84,
   "metadata": {
    "colab": {},
    "colab_type": "code",
    "id": "SopBnADxwMc4"
   },
   "outputs": [],
   "source": [
    "df = df[df['LOT'] < 300]"
   ]
  },
  {
   "cell_type": "code",
   "execution_count": 85,
   "metadata": {
    "colab": {
     "base_uri": "https://localhost:8080/",
     "height": 391
    },
    "colab_type": "code",
    "id": "xJZfSpeDwMj6",
    "outputId": "40add3cc-10cf-4646-c2e8-397bc40e9876"
   },
   "outputs": [
    {
     "data": {
      "image/png": "[encoded data removed]",
      "text/plain": [
       "<Figure size 576x432 with 1 Axes>"
      ]
     },
     "metadata": {
      "needs_background": "light"
     },
     "output_type": "display_data"
    }
   ],
   "source": [
    "plt.figure(figsize=(8,6))\n",
    "sns.distplot(df['LOT'].values, bins=50, kde=True)\n",
    "plt.xlabel('LOT', fontsize=12)\n",
    "plt.show()"
   ]
  },
  {
   "cell_type": "code",
   "execution_count": 86,
   "metadata": {
    "colab": {
     "base_uri": "https://localhost:8080/",
     "height": 35
    },
    "colab_type": "code",
    "id": "V2cmGbNewNQz",
    "outputId": "1bb0a149-71e5-473f-e9c1-ff7a634d811b"
   },
   "outputs": [
    {
     "name": "stdout",
     "output_type": "stream",
     "text": [
      "Train data has 20235 rows and 21 colummns\n"
     ]
    }
   ],
   "source": [
    "print(f'Train data has {df.shape[0]} rows and {df.shape[1]} colummns')"
   ]
  },
  {
   "cell_type": "code",
   "execution_count": 87,
   "metadata": {
    "colab": {},
    "colab_type": "code",
    "id": "ByWIbHrO8JIe"
   },
   "outputs": [],
   "source": [
    "df = df[df['LOT'] < 200]"
   ]
  },
  {
   "cell_type": "code",
   "execution_count": 88,
   "metadata": {
    "colab": {
     "base_uri": "https://localhost:8080/",
     "height": 391
    },
    "colab_type": "code",
    "id": "bAZApUoi8NPD",
    "outputId": "d7aef5e6-9b0a-42b5-c7f9-978bff1857e3"
   },
   "outputs": [
    {
     "data": {
      "image/png": "[encoded data removed]",
      "text/plain": [
       "<Figure size 576x432 with 1 Axes>"
      ]
     },
     "metadata": {
      "needs_background": "light"
     },
     "output_type": "display_data"
    }
   ],
   "source": [
    "plt.figure(figsize=(8,6))\n",
    "sns.distplot(df['LOT'].values, bins=50, kde=True)\n",
    "plt.xlabel('LOT', fontsize=12)\n",
    "plt.show()"
   ]
  },
  {
   "cell_type": "code",
   "execution_count": 89,
   "metadata": {
    "colab": {
     "base_uri": "https://localhost:8080/",
     "height": 35
    },
    "colab_type": "code",
    "id": "amWkNPZQ8PBB",
    "outputId": "92d6fa61-80c0-4ae2-8256-2d3e17c3c707"
   },
   "outputs": [
    {
     "name": "stdout",
     "output_type": "stream",
     "text": [
      "Train data has 19835 rows and 21 colummns\n"
     ]
    }
   ],
   "source": [
    "print(f'Train data has {df.shape[0]} rows and {df.shape[1]} colummns')"
   ]
  },
  {
   "cell_type": "code",
   "execution_count": 90,
   "metadata": {
    "colab": {},
    "colab_type": "code",
    "id": "Z4EXyTfA8W88"
   },
   "outputs": [],
   "source": [
    "df = df[df['LOT'] < 150]"
   ]
  },
  {
   "cell_type": "code",
   "execution_count": 91,
   "metadata": {
    "colab": {
     "base_uri": "https://localhost:8080/",
     "height": 391
    },
    "colab_type": "code",
    "id": "9ns5pPut8Zgk",
    "outputId": "e04fef58-0e98-443e-a322-020be530ad02"
   },
   "outputs": [
    {
     "data": {
      "image/png": "[encoded data removed]",
      "text/plain": [
       "<Figure size 576x432 with 1 Axes>"
      ]
     },
     "metadata": {
      "needs_background": "light"
     },
     "output_type": "display_data"
    }
   ],
   "source": [
    "plt.figure(figsize=(8,6))\n",
    "sns.distplot(df['LOT'].values, bins=50, kde=True)\n",
    "plt.xlabel('LOT', fontsize=12)\n",
    "plt.show()"
   ]
  },
  {
   "cell_type": "code",
   "execution_count": 92,
   "metadata": {
    "colab": {
     "base_uri": "https://localhost:8080/",
     "height": 35
    },
    "colab_type": "code",
    "id": "ZePLbHaW8bRE",
    "outputId": "1ff826e4-84a2-470c-b68f-8d5c935c90cb"
   },
   "outputs": [
    {
     "name": "stdout",
     "output_type": "stream",
     "text": [
      "Train data has 19304 rows and 21 colummns\n"
     ]
    }
   ],
   "source": [
    "print(f'Train data has {df.shape[0]} rows and {df.shape[1]} colummns')"
   ]
  },
  {
   "cell_type": "markdown",
   "metadata": {},
   "source": [
    "### <a name=\"building-class-category\"></a>Building Class Category:"
   ]
  },
  {
   "cell_type": "code",
   "execution_count": 93,
   "metadata": {
    "colab": {
     "base_uri": "https://localhost:8080/",
     "height": 282
    },
    "colab_type": "code",
    "id": "7iPDDS3owNVy",
    "outputId": "977ff84b-8e24-4d2b-df7d-e98101f53c83"
   },
   "outputs": [
    {
     "data": {
      "image/png": "[encoded data removed]",
      "text/plain": [
       "<Figure size 576x288 with 1 Axes>"
      ]
     },
     "metadata": {
      "needs_background": "light"
     },
     "output_type": "display_data"
    }
   ],
   "source": [
    "int_level = df['BUILDING CLASS CATEGORY'].value_counts()\n",
    "\n",
    "plt.figure(figsize=(8,4))\n",
    "sns.barplot(int_level.index, int_level.values, alpha=0.8, color=color[9])\n",
    "plt.ylabel('Number of Occurrences', fontsize=12)\n",
    "plt.xlabel('BUILDING CLASS CATEGORY', fontsize=12)\n",
    "plt.show()"
   ]
  },
  {
   "cell_type": "code",
   "execution_count": 94,
   "metadata": {
    "colab": {
     "base_uri": "https://localhost:8080/",
     "height": 312
    },
    "colab_type": "code",
    "id": "XhpHvLqmUK-M",
    "outputId": "95e9e4b4-33fb-4971-87fa-24ed4e75765b"
   },
   "outputs": [
    {
     "name": "stdout",
     "output_type": "stream",
     "text": [
      "01 ONE FAMILY DWELLINGS              9346\n",
      "02 TWO FAMILY DWELLINGS              7449\n",
      "03 THREE FAMILY DWELLINGS            1791\n",
      "07 RENTALS - WALKUP APARTMENTS        348\n",
      "22 STORE BUILDINGS                    153\n",
      "14 RENTALS - 4-10 UNIT                 60\n",
      "21 OFFICE BUILDINGS                    47\n",
      "29 COMMERCIAL GARAGES                  35\n",
      "37 RELIGIOUS FACILITIES                22\n",
      "30 WAREHOUSES                          22\n",
      "27 FACTORIES                           15\n",
      "33 EDUCATIONAL FACILITIES               8\n",
      "41 TAX CLASS 4 - OTHER                  3\n",
      "38 ASYLUMS AND HOMES                    2\n",
      "32 HOSPITAL AND HEALTH FACILITIES       2\n",
      "34 THEATRES                             1\n",
      "Name: BUILDING CLASS CATEGORY, dtype: int64\n"
     ]
    }
   ],
   "source": [
    "cnt_srs = df['BUILDING CLASS CATEGORY'].value_counts()\n",
    "print(cnt_srs)"
   ]
  },
  {
   "cell_type": "code",
   "execution_count": 95,
   "metadata": {
    "colab": {
     "base_uri": "https://localhost:8080/",
     "height": 221
    },
    "colab_type": "code",
    "id": "j1FFAgM5VjQ4",
    "outputId": "29987bd1-962b-44b9-c891-ff478d5c22b2"
   },
   "outputs": [
    {
     "data": {
      "text/html": [
       "<div>\n",
       "<style scoped>\n",
       "    .dataframe tbody tr th:only-of-type {\n",
       "        vertical-align: middle;\n",
       "    }\n",
       "\n",
       "    .dataframe tbody tr th {\n",
       "        vertical-align: top;\n",
       "    }\n",
       "\n",
       "    .dataframe thead th {\n",
       "        text-align: right;\n",
       "    }\n",
       "</style>\n",
       "<table border=\"1\" class=\"dataframe\">\n",
       "  <thead>\n",
       "    <tr style=\"text-align: right;\">\n",
       "      <th></th>\n",
       "      <th>BOROUGH</th>\n",
       "      <th>NEIGHBORHOOD</th>\n",
       "      <th>BUILDING CLASS CATEGORY</th>\n",
       "      <th>TAX CLASS AS OF FINAL ROLL 18/19</th>\n",
       "      <th>BLOCK</th>\n",
       "      <th>LOT</th>\n",
       "      <th>BUILDING CLASS AS OF FINAL ROLL 18/19</th>\n",
       "      <th>ADDRESS</th>\n",
       "      <th>ZIP CODE</th>\n",
       "      <th>RESIDENTIAL UNITS</th>\n",
       "      <th>...</th>\n",
       "      <th>TOTAL UNITS</th>\n",
       "      <th>LAND SQUARE FEET</th>\n",
       "      <th>GROSS SQUARE FEET</th>\n",
       "      <th>YEAR BUILT</th>\n",
       "      <th>TAX CLASS AT TIME OF SALE</th>\n",
       "      <th>BUILDING CLASS AT TIME OF SALE</th>\n",
       "      <th>SALE PRICE</th>\n",
       "      <th>SALE DATE</th>\n",
       "      <th>AREA</th>\n",
       "      <th>FINAL_ADDRESS</th>\n",
       "    </tr>\n",
       "  </thead>\n",
       "  <tbody>\n",
       "    <tr>\n",
       "      <th>0</th>\n",
       "      <td>2</td>\n",
       "      <td>BATHGATE</td>\n",
       "      <td>01 ONE FAMILY DWELLINGS</td>\n",
       "      <td>1</td>\n",
       "      <td>3030</td>\n",
       "      <td>70</td>\n",
       "      <td>A1</td>\n",
       "      <td>4445 PARK AVENUE</td>\n",
       "      <td>10457.0</td>\n",
       "      <td>1.0</td>\n",
       "      <td>...</td>\n",
       "      <td>1.0</td>\n",
       "      <td>1694.0</td>\n",
       "      <td>1497.0</td>\n",
       "      <td>1899.0</td>\n",
       "      <td>1</td>\n",
       "      <td>A1</td>\n",
       "      <td>388500</td>\n",
       "      <td>2019-07-23</td>\n",
       "      <td>bronx</td>\n",
       "      <td>4445 PARK AVENUE NYC</td>\n",
       "    </tr>\n",
       "  </tbody>\n",
       "</table>\n",
       "<p>1 rows × 21 columns</p>\n",
       "</div>"
      ],
      "text/plain": [
       "   BOROUGH NEIGHBORHOOD  BUILDING CLASS CATEGORY  \\\n",
       "0        2     BATHGATE  01 ONE FAMILY DWELLINGS   \n",
       "\n",
       "  TAX CLASS AS OF FINAL ROLL 18/19  BLOCK  LOT  \\\n",
       "0                                1   3030   70   \n",
       "\n",
       "  BUILDING CLASS AS OF FINAL ROLL 18/19           ADDRESS  ZIP CODE  \\\n",
       "0                                    A1  4445 PARK AVENUE   10457.0   \n",
       "\n",
       "   RESIDENTIAL UNITS  ...  TOTAL UNITS  LAND SQUARE FEET  GROSS SQUARE FEET  \\\n",
       "0                1.0  ...          1.0            1694.0             1497.0   \n",
       "\n",
       "   YEAR BUILT  TAX CLASS AT TIME OF SALE  BUILDING CLASS AT TIME OF SALE  \\\n",
       "0      1899.0                          1                              A1   \n",
       "\n",
       "  SALE PRICE  SALE DATE   AREA         FINAL_ADDRESS  \n",
       "0     388500 2019-07-23  bronx  4445 PARK AVENUE NYC  \n",
       "\n",
       "[1 rows x 21 columns]"
      ]
     },
     "execution_count": 95,
     "metadata": {},
     "output_type": "execute_result"
    }
   ],
   "source": [
    "df.head(1)"
   ]
  },
  {
   "cell_type": "markdown",
   "metadata": {},
   "source": [
    "### <a name=\"tax-class-at-time-of-sale\"></a>Tax-class-at-time-of-sale:"
   ]
  },
  {
   "cell_type": "code",
   "execution_count": 96,
   "metadata": {
    "colab": {
     "base_uri": "https://localhost:8080/",
     "height": 282
    },
    "colab_type": "code",
    "id": "hEpUwM79Vwdw",
    "outputId": "e4fabaa5-5fd5-41b0-b82a-9fbf1949b3d9"
   },
   "outputs": [
    {
     "data": {
      "image/png": "[encoded data removed]",
      "text/plain": [
       "<Figure size 576x288 with 1 Axes>"
      ]
     },
     "metadata": {
      "needs_background": "light"
     },
     "output_type": "display_data"
    }
   ],
   "source": [
    "int_level = df['TAX CLASS AT TIME OF SALE'].value_counts()\n",
    "\n",
    "plt.figure(figsize=(8,4))\n",
    "sns.barplot(int_level.index, int_level.values, alpha=0.8, color=color[9])\n",
    "plt.ylabel('Number of Occurrences', fontsize=12)\n",
    "plt.xlabel('TAX CLASS AT TIME OF SALE', fontsize=12)\n",
    "plt.show()\n",
    "\n"
   ]
  },
  {
   "cell_type": "code",
   "execution_count": 97,
   "metadata": {
    "colab": {
     "base_uri": "https://localhost:8080/",
     "height": 87
    },
    "colab_type": "code",
    "id": "pYc90_fOVwn_",
    "outputId": "65592519-d0aa-44b8-e8c6-e42536896097"
   },
   "outputs": [
    {
     "name": "stdout",
     "output_type": "stream",
     "text": [
      "1    18586\n",
      "2      408\n",
      "4      310\n",
      "Name: TAX CLASS AT TIME OF SALE, dtype: int64\n"
     ]
    }
   ],
   "source": [
    "cnt_srs = df['TAX CLASS AT TIME OF SALE'].value_counts()\n",
    "print(cnt_srs)"
   ]
  },
  {
   "cell_type": "code",
   "execution_count": 98,
   "metadata": {
    "colab": {
     "base_uri": "https://localhost:8080/",
     "height": 334
    },
    "colab_type": "code",
    "id": "Ym5x56qaVwxP",
    "outputId": "86e70a08-083a-4175-c2a8-ee6f69d9a5a2"
   },
   "outputs": [
    {
     "data": {
      "text/html": [
       "<div>\n",
       "<style scoped>\n",
       "    .dataframe tbody tr th:only-of-type {\n",
       "        vertical-align: middle;\n",
       "    }\n",
       "\n",
       "    .dataframe tbody tr th {\n",
       "        vertical-align: top;\n",
       "    }\n",
       "\n",
       "    .dataframe thead th {\n",
       "        text-align: right;\n",
       "    }\n",
       "</style>\n",
       "<table border=\"1\" class=\"dataframe\">\n",
       "  <thead>\n",
       "    <tr style=\"text-align: right;\">\n",
       "      <th></th>\n",
       "      <th>BOROUGH</th>\n",
       "      <th>NEIGHBORHOOD</th>\n",
       "      <th>BUILDING CLASS CATEGORY</th>\n",
       "      <th>TAX CLASS AS OF FINAL ROLL 18/19</th>\n",
       "      <th>BLOCK</th>\n",
       "      <th>LOT</th>\n",
       "      <th>BUILDING CLASS AS OF FINAL ROLL 18/19</th>\n",
       "      <th>ADDRESS</th>\n",
       "      <th>ZIP CODE</th>\n",
       "      <th>RESIDENTIAL UNITS</th>\n",
       "      <th>...</th>\n",
       "      <th>TOTAL UNITS</th>\n",
       "      <th>LAND SQUARE FEET</th>\n",
       "      <th>GROSS SQUARE FEET</th>\n",
       "      <th>YEAR BUILT</th>\n",
       "      <th>TAX CLASS AT TIME OF SALE</th>\n",
       "      <th>BUILDING CLASS AT TIME OF SALE</th>\n",
       "      <th>SALE PRICE</th>\n",
       "      <th>SALE DATE</th>\n",
       "      <th>AREA</th>\n",
       "      <th>FINAL_ADDRESS</th>\n",
       "    </tr>\n",
       "  </thead>\n",
       "  <tbody>\n",
       "    <tr>\n",
       "      <th>50</th>\n",
       "      <td>2</td>\n",
       "      <td>BATHGATE</td>\n",
       "      <td>22 STORE BUILDINGS</td>\n",
       "      <td>4</td>\n",
       "      <td>3039</td>\n",
       "      <td>21</td>\n",
       "      <td>K1</td>\n",
       "      <td>2345 WASHINGTON AVENUE</td>\n",
       "      <td>10458.0</td>\n",
       "      <td>0.0</td>\n",
       "      <td>...</td>\n",
       "      <td>1.0</td>\n",
       "      <td>4239.0</td>\n",
       "      <td>4239.0</td>\n",
       "      <td>1931.0</td>\n",
       "      <td>4</td>\n",
       "      <td>K1</td>\n",
       "      <td>1500000</td>\n",
       "      <td>2019-01-10</td>\n",
       "      <td>bronx</td>\n",
       "      <td>2345 WASHINGTON AVENUE NYC</td>\n",
       "    </tr>\n",
       "    <tr>\n",
       "      <th>62</th>\n",
       "      <td>2</td>\n",
       "      <td>BATHGATE</td>\n",
       "      <td>30 WAREHOUSES</td>\n",
       "      <td>4</td>\n",
       "      <td>2899</td>\n",
       "      <td>34</td>\n",
       "      <td>E1</td>\n",
       "      <td>407 EAST 174 STREET</td>\n",
       "      <td>10457.0</td>\n",
       "      <td>0.0</td>\n",
       "      <td>...</td>\n",
       "      <td>1.0</td>\n",
       "      <td>3439.0</td>\n",
       "      <td>3320.0</td>\n",
       "      <td>1955.0</td>\n",
       "      <td>4</td>\n",
       "      <td>E1</td>\n",
       "      <td>880000</td>\n",
       "      <td>2019-03-12</td>\n",
       "      <td>bronx</td>\n",
       "      <td>407 EAST 174 STREET NYC</td>\n",
       "    </tr>\n",
       "    <tr>\n",
       "      <th>608</th>\n",
       "      <td>2</td>\n",
       "      <td>BAYCHESTER</td>\n",
       "      <td>29 COMMERCIAL GARAGES</td>\n",
       "      <td>4</td>\n",
       "      <td>4728</td>\n",
       "      <td>46</td>\n",
       "      <td>G2</td>\n",
       "      <td>3450 KINGSLAND AVENUE</td>\n",
       "      <td>10469.0</td>\n",
       "      <td>0.0</td>\n",
       "      <td>...</td>\n",
       "      <td>1.0</td>\n",
       "      <td>3971.0</td>\n",
       "      <td>1760.0</td>\n",
       "      <td>1964.0</td>\n",
       "      <td>4</td>\n",
       "      <td>G2</td>\n",
       "      <td>775000</td>\n",
       "      <td>2019-05-23</td>\n",
       "      <td>bronx</td>\n",
       "      <td>3450 KINGSLAND AVENUE NYC</td>\n",
       "    </tr>\n",
       "  </tbody>\n",
       "</table>\n",
       "<p>3 rows × 21 columns</p>\n",
       "</div>"
      ],
      "text/plain": [
       "     BOROUGH NEIGHBORHOOD BUILDING CLASS CATEGORY  \\\n",
       "50         2     BATHGATE      22 STORE BUILDINGS   \n",
       "62         2     BATHGATE           30 WAREHOUSES   \n",
       "608        2   BAYCHESTER   29 COMMERCIAL GARAGES   \n",
       "\n",
       "    TAX CLASS AS OF FINAL ROLL 18/19  BLOCK  LOT  \\\n",
       "50                                 4   3039   21   \n",
       "62                                 4   2899   34   \n",
       "608                                4   4728   46   \n",
       "\n",
       "    BUILDING CLASS AS OF FINAL ROLL 18/19                 ADDRESS  ZIP CODE  \\\n",
       "50                                     K1  2345 WASHINGTON AVENUE   10458.0   \n",
       "62                                     E1     407 EAST 174 STREET   10457.0   \n",
       "608                                    G2   3450 KINGSLAND AVENUE   10469.0   \n",
       "\n",
       "     RESIDENTIAL UNITS  ...  TOTAL UNITS  LAND SQUARE FEET  GROSS SQUARE FEET  \\\n",
       "50                 0.0  ...          1.0            4239.0             4239.0   \n",
       "62                 0.0  ...          1.0            3439.0             3320.0   \n",
       "608                0.0  ...          1.0            3971.0             1760.0   \n",
       "\n",
       "     YEAR BUILT  TAX CLASS AT TIME OF SALE  BUILDING CLASS AT TIME OF SALE  \\\n",
       "50       1931.0                          4                              K1   \n",
       "62       1955.0                          4                              E1   \n",
       "608      1964.0                          4                              G2   \n",
       "\n",
       "    SALE PRICE  SALE DATE   AREA               FINAL_ADDRESS  \n",
       "50     1500000 2019-01-10  bronx  2345 WASHINGTON AVENUE NYC  \n",
       "62      880000 2019-03-12  bronx     407 EAST 174 STREET NYC  \n",
       "608     775000 2019-05-23  bronx   3450 KINGSLAND AVENUE NYC  \n",
       "\n",
       "[3 rows x 21 columns]"
      ]
     },
     "execution_count": 98,
     "metadata": {},
     "output_type": "execute_result"
    }
   ],
   "source": [
    "df.loc[df['TAX CLASS AT TIME OF SALE'] == 4].head(3)"
   ]
  },
  {
   "cell_type": "code",
   "execution_count": 99,
   "metadata": {
    "colab": {
     "base_uri": "https://localhost:8080/",
     "height": 851
    },
    "colab_type": "code",
    "id": "OZt8_NTlXKi3",
    "outputId": "af43fe0c-1f06-49f1-fe05-15311d0e3eeb"
   },
   "outputs": [
    {
     "data": {
      "text/html": [
       "<div>\n",
       "<style scoped>\n",
       "    .dataframe tbody tr th:only-of-type {\n",
       "        vertical-align: middle;\n",
       "    }\n",
       "\n",
       "    .dataframe tbody tr th {\n",
       "        vertical-align: top;\n",
       "    }\n",
       "\n",
       "    .dataframe thead th {\n",
       "        text-align: right;\n",
       "    }\n",
       "</style>\n",
       "<table border=\"1\" class=\"dataframe\">\n",
       "  <thead>\n",
       "    <tr style=\"text-align: right;\">\n",
       "      <th></th>\n",
       "      <th>BOROUGH</th>\n",
       "      <th>NEIGHBORHOOD</th>\n",
       "      <th>BUILDING CLASS CATEGORY</th>\n",
       "      <th>TAX CLASS AS OF FINAL ROLL 18/19</th>\n",
       "      <th>BLOCK</th>\n",
       "      <th>LOT</th>\n",
       "      <th>BUILDING CLASS AS OF FINAL ROLL 18/19</th>\n",
       "      <th>ADDRESS</th>\n",
       "      <th>ZIP CODE</th>\n",
       "      <th>RESIDENTIAL UNITS</th>\n",
       "      <th>...</th>\n",
       "      <th>TOTAL UNITS</th>\n",
       "      <th>LAND SQUARE FEET</th>\n",
       "      <th>GROSS SQUARE FEET</th>\n",
       "      <th>YEAR BUILT</th>\n",
       "      <th>TAX CLASS AT TIME OF SALE</th>\n",
       "      <th>BUILDING CLASS AT TIME OF SALE</th>\n",
       "      <th>SALE PRICE</th>\n",
       "      <th>SALE DATE</th>\n",
       "      <th>AREA</th>\n",
       "      <th>FINAL_ADDRESS</th>\n",
       "    </tr>\n",
       "  </thead>\n",
       "  <tbody>\n",
       "    <tr>\n",
       "      <th>592</th>\n",
       "      <td>2</td>\n",
       "      <td>BAYCHESTER</td>\n",
       "      <td>07 RENTALS - WALKUP APARTMENTS</td>\n",
       "      <td>2A</td>\n",
       "      <td>4736</td>\n",
       "      <td>8</td>\n",
       "      <td>C3</td>\n",
       "      <td>3359 SEYMOUR AVENUE</td>\n",
       "      <td>10469.0</td>\n",
       "      <td>4.0</td>\n",
       "      <td>...</td>\n",
       "      <td>4.0</td>\n",
       "      <td>2567.0</td>\n",
       "      <td>3378.0</td>\n",
       "      <td>1934.0</td>\n",
       "      <td>2</td>\n",
       "      <td>C3</td>\n",
       "      <td>640000</td>\n",
       "      <td>2019-10-31</td>\n",
       "      <td>bronx</td>\n",
       "      <td>3359 SEYMOUR AVENUE NYC</td>\n",
       "    </tr>\n",
       "    <tr>\n",
       "      <th>593</th>\n",
       "      <td>2</td>\n",
       "      <td>BAYCHESTER</td>\n",
       "      <td>07 RENTALS - WALKUP APARTMENTS</td>\n",
       "      <td>2A</td>\n",
       "      <td>4762</td>\n",
       "      <td>89</td>\n",
       "      <td>C3</td>\n",
       "      <td>3017 EASTCHESTER ROAD</td>\n",
       "      <td>10469.0</td>\n",
       "      <td>4.0</td>\n",
       "      <td>...</td>\n",
       "      <td>4.0</td>\n",
       "      <td>1180.0</td>\n",
       "      <td>3300.0</td>\n",
       "      <td>1931.0</td>\n",
       "      <td>2</td>\n",
       "      <td>C3</td>\n",
       "      <td>750000</td>\n",
       "      <td>2019-02-15</td>\n",
       "      <td>bronx</td>\n",
       "      <td>3017 EASTCHESTER ROAD NYC</td>\n",
       "    </tr>\n",
       "    <tr>\n",
       "      <th>602</th>\n",
       "      <td>2</td>\n",
       "      <td>BAYCHESTER</td>\n",
       "      <td>14 RENTALS - 4-10 UNIT</td>\n",
       "      <td>2A</td>\n",
       "      <td>4762</td>\n",
       "      <td>40</td>\n",
       "      <td>S3</td>\n",
       "      <td>3061 EASTCHESTER ROAD</td>\n",
       "      <td>10469.0</td>\n",
       "      <td>3.0</td>\n",
       "      <td>...</td>\n",
       "      <td>4.0</td>\n",
       "      <td>3129.0</td>\n",
       "      <td>3296.0</td>\n",
       "      <td>1931.0</td>\n",
       "      <td>2</td>\n",
       "      <td>S3</td>\n",
       "      <td>750000</td>\n",
       "      <td>2019-01-15</td>\n",
       "      <td>bronx</td>\n",
       "      <td>3061 EASTCHESTER ROAD NYC</td>\n",
       "    </tr>\n",
       "    <tr>\n",
       "      <th>758</th>\n",
       "      <td>2</td>\n",
       "      <td>BEDFORD PARK/NORWOOD</td>\n",
       "      <td>07 RENTALS - WALKUP APARTMENTS</td>\n",
       "      <td>2A</td>\n",
       "      <td>3318</td>\n",
       "      <td>86</td>\n",
       "      <td>C3</td>\n",
       "      <td>2792 MORRIS AVENUE</td>\n",
       "      <td>10468.0</td>\n",
       "      <td>4.0</td>\n",
       "      <td>...</td>\n",
       "      <td>4.0</td>\n",
       "      <td>2381.0</td>\n",
       "      <td>3040.0</td>\n",
       "      <td>1925.0</td>\n",
       "      <td>2</td>\n",
       "      <td>C3</td>\n",
       "      <td>875000</td>\n",
       "      <td>2019-03-28</td>\n",
       "      <td>bronx</td>\n",
       "      <td>2792 MORRIS AVENUE NYC</td>\n",
       "    </tr>\n",
       "    <tr>\n",
       "      <th>765</th>\n",
       "      <td>2</td>\n",
       "      <td>BEDFORD PARK/NORWOOD</td>\n",
       "      <td>07 RENTALS - WALKUP APARTMENTS</td>\n",
       "      <td>2A</td>\n",
       "      <td>3336</td>\n",
       "      <td>67</td>\n",
       "      <td>C3</td>\n",
       "      <td>108 EAST 208 STREET</td>\n",
       "      <td>10467.0</td>\n",
       "      <td>4.0</td>\n",
       "      <td>...</td>\n",
       "      <td>4.0</td>\n",
       "      <td>3822.0</td>\n",
       "      <td>3496.0</td>\n",
       "      <td>1925.0</td>\n",
       "      <td>2</td>\n",
       "      <td>C3</td>\n",
       "      <td>800000</td>\n",
       "      <td>2019-10-18</td>\n",
       "      <td>bronx</td>\n",
       "      <td>108 EAST 208 STREET NYC</td>\n",
       "    </tr>\n",
       "    <tr>\n",
       "      <th>954</th>\n",
       "      <td>2</td>\n",
       "      <td>BELMONT</td>\n",
       "      <td>07 RENTALS - WALKUP APARTMENTS</td>\n",
       "      <td>2A</td>\n",
       "      <td>3077</td>\n",
       "      <td>49</td>\n",
       "      <td>C3</td>\n",
       "      <td>2473 HUGHES AVENUE</td>\n",
       "      <td>10458.0</td>\n",
       "      <td>4.0</td>\n",
       "      <td>...</td>\n",
       "      <td>4.0</td>\n",
       "      <td>2185.0</td>\n",
       "      <td>4436.0</td>\n",
       "      <td>1925.0</td>\n",
       "      <td>2</td>\n",
       "      <td>C3</td>\n",
       "      <td>1290000</td>\n",
       "      <td>2019-02-01</td>\n",
       "      <td>bronx</td>\n",
       "      <td>2473 HUGHES AVENUE NYC</td>\n",
       "    </tr>\n",
       "    <tr>\n",
       "      <th>960</th>\n",
       "      <td>2</td>\n",
       "      <td>BELMONT</td>\n",
       "      <td>07 RENTALS - WALKUP APARTMENTS</td>\n",
       "      <td>2A</td>\n",
       "      <td>3089</td>\n",
       "      <td>49</td>\n",
       "      <td>C3</td>\n",
       "      <td>2333 BEAUMONT AVENUE</td>\n",
       "      <td>10458.0</td>\n",
       "      <td>4.0</td>\n",
       "      <td>...</td>\n",
       "      <td>4.0</td>\n",
       "      <td>3042.0</td>\n",
       "      <td>2000.0</td>\n",
       "      <td>1931.0</td>\n",
       "      <td>2</td>\n",
       "      <td>C3</td>\n",
       "      <td>610000</td>\n",
       "      <td>2019-03-11</td>\n",
       "      <td>bronx</td>\n",
       "      <td>2333 BEAUMONT AVENUE NYC</td>\n",
       "    </tr>\n",
       "    <tr>\n",
       "      <th>964</th>\n",
       "      <td>2</td>\n",
       "      <td>BELMONT</td>\n",
       "      <td>07 RENTALS - WALKUP APARTMENTS</td>\n",
       "      <td>2A</td>\n",
       "      <td>3091</td>\n",
       "      <td>31</td>\n",
       "      <td>C3</td>\n",
       "      <td>2501 CAMBRELENG</td>\n",
       "      <td>10458.0</td>\n",
       "      <td>4.0</td>\n",
       "      <td>...</td>\n",
       "      <td>4.0</td>\n",
       "      <td>825.0</td>\n",
       "      <td>2600.0</td>\n",
       "      <td>1931.0</td>\n",
       "      <td>2</td>\n",
       "      <td>C3</td>\n",
       "      <td>799000</td>\n",
       "      <td>2019-11-07</td>\n",
       "      <td>bronx</td>\n",
       "      <td>2501 CAMBRELENG NYC</td>\n",
       "    </tr>\n",
       "    <tr>\n",
       "      <th>965</th>\n",
       "      <td>2</td>\n",
       "      <td>BELMONT</td>\n",
       "      <td>07 RENTALS - WALKUP APARTMENTS</td>\n",
       "      <td>2A</td>\n",
       "      <td>3100</td>\n",
       "      <td>13</td>\n",
       "      <td>C3</td>\n",
       "      <td>779 GARDEN STREET</td>\n",
       "      <td>10460.0</td>\n",
       "      <td>4.0</td>\n",
       "      <td>...</td>\n",
       "      <td>4.0</td>\n",
       "      <td>2500.0</td>\n",
       "      <td>3886.0</td>\n",
       "      <td>1905.0</td>\n",
       "      <td>2</td>\n",
       "      <td>C3</td>\n",
       "      <td>896000</td>\n",
       "      <td>2019-07-23</td>\n",
       "      <td>bronx</td>\n",
       "      <td>779 GARDEN STREET NYC</td>\n",
       "    </tr>\n",
       "    <tr>\n",
       "      <th>974</th>\n",
       "      <td>2</td>\n",
       "      <td>BELMONT</td>\n",
       "      <td>07 RENTALS - WALKUP APARTMENTS</td>\n",
       "      <td>2A</td>\n",
       "      <td>3105</td>\n",
       "      <td>56</td>\n",
       "      <td>C3</td>\n",
       "      <td>2411 CROTONA AVENUE</td>\n",
       "      <td>10458.0</td>\n",
       "      <td>4.0</td>\n",
       "      <td>...</td>\n",
       "      <td>4.0</td>\n",
       "      <td>2000.0</td>\n",
       "      <td>3350.0</td>\n",
       "      <td>1931.0</td>\n",
       "      <td>2</td>\n",
       "      <td>C3</td>\n",
       "      <td>750000</td>\n",
       "      <td>2019-05-30</td>\n",
       "      <td>bronx</td>\n",
       "      <td>2411 CROTONA AVENUE NYC</td>\n",
       "    </tr>\n",
       "    <tr>\n",
       "      <th>975</th>\n",
       "      <td>2</td>\n",
       "      <td>BELMONT</td>\n",
       "      <td>07 RENTALS - WALKUP APARTMENTS</td>\n",
       "      <td>2A</td>\n",
       "      <td>3114</td>\n",
       "      <td>41</td>\n",
       "      <td>C3</td>\n",
       "      <td>773 EAST 183 STREET</td>\n",
       "      <td>10460.0</td>\n",
       "      <td>4.0</td>\n",
       "      <td>...</td>\n",
       "      <td>4.0</td>\n",
       "      <td>4142.0</td>\n",
       "      <td>3402.0</td>\n",
       "      <td>1931.0</td>\n",
       "      <td>2</td>\n",
       "      <td>C3</td>\n",
       "      <td>925000</td>\n",
       "      <td>2019-03-07</td>\n",
       "      <td>bronx</td>\n",
       "      <td>773 EAST 183 STREET NYC</td>\n",
       "    </tr>\n",
       "    <tr>\n",
       "      <th>1246</th>\n",
       "      <td>2</td>\n",
       "      <td>BRONXDALE</td>\n",
       "      <td>07 RENTALS - WALKUP APARTMENTS</td>\n",
       "      <td>2A</td>\n",
       "      <td>4424</td>\n",
       "      <td>47</td>\n",
       "      <td>C3</td>\n",
       "      <td>2427 BARKER AVENUE</td>\n",
       "      <td>10467.0</td>\n",
       "      <td>4.0</td>\n",
       "      <td>...</td>\n",
       "      <td>4.0</td>\n",
       "      <td>3267.0</td>\n",
       "      <td>3900.0</td>\n",
       "      <td>1927.0</td>\n",
       "      <td>2</td>\n",
       "      <td>C3</td>\n",
       "      <td>850000</td>\n",
       "      <td>2019-05-22</td>\n",
       "      <td>bronx</td>\n",
       "      <td>2427 BARKER AVENUE NYC</td>\n",
       "    </tr>\n",
       "    <tr>\n",
       "      <th>1252</th>\n",
       "      <td>2</td>\n",
       "      <td>BRONXDALE</td>\n",
       "      <td>07 RENTALS - WALKUP APARTMENTS</td>\n",
       "      <td>2A</td>\n",
       "      <td>4514</td>\n",
       "      <td>26</td>\n",
       "      <td>C3</td>\n",
       "      <td>2770 MATTHEWS AVENUE</td>\n",
       "      <td>10467.0</td>\n",
       "      <td>4.0</td>\n",
       "      <td>...</td>\n",
       "      <td>4.0</td>\n",
       "      <td>3400.0</td>\n",
       "      <td>3808.0</td>\n",
       "      <td>1931.0</td>\n",
       "      <td>2</td>\n",
       "      <td>C3</td>\n",
       "      <td>855000</td>\n",
       "      <td>2019-07-22</td>\n",
       "      <td>bronx</td>\n",
       "      <td>2770 MATTHEWS AVENUE NYC</td>\n",
       "    </tr>\n",
       "    <tr>\n",
       "      <th>1253</th>\n",
       "      <td>2</td>\n",
       "      <td>BRONXDALE</td>\n",
       "      <td>07 RENTALS - WALKUP APARTMENTS</td>\n",
       "      <td>2A</td>\n",
       "      <td>4514</td>\n",
       "      <td>41</td>\n",
       "      <td>C3</td>\n",
       "      <td>2745 BRONXWOOD AVENUE</td>\n",
       "      <td>10469.0</td>\n",
       "      <td>4.0</td>\n",
       "      <td>...</td>\n",
       "      <td>4.0</td>\n",
       "      <td>3117.0</td>\n",
       "      <td>3400.0</td>\n",
       "      <td>1931.0</td>\n",
       "      <td>2</td>\n",
       "      <td>C3</td>\n",
       "      <td>830000</td>\n",
       "      <td>2019-02-01</td>\n",
       "      <td>bronx</td>\n",
       "      <td>2745 BRONXWOOD AVENUE NYC</td>\n",
       "    </tr>\n",
       "    <tr>\n",
       "      <th>1503</th>\n",
       "      <td>2</td>\n",
       "      <td>CASTLE HILL/UNIONPORT</td>\n",
       "      <td>07 RENTALS - WALKUP APARTMENTS</td>\n",
       "      <td>2A</td>\n",
       "      <td>3806</td>\n",
       "      <td>59</td>\n",
       "      <td>C3</td>\n",
       "      <td>2147 BRUCKNER BOULEVARD</td>\n",
       "      <td>10472.0</td>\n",
       "      <td>4.0</td>\n",
       "      <td>...</td>\n",
       "      <td>4.0</td>\n",
       "      <td>2609.0</td>\n",
       "      <td>3403.0</td>\n",
       "      <td>1929.0</td>\n",
       "      <td>2</td>\n",
       "      <td>C3</td>\n",
       "      <td>650000</td>\n",
       "      <td>2019-05-07</td>\n",
       "      <td>bronx</td>\n",
       "      <td>2147 BRUCKNER BOULEVARD NYC</td>\n",
       "    </tr>\n",
       "    <tr>\n",
       "      <th>1506</th>\n",
       "      <td>2</td>\n",
       "      <td>CASTLE HILL/UNIONPORT</td>\n",
       "      <td>07 RENTALS - WALKUP APARTMENTS</td>\n",
       "      <td>2A</td>\n",
       "      <td>3807</td>\n",
       "      <td>66</td>\n",
       "      <td>C3</td>\n",
       "      <td>2141 CHATTERTON AVENUE</td>\n",
       "      <td>10472.0</td>\n",
       "      <td>4.0</td>\n",
       "      <td>...</td>\n",
       "      <td>4.0</td>\n",
       "      <td>2549.0</td>\n",
       "      <td>3403.0</td>\n",
       "      <td>1930.0</td>\n",
       "      <td>2</td>\n",
       "      <td>C3</td>\n",
       "      <td>700000</td>\n",
       "      <td>2019-03-20</td>\n",
       "      <td>bronx</td>\n",
       "      <td>2141 CHATTERTON AVENUE NYC</td>\n",
       "    </tr>\n",
       "    <tr>\n",
       "      <th>1989</th>\n",
       "      <td>2</td>\n",
       "      <td>EAST TREMONT</td>\n",
       "      <td>07 RENTALS - WALKUP APARTMENTS</td>\n",
       "      <td>2A</td>\n",
       "      <td>3117</td>\n",
       "      <td>106</td>\n",
       "      <td>C3</td>\n",
       "      <td>1980 MARMION AVENUE</td>\n",
       "      <td>10460.0</td>\n",
       "      <td>4.0</td>\n",
       "      <td>...</td>\n",
       "      <td>4.0</td>\n",
       "      <td>1920.0</td>\n",
       "      <td>4122.0</td>\n",
       "      <td>2003.0</td>\n",
       "      <td>2</td>\n",
       "      <td>C3</td>\n",
       "      <td>1400000</td>\n",
       "      <td>2019-05-30</td>\n",
       "      <td>bronx</td>\n",
       "      <td>1980 MARMION AVENUE NYC</td>\n",
       "    </tr>\n",
       "    <tr>\n",
       "      <th>1990</th>\n",
       "      <td>2</td>\n",
       "      <td>EAST TREMONT</td>\n",
       "      <td>07 RENTALS - WALKUP APARTMENTS</td>\n",
       "      <td>2A</td>\n",
       "      <td>3117</td>\n",
       "      <td>107</td>\n",
       "      <td>C3</td>\n",
       "      <td>1982 MARMION AVENUE</td>\n",
       "      <td>10460.0</td>\n",
       "      <td>4.0</td>\n",
       "      <td>...</td>\n",
       "      <td>4.0</td>\n",
       "      <td>1793.0</td>\n",
       "      <td>3995.0</td>\n",
       "      <td>2003.0</td>\n",
       "      <td>2</td>\n",
       "      <td>C3</td>\n",
       "      <td>1400000</td>\n",
       "      <td>2019-05-30</td>\n",
       "      <td>bronx</td>\n",
       "      <td>1982 MARMION AVENUE NYC</td>\n",
       "    </tr>\n",
       "    <tr>\n",
       "      <th>1991</th>\n",
       "      <td>2</td>\n",
       "      <td>EAST TREMONT</td>\n",
       "      <td>07 RENTALS - WALKUP APARTMENTS</td>\n",
       "      <td>2A</td>\n",
       "      <td>3117</td>\n",
       "      <td>108</td>\n",
       "      <td>C3</td>\n",
       "      <td>1984 MARMION AVENUE</td>\n",
       "      <td>10460.0</td>\n",
       "      <td>4.0</td>\n",
       "      <td>...</td>\n",
       "      <td>4.0</td>\n",
       "      <td>1707.0</td>\n",
       "      <td>3995.0</td>\n",
       "      <td>2003.0</td>\n",
       "      <td>2</td>\n",
       "      <td>C3</td>\n",
       "      <td>600000</td>\n",
       "      <td>2019-05-30</td>\n",
       "      <td>bronx</td>\n",
       "      <td>1984 MARMION AVENUE NYC</td>\n",
       "    </tr>\n",
       "    <tr>\n",
       "      <th>2125</th>\n",
       "      <td>2</td>\n",
       "      <td>FORDHAM</td>\n",
       "      <td>07 RENTALS - WALKUP APARTMENTS</td>\n",
       "      <td>2A</td>\n",
       "      <td>3170</td>\n",
       "      <td>81</td>\n",
       "      <td>C3</td>\n",
       "      <td>106 EAST 182ND STREET</td>\n",
       "      <td>10453.0</td>\n",
       "      <td>4.0</td>\n",
       "      <td>...</td>\n",
       "      <td>4.0</td>\n",
       "      <td>2081.0</td>\n",
       "      <td>3642.0</td>\n",
       "      <td>1931.0</td>\n",
       "      <td>2</td>\n",
       "      <td>C3</td>\n",
       "      <td>695000</td>\n",
       "      <td>2019-06-05</td>\n",
       "      <td>bronx</td>\n",
       "      <td>106 EAST 182ND STREET NYC</td>\n",
       "    </tr>\n",
       "    <tr>\n",
       "      <th>2150</th>\n",
       "      <td>2</td>\n",
       "      <td>FORDHAM</td>\n",
       "      <td>14 RENTALS - 4-10 UNIT</td>\n",
       "      <td>2A</td>\n",
       "      <td>3156</td>\n",
       "      <td>34</td>\n",
       "      <td>S3</td>\n",
       "      <td>219 EAST BURNSIDE AVENUE</td>\n",
       "      <td>10457.0</td>\n",
       "      <td>3.0</td>\n",
       "      <td>...</td>\n",
       "      <td>4.0</td>\n",
       "      <td>1519.0</td>\n",
       "      <td>3944.0</td>\n",
       "      <td>1930.0</td>\n",
       "      <td>2</td>\n",
       "      <td>S3</td>\n",
       "      <td>775000</td>\n",
       "      <td>2019-03-08</td>\n",
       "      <td>bronx</td>\n",
       "      <td>219 EAST BURNSIDE AVENUE NYC</td>\n",
       "    </tr>\n",
       "    <tr>\n",
       "      <th>2249</th>\n",
       "      <td>2</td>\n",
       "      <td>HIGHBRIDGE/MORRIS HEIGHTS</td>\n",
       "      <td>07 RENTALS - WALKUP APARTMENTS</td>\n",
       "      <td>2A</td>\n",
       "      <td>2525</td>\n",
       "      <td>19</td>\n",
       "      <td>C3</td>\n",
       "      <td>1046 SUMMIT AVENUE</td>\n",
       "      <td>10452.0</td>\n",
       "      <td>4.0</td>\n",
       "      <td>...</td>\n",
       "      <td>4.0</td>\n",
       "      <td>2500.0</td>\n",
       "      <td>3975.0</td>\n",
       "      <td>1926.0</td>\n",
       "      <td>2</td>\n",
       "      <td>C3</td>\n",
       "      <td>742000</td>\n",
       "      <td>2019-04-02</td>\n",
       "      <td>bronx</td>\n",
       "      <td>1046 SUMMIT AVENUE NYC</td>\n",
       "    </tr>\n",
       "    <tr>\n",
       "      <th>2253</th>\n",
       "      <td>2</td>\n",
       "      <td>HIGHBRIDGE/MORRIS HEIGHTS</td>\n",
       "      <td>07 RENTALS - WALKUP APARTMENTS</td>\n",
       "      <td>2A</td>\n",
       "      <td>2528</td>\n",
       "      <td>10</td>\n",
       "      <td>C3</td>\n",
       "      <td>1198 UNIVERSITY AVENUE</td>\n",
       "      <td>10452.0</td>\n",
       "      <td>4.0</td>\n",
       "      <td>...</td>\n",
       "      <td>4.0</td>\n",
       "      <td>2814.0</td>\n",
       "      <td>3055.0</td>\n",
       "      <td>1924.0</td>\n",
       "      <td>2</td>\n",
       "      <td>C3</td>\n",
       "      <td>1175000</td>\n",
       "      <td>2019-08-29</td>\n",
       "      <td>bronx</td>\n",
       "      <td>1198 UNIVERSITY AVENUE NYC</td>\n",
       "    </tr>\n",
       "    <tr>\n",
       "      <th>3217</th>\n",
       "      <td>2</td>\n",
       "      <td>MORRIS PARK/VAN NEST</td>\n",
       "      <td>07 RENTALS - WALKUP APARTMENTS</td>\n",
       "      <td>2A</td>\n",
       "      <td>4032</td>\n",
       "      <td>18</td>\n",
       "      <td>C3</td>\n",
       "      <td>1713 WHITE PLAINS ROAD</td>\n",
       "      <td>10462.0</td>\n",
       "      <td>4.0</td>\n",
       "      <td>...</td>\n",
       "      <td>4.0</td>\n",
       "      <td>1125.0</td>\n",
       "      <td>2100.0</td>\n",
       "      <td>1920.0</td>\n",
       "      <td>2</td>\n",
       "      <td>C3</td>\n",
       "      <td>600000</td>\n",
       "      <td>2019-06-27</td>\n",
       "      <td>bronx</td>\n",
       "      <td>1713 WHITE PLAINS ROAD NYC</td>\n",
       "    </tr>\n",
       "    <tr>\n",
       "      <th>3221</th>\n",
       "      <td>2</td>\n",
       "      <td>MORRIS PARK/VAN NEST</td>\n",
       "      <td>07 RENTALS - WALKUP APARTMENTS</td>\n",
       "      <td>2A</td>\n",
       "      <td>4127</td>\n",
       "      <td>63</td>\n",
       "      <td>C3</td>\n",
       "      <td>1860 COLDEN AVENUE</td>\n",
       "      <td>10462.0</td>\n",
       "      <td>4.0</td>\n",
       "      <td>...</td>\n",
       "      <td>4.0</td>\n",
       "      <td>2500.0</td>\n",
       "      <td>4000.0</td>\n",
       "      <td>1927.0</td>\n",
       "      <td>2</td>\n",
       "      <td>C3</td>\n",
       "      <td>922074</td>\n",
       "      <td>2019-09-13</td>\n",
       "      <td>bronx</td>\n",
       "      <td>1860 COLDEN AVENUE NYC</td>\n",
       "    </tr>\n",
       "    <tr>\n",
       "      <th>3231</th>\n",
       "      <td>2</td>\n",
       "      <td>MORRIS PARK/VAN NEST</td>\n",
       "      <td>14 RENTALS - 4-10 UNIT</td>\n",
       "      <td>2A</td>\n",
       "      <td>4036</td>\n",
       "      <td>3</td>\n",
       "      <td>S3</td>\n",
       "      <td>780 MORRIS PARK AVENUE</td>\n",
       "      <td>10462.0</td>\n",
       "      <td>3.0</td>\n",
       "      <td>...</td>\n",
       "      <td>4.0</td>\n",
       "      <td>2500.0</td>\n",
       "      <td>3024.0</td>\n",
       "      <td>1925.0</td>\n",
       "      <td>2</td>\n",
       "      <td>S3</td>\n",
       "      <td>780000</td>\n",
       "      <td>2019-05-13</td>\n",
       "      <td>bronx</td>\n",
       "      <td>780 MORRIS PARK AVENUE NYC</td>\n",
       "    </tr>\n",
       "    <tr>\n",
       "      <th>3512</th>\n",
       "      <td>2</td>\n",
       "      <td>MORRISANIA/LONGWOOD</td>\n",
       "      <td>07 RENTALS - WALKUP APARTMENTS</td>\n",
       "      <td>2A</td>\n",
       "      <td>2675</td>\n",
       "      <td>49</td>\n",
       "      <td>C3</td>\n",
       "      <td>840 EAST 156 STREET</td>\n",
       "      <td>10455.0</td>\n",
       "      <td>4.0</td>\n",
       "      <td>...</td>\n",
       "      <td>4.0</td>\n",
       "      <td>2043.0</td>\n",
       "      <td>3720.0</td>\n",
       "      <td>1910.0</td>\n",
       "      <td>2</td>\n",
       "      <td>C3</td>\n",
       "      <td>610000</td>\n",
       "      <td>2019-08-27</td>\n",
       "      <td>bronx</td>\n",
       "      <td>840 EAST 156 STREET NYC</td>\n",
       "    </tr>\n",
       "    <tr>\n",
       "      <th>3514</th>\n",
       "      <td>2</td>\n",
       "      <td>MORRISANIA/LONGWOOD</td>\n",
       "      <td>07 RENTALS - WALKUP APARTMENTS</td>\n",
       "      <td>2A</td>\n",
       "      <td>2676</td>\n",
       "      <td>73</td>\n",
       "      <td>C3</td>\n",
       "      <td>777 PROSPECT AVENUE</td>\n",
       "      <td>10455.0</td>\n",
       "      <td>4.0</td>\n",
       "      <td>...</td>\n",
       "      <td>4.0</td>\n",
       "      <td>2000.0</td>\n",
       "      <td>3078.0</td>\n",
       "      <td>1915.0</td>\n",
       "      <td>2</td>\n",
       "      <td>C3</td>\n",
       "      <td>345000</td>\n",
       "      <td>2019-01-25</td>\n",
       "      <td>bronx</td>\n",
       "      <td>777 PROSPECT AVENUE NYC</td>\n",
       "    </tr>\n",
       "    <tr>\n",
       "      <th>3531</th>\n",
       "      <td>2</td>\n",
       "      <td>MORRISANIA/LONGWOOD</td>\n",
       "      <td>07 RENTALS - WALKUP APARTMENTS</td>\n",
       "      <td>2A</td>\n",
       "      <td>2756</td>\n",
       "      <td>47</td>\n",
       "      <td>C3</td>\n",
       "      <td>1017 LONGFELLOW AVENUE</td>\n",
       "      <td>10459.0</td>\n",
       "      <td>4.0</td>\n",
       "      <td>...</td>\n",
       "      <td>4.0</td>\n",
       "      <td>2500.0</td>\n",
       "      <td>3318.0</td>\n",
       "      <td>1930.0</td>\n",
       "      <td>2</td>\n",
       "      <td>C3</td>\n",
       "      <td>625000</td>\n",
       "      <td>2019-01-14</td>\n",
       "      <td>bronx</td>\n",
       "      <td>1017 LONGFELLOW AVENUE NYC</td>\n",
       "    </tr>\n",
       "    <tr>\n",
       "      <th>3532</th>\n",
       "      <td>2</td>\n",
       "      <td>MORRISANIA/LONGWOOD</td>\n",
       "      <td>07 RENTALS - WALKUP APARTMENTS</td>\n",
       "      <td>2A</td>\n",
       "      <td>2756</td>\n",
       "      <td>57</td>\n",
       "      <td>C3</td>\n",
       "      <td>1006 LONGFELLOW AVE</td>\n",
       "      <td>10459.0</td>\n",
       "      <td>4.0</td>\n",
       "      <td>...</td>\n",
       "      <td>4.0</td>\n",
       "      <td>2500.0</td>\n",
       "      <td>3200.0</td>\n",
       "      <td>1930.0</td>\n",
       "      <td>2</td>\n",
       "      <td>C3</td>\n",
       "      <td>365000</td>\n",
       "      <td>2019-11-06</td>\n",
       "      <td>bronx</td>\n",
       "      <td>1006 LONGFELLOW AVE NYC</td>\n",
       "    </tr>\n",
       "    <tr>\n",
       "      <th>...</th>\n",
       "      <td>...</td>\n",
       "      <td>...</td>\n",
       "      <td>...</td>\n",
       "      <td>...</td>\n",
       "      <td>...</td>\n",
       "      <td>...</td>\n",
       "      <td>...</td>\n",
       "      <td>...</td>\n",
       "      <td>...</td>\n",
       "      <td>...</td>\n",
       "      <td>...</td>\n",
       "      <td>...</td>\n",
       "      <td>...</td>\n",
       "      <td>...</td>\n",
       "      <td>...</td>\n",
       "      <td>...</td>\n",
       "      <td>...</td>\n",
       "      <td>...</td>\n",
       "      <td>...</td>\n",
       "      <td>...</td>\n",
       "      <td>...</td>\n",
       "    </tr>\n",
       "    <tr>\n",
       "      <th>20886</th>\n",
       "      <td>4</td>\n",
       "      <td>RIDGEWOOD</td>\n",
       "      <td>07 RENTALS - WALKUP APARTMENTS</td>\n",
       "      <td>2A</td>\n",
       "      <td>3485</td>\n",
       "      <td>34</td>\n",
       "      <td>C3</td>\n",
       "      <td>656 GRANDVIEW AVENUE</td>\n",
       "      <td>11385.0</td>\n",
       "      <td>4.0</td>\n",
       "      <td>...</td>\n",
       "      <td>4.0</td>\n",
       "      <td>2605.0</td>\n",
       "      <td>3570.0</td>\n",
       "      <td>1930.0</td>\n",
       "      <td>2</td>\n",
       "      <td>C3</td>\n",
       "      <td>1560000</td>\n",
       "      <td>2019-04-10</td>\n",
       "      <td>queens</td>\n",
       "      <td>656 GRANDVIEW AVENUE NYC</td>\n",
       "    </tr>\n",
       "    <tr>\n",
       "      <th>20891</th>\n",
       "      <td>4</td>\n",
       "      <td>RIDGEWOOD</td>\n",
       "      <td>07 RENTALS - WALKUP APARTMENTS</td>\n",
       "      <td>2A</td>\n",
       "      <td>3503</td>\n",
       "      <td>14</td>\n",
       "      <td>C3</td>\n",
       "      <td>67-03 FOREST AVENUE</td>\n",
       "      <td>11385.0</td>\n",
       "      <td>4.0</td>\n",
       "      <td>...</td>\n",
       "      <td>4.0</td>\n",
       "      <td>2494.0</td>\n",
       "      <td>3400.0</td>\n",
       "      <td>1930.0</td>\n",
       "      <td>2</td>\n",
       "      <td>C3</td>\n",
       "      <td>1075000</td>\n",
       "      <td>2019-07-17</td>\n",
       "      <td>queens</td>\n",
       "      <td>67-03 FOREST AVENUE NYC</td>\n",
       "    </tr>\n",
       "    <tr>\n",
       "      <th>20899</th>\n",
       "      <td>4</td>\n",
       "      <td>RIDGEWOOD</td>\n",
       "      <td>07 RENTALS - WALKUP APARTMENTS</td>\n",
       "      <td>2A</td>\n",
       "      <td>3548</td>\n",
       "      <td>106</td>\n",
       "      <td>C3</td>\n",
       "      <td>16-13 HANCOCK STREET</td>\n",
       "      <td>11385.0</td>\n",
       "      <td>4.0</td>\n",
       "      <td>...</td>\n",
       "      <td>4.0</td>\n",
       "      <td>2508.0</td>\n",
       "      <td>3250.0</td>\n",
       "      <td>1931.0</td>\n",
       "      <td>2</td>\n",
       "      <td>C3</td>\n",
       "      <td>1300000</td>\n",
       "      <td>2019-05-03</td>\n",
       "      <td>queens</td>\n",
       "      <td>16-13 HANCOCK STREET NYC</td>\n",
       "    </tr>\n",
       "    <tr>\n",
       "      <th>20901</th>\n",
       "      <td>4</td>\n",
       "      <td>RIDGEWOOD</td>\n",
       "      <td>07 RENTALS - WALKUP APARTMENTS</td>\n",
       "      <td>2A</td>\n",
       "      <td>3553</td>\n",
       "      <td>58</td>\n",
       "      <td>C3</td>\n",
       "      <td>1032 CYPRESS AVENUE</td>\n",
       "      <td>11385.0</td>\n",
       "      <td>4.0</td>\n",
       "      <td>...</td>\n",
       "      <td>4.0</td>\n",
       "      <td>2500.0</td>\n",
       "      <td>3100.0</td>\n",
       "      <td>1931.0</td>\n",
       "      <td>2</td>\n",
       "      <td>C3</td>\n",
       "      <td>999000</td>\n",
       "      <td>2019-04-18</td>\n",
       "      <td>queens</td>\n",
       "      <td>1032 CYPRESS AVENUE NYC</td>\n",
       "    </tr>\n",
       "    <tr>\n",
       "      <th>20902</th>\n",
       "      <td>4</td>\n",
       "      <td>RIDGEWOOD</td>\n",
       "      <td>07 RENTALS - WALKUP APARTMENTS</td>\n",
       "      <td>2A</td>\n",
       "      <td>3553</td>\n",
       "      <td>58</td>\n",
       "      <td>C3</td>\n",
       "      <td>1032 CYPRESS AVENUE</td>\n",
       "      <td>11385.0</td>\n",
       "      <td>4.0</td>\n",
       "      <td>...</td>\n",
       "      <td>4.0</td>\n",
       "      <td>2500.0</td>\n",
       "      <td>3100.0</td>\n",
       "      <td>1931.0</td>\n",
       "      <td>2</td>\n",
       "      <td>C3</td>\n",
       "      <td>670000</td>\n",
       "      <td>2019-01-09</td>\n",
       "      <td>queens</td>\n",
       "      <td>1032 CYPRESS AVENUE NYC</td>\n",
       "    </tr>\n",
       "    <tr>\n",
       "      <th>20904</th>\n",
       "      <td>4</td>\n",
       "      <td>RIDGEWOOD</td>\n",
       "      <td>07 RENTALS - WALKUP APARTMENTS</td>\n",
       "      <td>2A</td>\n",
       "      <td>3556</td>\n",
       "      <td>2</td>\n",
       "      <td>C3</td>\n",
       "      <td>1113 WYCKOFF AVENUE</td>\n",
       "      <td>11385.0</td>\n",
       "      <td>4.0</td>\n",
       "      <td>...</td>\n",
       "      <td>4.0</td>\n",
       "      <td>3054.0</td>\n",
       "      <td>3920.0</td>\n",
       "      <td>1931.0</td>\n",
       "      <td>2</td>\n",
       "      <td>C3</td>\n",
       "      <td>1225000</td>\n",
       "      <td>2019-03-15</td>\n",
       "      <td>queens</td>\n",
       "      <td>1113 WYCKOFF AVENUE NYC</td>\n",
       "    </tr>\n",
       "    <tr>\n",
       "      <th>20912</th>\n",
       "      <td>4</td>\n",
       "      <td>RIDGEWOOD</td>\n",
       "      <td>07 RENTALS - WALKUP APARTMENTS</td>\n",
       "      <td>2A</td>\n",
       "      <td>3619</td>\n",
       "      <td>76</td>\n",
       "      <td>C3</td>\n",
       "      <td>64-56 MADISON STREET</td>\n",
       "      <td>11385.0</td>\n",
       "      <td>4.0</td>\n",
       "      <td>...</td>\n",
       "      <td>4.0</td>\n",
       "      <td>2567.0</td>\n",
       "      <td>3560.0</td>\n",
       "      <td>1930.0</td>\n",
       "      <td>2</td>\n",
       "      <td>C3</td>\n",
       "      <td>1500000</td>\n",
       "      <td>2019-10-01</td>\n",
       "      <td>queens</td>\n",
       "      <td>64-56 MADISON STREET NYC</td>\n",
       "    </tr>\n",
       "    <tr>\n",
       "      <th>20916</th>\n",
       "      <td>4</td>\n",
       "      <td>RIDGEWOOD</td>\n",
       "      <td>07 RENTALS - WALKUP APARTMENTS</td>\n",
       "      <td>2A</td>\n",
       "      <td>3633</td>\n",
       "      <td>25</td>\n",
       "      <td>C3</td>\n",
       "      <td>64-34 68TH AVENUE</td>\n",
       "      <td>11385.0</td>\n",
       "      <td>4.0</td>\n",
       "      <td>...</td>\n",
       "      <td>4.0</td>\n",
       "      <td>2500.0</td>\n",
       "      <td>3250.0</td>\n",
       "      <td>1930.0</td>\n",
       "      <td>2</td>\n",
       "      <td>C3</td>\n",
       "      <td>1160000</td>\n",
       "      <td>2019-12-02</td>\n",
       "      <td>queens</td>\n",
       "      <td>64-34 68TH AVENUE NYC</td>\n",
       "    </tr>\n",
       "    <tr>\n",
       "      <th>22264</th>\n",
       "      <td>4</td>\n",
       "      <td>SO. JAMAICA-BAISLEY PARK</td>\n",
       "      <td>07 RENTALS - WALKUP APARTMENTS</td>\n",
       "      <td>2A</td>\n",
       "      <td>12101</td>\n",
       "      <td>34</td>\n",
       "      <td>C3</td>\n",
       "      <td>146-18 ROCKAWAY BOULEVARD</td>\n",
       "      <td>11436.0</td>\n",
       "      <td>4.0</td>\n",
       "      <td>...</td>\n",
       "      <td>4.0</td>\n",
       "      <td>1982.0</td>\n",
       "      <td>2800.0</td>\n",
       "      <td>1931.0</td>\n",
       "      <td>2</td>\n",
       "      <td>C3</td>\n",
       "      <td>539000</td>\n",
       "      <td>2019-11-27</td>\n",
       "      <td>queens</td>\n",
       "      <td>146-18 ROCKAWAY BOULEVARD NYC</td>\n",
       "    </tr>\n",
       "    <tr>\n",
       "      <th>22267</th>\n",
       "      <td>4</td>\n",
       "      <td>SO. JAMAICA-BAISLEY PARK</td>\n",
       "      <td>14 RENTALS - 4-10 UNIT</td>\n",
       "      <td>2A</td>\n",
       "      <td>12022</td>\n",
       "      <td>28</td>\n",
       "      <td>S3</td>\n",
       "      <td>117-28 SUTPHIN BOULEVARD</td>\n",
       "      <td>11434.0</td>\n",
       "      <td>3.0</td>\n",
       "      <td>...</td>\n",
       "      <td>4.0</td>\n",
       "      <td>2083.0</td>\n",
       "      <td>2400.0</td>\n",
       "      <td>1931.0</td>\n",
       "      <td>2</td>\n",
       "      <td>S3</td>\n",
       "      <td>600000</td>\n",
       "      <td>2019-07-29</td>\n",
       "      <td>queens</td>\n",
       "      <td>117-28 SUTPHIN BOULEVARD NYC</td>\n",
       "    </tr>\n",
       "    <tr>\n",
       "      <th>22906</th>\n",
       "      <td>4</td>\n",
       "      <td>SOUTH JAMAICA</td>\n",
       "      <td>07 RENTALS - WALKUP APARTMENTS</td>\n",
       "      <td>2A</td>\n",
       "      <td>10043</td>\n",
       "      <td>5</td>\n",
       "      <td>C5</td>\n",
       "      <td>144-10 LIBERTY AVE</td>\n",
       "      <td>11435.0</td>\n",
       "      <td>4.0</td>\n",
       "      <td>...</td>\n",
       "      <td>4.0</td>\n",
       "      <td>2367.0</td>\n",
       "      <td>3000.0</td>\n",
       "      <td>1932.0</td>\n",
       "      <td>2</td>\n",
       "      <td>C5</td>\n",
       "      <td>785000</td>\n",
       "      <td>2019-05-02</td>\n",
       "      <td>queens</td>\n",
       "      <td>144-10 LIBERTY AVE NYC</td>\n",
       "    </tr>\n",
       "    <tr>\n",
       "      <th>22907</th>\n",
       "      <td>4</td>\n",
       "      <td>SOUTH JAMAICA</td>\n",
       "      <td>07 RENTALS - WALKUP APARTMENTS</td>\n",
       "      <td>2A</td>\n",
       "      <td>10044</td>\n",
       "      <td>24</td>\n",
       "      <td>C3</td>\n",
       "      <td>144-19 106TH AVENUE</td>\n",
       "      <td>11435.0</td>\n",
       "      <td>4.0</td>\n",
       "      <td>...</td>\n",
       "      <td>4.0</td>\n",
       "      <td>3125.0</td>\n",
       "      <td>1406.0</td>\n",
       "      <td>1931.0</td>\n",
       "      <td>2</td>\n",
       "      <td>C3</td>\n",
       "      <td>750000</td>\n",
       "      <td>2019-12-11</td>\n",
       "      <td>queens</td>\n",
       "      <td>144-19 106TH AVENUE NYC</td>\n",
       "    </tr>\n",
       "    <tr>\n",
       "      <th>22910</th>\n",
       "      <td>4</td>\n",
       "      <td>SOUTH JAMAICA</td>\n",
       "      <td>07 RENTALS - WALKUP APARTMENTS</td>\n",
       "      <td>2A</td>\n",
       "      <td>10171</td>\n",
       "      <td>34</td>\n",
       "      <td>C3</td>\n",
       "      <td>163-18 108 AVENUE</td>\n",
       "      <td>11433.0</td>\n",
       "      <td>4.0</td>\n",
       "      <td>...</td>\n",
       "      <td>4.0</td>\n",
       "      <td>3758.0</td>\n",
       "      <td>3310.0</td>\n",
       "      <td>1931.0</td>\n",
       "      <td>2</td>\n",
       "      <td>C3</td>\n",
       "      <td>700000</td>\n",
       "      <td>2019-07-17</td>\n",
       "      <td>queens</td>\n",
       "      <td>163-18 108 AVENUE NYC</td>\n",
       "    </tr>\n",
       "    <tr>\n",
       "      <th>23576</th>\n",
       "      <td>4</td>\n",
       "      <td>SOUTH OZONE PARK</td>\n",
       "      <td>14 RENTALS - 4-10 UNIT</td>\n",
       "      <td>2A</td>\n",
       "      <td>11630</td>\n",
       "      <td>3</td>\n",
       "      <td>S9</td>\n",
       "      <td>125-06 111 AVE</td>\n",
       "      <td>11420.0</td>\n",
       "      <td>2.0</td>\n",
       "      <td>...</td>\n",
       "      <td>4.0</td>\n",
       "      <td>2074.0</td>\n",
       "      <td>3120.0</td>\n",
       "      <td>1920.0</td>\n",
       "      <td>2</td>\n",
       "      <td>S9</td>\n",
       "      <td>980000</td>\n",
       "      <td>2019-10-01</td>\n",
       "      <td>queens</td>\n",
       "      <td>125-06 111 AVE NYC</td>\n",
       "    </tr>\n",
       "    <tr>\n",
       "      <th>25093</th>\n",
       "      <td>4</td>\n",
       "      <td>SUNNYSIDE</td>\n",
       "      <td>07 RENTALS - WALKUP APARTMENTS</td>\n",
       "      <td>2A</td>\n",
       "      <td>186</td>\n",
       "      <td>29</td>\n",
       "      <td>C3</td>\n",
       "      <td>41-14 40TH STREET</td>\n",
       "      <td>11104.0</td>\n",
       "      <td>4.0</td>\n",
       "      <td>...</td>\n",
       "      <td>4.0</td>\n",
       "      <td>2000.0</td>\n",
       "      <td>3200.0</td>\n",
       "      <td>1931.0</td>\n",
       "      <td>2</td>\n",
       "      <td>C3</td>\n",
       "      <td>1520000</td>\n",
       "      <td>2019-07-12</td>\n",
       "      <td>queens</td>\n",
       "      <td>41-14 40TH STREET NYC</td>\n",
       "    </tr>\n",
       "    <tr>\n",
       "      <th>25546</th>\n",
       "      <td>4</td>\n",
       "      <td>WHITESTONE</td>\n",
       "      <td>07 RENTALS - WALKUP APARTMENTS</td>\n",
       "      <td>2A</td>\n",
       "      <td>4504</td>\n",
       "      <td>12</td>\n",
       "      <td>C3</td>\n",
       "      <td>149-04 12TH AVENUE</td>\n",
       "      <td>11357.0</td>\n",
       "      <td>4.0</td>\n",
       "      <td>...</td>\n",
       "      <td>4.0</td>\n",
       "      <td>2036.0</td>\n",
       "      <td>1800.0</td>\n",
       "      <td>1928.0</td>\n",
       "      <td>2</td>\n",
       "      <td>C3</td>\n",
       "      <td>1409600</td>\n",
       "      <td>2019-01-31</td>\n",
       "      <td>queens</td>\n",
       "      <td>149-04 12TH AVENUE NYC</td>\n",
       "    </tr>\n",
       "    <tr>\n",
       "      <th>26022</th>\n",
       "      <td>4</td>\n",
       "      <td>WOODHAVEN</td>\n",
       "      <td>07 RENTALS - WALKUP APARTMENTS</td>\n",
       "      <td>2A</td>\n",
       "      <td>8899</td>\n",
       "      <td>32</td>\n",
       "      <td>C5</td>\n",
       "      <td>74-17 87TH AVENUE</td>\n",
       "      <td>11421.0</td>\n",
       "      <td>4.0</td>\n",
       "      <td>...</td>\n",
       "      <td>4.0</td>\n",
       "      <td>2017.0</td>\n",
       "      <td>2128.0</td>\n",
       "      <td>1901.0</td>\n",
       "      <td>2</td>\n",
       "      <td>C5</td>\n",
       "      <td>500000</td>\n",
       "      <td>2019-11-20</td>\n",
       "      <td>queens</td>\n",
       "      <td>74-17 87TH AVENUE NYC</td>\n",
       "    </tr>\n",
       "    <tr>\n",
       "      <th>26028</th>\n",
       "      <td>4</td>\n",
       "      <td>WOODHAVEN</td>\n",
       "      <td>14 RENTALS - 4-10 UNIT</td>\n",
       "      <td>2A</td>\n",
       "      <td>8843</td>\n",
       "      <td>124</td>\n",
       "      <td>S9</td>\n",
       "      <td>79-01 JAMAICA AVENUE</td>\n",
       "      <td>11421.0</td>\n",
       "      <td>2.0</td>\n",
       "      <td>...</td>\n",
       "      <td>4.0</td>\n",
       "      <td>2076.0</td>\n",
       "      <td>3600.0</td>\n",
       "      <td>1929.0</td>\n",
       "      <td>2</td>\n",
       "      <td>S9</td>\n",
       "      <td>1365000</td>\n",
       "      <td>2019-02-28</td>\n",
       "      <td>queens</td>\n",
       "      <td>79-01 JAMAICA AVENUE NYC</td>\n",
       "    </tr>\n",
       "    <tr>\n",
       "      <th>26191</th>\n",
       "      <td>4</td>\n",
       "      <td>WOODSIDE</td>\n",
       "      <td>07 RENTALS - WALKUP APARTMENTS</td>\n",
       "      <td>2A</td>\n",
       "      <td>1196</td>\n",
       "      <td>41</td>\n",
       "      <td>C3</td>\n",
       "      <td>34-03 57TH STREET</td>\n",
       "      <td>11377.0</td>\n",
       "      <td>4.0</td>\n",
       "      <td>...</td>\n",
       "      <td>4.0</td>\n",
       "      <td>2100.0</td>\n",
       "      <td>3100.0</td>\n",
       "      <td>1974.0</td>\n",
       "      <td>2</td>\n",
       "      <td>C3</td>\n",
       "      <td>1260000</td>\n",
       "      <td>2019-06-17</td>\n",
       "      <td>queens</td>\n",
       "      <td>34-03 57TH STREET NYC</td>\n",
       "    </tr>\n",
       "    <tr>\n",
       "      <th>1189</th>\n",
       "      <td>5</td>\n",
       "      <td>CLOVE LAKES</td>\n",
       "      <td>07 RENTALS - WALKUP APARTMENTS</td>\n",
       "      <td>2A</td>\n",
       "      <td>247</td>\n",
       "      <td>18</td>\n",
       "      <td>C3</td>\n",
       "      <td>1135-1137 VICTORY BOULEVARD</td>\n",
       "      <td>10301.0</td>\n",
       "      <td>4.0</td>\n",
       "      <td>...</td>\n",
       "      <td>4.0</td>\n",
       "      <td>2505.0</td>\n",
       "      <td>2884.0</td>\n",
       "      <td>1931.0</td>\n",
       "      <td>2</td>\n",
       "      <td>C3</td>\n",
       "      <td>700000</td>\n",
       "      <td>2019-12-07</td>\n",
       "      <td>statenisland</td>\n",
       "      <td>1135-1137 VICTORY BOULEVARD NYC</td>\n",
       "    </tr>\n",
       "    <tr>\n",
       "      <th>4083</th>\n",
       "      <td>5</td>\n",
       "      <td>NEW BRIGHTON</td>\n",
       "      <td>07 RENTALS - WALKUP APARTMENTS</td>\n",
       "      <td>2A</td>\n",
       "      <td>16</td>\n",
       "      <td>125</td>\n",
       "      <td>C3</td>\n",
       "      <td>442 ST MARKS PLACE</td>\n",
       "      <td>10301.0</td>\n",
       "      <td>4.0</td>\n",
       "      <td>...</td>\n",
       "      <td>4.0</td>\n",
       "      <td>2125.0</td>\n",
       "      <td>2992.0</td>\n",
       "      <td>1900.0</td>\n",
       "      <td>2</td>\n",
       "      <td>C3</td>\n",
       "      <td>1050000</td>\n",
       "      <td>2019-09-16</td>\n",
       "      <td>statenisland</td>\n",
       "      <td>442 ST MARKS PLACE NYC</td>\n",
       "    </tr>\n",
       "    <tr>\n",
       "      <th>4090</th>\n",
       "      <td>5</td>\n",
       "      <td>NEW BRIGHTON</td>\n",
       "      <td>07 RENTALS - WALKUP APARTMENTS</td>\n",
       "      <td>2A</td>\n",
       "      <td>35</td>\n",
       "      <td>46</td>\n",
       "      <td>C3</td>\n",
       "      <td>148 CORSON AVENUE</td>\n",
       "      <td>10301.0</td>\n",
       "      <td>4.0</td>\n",
       "      <td>...</td>\n",
       "      <td>4.0</td>\n",
       "      <td>3400.0</td>\n",
       "      <td>2520.0</td>\n",
       "      <td>1931.0</td>\n",
       "      <td>2</td>\n",
       "      <td>C3</td>\n",
       "      <td>535000</td>\n",
       "      <td>2019-05-09</td>\n",
       "      <td>statenisland</td>\n",
       "      <td>148 CORSON AVENUE NYC</td>\n",
       "    </tr>\n",
       "    <tr>\n",
       "      <th>4091</th>\n",
       "      <td>5</td>\n",
       "      <td>NEW BRIGHTON</td>\n",
       "      <td>07 RENTALS - WALKUP APARTMENTS</td>\n",
       "      <td>2A</td>\n",
       "      <td>42</td>\n",
       "      <td>41</td>\n",
       "      <td>C3</td>\n",
       "      <td>106 WINTER AVENUE</td>\n",
       "      <td>10301.0</td>\n",
       "      <td>4.0</td>\n",
       "      <td>...</td>\n",
       "      <td>4.0</td>\n",
       "      <td>4250.0</td>\n",
       "      <td>3400.0</td>\n",
       "      <td>1910.0</td>\n",
       "      <td>2</td>\n",
       "      <td>C3</td>\n",
       "      <td>1225000</td>\n",
       "      <td>2019-03-28</td>\n",
       "      <td>statenisland</td>\n",
       "      <td>106 WINTER AVENUE NYC</td>\n",
       "    </tr>\n",
       "    <tr>\n",
       "      <th>4093</th>\n",
       "      <td>5</td>\n",
       "      <td>NEW BRIGHTON</td>\n",
       "      <td>07 RENTALS - WALKUP APARTMENTS</td>\n",
       "      <td>2A</td>\n",
       "      <td>42</td>\n",
       "      <td>43</td>\n",
       "      <td>C3</td>\n",
       "      <td>102 WINTER AVENUE</td>\n",
       "      <td>10301.0</td>\n",
       "      <td>4.0</td>\n",
       "      <td>...</td>\n",
       "      <td>4.0</td>\n",
       "      <td>4250.0</td>\n",
       "      <td>3400.0</td>\n",
       "      <td>1910.0</td>\n",
       "      <td>2</td>\n",
       "      <td>C3</td>\n",
       "      <td>1225000</td>\n",
       "      <td>2019-03-28</td>\n",
       "      <td>statenisland</td>\n",
       "      <td>102 WINTER AVENUE NYC</td>\n",
       "    </tr>\n",
       "    <tr>\n",
       "      <th>4095</th>\n",
       "      <td>5</td>\n",
       "      <td>NEW BRIGHTON</td>\n",
       "      <td>07 RENTALS - WALKUP APARTMENTS</td>\n",
       "      <td>2A</td>\n",
       "      <td>65</td>\n",
       "      <td>32</td>\n",
       "      <td>C3</td>\n",
       "      <td>48 CASSIDY PLACE</td>\n",
       "      <td>10301.0</td>\n",
       "      <td>4.0</td>\n",
       "      <td>...</td>\n",
       "      <td>4.0</td>\n",
       "      <td>2525.0</td>\n",
       "      <td>3072.0</td>\n",
       "      <td>1925.0</td>\n",
       "      <td>2</td>\n",
       "      <td>C3</td>\n",
       "      <td>659000</td>\n",
       "      <td>2019-04-02</td>\n",
       "      <td>statenisland</td>\n",
       "      <td>48 CASSIDY PLACE NYC</td>\n",
       "    </tr>\n",
       "    <tr>\n",
       "      <th>5606</th>\n",
       "      <td>5</td>\n",
       "      <td>PORT RICHMOND</td>\n",
       "      <td>07 RENTALS - WALKUP APARTMENTS</td>\n",
       "      <td>2A</td>\n",
       "      <td>1039</td>\n",
       "      <td>71</td>\n",
       "      <td>C3</td>\n",
       "      <td>264 JEWETT AVENUE</td>\n",
       "      <td>10302.0</td>\n",
       "      <td>4.0</td>\n",
       "      <td>...</td>\n",
       "      <td>4.0</td>\n",
       "      <td>3025.0</td>\n",
       "      <td>2656.0</td>\n",
       "      <td>1931.0</td>\n",
       "      <td>2</td>\n",
       "      <td>C3</td>\n",
       "      <td>585000</td>\n",
       "      <td>2019-09-27</td>\n",
       "      <td>statenisland</td>\n",
       "      <td>264 JEWETT AVENUE NYC</td>\n",
       "    </tr>\n",
       "    <tr>\n",
       "      <th>5607</th>\n",
       "      <td>5</td>\n",
       "      <td>PORT RICHMOND</td>\n",
       "      <td>07 RENTALS - WALKUP APARTMENTS</td>\n",
       "      <td>2A</td>\n",
       "      <td>1039</td>\n",
       "      <td>71</td>\n",
       "      <td>C3</td>\n",
       "      <td>264 JEWETT AVENUE</td>\n",
       "      <td>10302.0</td>\n",
       "      <td>4.0</td>\n",
       "      <td>...</td>\n",
       "      <td>4.0</td>\n",
       "      <td>3025.0</td>\n",
       "      <td>2656.0</td>\n",
       "      <td>1931.0</td>\n",
       "      <td>2</td>\n",
       "      <td>C3</td>\n",
       "      <td>550000</td>\n",
       "      <td>2019-12-12</td>\n",
       "      <td>statenisland</td>\n",
       "      <td>264 JEWETT AVENUE NYC</td>\n",
       "    </tr>\n",
       "    <tr>\n",
       "      <th>6487</th>\n",
       "      <td>5</td>\n",
       "      <td>SILVER LAKE</td>\n",
       "      <td>07 RENTALS - WALKUP APARTMENTS</td>\n",
       "      <td>2A</td>\n",
       "      <td>262</td>\n",
       "      <td>89</td>\n",
       "      <td>C3</td>\n",
       "      <td>141-143 NORMA PLACE</td>\n",
       "      <td>10301.0</td>\n",
       "      <td>4.0</td>\n",
       "      <td>...</td>\n",
       "      <td>4.0</td>\n",
       "      <td>4690.0</td>\n",
       "      <td>3224.0</td>\n",
       "      <td>1932.0</td>\n",
       "      <td>2</td>\n",
       "      <td>C3</td>\n",
       "      <td>1250000</td>\n",
       "      <td>2019-02-20</td>\n",
       "      <td>statenisland</td>\n",
       "      <td>141-143 NORMA PLACE NYC</td>\n",
       "    </tr>\n",
       "    <tr>\n",
       "      <th>6739</th>\n",
       "      <td>5</td>\n",
       "      <td>SOUTH BEACH</td>\n",
       "      <td>07 RENTALS - WALKUP APARTMENTS</td>\n",
       "      <td>2A</td>\n",
       "      <td>3110</td>\n",
       "      <td>1</td>\n",
       "      <td>C3</td>\n",
       "      <td>273-275 SAND LANE</td>\n",
       "      <td>10305.0</td>\n",
       "      <td>4.0</td>\n",
       "      <td>...</td>\n",
       "      <td>4.0</td>\n",
       "      <td>4500.0</td>\n",
       "      <td>3800.0</td>\n",
       "      <td>1931.0</td>\n",
       "      <td>2</td>\n",
       "      <td>C3</td>\n",
       "      <td>990000</td>\n",
       "      <td>2019-07-23</td>\n",
       "      <td>statenisland</td>\n",
       "      <td>273-275 SAND LANE NYC</td>\n",
       "    </tr>\n",
       "    <tr>\n",
       "      <th>7417</th>\n",
       "      <td>5</td>\n",
       "      <td>TRAVIS</td>\n",
       "      <td>07 RENTALS - WALKUP APARTMENTS</td>\n",
       "      <td>2A</td>\n",
       "      <td>2627</td>\n",
       "      <td>59</td>\n",
       "      <td>C3</td>\n",
       "      <td>29 SHELLEY AVENUE</td>\n",
       "      <td>10314.0</td>\n",
       "      <td>4.0</td>\n",
       "      <td>...</td>\n",
       "      <td>4.0</td>\n",
       "      <td>2500.0</td>\n",
       "      <td>1512.0</td>\n",
       "      <td>1931.0</td>\n",
       "      <td>2</td>\n",
       "      <td>C3</td>\n",
       "      <td>395000</td>\n",
       "      <td>2019-05-02</td>\n",
       "      <td>statenisland</td>\n",
       "      <td>29 SHELLEY AVENUE NYC</td>\n",
       "    </tr>\n",
       "  </tbody>\n",
       "</table>\n",
       "<p>408 rows × 21 columns</p>\n",
       "</div>"
      ],
      "text/plain": [
       "       BOROUGH               NEIGHBORHOOD         BUILDING CLASS CATEGORY  \\\n",
       "592          2                 BAYCHESTER  07 RENTALS - WALKUP APARTMENTS   \n",
       "593          2                 BAYCHESTER  07 RENTALS - WALKUP APARTMENTS   \n",
       "602          2                 BAYCHESTER          14 RENTALS - 4-10 UNIT   \n",
       "758          2       BEDFORD PARK/NORWOOD  07 RENTALS - WALKUP APARTMENTS   \n",
       "765          2       BEDFORD PARK/NORWOOD  07 RENTALS - WALKUP APARTMENTS   \n",
       "954          2                    BELMONT  07 RENTALS - WALKUP APARTMENTS   \n",
       "960          2                    BELMONT  07 RENTALS - WALKUP APARTMENTS   \n",
       "964          2                    BELMONT  07 RENTALS - WALKUP APARTMENTS   \n",
       "965          2                    BELMONT  07 RENTALS - WALKUP APARTMENTS   \n",
       "974          2                    BELMONT  07 RENTALS - WALKUP APARTMENTS   \n",
       "975          2                    BELMONT  07 RENTALS - WALKUP APARTMENTS   \n",
       "1246         2                  BRONXDALE  07 RENTALS - WALKUP APARTMENTS   \n",
       "1252         2                  BRONXDALE  07 RENTALS - WALKUP APARTMENTS   \n",
       "1253         2                  BRONXDALE  07 RENTALS - WALKUP APARTMENTS   \n",
       "1503         2      CASTLE HILL/UNIONPORT  07 RENTALS - WALKUP APARTMENTS   \n",
       "1506         2      CASTLE HILL/UNIONPORT  07 RENTALS - WALKUP APARTMENTS   \n",
       "1989         2               EAST TREMONT  07 RENTALS - WALKUP APARTMENTS   \n",
       "1990         2               EAST TREMONT  07 RENTALS - WALKUP APARTMENTS   \n",
       "1991         2               EAST TREMONT  07 RENTALS - WALKUP APARTMENTS   \n",
       "2125         2                    FORDHAM  07 RENTALS - WALKUP APARTMENTS   \n",
       "2150         2                    FORDHAM          14 RENTALS - 4-10 UNIT   \n",
       "2249         2  HIGHBRIDGE/MORRIS HEIGHTS  07 RENTALS - WALKUP APARTMENTS   \n",
       "2253         2  HIGHBRIDGE/MORRIS HEIGHTS  07 RENTALS - WALKUP APARTMENTS   \n",
       "3217         2       MORRIS PARK/VAN NEST  07 RENTALS - WALKUP APARTMENTS   \n",
       "3221         2       MORRIS PARK/VAN NEST  07 RENTALS - WALKUP APARTMENTS   \n",
       "3231         2       MORRIS PARK/VAN NEST          14 RENTALS - 4-10 UNIT   \n",
       "3512         2        MORRISANIA/LONGWOOD  07 RENTALS - WALKUP APARTMENTS   \n",
       "3514         2        MORRISANIA/LONGWOOD  07 RENTALS - WALKUP APARTMENTS   \n",
       "3531         2        MORRISANIA/LONGWOOD  07 RENTALS - WALKUP APARTMENTS   \n",
       "3532         2        MORRISANIA/LONGWOOD  07 RENTALS - WALKUP APARTMENTS   \n",
       "...        ...                        ...                             ...   \n",
       "20886        4                  RIDGEWOOD  07 RENTALS - WALKUP APARTMENTS   \n",
       "20891        4                  RIDGEWOOD  07 RENTALS - WALKUP APARTMENTS   \n",
       "20899        4                  RIDGEWOOD  07 RENTALS - WALKUP APARTMENTS   \n",
       "20901        4                  RIDGEWOOD  07 RENTALS - WALKUP APARTMENTS   \n",
       "20902        4                  RIDGEWOOD  07 RENTALS - WALKUP APARTMENTS   \n",
       "20904        4                  RIDGEWOOD  07 RENTALS - WALKUP APARTMENTS   \n",
       "20912        4                  RIDGEWOOD  07 RENTALS - WALKUP APARTMENTS   \n",
       "20916        4                  RIDGEWOOD  07 RENTALS - WALKUP APARTMENTS   \n",
       "22264        4   SO. JAMAICA-BAISLEY PARK  07 RENTALS - WALKUP APARTMENTS   \n",
       "22267        4   SO. JAMAICA-BAISLEY PARK          14 RENTALS - 4-10 UNIT   \n",
       "22906        4              SOUTH JAMAICA  07 RENTALS - WALKUP APARTMENTS   \n",
       "22907        4              SOUTH JAMAICA  07 RENTALS - WALKUP APARTMENTS   \n",
       "22910        4              SOUTH JAMAICA  07 RENTALS - WALKUP APARTMENTS   \n",
       "23576        4           SOUTH OZONE PARK          14 RENTALS - 4-10 UNIT   \n",
       "25093        4                  SUNNYSIDE  07 RENTALS - WALKUP APARTMENTS   \n",
       "25546        4                 WHITESTONE  07 RENTALS - WALKUP APARTMENTS   \n",
       "26022        4                  WOODHAVEN  07 RENTALS - WALKUP APARTMENTS   \n",
       "26028        4                  WOODHAVEN          14 RENTALS - 4-10 UNIT   \n",
       "26191        4                   WOODSIDE  07 RENTALS - WALKUP APARTMENTS   \n",
       "1189         5                CLOVE LAKES  07 RENTALS - WALKUP APARTMENTS   \n",
       "4083         5               NEW BRIGHTON  07 RENTALS - WALKUP APARTMENTS   \n",
       "4090         5               NEW BRIGHTON  07 RENTALS - WALKUP APARTMENTS   \n",
       "4091         5               NEW BRIGHTON  07 RENTALS - WALKUP APARTMENTS   \n",
       "4093         5               NEW BRIGHTON  07 RENTALS - WALKUP APARTMENTS   \n",
       "4095         5               NEW BRIGHTON  07 RENTALS - WALKUP APARTMENTS   \n",
       "5606         5              PORT RICHMOND  07 RENTALS - WALKUP APARTMENTS   \n",
       "5607         5              PORT RICHMOND  07 RENTALS - WALKUP APARTMENTS   \n",
       "6487         5                SILVER LAKE  07 RENTALS - WALKUP APARTMENTS   \n",
       "6739         5                SOUTH BEACH  07 RENTALS - WALKUP APARTMENTS   \n",
       "7417         5                     TRAVIS  07 RENTALS - WALKUP APARTMENTS   \n",
       "\n",
       "      TAX CLASS AS OF FINAL ROLL 18/19  BLOCK  LOT  \\\n",
       "592                                 2A   4736    8   \n",
       "593                                 2A   4762   89   \n",
       "602                                 2A   4762   40   \n",
       "758                                 2A   3318   86   \n",
       "765                                 2A   3336   67   \n",
       "954                                 2A   3077   49   \n",
       "960                                 2A   3089   49   \n",
       "964                                 2A   3091   31   \n",
       "965                                 2A   3100   13   \n",
       "974                                 2A   3105   56   \n",
       "975                                 2A   3114   41   \n",
       "1246                                2A   4424   47   \n",
       "1252                                2A   4514   26   \n",
       "1253                                2A   4514   41   \n",
       "1503                                2A   3806   59   \n",
       "1506                                2A   3807   66   \n",
       "1989                                2A   3117  106   \n",
       "1990                                2A   3117  107   \n",
       "1991                                2A   3117  108   \n",
       "2125                                2A   3170   81   \n",
       "2150                                2A   3156   34   \n",
       "2249                                2A   2525   19   \n",
       "2253                                2A   2528   10   \n",
       "3217                                2A   4032   18   \n",
       "3221                                2A   4127   63   \n",
       "3231                                2A   4036    3   \n",
       "3512                                2A   2675   49   \n",
       "3514                                2A   2676   73   \n",
       "3531                                2A   2756   47   \n",
       "3532                                2A   2756   57   \n",
       "...                                ...    ...  ...   \n",
       "20886                               2A   3485   34   \n",
       "20891                               2A   3503   14   \n",
       "20899                               2A   3548  106   \n",
       "20901                               2A   3553   58   \n",
       "20902                               2A   3553   58   \n",
       "20904                               2A   3556    2   \n",
       "20912                               2A   3619   76   \n",
       "20916                               2A   3633   25   \n",
       "22264                               2A  12101   34   \n",
       "22267                               2A  12022   28   \n",
       "22906                               2A  10043    5   \n",
       "22907                               2A  10044   24   \n",
       "22910                               2A  10171   34   \n",
       "23576                               2A  11630    3   \n",
       "25093                               2A    186   29   \n",
       "25546                               2A   4504   12   \n",
       "26022                               2A   8899   32   \n",
       "26028                               2A   8843  124   \n",
       "26191                               2A   1196   41   \n",
       "1189                                2A    247   18   \n",
       "4083                                2A     16  125   \n",
       "4090                                2A     35   46   \n",
       "4091                                2A     42   41   \n",
       "4093                                2A     42   43   \n",
       "4095                                2A     65   32   \n",
       "5606                                2A   1039   71   \n",
       "5607                                2A   1039   71   \n",
       "6487                                2A    262   89   \n",
       "6739                                2A   3110    1   \n",
       "7417                                2A   2627   59   \n",
       "\n",
       "      BUILDING CLASS AS OF FINAL ROLL 18/19                      ADDRESS  \\\n",
       "592                                      C3          3359 SEYMOUR AVENUE   \n",
       "593                                      C3        3017 EASTCHESTER ROAD   \n",
       "602                                      S3        3061 EASTCHESTER ROAD   \n",
       "758                                      C3           2792 MORRIS AVENUE   \n",
       "765                                      C3          108 EAST 208 STREET   \n",
       "954                                      C3           2473 HUGHES AVENUE   \n",
       "960                                      C3         2333 BEAUMONT AVENUE   \n",
       "964                                      C3              2501 CAMBRELENG   \n",
       "965                                      C3            779 GARDEN STREET   \n",
       "974                                      C3          2411 CROTONA AVENUE   \n",
       "975                                      C3          773 EAST 183 STREET   \n",
       "1246                                     C3           2427 BARKER AVENUE   \n",
       "1252                                     C3         2770 MATTHEWS AVENUE   \n",
       "1253                                     C3        2745 BRONXWOOD AVENUE   \n",
       "1503                                     C3      2147 BRUCKNER BOULEVARD   \n",
       "1506                                     C3       2141 CHATTERTON AVENUE   \n",
       "1989                                     C3          1980 MARMION AVENUE   \n",
       "1990                                     C3          1982 MARMION AVENUE   \n",
       "1991                                     C3          1984 MARMION AVENUE   \n",
       "2125                                     C3        106 EAST 182ND STREET   \n",
       "2150                                     S3     219 EAST BURNSIDE AVENUE   \n",
       "2249                                     C3           1046 SUMMIT AVENUE   \n",
       "2253                                     C3       1198 UNIVERSITY AVENUE   \n",
       "3217                                     C3       1713 WHITE PLAINS ROAD   \n",
       "3221                                     C3           1860 COLDEN AVENUE   \n",
       "3231                                     S3       780 MORRIS PARK AVENUE   \n",
       "3512                                     C3          840 EAST 156 STREET   \n",
       "3514                                     C3          777 PROSPECT AVENUE   \n",
       "3531                                     C3       1017 LONGFELLOW AVENUE   \n",
       "3532                                     C3          1006 LONGFELLOW AVE   \n",
       "...                                     ...                          ...   \n",
       "20886                                    C3         656 GRANDVIEW AVENUE   \n",
       "20891                                    C3          67-03 FOREST AVENUE   \n",
       "20899                                    C3         16-13 HANCOCK STREET   \n",
       "20901                                    C3          1032 CYPRESS AVENUE   \n",
       "20902                                    C3          1032 CYPRESS AVENUE   \n",
       "20904                                    C3          1113 WYCKOFF AVENUE   \n",
       "20912                                    C3         64-56 MADISON STREET   \n",
       "20916                                    C3            64-34 68TH AVENUE   \n",
       "22264                                    C3    146-18 ROCKAWAY BOULEVARD   \n",
       "22267                                    S3     117-28 SUTPHIN BOULEVARD   \n",
       "22906                                    C5           144-10 LIBERTY AVE   \n",
       "22907                                    C3          144-19 106TH AVENUE   \n",
       "22910                                    C3            163-18 108 AVENUE   \n",
       "23576                                    S9               125-06 111 AVE   \n",
       "25093                                    C3            41-14 40TH STREET   \n",
       "25546                                    C3           149-04 12TH AVENUE   \n",
       "26022                                    C5            74-17 87TH AVENUE   \n",
       "26028                                    S9         79-01 JAMAICA AVENUE   \n",
       "26191                                    C3            34-03 57TH STREET   \n",
       "1189                                     C3  1135-1137 VICTORY BOULEVARD   \n",
       "4083                                     C3           442 ST MARKS PLACE   \n",
       "4090                                     C3            148 CORSON AVENUE   \n",
       "4091                                     C3            106 WINTER AVENUE   \n",
       "4093                                     C3            102 WINTER AVENUE   \n",
       "4095                                     C3             48 CASSIDY PLACE   \n",
       "5606                                     C3            264 JEWETT AVENUE   \n",
       "5607                                     C3            264 JEWETT AVENUE   \n",
       "6487                                     C3          141-143 NORMA PLACE   \n",
       "6739                                     C3            273-275 SAND LANE   \n",
       "7417                                     C3            29 SHELLEY AVENUE   \n",
       "\n",
       "       ZIP CODE  RESIDENTIAL UNITS  ...  TOTAL UNITS  LAND SQUARE FEET  \\\n",
       "592     10469.0                4.0  ...          4.0            2567.0   \n",
       "593     10469.0                4.0  ...          4.0            1180.0   \n",
       "602     10469.0                3.0  ...          4.0            3129.0   \n",
       "758     10468.0                4.0  ...          4.0            2381.0   \n",
       "765     10467.0                4.0  ...          4.0            3822.0   \n",
       "954     10458.0                4.0  ...          4.0            2185.0   \n",
       "960     10458.0                4.0  ...          4.0            3042.0   \n",
       "964     10458.0                4.0  ...          4.0             825.0   \n",
       "965     10460.0                4.0  ...          4.0            2500.0   \n",
       "974     10458.0                4.0  ...          4.0            2000.0   \n",
       "975     10460.0                4.0  ...          4.0            4142.0   \n",
       "1246    10467.0                4.0  ...          4.0            3267.0   \n",
       "1252    10467.0                4.0  ...          4.0            3400.0   \n",
       "1253    10469.0                4.0  ...          4.0            3117.0   \n",
       "1503    10472.0                4.0  ...          4.0            2609.0   \n",
       "1506    10472.0                4.0  ...          4.0            2549.0   \n",
       "1989    10460.0                4.0  ...          4.0            1920.0   \n",
       "1990    10460.0                4.0  ...          4.0            1793.0   \n",
       "1991    10460.0                4.0  ...          4.0            1707.0   \n",
       "2125    10453.0                4.0  ...          4.0            2081.0   \n",
       "2150    10457.0                3.0  ...          4.0            1519.0   \n",
       "2249    10452.0                4.0  ...          4.0            2500.0   \n",
       "2253    10452.0                4.0  ...          4.0            2814.0   \n",
       "3217    10462.0                4.0  ...          4.0            1125.0   \n",
       "3221    10462.0                4.0  ...          4.0            2500.0   \n",
       "3231    10462.0                3.0  ...          4.0            2500.0   \n",
       "3512    10455.0                4.0  ...          4.0            2043.0   \n",
       "3514    10455.0                4.0  ...          4.0            2000.0   \n",
       "3531    10459.0                4.0  ...          4.0            2500.0   \n",
       "3532    10459.0                4.0  ...          4.0            2500.0   \n",
       "...         ...                ...  ...          ...               ...   \n",
       "20886   11385.0                4.0  ...          4.0            2605.0   \n",
       "20891   11385.0                4.0  ...          4.0            2494.0   \n",
       "20899   11385.0                4.0  ...          4.0            2508.0   \n",
       "20901   11385.0                4.0  ...          4.0            2500.0   \n",
       "20902   11385.0                4.0  ...          4.0            2500.0   \n",
       "20904   11385.0                4.0  ...          4.0            3054.0   \n",
       "20912   11385.0                4.0  ...          4.0            2567.0   \n",
       "20916   11385.0                4.0  ...          4.0            2500.0   \n",
       "22264   11436.0                4.0  ...          4.0            1982.0   \n",
       "22267   11434.0                3.0  ...          4.0            2083.0   \n",
       "22906   11435.0                4.0  ...          4.0            2367.0   \n",
       "22907   11435.0                4.0  ...          4.0            3125.0   \n",
       "22910   11433.0                4.0  ...          4.0            3758.0   \n",
       "23576   11420.0                2.0  ...          4.0            2074.0   \n",
       "25093   11104.0                4.0  ...          4.0            2000.0   \n",
       "25546   11357.0                4.0  ...          4.0            2036.0   \n",
       "26022   11421.0                4.0  ...          4.0            2017.0   \n",
       "26028   11421.0                2.0  ...          4.0            2076.0   \n",
       "26191   11377.0                4.0  ...          4.0            2100.0   \n",
       "1189    10301.0                4.0  ...          4.0            2505.0   \n",
       "4083    10301.0                4.0  ...          4.0            2125.0   \n",
       "4090    10301.0                4.0  ...          4.0            3400.0   \n",
       "4091    10301.0                4.0  ...          4.0            4250.0   \n",
       "4093    10301.0                4.0  ...          4.0            4250.0   \n",
       "4095    10301.0                4.0  ...          4.0            2525.0   \n",
       "5606    10302.0                4.0  ...          4.0            3025.0   \n",
       "5607    10302.0                4.0  ...          4.0            3025.0   \n",
       "6487    10301.0                4.0  ...          4.0            4690.0   \n",
       "6739    10305.0                4.0  ...          4.0            4500.0   \n",
       "7417    10314.0                4.0  ...          4.0            2500.0   \n",
       "\n",
       "       GROSS SQUARE FEET  YEAR BUILT  TAX CLASS AT TIME OF SALE  \\\n",
       "592               3378.0      1934.0                          2   \n",
       "593               3300.0      1931.0                          2   \n",
       "602               3296.0      1931.0                          2   \n",
       "758               3040.0      1925.0                          2   \n",
       "765               3496.0      1925.0                          2   \n",
       "954               4436.0      1925.0                          2   \n",
       "960               2000.0      1931.0                          2   \n",
       "964               2600.0      1931.0                          2   \n",
       "965               3886.0      1905.0                          2   \n",
       "974               3350.0      1931.0                          2   \n",
       "975               3402.0      1931.0                          2   \n",
       "1246              3900.0      1927.0                          2   \n",
       "1252              3808.0      1931.0                          2   \n",
       "1253              3400.0      1931.0                          2   \n",
       "1503              3403.0      1929.0                          2   \n",
       "1506              3403.0      1930.0                          2   \n",
       "1989              4122.0      2003.0                          2   \n",
       "1990              3995.0      2003.0                          2   \n",
       "1991              3995.0      2003.0                          2   \n",
       "2125              3642.0      1931.0                          2   \n",
       "2150              3944.0      1930.0                          2   \n",
       "2249              3975.0      1926.0                          2   \n",
       "2253              3055.0      1924.0                          2   \n",
       "3217              2100.0      1920.0                          2   \n",
       "3221              4000.0      1927.0                          2   \n",
       "3231              3024.0      1925.0                          2   \n",
       "3512              3720.0      1910.0                          2   \n",
       "3514              3078.0      1915.0                          2   \n",
       "3531              3318.0      1930.0                          2   \n",
       "3532              3200.0      1930.0                          2   \n",
       "...                  ...         ...                        ...   \n",
       "20886             3570.0      1930.0                          2   \n",
       "20891             3400.0      1930.0                          2   \n",
       "20899             3250.0      1931.0                          2   \n",
       "20901             3100.0      1931.0                          2   \n",
       "20902             3100.0      1931.0                          2   \n",
       "20904             3920.0      1931.0                          2   \n",
       "20912             3560.0      1930.0                          2   \n",
       "20916             3250.0      1930.0                          2   \n",
       "22264             2800.0      1931.0                          2   \n",
       "22267             2400.0      1931.0                          2   \n",
       "22906             3000.0      1932.0                          2   \n",
       "22907             1406.0      1931.0                          2   \n",
       "22910             3310.0      1931.0                          2   \n",
       "23576             3120.0      1920.0                          2   \n",
       "25093             3200.0      1931.0                          2   \n",
       "25546             1800.0      1928.0                          2   \n",
       "26022             2128.0      1901.0                          2   \n",
       "26028             3600.0      1929.0                          2   \n",
       "26191             3100.0      1974.0                          2   \n",
       "1189              2884.0      1931.0                          2   \n",
       "4083              2992.0      1900.0                          2   \n",
       "4090              2520.0      1931.0                          2   \n",
       "4091              3400.0      1910.0                          2   \n",
       "4093              3400.0      1910.0                          2   \n",
       "4095              3072.0      1925.0                          2   \n",
       "5606              2656.0      1931.0                          2   \n",
       "5607              2656.0      1931.0                          2   \n",
       "6487              3224.0      1932.0                          2   \n",
       "6739              3800.0      1931.0                          2   \n",
       "7417              1512.0      1931.0                          2   \n",
       "\n",
       "       BUILDING CLASS AT TIME OF SALE SALE PRICE  SALE DATE          AREA  \\\n",
       "592                                C3     640000 2019-10-31         bronx   \n",
       "593                                C3     750000 2019-02-15         bronx   \n",
       "602                                S3     750000 2019-01-15         bronx   \n",
       "758                                C3     875000 2019-03-28         bronx   \n",
       "765                                C3     800000 2019-10-18         bronx   \n",
       "954                                C3    1290000 2019-02-01         bronx   \n",
       "960                                C3     610000 2019-03-11         bronx   \n",
       "964                                C3     799000 2019-11-07         bronx   \n",
       "965                                C3     896000 2019-07-23         bronx   \n",
       "974                                C3     750000 2019-05-30         bronx   \n",
       "975                                C3     925000 2019-03-07         bronx   \n",
       "1246                               C3     850000 2019-05-22         bronx   \n",
       "1252                               C3     855000 2019-07-22         bronx   \n",
       "1253                               C3     830000 2019-02-01         bronx   \n",
       "1503                               C3     650000 2019-05-07         bronx   \n",
       "1506                               C3     700000 2019-03-20         bronx   \n",
       "1989                               C3    1400000 2019-05-30         bronx   \n",
       "1990                               C3    1400000 2019-05-30         bronx   \n",
       "1991                               C3     600000 2019-05-30         bronx   \n",
       "2125                               C3     695000 2019-06-05         bronx   \n",
       "2150                               S3     775000 2019-03-08         bronx   \n",
       "2249                               C3     742000 2019-04-02         bronx   \n",
       "2253                               C3    1175000 2019-08-29         bronx   \n",
       "3217                               C3     600000 2019-06-27         bronx   \n",
       "3221                               C3     922074 2019-09-13         bronx   \n",
       "3231                               S3     780000 2019-05-13         bronx   \n",
       "3512                               C3     610000 2019-08-27         bronx   \n",
       "3514                               C3     345000 2019-01-25         bronx   \n",
       "3531                               C3     625000 2019-01-14         bronx   \n",
       "3532                               C3     365000 2019-11-06         bronx   \n",
       "...                               ...        ...        ...           ...   \n",
       "20886                              C3    1560000 2019-04-10        queens   \n",
       "20891                              C3    1075000 2019-07-17        queens   \n",
       "20899                              C3    1300000 2019-05-03        queens   \n",
       "20901                              C3     999000 2019-04-18        queens   \n",
       "20902                              C3     670000 2019-01-09        queens   \n",
       "20904                              C3    1225000 2019-03-15        queens   \n",
       "20912                              C3    1500000 2019-10-01        queens   \n",
       "20916                              C3    1160000 2019-12-02        queens   \n",
       "22264                              C3     539000 2019-11-27        queens   \n",
       "22267                              S3     600000 2019-07-29        queens   \n",
       "22906                              C5     785000 2019-05-02        queens   \n",
       "22907                              C3     750000 2019-12-11        queens   \n",
       "22910                              C3     700000 2019-07-17        queens   \n",
       "23576                              S9     980000 2019-10-01        queens   \n",
       "25093                              C3    1520000 2019-07-12        queens   \n",
       "25546                              C3    1409600 2019-01-31        queens   \n",
       "26022                              C5     500000 2019-11-20        queens   \n",
       "26028                              S9    1365000 2019-02-28        queens   \n",
       "26191                              C3    1260000 2019-06-17        queens   \n",
       "1189                               C3     700000 2019-12-07  statenisland   \n",
       "4083                               C3    1050000 2019-09-16  statenisland   \n",
       "4090                               C3     535000 2019-05-09  statenisland   \n",
       "4091                               C3    1225000 2019-03-28  statenisland   \n",
       "4093                               C3    1225000 2019-03-28  statenisland   \n",
       "4095                               C3     659000 2019-04-02  statenisland   \n",
       "5606                               C3     585000 2019-09-27  statenisland   \n",
       "5607                               C3     550000 2019-12-12  statenisland   \n",
       "6487                               C3    1250000 2019-02-20  statenisland   \n",
       "6739                               C3     990000 2019-07-23  statenisland   \n",
       "7417                               C3     395000 2019-05-02  statenisland   \n",
       "\n",
       "                         FINAL_ADDRESS  \n",
       "592            3359 SEYMOUR AVENUE NYC  \n",
       "593          3017 EASTCHESTER ROAD NYC  \n",
       "602          3061 EASTCHESTER ROAD NYC  \n",
       "758             2792 MORRIS AVENUE NYC  \n",
       "765            108 EAST 208 STREET NYC  \n",
       "954             2473 HUGHES AVENUE NYC  \n",
       "960           2333 BEAUMONT AVENUE NYC  \n",
       "964                2501 CAMBRELENG NYC  \n",
       "965              779 GARDEN STREET NYC  \n",
       "974            2411 CROTONA AVENUE NYC  \n",
       "975            773 EAST 183 STREET NYC  \n",
       "1246            2427 BARKER AVENUE NYC  \n",
       "1252          2770 MATTHEWS AVENUE NYC  \n",
       "1253         2745 BRONXWOOD AVENUE NYC  \n",
       "1503       2147 BRUCKNER BOULEVARD NYC  \n",
       "1506        2141 CHATTERTON AVENUE NYC  \n",
       "1989           1980 MARMION AVENUE NYC  \n",
       "1990           1982 MARMION AVENUE NYC  \n",
       "1991           1984 MARMION AVENUE NYC  \n",
       "2125         106 EAST 182ND STREET NYC  \n",
       "2150      219 EAST BURNSIDE AVENUE NYC  \n",
       "2249            1046 SUMMIT AVENUE NYC  \n",
       "2253        1198 UNIVERSITY AVENUE NYC  \n",
       "3217        1713 WHITE PLAINS ROAD NYC  \n",
       "3221            1860 COLDEN AVENUE NYC  \n",
       "3231        780 MORRIS PARK AVENUE NYC  \n",
       "3512           840 EAST 156 STREET NYC  \n",
       "3514           777 PROSPECT AVENUE NYC  \n",
       "3531        1017 LONGFELLOW AVENUE NYC  \n",
       "3532           1006 LONGFELLOW AVE NYC  \n",
       "...                                ...  \n",
       "20886         656 GRANDVIEW AVENUE NYC  \n",
       "20891          67-03 FOREST AVENUE NYC  \n",
       "20899         16-13 HANCOCK STREET NYC  \n",
       "20901          1032 CYPRESS AVENUE NYC  \n",
       "20902          1032 CYPRESS AVENUE NYC  \n",
       "20904          1113 WYCKOFF AVENUE NYC  \n",
       "20912         64-56 MADISON STREET NYC  \n",
       "20916            64-34 68TH AVENUE NYC  \n",
       "22264    146-18 ROCKAWAY BOULEVARD NYC  \n",
       "22267     117-28 SUTPHIN BOULEVARD NYC  \n",
       "22906           144-10 LIBERTY AVE NYC  \n",
       "22907          144-19 106TH AVENUE NYC  \n",
       "22910            163-18 108 AVENUE NYC  \n",
       "23576               125-06 111 AVE NYC  \n",
       "25093            41-14 40TH STREET NYC  \n",
       "25546           149-04 12TH AVENUE NYC  \n",
       "26022            74-17 87TH AVENUE NYC  \n",
       "26028         79-01 JAMAICA AVENUE NYC  \n",
       "26191            34-03 57TH STREET NYC  \n",
       "1189   1135-1137 VICTORY BOULEVARD NYC  \n",
       "4083            442 ST MARKS PLACE NYC  \n",
       "4090             148 CORSON AVENUE NYC  \n",
       "4091             106 WINTER AVENUE NYC  \n",
       "4093             102 WINTER AVENUE NYC  \n",
       "4095              48 CASSIDY PLACE NYC  \n",
       "5606             264 JEWETT AVENUE NYC  \n",
       "5607             264 JEWETT AVENUE NYC  \n",
       "6487           141-143 NORMA PLACE NYC  \n",
       "6739             273-275 SAND LANE NYC  \n",
       "7417             29 SHELLEY AVENUE NYC  \n",
       "\n",
       "[408 rows x 21 columns]"
      ]
     },
     "execution_count": 99,
     "metadata": {},
     "output_type": "execute_result"
    }
   ],
   "source": [
    "df.loc[df['TAX CLASS AT TIME OF SALE'] == 2]"
   ]
  },
  {
   "cell_type": "markdown",
   "metadata": {},
   "source": [
    "### <a name=\"sale-price\"></a>Sale Price:"
   ]
  },
  {
   "cell_type": "code",
   "execution_count": 100,
   "metadata": {
    "colab": {
     "base_uri": "https://localhost:8080/",
     "height": 402
    },
    "colab_type": "code",
    "id": "khichrkOVw5O",
    "outputId": "1c685fb3-9155-486f-bfb6-ea369b6a53f4"
   },
   "outputs": [
    {
     "data": {
      "image/png": "[encoded data removed]",
      "text/plain": [
       "<Figure size 576x432 with 1 Axes>"
      ]
     },
     "metadata": {
      "needs_background": "light"
     },
     "output_type": "display_data"
    }
   ],
   "source": [
    "plt.figure(figsize=(8,6))\n",
    "sns.distplot(df['SALE PRICE'].values, bins=50, kde=True)\n",
    "plt.xlabel('price', fontsize=12)\n",
    "plt.show()"
   ]
  },
  {
   "cell_type": "code",
   "execution_count": 101,
   "metadata": {
    "colab": {
     "base_uri": "https://localhost:8080/",
     "height": 225
    },
    "colab_type": "code",
    "id": "nCPh48SuZT5w",
    "outputId": "41e923f3-3066-435d-caf3-ed138f5088b6"
   },
   "outputs": [
    {
     "name": "stdout",
     "output_type": "stream",
     "text": [
      "650000     265\n",
      "600000     230\n",
      "550000     222\n",
      "450000     219\n",
      "800000     217\n",
      "750000     212\n",
      "500000     206\n",
      "700000     206\n",
      "850000     183\n",
      "900000     182\n",
      "400000     172\n",
      "950000     164\n",
      "525000     142\n",
      "1200000    138\n",
      "575000     134\n",
      "560000     129\n",
      "1100000    125\n",
      "1300000    124\n",
      "990000     119\n",
      "580000     117\n",
      "300000     115\n",
      "640000     115\n",
      "630000     114\n",
      "625000     112\n",
      "680000     110\n",
      "725000     110\n",
      "520000     110\n",
      "540000     109\n",
      "610000     108\n",
      "660000     106\n",
      "          ... \n",
      "324247       1\n",
      "569999       1\n",
      "207500       1\n",
      "418437       1\n",
      "993900       1\n",
      "297560       1\n",
      "739888       1\n",
      "608800       1\n",
      "1321500      1\n",
      "580114       1\n",
      "613090       1\n",
      "973586       1\n",
      "838800       1\n",
      "904000       1\n",
      "375950       1\n",
      "334960       1\n",
      "844901       1\n",
      "455751       1\n",
      "748580       1\n",
      "101400       1\n",
      "666588       1\n",
      "388052       1\n",
      "322500       1\n",
      "216000       1\n",
      "297695       1\n",
      "703358       1\n",
      "400250       1\n",
      "680821       1\n",
      "1756000      1\n",
      "329729       1\n",
      "Name: SALE PRICE, Length: 3128, dtype: int64\n"
     ]
    }
   ],
   "source": [
    "cnt_srs = df['SALE PRICE'].value_counts()\n",
    "print(cnt_srs)"
   ]
  },
  {
   "cell_type": "code",
   "execution_count": 102,
   "metadata": {
    "colab": {},
    "colab_type": "code",
    "id": "qf9nGIhsZUBk"
   },
   "outputs": [],
   "source": [
    "df = df[df['SALE PRICE'] > 300000]"
   ]
  },
  {
   "cell_type": "code",
   "execution_count": 103,
   "metadata": {
    "colab": {
     "base_uri": "https://localhost:8080/",
     "height": 35
    },
    "colab_type": "code",
    "id": "02P-EOy6ZUI4",
    "outputId": "7f22644b-5911-4d7c-9890-90878a5d392c"
   },
   "outputs": [
    {
     "name": "stdout",
     "output_type": "stream",
     "text": [
      "[ 300202  300500  301000 ... 1999900 1999900 1999999]\n"
     ]
    }
   ],
   "source": [
    "cnt_srs = df['SALE PRICE']\n",
    "print(np.sort(cnt_srs))"
   ]
  },
  {
   "cell_type": "code",
   "execution_count": 104,
   "metadata": {
    "colab": {
     "base_uri": "https://localhost:8080/",
     "height": 402
    },
    "colab_type": "code",
    "id": "m0VwQf02Z_rR",
    "outputId": "d478a289-7658-40fd-eb31-a50f9e0442fa"
   },
   "outputs": [
    {
     "data": {
      "image/png": "[encoded data removed]",
      "text/plain": [
       "<Figure size 576x432 with 1 Axes>"
      ]
     },
     "metadata": {
      "needs_background": "light"
     },
     "output_type": "display_data"
    }
   ],
   "source": [
    "plt.figure(figsize=(8,6))\n",
    "sns.distplot(df['SALE PRICE'].values, bins=50, kde=True)\n",
    "plt.xlabel('price', fontsize=12)\n",
    "plt.show()"
   ]
  },
  {
   "cell_type": "code",
   "execution_count": 105,
   "metadata": {
    "colab": {
     "base_uri": "https://localhost:8080/",
     "height": 35
    },
    "colab_type": "code",
    "id": "ZEBn-DmBaPYI",
    "outputId": "dbc574c0-0c5f-4d91-dc74-da46c5748eed"
   },
   "outputs": [
    {
     "name": "stdout",
     "output_type": "stream",
     "text": [
      "Train data has 18279 rows and 21 colummns\n"
     ]
    }
   ],
   "source": [
    "print(f'Train data has {df.shape[0]} rows and {df.shape[1]} colummns')"
   ]
  },
  {
   "cell_type": "code",
   "execution_count": 106,
   "metadata": {
    "colab": {
     "base_uri": "https://localhost:8080/",
     "height": 221
    },
    "colab_type": "code",
    "id": "MrkPpReNaR9F",
    "outputId": "b91e0917-588a-44dd-8249-b0a3105f2565"
   },
   "outputs": [
    {
     "data": {
      "text/html": [
       "<div>\n",
       "<style scoped>\n",
       "    .dataframe tbody tr th:only-of-type {\n",
       "        vertical-align: middle;\n",
       "    }\n",
       "\n",
       "    .dataframe tbody tr th {\n",
       "        vertical-align: top;\n",
       "    }\n",
       "\n",
       "    .dataframe thead th {\n",
       "        text-align: right;\n",
       "    }\n",
       "</style>\n",
       "<table border=\"1\" class=\"dataframe\">\n",
       "  <thead>\n",
       "    <tr style=\"text-align: right;\">\n",
       "      <th></th>\n",
       "      <th>BOROUGH</th>\n",
       "      <th>NEIGHBORHOOD</th>\n",
       "      <th>BUILDING CLASS CATEGORY</th>\n",
       "      <th>TAX CLASS AS OF FINAL ROLL 18/19</th>\n",
       "      <th>BLOCK</th>\n",
       "      <th>LOT</th>\n",
       "      <th>BUILDING CLASS AS OF FINAL ROLL 18/19</th>\n",
       "      <th>ADDRESS</th>\n",
       "      <th>ZIP CODE</th>\n",
       "      <th>RESIDENTIAL UNITS</th>\n",
       "      <th>...</th>\n",
       "      <th>TOTAL UNITS</th>\n",
       "      <th>LAND SQUARE FEET</th>\n",
       "      <th>GROSS SQUARE FEET</th>\n",
       "      <th>YEAR BUILT</th>\n",
       "      <th>TAX CLASS AT TIME OF SALE</th>\n",
       "      <th>BUILDING CLASS AT TIME OF SALE</th>\n",
       "      <th>SALE PRICE</th>\n",
       "      <th>SALE DATE</th>\n",
       "      <th>AREA</th>\n",
       "      <th>FINAL_ADDRESS</th>\n",
       "    </tr>\n",
       "  </thead>\n",
       "  <tbody>\n",
       "    <tr>\n",
       "      <th>0</th>\n",
       "      <td>2</td>\n",
       "      <td>BATHGATE</td>\n",
       "      <td>01 ONE FAMILY DWELLINGS</td>\n",
       "      <td>1</td>\n",
       "      <td>3030</td>\n",
       "      <td>70</td>\n",
       "      <td>A1</td>\n",
       "      <td>4445 PARK AVENUE</td>\n",
       "      <td>10457.0</td>\n",
       "      <td>1.0</td>\n",
       "      <td>...</td>\n",
       "      <td>1.0</td>\n",
       "      <td>1694.0</td>\n",
       "      <td>1497.0</td>\n",
       "      <td>1899.0</td>\n",
       "      <td>1</td>\n",
       "      <td>A1</td>\n",
       "      <td>388500</td>\n",
       "      <td>2019-07-23</td>\n",
       "      <td>bronx</td>\n",
       "      <td>4445 PARK AVENUE NYC</td>\n",
       "    </tr>\n",
       "  </tbody>\n",
       "</table>\n",
       "<p>1 rows × 21 columns</p>\n",
       "</div>"
      ],
      "text/plain": [
       "   BOROUGH NEIGHBORHOOD  BUILDING CLASS CATEGORY  \\\n",
       "0        2     BATHGATE  01 ONE FAMILY DWELLINGS   \n",
       "\n",
       "  TAX CLASS AS OF FINAL ROLL 18/19  BLOCK  LOT  \\\n",
       "0                                1   3030   70   \n",
       "\n",
       "  BUILDING CLASS AS OF FINAL ROLL 18/19           ADDRESS  ZIP CODE  \\\n",
       "0                                    A1  4445 PARK AVENUE   10457.0   \n",
       "\n",
       "   RESIDENTIAL UNITS  ...  TOTAL UNITS  LAND SQUARE FEET  GROSS SQUARE FEET  \\\n",
       "0                1.0  ...          1.0            1694.0             1497.0   \n",
       "\n",
       "   YEAR BUILT  TAX CLASS AT TIME OF SALE  BUILDING CLASS AT TIME OF SALE  \\\n",
       "0      1899.0                          1                              A1   \n",
       "\n",
       "  SALE PRICE  SALE DATE   AREA         FINAL_ADDRESS  \n",
       "0     388500 2019-07-23  bronx  4445 PARK AVENUE NYC  \n",
       "\n",
       "[1 rows x 21 columns]"
      ]
     },
     "execution_count": 106,
     "metadata": {},
     "output_type": "execute_result"
    }
   ],
   "source": [
    "df.head(1)"
   ]
  },
  {
   "cell_type": "markdown",
   "metadata": {},
   "source": [
    "### <a name=\"building-class-at-time-of-sale\"></a>Building-class-at-time-of-sale:"
   ]
  },
  {
   "cell_type": "code",
   "execution_count": 107,
   "metadata": {
    "colab": {
     "base_uri": "https://localhost:8080/",
     "height": 282
    },
    "colab_type": "code",
    "id": "kPzdyuSBafOk",
    "outputId": "5a973429-2a60-40d6-b6ac-30a305aad3c4"
   },
   "outputs": [
    {
     "data": {
      "image/png": "[encoded data removed]",
      "text/plain": [
       "<Figure size 576x288 with 1 Axes>"
      ]
     },
     "metadata": {
      "needs_background": "light"
     },
     "output_type": "display_data"
    }
   ],
   "source": [
    "int_level = df['BUILDING CLASS AT TIME OF SALE'].value_counts()\n",
    "\n",
    "plt.figure(figsize=(8,4))\n",
    "sns.barplot(int_level.index, int_level.values, alpha=0.8, color=color[9])\n",
    "plt.ylabel('Number of Occurrences', fontsize=12)\n",
    "plt.xlabel('BUILDING CLASS AT TIME OF SALE', fontsize=12)\n",
    "plt.show()\n"
   ]
  },
  {
   "cell_type": "code",
   "execution_count": 108,
   "metadata": {
    "colab": {
     "base_uri": "https://localhost:8080/",
     "height": 1000
    },
    "colab_type": "code",
    "id": "NlaQPQR3a35H",
    "outputId": "fb28aaf5-3ff8-4b88-8d85-7e847376bea2"
   },
   "outputs": [
    {
     "name": "stdout",
     "output_type": "stream",
     "text": [
      "A1    3310\n",
      "A5    3084\n",
      "B2    2250\n",
      "B1    2213\n",
      "B3    1784\n",
      "C0    1745\n",
      "A2    1146\n",
      "A9     726\n",
      "B9     673\n",
      "C3     327\n",
      "S2     225\n",
      "A0     216\n",
      "S1     124\n",
      "K1      54\n",
      "K4      51\n",
      "A4      49\n",
      "S3      40\n",
      "A3      39\n",
      "K2      38\n",
      "S9      18\n",
      "G2      14\n",
      "M1      13\n",
      "O7      13\n",
      "E1      13\n",
      "O2      11\n",
      "A6       9\n",
      "M9       9\n",
      "G1       8\n",
      "G9       8\n",
      "F5       8\n",
      "O8       7\n",
      "E2       6\n",
      "O9       5\n",
      "W9       4\n",
      "C4       4\n",
      "O5       4\n",
      "O1       4\n",
      "F4       4\n",
      "Z9       3\n",
      "E9       3\n",
      "C5       3\n",
      "W8       2\n",
      "N9       2\n",
      "W2       1\n",
      "W3       1\n",
      "I9       1\n",
      "S0       1\n",
      "G3       1\n",
      "K5       1\n",
      "I5       1\n",
      "J1       1\n",
      "F9       1\n",
      "F1       1\n",
      "Name: BUILDING CLASS AT TIME OF SALE, dtype: int64\n"
     ]
    }
   ],
   "source": [
    "cnt_srs = df['BUILDING CLASS AT TIME OF SALE'].value_counts()\n",
    "print(cnt_srs)"
   ]
  },
  {
   "cell_type": "markdown",
   "metadata": {},
   "source": [
    "### <a name=\"splitting-the-data\"></a>Splitting-the-data:"
   ]
  },
  {
   "cell_type": "code",
   "execution_count": 109,
   "metadata": {
    "colab": {},
    "colab_type": "code",
    "id": "oIEqzL-bo4v8"
   },
   "outputs": [],
   "source": [
    "# split the data into train and test set\n",
    "df_train, df_test = train_test_split(df, test_size=0.2, random_state=42, shuffle=True)"
   ]
  },
  {
   "cell_type": "code",
   "execution_count": 110,
   "metadata": {
    "colab": {},
    "colab_type": "code",
    "id": "6Cvd-JoQvoRf"
   },
   "outputs": [],
   "source": [
    "train_target = df_train['SALE PRICE']\n",
    "df_train = df_train.drop(['SALE PRICE'], axis=1)\n",
    "\n",
    "test_target = df_test['SALE PRICE']\n",
    "df_test = df_test.drop(['SALE PRICE'], axis=1)\n"
   ]
  },
  {
   "cell_type": "code",
   "execution_count": 111,
   "metadata": {
    "colab": {
     "base_uri": "https://localhost:8080/",
     "height": 52
    },
    "colab_type": "code",
    "id": "-8imdlKCqwwS",
    "outputId": "2f3a995c-adf4-4788-e648-5a3f600a34ae"
   },
   "outputs": [
    {
     "name": "stdout",
     "output_type": "stream",
     "text": [
      "Train data has 14623 rows and 20 colummns\n",
      "Test data has 3656 rows and 20 colummns\n"
     ]
    }
   ],
   "source": [
    "print(f'Train data has {df_train.shape[0]} rows and {df_train.shape[1]} colummns')\n",
    "print(f'Test data has {df_test.shape[0]} rows and {df_test.shape[1]} colummns')"
   ]
  },
  {
   "cell_type": "code",
   "execution_count": 112,
   "metadata": {
    "colab": {
     "base_uri": "https://localhost:8080/",
     "height": 499
    },
    "colab_type": "code",
    "id": "yYKEnjM4mvph",
    "outputId": "f9f35723-2cdb-426c-c269-818c4e239eff"
   },
   "outputs": [
    {
     "data": {
      "text/html": [
       "<div>\n",
       "<style scoped>\n",
       "    .dataframe tbody tr th:only-of-type {\n",
       "        vertical-align: middle;\n",
       "    }\n",
       "\n",
       "    .dataframe tbody tr th {\n",
       "        vertical-align: top;\n",
       "    }\n",
       "\n",
       "    .dataframe thead th {\n",
       "        text-align: right;\n",
       "    }\n",
       "</style>\n",
       "<table border=\"1\" class=\"dataframe\">\n",
       "  <thead>\n",
       "    <tr style=\"text-align: right;\">\n",
       "      <th></th>\n",
       "      <th>BOROUGH</th>\n",
       "      <th>NEIGHBORHOOD</th>\n",
       "      <th>BUILDING CLASS CATEGORY</th>\n",
       "      <th>TAX CLASS AS OF FINAL ROLL 18/19</th>\n",
       "      <th>BLOCK</th>\n",
       "      <th>LOT</th>\n",
       "      <th>BUILDING CLASS AS OF FINAL ROLL 18/19</th>\n",
       "      <th>ADDRESS</th>\n",
       "      <th>ZIP CODE</th>\n",
       "      <th>RESIDENTIAL UNITS</th>\n",
       "      <th>COMMERCIAL UNITS</th>\n",
       "      <th>TOTAL UNITS</th>\n",
       "      <th>LAND SQUARE FEET</th>\n",
       "      <th>GROSS SQUARE FEET</th>\n",
       "      <th>YEAR BUILT</th>\n",
       "      <th>TAX CLASS AT TIME OF SALE</th>\n",
       "      <th>BUILDING CLASS AT TIME OF SALE</th>\n",
       "      <th>SALE DATE</th>\n",
       "      <th>AREA</th>\n",
       "      <th>FINAL_ADDRESS</th>\n",
       "    </tr>\n",
       "  </thead>\n",
       "  <tbody>\n",
       "    <tr>\n",
       "      <th>21545</th>\n",
       "      <td>4</td>\n",
       "      <td>ROSEDALE</td>\n",
       "      <td>02 TWO FAMILY DWELLINGS</td>\n",
       "      <td>1</td>\n",
       "      <td>13728</td>\n",
       "      <td>13</td>\n",
       "      <td>B3</td>\n",
       "      <td>147-09 235TH STREET</td>\n",
       "      <td>11422.0</td>\n",
       "      <td>2.0</td>\n",
       "      <td>0.0</td>\n",
       "      <td>2.0</td>\n",
       "      <td>3800.0</td>\n",
       "      <td>2230.0</td>\n",
       "      <td>1920.0</td>\n",
       "      <td>1</td>\n",
       "      <td>B3</td>\n",
       "      <td>2019-12-26</td>\n",
       "      <td>queens</td>\n",
       "      <td>147-09 235TH STREET NYC</td>\n",
       "    </tr>\n",
       "    <tr>\n",
       "      <th>1388</th>\n",
       "      <td>2</td>\n",
       "      <td>CASTLE HILL/UNIONPORT</td>\n",
       "      <td>02 TWO FAMILY DWELLINGS</td>\n",
       "      <td>1</td>\n",
       "      <td>3483</td>\n",
       "      <td>71</td>\n",
       "      <td>B2</td>\n",
       "      <td>324 TORRY AVENUE</td>\n",
       "      <td>10473.0</td>\n",
       "      <td>2.0</td>\n",
       "      <td>0.0</td>\n",
       "      <td>2.0</td>\n",
       "      <td>3981.0</td>\n",
       "      <td>2712.0</td>\n",
       "      <td>2002.0</td>\n",
       "      <td>1</td>\n",
       "      <td>B2</td>\n",
       "      <td>2019-12-13</td>\n",
       "      <td>bronx</td>\n",
       "      <td>324 TORRY AVENUE NYC</td>\n",
       "    </tr>\n",
       "    <tr>\n",
       "      <th>9283</th>\n",
       "      <td>4</td>\n",
       "      <td>FLUSHING-SOUTH</td>\n",
       "      <td>03 THREE FAMILY DWELLINGS</td>\n",
       "      <td>1</td>\n",
       "      <td>6419</td>\n",
       "      <td>37</td>\n",
       "      <td>C0</td>\n",
       "      <td>6145 146TH ST</td>\n",
       "      <td>11367.0</td>\n",
       "      <td>3.0</td>\n",
       "      <td>0.0</td>\n",
       "      <td>3.0</td>\n",
       "      <td>3974.0</td>\n",
       "      <td>3220.0</td>\n",
       "      <td>1997.0</td>\n",
       "      <td>1</td>\n",
       "      <td>C0</td>\n",
       "      <td>2019-01-09</td>\n",
       "      <td>queens</td>\n",
       "      <td>6145 146TH ST NYC</td>\n",
       "    </tr>\n",
       "    <tr>\n",
       "      <th>14407</th>\n",
       "      <td>4</td>\n",
       "      <td>JAMAICA</td>\n",
       "      <td>02 TWO FAMILY DWELLINGS</td>\n",
       "      <td>1</td>\n",
       "      <td>10029</td>\n",
       "      <td>119</td>\n",
       "      <td>B3</td>\n",
       "      <td>97-30 WALTHAM STREET</td>\n",
       "      <td>11435.0</td>\n",
       "      <td>2.0</td>\n",
       "      <td>0.0</td>\n",
       "      <td>2.0</td>\n",
       "      <td>1600.0</td>\n",
       "      <td>1361.0</td>\n",
       "      <td>1901.0</td>\n",
       "      <td>1</td>\n",
       "      <td>B3</td>\n",
       "      <td>2019-01-25</td>\n",
       "      <td>queens</td>\n",
       "      <td>97-30 WALTHAM STREET NYC</td>\n",
       "    </tr>\n",
       "    <tr>\n",
       "      <th>3323</th>\n",
       "      <td>2</td>\n",
       "      <td>MORRISANIA/LONGWOOD</td>\n",
       "      <td>02 TWO FAMILY DWELLINGS</td>\n",
       "      <td>1</td>\n",
       "      <td>2683</td>\n",
       "      <td>115</td>\n",
       "      <td>B2</td>\n",
       "      <td>552 FOX STREET</td>\n",
       "      <td>10455.0</td>\n",
       "      <td>2.0</td>\n",
       "      <td>0.0</td>\n",
       "      <td>2.0</td>\n",
       "      <td>2300.0</td>\n",
       "      <td>2340.0</td>\n",
       "      <td>1990.0</td>\n",
       "      <td>1</td>\n",
       "      <td>B2</td>\n",
       "      <td>2019-02-22</td>\n",
       "      <td>bronx</td>\n",
       "      <td>552 FOX STREET NYC</td>\n",
       "    </tr>\n",
       "  </tbody>\n",
       "</table>\n",
       "</div>"
      ],
      "text/plain": [
       "       BOROUGH           NEIGHBORHOOD    BUILDING CLASS CATEGORY  \\\n",
       "21545        4               ROSEDALE    02 TWO FAMILY DWELLINGS   \n",
       "1388         2  CASTLE HILL/UNIONPORT    02 TWO FAMILY DWELLINGS   \n",
       "9283         4         FLUSHING-SOUTH  03 THREE FAMILY DWELLINGS   \n",
       "14407        4                JAMAICA    02 TWO FAMILY DWELLINGS   \n",
       "3323         2    MORRISANIA/LONGWOOD    02 TWO FAMILY DWELLINGS   \n",
       "\n",
       "      TAX CLASS AS OF FINAL ROLL 18/19  BLOCK  LOT  \\\n",
       "21545                                1  13728   13   \n",
       "1388                                 1   3483   71   \n",
       "9283                                 1   6419   37   \n",
       "14407                                1  10029  119   \n",
       "3323                                 1   2683  115   \n",
       "\n",
       "      BUILDING CLASS AS OF FINAL ROLL 18/19               ADDRESS  ZIP CODE  \\\n",
       "21545                                    B3   147-09 235TH STREET   11422.0   \n",
       "1388                                     B2      324 TORRY AVENUE   10473.0   \n",
       "9283                                     C0         6145 146TH ST   11367.0   \n",
       "14407                                    B3  97-30 WALTHAM STREET   11435.0   \n",
       "3323                                     B2        552 FOX STREET   10455.0   \n",
       "\n",
       "       RESIDENTIAL UNITS  COMMERCIAL UNITS  TOTAL UNITS  LAND SQUARE FEET  \\\n",
       "21545                2.0               0.0          2.0            3800.0   \n",
       "1388                 2.0               0.0          2.0            3981.0   \n",
       "9283                 3.0               0.0          3.0            3974.0   \n",
       "14407                2.0               0.0          2.0            1600.0   \n",
       "3323                 2.0               0.0          2.0            2300.0   \n",
       "\n",
       "       GROSS SQUARE FEET  YEAR BUILT  TAX CLASS AT TIME OF SALE  \\\n",
       "21545             2230.0      1920.0                          1   \n",
       "1388              2712.0      2002.0                          1   \n",
       "9283              3220.0      1997.0                          1   \n",
       "14407             1361.0      1901.0                          1   \n",
       "3323              2340.0      1990.0                          1   \n",
       "\n",
       "      BUILDING CLASS AT TIME OF SALE  SALE DATE    AREA  \\\n",
       "21545                             B3 2019-12-26  queens   \n",
       "1388                              B2 2019-12-13   bronx   \n",
       "9283                              C0 2019-01-09  queens   \n",
       "14407                             B3 2019-01-25  queens   \n",
       "3323                              B2 2019-02-22   bronx   \n",
       "\n",
       "                  FINAL_ADDRESS  \n",
       "21545   147-09 235TH STREET NYC  \n",
       "1388       324 TORRY AVENUE NYC  \n",
       "9283          6145 146TH ST NYC  \n",
       "14407  97-30 WALTHAM STREET NYC  \n",
       "3323         552 FOX STREET NYC  "
      ]
     },
     "execution_count": 112,
     "metadata": {},
     "output_type": "execute_result"
    }
   ],
   "source": [
    "df_train.head(5)"
   ]
  },
  {
   "cell_type": "code",
   "execution_count": 113,
   "metadata": {
    "colab": {
     "base_uri": "https://localhost:8080/",
     "height": 139
    },
    "colab_type": "code",
    "id": "7V-qa6Vsmg5m",
    "outputId": "8e623dad-2867-4295-8155-7827d2da29f9"
   },
   "outputs": [
    {
     "data": {
      "text/plain": [
       "array(['BOROUGH', 'NEIGHBORHOOD', 'BUILDING CLASS CATEGORY',\n",
       "       'TAX CLASS AS OF FINAL ROLL 18/19', 'BLOCK', 'LOT',\n",
       "       'BUILDING CLASS AS OF FINAL ROLL 18/19', 'ADDRESS', 'ZIP CODE',\n",
       "       'RESIDENTIAL UNITS', 'COMMERCIAL UNITS', 'TOTAL UNITS',\n",
       "       'LAND SQUARE FEET', 'GROSS SQUARE FEET', 'YEAR BUILT',\n",
       "       'TAX CLASS AT TIME OF SALE', 'BUILDING CLASS AT TIME OF SALE',\n",
       "       'SALE DATE', 'AREA', 'FINAL_ADDRESS'], dtype=object)"
      ]
     },
     "execution_count": 113,
     "metadata": {},
     "output_type": "execute_result"
    }
   ],
   "source": [
    "df_train.columns.values"
   ]
  },
  {
   "cell_type": "code",
   "execution_count": 114,
   "metadata": {
    "colab": {},
    "colab_type": "code",
    "id": "WByxWYzgVMSi"
   },
   "outputs": [],
   "source": [
    "cat = ['NEIGHBORHOOD', 'BUILDING CLASS CATEGORY', 'BUILDING CLASS AS OF FINAL ROLL 18/19', 'ADDRESS'\n",
    "        , 'BUILDING CLASS AT TIME OF SALE', 'SALE DATE', 'AREA',  'FINAL_ADDRESS']\n",
    "        "
   ]
  },
  {
   "cell_type": "code",
   "execution_count": 115,
   "metadata": {
    "colab": {},
    "colab_type": "code",
    "id": "zU2HDTcUnVR6"
   },
   "outputs": [],
   "source": [
    "final=pd.concat([df_train,df_test])"
   ]
  },
  {
   "cell_type": "markdown",
   "metadata": {},
   "source": [
    "### <a name=\"cat-to-num\"></a>Categorial to Numerical:"
   ]
  },
  {
   "cell_type": "code",
   "execution_count": 116,
   "metadata": {
    "colab": {},
    "colab_type": "code",
    "id": "RXPwOkBbneep"
   },
   "outputs": [],
   "source": [
    "from sklearn.preprocessing import LabelEncoder\n",
    "\n",
    "for col in cat:\n",
    "    lb=LabelEncoder()\n",
    "    final[col]=lb.fit_transform(final[col].values)\n",
    "    \n",
    "    \n",
    "train=final[:len(df_train)]\n",
    "test=final[len(df_train):]"
   ]
  },
  {
   "cell_type": "code",
   "execution_count": 117,
   "metadata": {
    "colab": {
     "base_uri": "https://localhost:8080/",
     "height": 52
    },
    "colab_type": "code",
    "id": "_YPiWgxqn6nt",
    "outputId": "ef6e974f-e62f-4848-b330-1bf75d302dff"
   },
   "outputs": [
    {
     "name": "stdout",
     "output_type": "stream",
     "text": [
      "Train data has 14623 rows and 20 colummns\n",
      "Test data has 3656 rows and 20 colummns\n"
     ]
    }
   ],
   "source": [
    "print(f'Train data has {train.shape[0]} rows and {train.shape[1]} colummns')\n",
    "print(f'Test data has {test.shape[0]} rows and {test.shape[1]} colummns')"
   ]
  },
  {
   "cell_type": "code",
   "execution_count": 118,
   "metadata": {
    "colab": {
     "base_uri": "https://localhost:8080/",
     "height": 381
    },
    "colab_type": "code",
    "id": "9DLC81q1wOHu",
    "outputId": "6f8f1355-66ab-4fbc-9298-860b8c667cfc"
   },
   "outputs": [
    {
     "data": {
      "text/plain": [
       "BOROUGH                                    int64\n",
       "NEIGHBORHOOD                               int32\n",
       "BUILDING CLASS CATEGORY                    int32\n",
       "TAX CLASS AS OF FINAL ROLL 18/19          object\n",
       "BLOCK                                      int64\n",
       "LOT                                        int64\n",
       "BUILDING CLASS AS OF FINAL ROLL 18/19      int32\n",
       "ADDRESS                                    int32\n",
       "ZIP CODE                                 float64\n",
       "RESIDENTIAL UNITS                        float64\n",
       "COMMERCIAL UNITS                         float64\n",
       "TOTAL UNITS                              float64\n",
       "LAND SQUARE FEET                         float64\n",
       "GROSS SQUARE FEET                        float64\n",
       "YEAR BUILT                               float64\n",
       "TAX CLASS AT TIME OF SALE                  int64\n",
       "BUILDING CLASS AT TIME OF SALE             int32\n",
       "SALE DATE                                  int64\n",
       "AREA                                       int32\n",
       "FINAL_ADDRESS                              int32\n",
       "dtype: object"
      ]
     },
     "execution_count": 118,
     "metadata": {},
     "output_type": "execute_result"
    }
   ],
   "source": [
    "final.dtypes"
   ]
  },
  {
   "cell_type": "code",
   "execution_count": 119,
   "metadata": {
    "colab": {
     "base_uri": "https://localhost:8080/",
     "height": 35
    },
    "colab_type": "code",
    "id": "GjDoD8LG6kPS",
    "outputId": "51c6afcb-e5e7-458c-e227-d70685dd9414"
   },
   "outputs": [
    {
     "data": {
      "text/plain": [
       "array(['1', '1', '1', ..., '1', '1', '1'], dtype=object)"
      ]
     },
     "execution_count": 119,
     "metadata": {},
     "output_type": "execute_result"
    }
   ],
   "source": [
    "final['TAX CLASS AS OF FINAL ROLL 18/19'].values"
   ]
  },
  {
   "cell_type": "code",
   "execution_count": 120,
   "metadata": {
    "colab": {
     "base_uri": "https://localhost:8080/",
     "height": 87
    },
    "colab_type": "code",
    "id": "qTxDs5eQstE8",
    "outputId": "2444669e-9b23-45a2-b846-b3a0ee98992b"
   },
   "outputs": [
    {
     "name": "stdout",
     "output_type": "stream",
     "text": [
      "1     17598\n",
      "2A      390\n",
      "4       291\n",
      "Name: TAX CLASS AS OF FINAL ROLL 18/19, dtype: int64\n"
     ]
    }
   ],
   "source": [
    "cnt_srs = final['TAX CLASS AS OF FINAL ROLL 18/19'].value_counts()\n",
    "print(cnt_srs)"
   ]
  },
  {
   "cell_type": "code",
   "execution_count": 121,
   "metadata": {
    "colab": {},
    "colab_type": "code",
    "id": "9nu7238a7QxN"
   },
   "outputs": [],
   "source": [
    "final['TAX CLASS AS OF FINAL ROLL 18/19'] = final['TAX CLASS AS OF FINAL ROLL 18/19'].map({'2A': 2, '1': 1, '4' : 4})"
   ]
  },
  {
   "cell_type": "code",
   "execution_count": 122,
   "metadata": {
    "colab": {
     "base_uri": "https://localhost:8080/",
     "height": 87
    },
    "colab_type": "code",
    "id": "TifY5CI77j1E",
    "outputId": "07da45c1-e614-4afe-e2c5-c9d0f5fbd470"
   },
   "outputs": [
    {
     "name": "stdout",
     "output_type": "stream",
     "text": [
      "1    17598\n",
      "2      390\n",
      "4      291\n",
      "Name: TAX CLASS AS OF FINAL ROLL 18/19, dtype: int64\n"
     ]
    }
   ],
   "source": [
    "cnt_srs = final['TAX CLASS AS OF FINAL ROLL 18/19'].value_counts()\n",
    "print(cnt_srs)"
   ]
  },
  {
   "cell_type": "code",
   "execution_count": 123,
   "metadata": {
    "colab": {
     "base_uri": "https://localhost:8080/",
     "height": 381
    },
    "colab_type": "code",
    "id": "F3kKhYXE8F4d",
    "outputId": "8175a503-9440-4b48-cdd3-d571875dee76"
   },
   "outputs": [
    {
     "data": {
      "text/plain": [
       "BOROUGH                                    int64\n",
       "NEIGHBORHOOD                               int32\n",
       "BUILDING CLASS CATEGORY                    int32\n",
       "TAX CLASS AS OF FINAL ROLL 18/19           int64\n",
       "BLOCK                                      int64\n",
       "LOT                                        int64\n",
       "BUILDING CLASS AS OF FINAL ROLL 18/19      int32\n",
       "ADDRESS                                    int32\n",
       "ZIP CODE                                 float64\n",
       "RESIDENTIAL UNITS                        float64\n",
       "COMMERCIAL UNITS                         float64\n",
       "TOTAL UNITS                              float64\n",
       "LAND SQUARE FEET                         float64\n",
       "GROSS SQUARE FEET                        float64\n",
       "YEAR BUILT                               float64\n",
       "TAX CLASS AT TIME OF SALE                  int64\n",
       "BUILDING CLASS AT TIME OF SALE             int32\n",
       "SALE DATE                                  int64\n",
       "AREA                                       int32\n",
       "FINAL_ADDRESS                              int32\n",
       "dtype: object"
      ]
     },
     "execution_count": 123,
     "metadata": {},
     "output_type": "execute_result"
    }
   ],
   "source": [
    "final.dtypes"
   ]
  },
  {
   "cell_type": "code",
   "execution_count": 124,
   "metadata": {
    "colab": {},
    "colab_type": "code",
    "id": "n8Luy5PJ8Mdl"
   },
   "outputs": [],
   "source": [
    "train=final[:len(df_train)]\n",
    "test=final[len(df_train):]"
   ]
  },
  {
   "cell_type": "code",
   "execution_count": 125,
   "metadata": {
    "colab": {
     "base_uri": "https://localhost:8080/",
     "height": 52
    },
    "colab_type": "code",
    "id": "MxFvZmsL8P0g",
    "outputId": "b61fd3d8-798e-40c4-eee7-e1fccb0013ec"
   },
   "outputs": [
    {
     "name": "stdout",
     "output_type": "stream",
     "text": [
      "Train data has 14623 rows and 20 colummns\n",
      "Test data has 3656 rows and 20 colummns\n"
     ]
    }
   ],
   "source": [
    "print(f'Train data has {train.shape[0]} rows and {train.shape[1]} colummns')\n",
    "print(f'Test data has {test.shape[0]} rows and {test.shape[1]} colummns')"
   ]
  },
  {
   "cell_type": "markdown",
   "metadata": {},
   "source": [
    "### <a name=\"scaling\"></a>Scaling:"
   ]
  },
  {
   "cell_type": "code",
   "execution_count": 126,
   "metadata": {
    "colab": {},
    "colab_type": "code",
    "id": "nrM2Yz5Rnsh-"
   },
   "outputs": [
    {
     "name": "stderr",
     "output_type": "stream",
     "text": [
      "C:\\Users\\aavivi\\AppData\\Local\\Continuum\\anaconda3\\lib\\site-packages\\sklearn\\utils\\validation.py:595: DataConversionWarning: Data with input dtype int64 was converted to float64 by MinMaxScaler.\n",
      "  warnings.warn(msg, DataConversionWarning)\n",
      "C:\\Users\\aavivi\\AppData\\Local\\Continuum\\anaconda3\\lib\\site-packages\\sklearn\\utils\\validation.py:595: DataConversionWarning: Data with input dtype int32 was converted to float64 by MinMaxScaler.\n",
      "  warnings.warn(msg, DataConversionWarning)\n",
      "C:\\Users\\aavivi\\AppData\\Local\\Continuum\\anaconda3\\lib\\site-packages\\sklearn\\utils\\validation.py:595: DataConversionWarning: Data with input dtype int32 was converted to float64 by MinMaxScaler.\n",
      "  warnings.warn(msg, DataConversionWarning)\n",
      "C:\\Users\\aavivi\\AppData\\Local\\Continuum\\anaconda3\\lib\\site-packages\\sklearn\\utils\\validation.py:595: DataConversionWarning: Data with input dtype int64 was converted to float64 by MinMaxScaler.\n",
      "  warnings.warn(msg, DataConversionWarning)\n",
      "C:\\Users\\aavivi\\AppData\\Local\\Continuum\\anaconda3\\lib\\site-packages\\sklearn\\utils\\validation.py:595: DataConversionWarning: Data with input dtype int64 was converted to float64 by MinMaxScaler.\n",
      "  warnings.warn(msg, DataConversionWarning)\n",
      "C:\\Users\\aavivi\\AppData\\Local\\Continuum\\anaconda3\\lib\\site-packages\\sklearn\\utils\\validation.py:595: DataConversionWarning: Data with input dtype int64 was converted to float64 by MinMaxScaler.\n",
      "  warnings.warn(msg, DataConversionWarning)\n",
      "C:\\Users\\aavivi\\AppData\\Local\\Continuum\\anaconda3\\lib\\site-packages\\sklearn\\utils\\validation.py:595: DataConversionWarning: Data with input dtype int32 was converted to float64 by MinMaxScaler.\n",
      "  warnings.warn(msg, DataConversionWarning)\n",
      "C:\\Users\\aavivi\\AppData\\Local\\Continuum\\anaconda3\\lib\\site-packages\\sklearn\\utils\\validation.py:595: DataConversionWarning: Data with input dtype int32 was converted to float64 by MinMaxScaler.\n",
      "  warnings.warn(msg, DataConversionWarning)\n",
      "C:\\Users\\aavivi\\AppData\\Local\\Continuum\\anaconda3\\lib\\site-packages\\sklearn\\utils\\validation.py:595: DataConversionWarning: Data with input dtype int64 was converted to float64 by MinMaxScaler.\n",
      "  warnings.warn(msg, DataConversionWarning)\n",
      "C:\\Users\\aavivi\\AppData\\Local\\Continuum\\anaconda3\\lib\\site-packages\\sklearn\\utils\\validation.py:595: DataConversionWarning: Data with input dtype int32 was converted to float64 by MinMaxScaler.\n",
      "  warnings.warn(msg, DataConversionWarning)\n",
      "C:\\Users\\aavivi\\AppData\\Local\\Continuum\\anaconda3\\lib\\site-packages\\sklearn\\utils\\validation.py:595: DataConversionWarning: Data with input dtype int64 was converted to float64 by MinMaxScaler.\n",
      "  warnings.warn(msg, DataConversionWarning)\n",
      "C:\\Users\\aavivi\\AppData\\Local\\Continuum\\anaconda3\\lib\\site-packages\\sklearn\\utils\\validation.py:595: DataConversionWarning: Data with input dtype int32 was converted to float64 by MinMaxScaler.\n",
      "  warnings.warn(msg, DataConversionWarning)\n",
      "C:\\Users\\aavivi\\AppData\\Local\\Continuum\\anaconda3\\lib\\site-packages\\sklearn\\utils\\validation.py:595: DataConversionWarning: Data with input dtype int32 was converted to float64 by MinMaxScaler.\n",
      "  warnings.warn(msg, DataConversionWarning)\n"
     ]
    }
   ],
   "source": [
    "for col in train.columns:     \n",
    "  minmax=MinMaxScaler()\n",
    "  train[col] = minmax.fit_transform(train[col].values.reshape(-1,1))\n",
    "  test[col]=minmax.transform(test[col].values.reshape(-1,1))"
   ]
  },
  {
   "cell_type": "code",
   "execution_count": 127,
   "metadata": {
    "colab": {
     "base_uri": "https://localhost:8080/",
     "height": 309
    },
    "colab_type": "code",
    "id": "EcctP2dO97cv",
    "outputId": "c41f5222-27f6-47fd-be1c-f7ae8f91c8a6"
   },
   "outputs": [
    {
     "data": {
      "text/html": [
       "<div>\n",
       "<style scoped>\n",
       "    .dataframe tbody tr th:only-of-type {\n",
       "        vertical-align: middle;\n",
       "    }\n",
       "\n",
       "    .dataframe tbody tr th {\n",
       "        vertical-align: top;\n",
       "    }\n",
       "\n",
       "    .dataframe thead th {\n",
       "        text-align: right;\n",
       "    }\n",
       "</style>\n",
       "<table border=\"1\" class=\"dataframe\">\n",
       "  <thead>\n",
       "    <tr style=\"text-align: right;\">\n",
       "      <th></th>\n",
       "      <th>BOROUGH</th>\n",
       "      <th>NEIGHBORHOOD</th>\n",
       "      <th>BUILDING CLASS CATEGORY</th>\n",
       "      <th>TAX CLASS AS OF FINAL ROLL 18/19</th>\n",
       "      <th>BLOCK</th>\n",
       "      <th>LOT</th>\n",
       "      <th>BUILDING CLASS AS OF FINAL ROLL 18/19</th>\n",
       "      <th>ADDRESS</th>\n",
       "      <th>ZIP CODE</th>\n",
       "      <th>RESIDENTIAL UNITS</th>\n",
       "      <th>COMMERCIAL UNITS</th>\n",
       "      <th>TOTAL UNITS</th>\n",
       "      <th>LAND SQUARE FEET</th>\n",
       "      <th>GROSS SQUARE FEET</th>\n",
       "      <th>YEAR BUILT</th>\n",
       "      <th>TAX CLASS AT TIME OF SALE</th>\n",
       "      <th>BUILDING CLASS AT TIME OF SALE</th>\n",
       "      <th>SALE DATE</th>\n",
       "      <th>AREA</th>\n",
       "      <th>FINAL_ADDRESS</th>\n",
       "    </tr>\n",
       "  </thead>\n",
       "  <tbody>\n",
       "    <tr>\n",
       "      <th>21545</th>\n",
       "      <td>0.75</td>\n",
       "      <td>0.802956</td>\n",
       "      <td>0.066667</td>\n",
       "      <td>0.0</td>\n",
       "      <td>0.841350</td>\n",
       "      <td>0.081081</td>\n",
       "      <td>0.192308</td>\n",
       "      <td>0.235613</td>\n",
       "      <td>0.838480</td>\n",
       "      <td>0.50</td>\n",
       "      <td>0.0</td>\n",
       "      <td>0.333333</td>\n",
       "      <td>0.743171</td>\n",
       "      <td>0.458429</td>\n",
       "      <td>0.214286</td>\n",
       "      <td>0.0</td>\n",
       "      <td>0.192308</td>\n",
       "      <td>0.989865</td>\n",
       "      <td>0.75</td>\n",
       "      <td>0.235613</td>\n",
       "    </tr>\n",
       "    <tr>\n",
       "      <th>1388</th>\n",
       "      <td>0.25</td>\n",
       "      <td>0.167488</td>\n",
       "      <td>0.066667</td>\n",
       "      <td>0.0</td>\n",
       "      <td>0.212822</td>\n",
       "      <td>0.472973</td>\n",
       "      <td>0.173077</td>\n",
       "      <td>0.586769</td>\n",
       "      <td>0.274941</td>\n",
       "      <td>0.50</td>\n",
       "      <td>0.0</td>\n",
       "      <td>0.333333</td>\n",
       "      <td>0.782104</td>\n",
       "      <td>0.569132</td>\n",
       "      <td>0.865079</td>\n",
       "      <td>0.0</td>\n",
       "      <td>0.173077</td>\n",
       "      <td>0.956081</td>\n",
       "      <td>0.00</td>\n",
       "      <td>0.586769</td>\n",
       "    </tr>\n",
       "    <tr>\n",
       "      <th>9283</th>\n",
       "      <td>0.75</td>\n",
       "      <td>0.344828</td>\n",
       "      <td>0.133333</td>\n",
       "      <td>0.0</td>\n",
       "      <td>0.392945</td>\n",
       "      <td>0.243243</td>\n",
       "      <td>0.230769</td>\n",
       "      <td>0.785563</td>\n",
       "      <td>0.805819</td>\n",
       "      <td>0.75</td>\n",
       "      <td>0.0</td>\n",
       "      <td>0.666667</td>\n",
       "      <td>0.780598</td>\n",
       "      <td>0.685806</td>\n",
       "      <td>0.825397</td>\n",
       "      <td>0.0</td>\n",
       "      <td>0.230769</td>\n",
       "      <td>0.023649</td>\n",
       "      <td>0.75</td>\n",
       "      <td>0.785563</td>\n",
       "    </tr>\n",
       "    <tr>\n",
       "      <th>14407</th>\n",
       "      <td>0.75</td>\n",
       "      <td>0.492611</td>\n",
       "      <td>0.066667</td>\n",
       "      <td>0.0</td>\n",
       "      <td>0.614417</td>\n",
       "      <td>0.797297</td>\n",
       "      <td>0.192308</td>\n",
       "      <td>0.991228</td>\n",
       "      <td>0.846200</td>\n",
       "      <td>0.50</td>\n",
       "      <td>0.0</td>\n",
       "      <td>0.333333</td>\n",
       "      <td>0.269951</td>\n",
       "      <td>0.258842</td>\n",
       "      <td>0.063492</td>\n",
       "      <td>0.0</td>\n",
       "      <td>0.192308</td>\n",
       "      <td>0.064189</td>\n",
       "      <td>0.75</td>\n",
       "      <td>0.991228</td>\n",
       "    </tr>\n",
       "    <tr>\n",
       "      <th>3323</th>\n",
       "      <td>0.25</td>\n",
       "      <td>0.615764</td>\n",
       "      <td>0.066667</td>\n",
       "      <td>0.0</td>\n",
       "      <td>0.163742</td>\n",
       "      <td>0.770270</td>\n",
       "      <td>0.173077</td>\n",
       "      <td>0.746899</td>\n",
       "      <td>0.264252</td>\n",
       "      <td>0.50</td>\n",
       "      <td>0.0</td>\n",
       "      <td>0.333333</td>\n",
       "      <td>0.420521</td>\n",
       "      <td>0.483693</td>\n",
       "      <td>0.769841</td>\n",
       "      <td>0.0</td>\n",
       "      <td>0.173077</td>\n",
       "      <td>0.148649</td>\n",
       "      <td>0.00</td>\n",
       "      <td>0.746899</td>\n",
       "    </tr>\n",
       "  </tbody>\n",
       "</table>\n",
       "</div>"
      ],
      "text/plain": [
       "       BOROUGH  NEIGHBORHOOD  BUILDING CLASS CATEGORY  \\\n",
       "21545     0.75      0.802956                 0.066667   \n",
       "1388      0.25      0.167488                 0.066667   \n",
       "9283      0.75      0.344828                 0.133333   \n",
       "14407     0.75      0.492611                 0.066667   \n",
       "3323      0.25      0.615764                 0.066667   \n",
       "\n",
       "       TAX CLASS AS OF FINAL ROLL 18/19     BLOCK       LOT  \\\n",
       "21545                               0.0  0.841350  0.081081   \n",
       "1388                                0.0  0.212822  0.472973   \n",
       "9283                                0.0  0.392945  0.243243   \n",
       "14407                               0.0  0.614417  0.797297   \n",
       "3323                                0.0  0.163742  0.770270   \n",
       "\n",
       "       BUILDING CLASS AS OF FINAL ROLL 18/19   ADDRESS  ZIP CODE  \\\n",
       "21545                               0.192308  0.235613  0.838480   \n",
       "1388                                0.173077  0.586769  0.274941   \n",
       "9283                                0.230769  0.785563  0.805819   \n",
       "14407                               0.192308  0.991228  0.846200   \n",
       "3323                                0.173077  0.746899  0.264252   \n",
       "\n",
       "       RESIDENTIAL UNITS  COMMERCIAL UNITS  TOTAL UNITS  LAND SQUARE FEET  \\\n",
       "21545               0.50               0.0     0.333333          0.743171   \n",
       "1388                0.50               0.0     0.333333          0.782104   \n",
       "9283                0.75               0.0     0.666667          0.780598   \n",
       "14407               0.50               0.0     0.333333          0.269951   \n",
       "3323                0.50               0.0     0.333333          0.420521   \n",
       "\n",
       "       GROSS SQUARE FEET  YEAR BUILT  TAX CLASS AT TIME OF SALE  \\\n",
       "21545           0.458429    0.214286                        0.0   \n",
       "1388            0.569132    0.865079                        0.0   \n",
       "9283            0.685806    0.825397                        0.0   \n",
       "14407           0.258842    0.063492                        0.0   \n",
       "3323            0.483693    0.769841                        0.0   \n",
       "\n",
       "       BUILDING CLASS AT TIME OF SALE  SALE DATE  AREA  FINAL_ADDRESS  \n",
       "21545                        0.192308   0.989865  0.75       0.235613  \n",
       "1388                         0.173077   0.956081  0.00       0.586769  \n",
       "9283                         0.230769   0.023649  0.75       0.785563  \n",
       "14407                        0.192308   0.064189  0.75       0.991228  \n",
       "3323                         0.173077   0.148649  0.00       0.746899  "
      ]
     },
     "execution_count": 127,
     "metadata": {},
     "output_type": "execute_result"
    }
   ],
   "source": [
    "train.head(5)"
   ]
  },
  {
   "cell_type": "markdown",
   "metadata": {},
   "source": [
    "### <a name=\"RFRegressor-model\"></a>RFRegressor-model:"
   ]
  },
  {
   "cell_type": "code",
   "execution_count": 128,
   "metadata": {
    "colab": {
     "base_uri": "https://localhost:8080/",
     "height": 208
    },
    "colab_type": "code",
    "id": "1_dVRP88sAG9",
    "outputId": "fa525a39-b4a6-4ac5-cc2c-504c6a0d807b"
   },
   "outputs": [
    {
     "name": "stderr",
     "output_type": "stream",
     "text": [
      "[Parallel(n_jobs=-1)]: Using backend ThreadingBackend with 4 concurrent workers.\n",
      "[Parallel(n_jobs=-1)]: Done  42 tasks      | elapsed:    1.0s\n",
      "[Parallel(n_jobs=-1)]: Done 192 tasks      | elapsed:    4.6s\n",
      "[Parallel(n_jobs=-1)]: Done 300 out of 300 | elapsed:    7.4s finished\n"
     ]
    },
    {
     "data": {
      "text/plain": [
       "RandomForestRegressor(bootstrap=True, criterion='mse', max_depth=10,\n",
       "           max_features='auto', max_leaf_nodes=None,\n",
       "           min_impurity_decrease=0.0, min_impurity_split=None,\n",
       "           min_samples_leaf=1, min_samples_split=2,\n",
       "           min_weight_fraction_leaf=0.0, n_estimators=300, n_jobs=-1,\n",
       "           oob_score=False, random_state=None, verbose=True,\n",
       "           warm_start=False)"
      ]
     },
     "execution_count": 128,
     "metadata": {},
     "output_type": "execute_result"
    }
   ],
   "source": [
    "rf=RandomForestRegressor(n_estimators=300,verbose=True,max_depth=10, n_jobs=-1)\n",
    "rf.fit(train, train_target)\n"
   ]
  },
  {
   "cell_type": "code",
   "execution_count": 129,
   "metadata": {
    "colab": {
     "base_uri": "https://localhost:8080/",
     "height": 87
    },
    "colab_type": "code",
    "id": "4YA4a-Ff_TFx",
    "outputId": "095ace13-460c-46cc-a600-033fd5db3e20"
   },
   "outputs": [
    {
     "name": "stderr",
     "output_type": "stream",
     "text": [
      "[Parallel(n_jobs=4)]: Using backend ThreadingBackend with 4 concurrent workers.\n",
      "[Parallel(n_jobs=4)]: Done  42 tasks      | elapsed:    0.0s\n",
      "[Parallel(n_jobs=4)]: Done 192 tasks      | elapsed:    0.0s\n",
      "[Parallel(n_jobs=4)]: Done 300 out of 300 | elapsed:    0.0s finished\n"
     ]
    }
   ],
   "source": [
    "res_pred = rf.predict(test)"
   ]
  },
  {
   "cell_type": "code",
   "execution_count": 130,
   "metadata": {
    "colab": {
     "base_uri": "https://localhost:8080/",
     "height": 243
    },
    "colab_type": "code",
    "id": "hKYKhrgA_m1H",
    "outputId": "7ddfa5b4-364f-4dcb-be73-af863b0e472e"
   },
   "outputs": [
    {
     "name": "stdout",
     "output_type": "stream",
     "text": [
      "<class 'numpy.ndarray'>\n",
      "0       1.048897e+06\n",
      "1       9.590723e+05\n",
      "2       5.610163e+05\n",
      "3       8.875483e+05\n",
      "4       7.587054e+05\n",
      "5       9.931760e+05\n",
      "6       5.036070e+05\n",
      "7       5.616135e+05\n",
      "8       1.299632e+06\n",
      "9       5.684351e+05\n",
      "10      8.046169e+05\n",
      "11      4.884285e+05\n",
      "12      5.116785e+05\n",
      "13      5.111233e+05\n",
      "14      8.699743e+05\n",
      "15      9.457604e+05\n",
      "16      1.039692e+06\n",
      "17      6.585121e+05\n",
      "18      6.519783e+05\n",
      "19      5.402201e+05\n",
      "20      6.703266e+05\n",
      "21      1.044852e+06\n",
      "22      8.024460e+05\n",
      "23      5.948089e+05\n",
      "24      7.577909e+05\n",
      "25      7.390302e+05\n",
      "26      5.693907e+05\n",
      "27      6.058585e+05\n",
      "28      1.049489e+06\n",
      "29      7.884058e+05\n",
      "            ...     \n",
      "3626    5.474773e+05\n",
      "3627    5.124269e+05\n",
      "3628    6.765553e+05\n",
      "3629    8.022073e+05\n",
      "3630    5.539661e+05\n",
      "3631    7.323210e+05\n",
      "3632    8.652917e+05\n",
      "3633    1.180506e+06\n",
      "3634    4.229154e+05\n",
      "3635    9.707227e+05\n",
      "3636    8.674057e+05\n",
      "3637    8.672068e+05\n",
      "3638    5.931994e+05\n",
      "3639    5.230768e+05\n",
      "3640    5.322695e+05\n",
      "3641    6.323000e+05\n",
      "3642    5.707213e+05\n",
      "3643    6.060556e+05\n",
      "3644    7.121616e+05\n",
      "3645    6.517128e+05\n",
      "3646    6.176990e+05\n",
      "3647    6.363959e+05\n",
      "3648    1.131779e+06\n",
      "3649    5.607809e+05\n",
      "3650    1.454248e+06\n",
      "3651    4.409690e+05\n",
      "3652    1.082200e+06\n",
      "3653    4.692220e+05\n",
      "3654    8.424838e+05\n",
      "3655    7.525152e+05\n",
      "Length: 3656, dtype: float64\n"
     ]
    }
   ],
   "source": [
    "print(type(res_pred))\n",
    "new_series = pd.Series(res_pred)\n",
    "print(new_series)"
   ]
  },
  {
   "cell_type": "code",
   "execution_count": 131,
   "metadata": {
    "colab": {
     "base_uri": "https://localhost:8080/",
     "height": 243
    },
    "colab_type": "code",
    "id": "iK6TMu06_u13",
    "outputId": "2973c81d-f8d4-4cea-e149-0a55bf569245"
   },
   "outputs": [
    {
     "name": "stdout",
     "output_type": "stream",
     "text": [
      "<class 'pandas.core.series.Series'>\n",
      "17088    1135000\n",
      "1163      725000\n",
      "13718     695000\n",
      "17453     499000\n",
      "20292     670947\n",
      "9121      905000\n",
      "160       456300\n",
      "1374      645000\n",
      "16289    1265000\n",
      "14069     525000\n",
      "25962    1081688\n",
      "7463      444000\n",
      "5694      340000\n",
      "6061      531000\n",
      "16808     870000\n",
      "7310     1200000\n",
      "15796    1142500\n",
      "3525      680000\n",
      "3192     1050000\n",
      "21281     350000\n",
      "6899      775250\n",
      "2608      815000\n",
      "13534     875000\n",
      "5908      770000\n",
      "24059     560000\n",
      "12422     875000\n",
      "3587      416000\n",
      "466       330000\n",
      "6550     1500000\n",
      "4508     1170000\n",
      "          ...   \n",
      "19717     530000\n",
      "18471     547000\n",
      "16866     567500\n",
      "9010      810000\n",
      "7365      445000\n",
      "1828      730000\n",
      "25546    1409600\n",
      "6407     1235000\n",
      "8262      440000\n",
      "23020    1321500\n",
      "25422     815000\n",
      "13389     850000\n",
      "6905      520000\n",
      "5067      505000\n",
      "7189      625000\n",
      "6194      610000\n",
      "6771      680821\n",
      "7689      525000\n",
      "5587      900000\n",
      "10913     475000\n",
      "7656      380000\n",
      "13185     460000\n",
      "11654    1200000\n",
      "2334      465000\n",
      "23071    1200000\n",
      "21943     405000\n",
      "20580    1200000\n",
      "338       494250\n",
      "6198      905000\n",
      "16871     835000\n",
      "Name: SALE PRICE, Length: 3656, dtype: int64\n"
     ]
    }
   ],
   "source": [
    "print(type(test_target))\n",
    "print(test_target)\n"
   ]
  },
  {
   "cell_type": "code",
   "execution_count": 132,
   "metadata": {
    "colab": {
     "base_uri": "https://localhost:8080/",
     "height": 35
    },
    "colab_type": "code",
    "id": "VcnruZXa_5P0",
    "outputId": "a728bf02-3b8f-4e57-95f8-c81765e628da"
   },
   "outputs": [
    {
     "name": "stdout",
     "output_type": "stream",
     "text": [
      "202639.9323707718\n"
     ]
    }
   ],
   "source": [
    "rms = np.sqrt(mean_squared_error(test_target, res_pred))\n",
    "print(rms)"
   ]
  },
  {
   "cell_type": "code",
   "execution_count": 133,
   "metadata": {
    "colab": {
     "base_uri": "https://localhost:8080/",
     "height": 139
    },
    "colab_type": "code",
    "id": "gfjArVF3BhjX",
    "outputId": "4c89abef-3069-4d6b-f86c-cb3c9f85e32a"
   },
   "outputs": [
    {
     "ename": "ModuleNotFoundError",
     "evalue": "No module named 'lightgbm'",
     "output_type": "error",
     "traceback": [
      "\u001b[1;31m---------------------------------------------------------------------------\u001b[0m",
      "\u001b[1;31mModuleNotFoundError\u001b[0m                       Traceback (most recent call last)",
      "\u001b[1;32m<ipython-input-133-94be057b82e7>\u001b[0m in \u001b[0;36m<module>\u001b[1;34m\u001b[0m\n\u001b[1;32m----> 1\u001b[1;33m \u001b[1;32mimport\u001b[0m \u001b[0mlightgbm\u001b[0m \u001b[1;32mas\u001b[0m \u001b[0mlgb\u001b[0m\u001b[1;33m\u001b[0m\u001b[1;33m\u001b[0m\u001b[0m\n\u001b[0m\u001b[0;32m      2\u001b[0m \u001b[1;33m\u001b[0m\u001b[0m\n\u001b[0;32m      3\u001b[0m \u001b[0mlgbm\u001b[0m\u001b[1;33m=\u001b[0m\u001b[0mlgb\u001b[0m\u001b[1;33m.\u001b[0m\u001b[0mLGBMRegressor\u001b[0m\u001b[1;33m(\u001b[0m\u001b[0mmax_depth\u001b[0m\u001b[1;33m=\u001b[0m\u001b[1;36m15\u001b[0m\u001b[1;33m,\u001b[0m \u001b[0mn_leaves\u001b[0m\u001b[1;33m=\u001b[0m\u001b[1;36m40\u001b[0m\u001b[1;33m)\u001b[0m\u001b[1;33m\u001b[0m\u001b[1;33m\u001b[0m\u001b[0m\n\u001b[0;32m      4\u001b[0m \u001b[0mlgbm\u001b[0m\u001b[1;33m.\u001b[0m\u001b[0mfit\u001b[0m\u001b[1;33m(\u001b[0m\u001b[0mtrain\u001b[0m\u001b[1;33m,\u001b[0m \u001b[0mtrain_target\u001b[0m\u001b[1;33m)\u001b[0m\u001b[1;33m\u001b[0m\u001b[1;33m\u001b[0m\u001b[0m\n",
      "\u001b[1;31mModuleNotFoundError\u001b[0m: No module named 'lightgbm'"
     ]
    }
   ],
   "source": [
    "import lightgbm as lgb\n",
    "\n",
    "lgbm=lgb.LGBMRegressor(max_depth=15, n_leaves=40)\n",
    "lgbm.fit(train, train_target)\n"
   ]
  },
  {
   "cell_type": "code",
   "execution_count": null,
   "metadata": {
    "colab": {},
    "colab_type": "code",
    "id": "US1HKyijCbFP"
   },
   "outputs": [],
   "source": [
    "res_pred = lgbm.predict(test)"
   ]
  },
  {
   "cell_type": "code",
   "execution_count": null,
   "metadata": {
    "colab": {
     "base_uri": "https://localhost:8080/",
     "height": 35
    },
    "colab_type": "code",
    "id": "NtJH1YGBCjsN",
    "outputId": "108d112b-f3d7-4cf8-cf7a-e92253a203a4"
   },
   "outputs": [],
   "source": [
    "rms = np.sqrt(mean_squared_error(test_target, res_pred))\n",
    "print(rms)"
   ]
  },
  {
   "cell_type": "code",
   "execution_count": null,
   "metadata": {
    "colab": {},
    "colab_type": "code",
    "id": "dPNAA1E9MH23"
   },
   "outputs": [],
   "source": [
    "import xgboost as xgb"
   ]
  },
  {
   "cell_type": "code",
   "execution_count": null,
   "metadata": {
    "colab": {
     "base_uri": "https://localhost:8080/",
     "height": 186
    },
    "colab_type": "code",
    "id": "kI-ep3-_OfBC",
    "outputId": "56f55d4e-5b64-4746-b1ba-9361371c057b"
   },
   "outputs": [],
   "source": [
    "final.head(1)"
   ]
  },
  {
   "cell_type": "code",
   "execution_count": null,
   "metadata": {
    "colab": {},
    "colab_type": "code",
    "id": "a65jGGqvNhgK"
   },
   "outputs": [],
   "source": [
    "xg_reg = xgb.XGBRegressor(objective ='reg:squarederror', colsample_bytree = 0.3, learning_rate = 0.1,\n",
    "                max_depth = 5, alpha = 10, n_estimators = 10)"
   ]
  },
  {
   "cell_type": "code",
   "execution_count": null,
   "metadata": {
    "colab": {},
    "colab_type": "code",
    "id": "8_fvG3uHNs1N"
   },
   "outputs": [],
   "source": [
    "xg_reg.fit(train,train_target)\n",
    "\n",
    "preds = xg_reg.predict(test)"
   ]
  },
  {
   "cell_type": "code",
   "execution_count": null,
   "metadata": {
    "colab": {
     "base_uri": "https://localhost:8080/",
     "height": 35
    },
    "colab_type": "code",
    "id": "5jU4JX9fQPvQ",
    "outputId": "a59160d3-6c07-4c50-d07b-ead926a8b844"
   },
   "outputs": [],
   "source": [
    "rmse = np.sqrt(mean_squared_error(test_target, preds))\n",
    "print(\"RMSE: %f\" % (rmse))"
   ]
  }
 ],
 "metadata": {
  "colab": {
   "name": "realEstateProject_plot_some_graph_to_remove_outliers1.ipynb",
   "provenance": []
  },
  "kernelspec": {
   "display_name": "Python 3",
   "language": "python",
   "name": "python3"
  },
  "language_info": {
   "codemirror_mode": {
    "name": "ipython",
    "version": 3
   },
   "file_extension": ".py",
   "mimetype": "text/x-python",
   "name": "python",
   "nbconvert_exporter": "python",
   "pygments_lexer": "ipython3",
   "version": "3.7.3"
  }
 },
 "nbformat": 4,
 "nbformat_minor": 1
}
